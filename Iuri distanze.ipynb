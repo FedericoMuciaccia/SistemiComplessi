{
 "metadata": {
  "name": "",
  "signature": "sha256:47cb897c2f3623f25d9dd216a511e502a383b2cdfa99f05ba3a4315c2a970de6"
 },
 "nbformat": 3,
 "nbformat_minor": 0,
 "worksheets": [
  {
   "cells": [
    {
     "cell_type": "code",
     "collapsed": false,
     "input": [
      "import geopy"
     ],
     "language": "python",
     "metadata": {},
     "outputs": [],
     "prompt_number": 71
    },
    {
     "cell_type": "code",
     "collapsed": false,
     "input": [
      "from geopy import distance #TODO BUGGONE\n",
      "import math\n",
      "import itertools\n",
      "\n",
      "colosseo = (41.890173, 12.492331)\n",
      "raccordo = [(41.914456, 12.615807),(41.990672, 12.502714),(41.793883, 12.511297),(41.812566, 12.396628),(41.956277, 12.384611)]\n",
      "raggi = []\n",
      "\n",
      "def geodesicDistance(A, B=colosseo):\n",
      "    return geopy.distance.vincenty(A, B).meters\n",
      "\n",
      "raggi = map(geodesicDistance, raccordo)\n",
      "\n",
      "raggiomedio = 0\n",
      "for i in raggi:\n",
      "\traggiomedio += i\n",
      "raggiomedio /= len(distanza)\n",
      "raggiomedio = 11000\n",
      "#print distanza\n",
      "#print media"
     ],
     "language": "python",
     "metadata": {},
     "outputs": [],
     "prompt_number": 165
    },
    {
     "cell_type": "code",
     "collapsed": false,
     "input": [
      "import pandas\n",
      "dataframe = pandas.read_csv(\"copiaprova.csv\")\n",
      "#dataframe"
     ],
     "language": "python",
     "metadata": {},
     "outputs": [],
     "prompt_number": 152
    },
    {
     "cell_type": "code",
     "collapsed": false,
     "input": [
      "distanza = []\n",
      "#dataframe['lon'] == \"Noise - Street/Sidewalk\"\n",
      "coordinate = dataframe[dataframe.lat > 0][dataframe.lon > 0][['lon', 'lat']].values\n",
      "#inroma = pandas.DataFrame([[41.947416, 12.371001],\n",
      "#                            [41.899392, 12.397436],\n",
      "#                            [41.870510, 12.287917],\n",
      "#                            [41.899648, 12.515196]], \n",
      "#                            columns=('lon', 'lat'))\n",
      "\n",
      "\n",
      "distanza = map(geodesicDistance, coordinate)\n",
      "\n",
      "\n",
      "def isInRome(point):\n",
      "    return geodesicDistance(point) <= raggiomedio\n",
      "#latitudini = dataframe[dataframe.lat > 0][['lat']].values\n",
      "#longitudini = dataframe[dataframe.lat > 0][['lat']].values \n",
      "\n",
      "#coordinate = (latitudini, longitudini)\n",
      "a = isInRome((41.899903, 12.503008))\n",
      "print geodesicDistance((41.899903, 12.503008))\n",
      "print raggiomedio\n",
      "print a\n",
      "filter(isInRome, coordinate)\n",
      "#isInRome(colosseo)"
     ],
     "language": "python",
     "metadata": {},
     "outputs": [
      {
       "output_type": "stream",
       "stream": "stdout",
       "text": [
        "1397.51455064\n",
        "11000\n",
        "True\n"
       ]
      },
      {
       "metadata": {},
       "output_type": "pyout",
       "prompt_number": 166,
       "text": [
        "[array([ 41.899392,  12.397436]), array([ 41.899648,  12.515196])]"
       ]
      }
     ],
     "prompt_number": 166
    },
    {
     "cell_type": "markdown",
     "metadata": {},
     "source": [
      "##TODO:  \n",
      "* Prendere arrays coordinate\n",
      "* fare array distanze\n",
      "* mettere colonna distanze in dataframe\n",
      "* selezionare righe con variabile compresa entro raggiomedio \n",
      "\n",
      "\u2714\u2714\u2714\u2714ggwpbb"
     ]
    }
   ],
   "metadata": {}
  }
 ]
}