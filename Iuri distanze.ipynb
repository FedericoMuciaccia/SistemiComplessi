{
 "metadata": {
  "name": "",
  "signature": "sha256:f827eefb5ca0369e5194141186e23a1be64feae88bb1d71625e92cedf5a351eb"
 },
 "nbformat": 3,
 "nbformat_minor": 0,
 "worksheets": [
  {
   "cells": [
    {
     "cell_type": "code",
     "collapsed": false,
     "input": [
      "import geopy\n",
      "from geopy import distance #TODO BUGGONE\n",
      "import math\n",
      "import itertools\n",
      "\n",
      "colosseo = (41.890173, 12.492331)\n",
      "raccordo = [(41.914456, 12.615807),(41.990672, 12.502714),(41.793883, 12.511297),(41.812566, 12.396628),(41.956277, 12.384611)]\n",
      "raggi = []\n",
      "\n",
      "def geodesicDistance(A, B=colosseo):\n",
      "    return geopy.distance.vincenty(A, B).meters\n",
      "\n",
      "raggi = map(geodesicDistance, raccordo)\n",
      "print raggi\n",
      "raggiomedio = 0\n",
      "for i in raggi:\n",
      "\traggiomedio += i\n",
      "raggiomedio /= len(raggi)\n",
      "#raggiomedio = 11000\n",
      "print raggiomedio\n",
      "#print media"
     ],
     "language": "python",
     "metadata": {},
     "outputs": [
      {
       "output_type": "stream",
       "stream": "stdout",
       "text": [
        "[10594.771772886095, 11195.797051005826, 10810.334056716569, 11724.513790860976, 11565.06035260429]\n",
        "11178.0954048\n"
       ]
      }
     ],
     "prompt_number": 27
    },
    {
     "cell_type": "code",
     "collapsed": false,
     "input": [
      "import pandas\n",
      "dataframe = pandas.read_csv(\"copiaprova.csv\")\n",
      "#dataframe\n",
      "criterioMCC = dataframe.mcc == 222\n",
      "criterioMinsamples = dataframe.samples > 1\n",
      "italydoitcleaner = dataframe[criterioMCC & criterioMinsamples]\n",
      "italydoitcleaner\n",
      "#del italydoitcleaner['index']\n",
      "italydoitcleaner = italydoitcleaner.reset_index()\n",
      "#print italydoitcleaner"
     ],
     "language": "python",
     "metadata": {},
     "outputs": [],
     "prompt_number": 46
    },
    {
     "cell_type": "code",
     "collapsed": false,
     "input": [
      "#inroma = pandas.DataFrame([[41.947416, 12.371001],\n",
      "#                            [41.899392, 12.397436],\n",
      "#                            [41.870510, 12.287917],\n",
      "#                            [41.899648, 12.515196]], \n",
      "#                            columns=('lon', 'lat'))\n",
      "\n",
      "#istruzione che fa selezione alcune righe con criteri su alcune colonne, \n",
      "#ne seleziona alcune e restituisce un array nompy di valori desiderati\n",
      "coordinate = dataframe[criterioMCC & criterioMinsamples][['lat', 'lon']].values\n",
      "#print coordinate\n",
      "\n",
      "distanza = []\n",
      "distanza = map(geodesicDistance, coordinate)\n",
      "print len(distanza)\n",
      "\n",
      "#da approfondire\n",
      "#italydoitcleaner['distanze'] = italydoitcleaner[['lat', 'lon']].map(lambda x: geodesicDistance())\n",
      "italydoitcleaner['distanze'] = distanza\n",
      "italydoitcleaner\n",
      "criterioRaccordo = italydoitcleaner.distanze < raggiomedio\n",
      "romacellid = italydoitcleaner[criterioRaccordo]\n",
      "romacellid = romacellid.reset_index()\n",
      "romacellid\n",
      "#distanza = map(geodesicDistance, cell)\n",
      "#def isInRome(point):\n",
      "#    return geodesicDistance(point) <= raggiomedio\n",
      "#filter(isInRome, cell)\n"
     ],
     "language": "python",
     "metadata": {},
     "outputs": [
      {
       "output_type": "stream",
       "stream": "stdout",
       "text": [
        "70\n"
       ]
      },
      {
       "html": [
        "<div style=\"max-height:1000px;max-width:1500px;overflow:auto;\">\n",
        "<table border=\"1\" class=\"dataframe\">\n",
        "  <thead>\n",
        "    <tr style=\"text-align: right;\">\n",
        "      <th></th>\n",
        "      <th>level_0</th>\n",
        "      <th>index</th>\n",
        "      <th>radio</th>\n",
        "      <th>mcc</th>\n",
        "      <th>net</th>\n",
        "      <th>area</th>\n",
        "      <th>cell</th>\n",
        "      <th>unit</th>\n",
        "      <th>lon</th>\n",
        "      <th>lat</th>\n",
        "      <th>range</th>\n",
        "      <th>samples</th>\n",
        "      <th>changeable</th>\n",
        "      <th>created</th>\n",
        "      <th>updated</th>\n",
        "      <th>averageSignal</th>\n",
        "      <th>distanze</th>\n",
        "    </tr>\n",
        "  </thead>\n",
        "  <tbody>\n",
        "    <tr>\n",
        "      <th>0</th>\n",
        "      <td> 67</td>\n",
        "      <td> 4316</td>\n",
        "      <td> GSM</td>\n",
        "      <td> 222</td>\n",
        "      <td> 2</td>\n",
        "      <td> 3275</td>\n",
        "      <td> 35401</td>\n",
        "      <td>NaN</td>\n",
        "      <td> 12.397436</td>\n",
        "      <td> 41.899392</td>\n",
        "      <td> 0</td>\n",
        "      <td> 3</td>\n",
        "      <td> 3</td>\n",
        "      <td> 1453337953</td>\n",
        "      <td> 1453337953</td>\n",
        "      <td>NaN</td>\n",
        "      <td> 7941.353291</td>\n",
        "    </tr>\n",
        "    <tr>\n",
        "      <th>1</th>\n",
        "      <td> 69</td>\n",
        "      <td> 4318</td>\n",
        "      <td> GSM</td>\n",
        "      <td> 222</td>\n",
        "      <td> 2</td>\n",
        "      <td> 3275</td>\n",
        "      <td> 35401</td>\n",
        "      <td>NaN</td>\n",
        "      <td> 12.515196</td>\n",
        "      <td> 41.899648</td>\n",
        "      <td> 0</td>\n",
        "      <td> 3</td>\n",
        "      <td> 3</td>\n",
        "      <td> 1453337953</td>\n",
        "      <td> 1453337953</td>\n",
        "      <td>NaN</td>\n",
        "      <td> 2169.801445</td>\n",
        "    </tr>\n",
        "  </tbody>\n",
        "</table>\n",
        "</div>"
       ],
       "metadata": {},
       "output_type": "pyout",
       "prompt_number": 52,
       "text": [
        "   level_0  index radio  mcc  net  area   cell  unit        lon        lat  \\\n",
        "0       67   4316   GSM  222    2  3275  35401   NaN  12.397436  41.899392   \n",
        "1       69   4318   GSM  222    2  3275  35401   NaN  12.515196  41.899648   \n",
        "\n",
        "   range  samples  changeable     created     updated  averageSignal  \\\n",
        "0      0        3           3  1453337953  1453337953            NaN   \n",
        "1      0        3           3  1453337953  1453337953            NaN   \n",
        "\n",
        "      distanze  \n",
        "0  7941.353291  \n",
        "1  2169.801445  "
       ]
      }
     ],
     "prompt_number": 52
    },
    {
     "cell_type": "markdown",
     "metadata": {},
     "source": [
      "##TODO:  \n",
      "* Prendere arrays coordinate                                                           \u2714\n",
      "* fare array distanze                                                                  \u2714\n",
      "* mettere colonna distanze in dataframe\n",
      "* selezionare righe con variabile compresa entro raggiomedio                           \u2714  \n",
      "* fare un nuovo dataframe con le distanze e gli altri dati utili: range e samples\n",
      "* escludere tutti i nodi con 1 sample solo \n",
      "* fare P(k)\n",
      "\u2714\u2714\u2714ggwpbb"
     ]
    },
    {
     "cell_type": "code",
     "collapsed": false,
     "input": [],
     "language": "python",
     "metadata": {},
     "outputs": []
    }
   ],
   "metadata": {}
  }
 ]
}