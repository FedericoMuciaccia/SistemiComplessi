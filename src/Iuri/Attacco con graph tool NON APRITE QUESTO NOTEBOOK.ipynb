{
 "metadata": {
  "name": "",
  "signature": "sha256:27a623ec7f7fc36645148ed5cc07843ead8d275ccd059bb67fb6f33686cc5446"
 },
 "nbformat": 3,
 "nbformat_minor": 0,
 "worksheets": [
  {
   "cells": [
    {
     "cell_type": "code",
     "collapsed": false,
     "input": [
      "from graph_tool.all import *\n",
      "import networkx\n",
      "import matplotlib\n",
      "from matplotlib import pyplot\n",
      "import numpy\n",
      "import pandas\n",
      "import math\n",
      "#import seaborn\n",
      "\n",
      "#Costruzione grafo con graph-tool da matrice di adiacenza\n",
      "def conversione(grafo, adiacenza):\n",
      "    grafo.add_vertex(len(adiacenza))\n",
      "    num_vertices = adiacenza.shape[0]\n",
      "    for i in range(num_vertices - 1):\n",
      "        for j in range(i + 1, num_vertices):\n",
      "            if adiacenza[i,j] != 0:\n",
      "                e = grafo.add_edge(i, j)\n",
      "                \n",
      "def costruzione(gestore):\n",
      "    grafo = graph_tool.Graph(directed = False)\n",
      "    adiacenza = numpy.genfromtxt(\"/home/protoss/Documenti/Siscomp_datas/data/AdiacenzaEuclidea_{0}.csv\".format(gestore),delimiter=',',dtype='int')\n",
      "    conversione(grafo, adiacenza)\n",
      "    grafo.save(\"GTool{0}.xml\".format(gestore))\n",
      "    #graph_tool.draw.graph_draw(grafoTre)\n",
      "gestore = [\"Tim\", \"Vodafone\", \"Wind\", \"Tre\", \"Roma\"]"
     ],
     "language": "python",
     "metadata": {},
     "outputs": [],
     "prompt_number": 2
    },
    {
     "cell_type": "code",
     "collapsed": false,
     "input": [
      "def averageLength(grafo):\n",
      "    istoLength = graph_tool.stats.distance_histogram(grafo)\n",
      "    istoLength[1] = numpy.delete(istoLength[1], len(istoLength[1])-1)\n",
      "    return numpy.average(istoLength[1], weights=istoLength[0])\n",
      "\n",
      "def diameter(grafo):\n",
      "    istoLength = graph_tool.stats.distance_histogram(grafo)\n",
      "    return len(istoLength[0])-1\n",
      "\n",
      "def clustering(grafo):\n",
      "    cluster = graph_tool.clustering.local_clustering(grafo)\n",
      "    array = numpy.array(cluster.a)\n",
      "    return numpy.average(array)\n",
      "\n",
      "def averageGrado(grafo):\n",
      "    kmedio = graph_tool.stats.vertex_average(grafo, \"total\")\n",
      "    return kmedio[0]\n",
      "\n",
      "def criterion(grafo):\n",
      "    kmedio = graph_tool.stats.vertex_average(grafo, \"total\")\n",
      "    kmedioQuadro = numpy.power(kmedio, 2)\n",
      "    criterion = (kmedioQuadro[0]+kmedioQuadro[1])/(kmedio[0])\n",
      "    return criterion\n",
      "\n",
      "def topologia(grafo):\n",
      "    d = diameter(grafo)\n",
      "    l = averageLength(grafo)\n",
      "    C = clustering(grafo)\n",
      "    k = averageGrado(grafo)\n",
      "    c = criterion(grafo)\n",
      "    return (d, l), C, (k, c)"
     ],
     "language": "python",
     "metadata": {},
     "outputs": [],
     "prompt_number": 3
    },
    {
     "cell_type": "code",
     "collapsed": false,
     "input": [
      "for compagnia in gestore:\n",
      "    %time costruzione(compagnia)"
     ],
     "language": "python",
     "metadata": {},
     "outputs": []
    },
    {
     "cell_type": "code",
     "collapsed": false,
     "input": [
      "for compagnia in gestore:\n",
      "    print compagnia\n",
      "    grafo = load_graph(\"/home/protoss/Documenti/Siscomp_datas/data/GTool{0}.xml\".format(gestore))\n",
      "    topo = %time topologia(grafo)\n",
      "    print topo, \"\\n\""
     ],
     "language": "python",
     "metadata": {},
     "outputs": [
      {
       "output_type": "stream",
       "stream": "stdout",
       "text": [
        "Tim\n",
        "CPU times: user 6.03 s, sys: 28 ms, total: 6.06 s"
       ]
      },
      {
       "output_type": "stream",
       "stream": "stdout",
       "text": [
        "\n",
        "Wall time: 901 ms\n",
        "((2, 1.9633666257812044), 0.89480230607780475, (64.29157175398633, 64.459252188133064)) \n",
        "\n",
        "Vodafone\n",
        "CPU times: user 5 s, sys: 24 ms, total: 5.02 s"
       ]
      },
      {
       "output_type": "stream",
       "stream": "stdout",
       "text": [
        "\n",
        "Wall time: 711 ms\n",
        "((2, 1.970121894808704), 0.87220713550074869, (52.88424618859401, 52.991738574635264)) \n",
        "\n",
        "Wind\n",
        "CPU times: user 16.4 s, sys: 252 ms, total: 16.6 s"
       ]
      },
      {
       "output_type": "stream",
       "stream": "stdout",
       "text": [
        "\n",
        "Wall time: 2.36 s\n",
        "((2, 1.9588213620087072), 0.88791306537820769, (97.34630021141649, 97.507144547264943)) \n",
        "\n",
        "Tre\n",
        "CPU times: user 2.62 s, sys: 24 ms, total: 2.65 s"
       ]
      },
      {
       "output_type": "stream",
       "stream": "stdout",
       "text": [
        "\n",
        "Wall time: 380 ms\n",
        "((2, 1.970320318003939), 0.88024456202685419, (41.37347670250896, 41.515444558693623)) \n",
        "\n",
        "Roma\n",
        "CPU times: user 8min 22s, sys: 3.25 s, total: 8min 25s"
       ]
      },
      {
       "output_type": "stream",
       "stream": "stdout",
       "text": [
        "\n",
        "Wall time: 1min 8s\n",
        "((2, 1.9671778707440641), 0.88916666574280956, (239.14203375874845, 239.29491163562992)) \n",
        "\n"
       ]
      }
     ],
     "prompt_number": 5
    },
    {
     "cell_type": "code",
     "collapsed": false,
     "input": [
      "#PERCENT ATTACK!!\n",
      "def attackPercent(compagnia, steps):\n",
      "    grafoFinal = load_graph(\"/home/protoss/Documenti/Siscomp_datas/data/GTool{0}.xml\".format(compagnia))\n",
      "\n",
      "    graphSize = grafoFinal.num_vertices()\n",
      "    passo = graphSize/float(steps)\n",
      "\n",
      "    i = 0\n",
      "    ascisse.append(i)\n",
      "    aziendaFinal.append(compagnia)\n",
      "\n",
      "    diametro.append(diameter(grafoFinal))\n",
      "    cammino.append(averageLength(grafoFinal))\n",
      "    cluster.append(clustering(grafoFinal))\n",
      "    gradomedio.append(averageGrado(grafoFinal))\n",
      "    criterio.append(criterion(grafoFinal))\n",
      "    relSizeGC.append(1)\n",
      "    \n",
      "    \n",
      "    # PROBLEMA: BISOGNA FARE IN MODO CHE NON CRASHI\n",
      "    while (grafoFinal.num_vertices() > passo):\n",
      "        istogradi = graph_tool.stats.vertex_hist(grafoFinal, \"total\")\n",
      "        gradiFinal = pandas.DataFrame(istogradi[0], columns=['grado'])\n",
      "        gradiFinal = pandas.DataFrame.reset_index(gradiFinal)\n",
      "        gradiFinal.sort([\"grado\"], ascending=[False], inplace=True)\n",
      "        sortedIDnode = gradiFinal['index'].values\n",
      "\n",
      "        for identificativo in sortedIDnode:\n",
      "            if (grafoFinal.num_vertices() > len(sortedIDnode) - passo):\n",
      "                grafoFinal.remove_vertex(identificativo)\n",
      "\n",
      "        giantCluster = graph_tool.topology.label_largest_component(grafoFinal)\n",
      "        giantCluster = graph_tool.GraphView(grafoFinal, vfilt=giantCluster)\n",
      "\n",
      "        i += 100/steps\n",
      "        ascisse.append(i)\n",
      "        aziendaFinal.append(compagnia)\n",
      "\n",
      "        graphSize = grafoFinal.num_vertices()\n",
      "        diametro.append(diameter(grafoFinal))\n",
      "        cammino.append(averageLength(grafoFinal))\n",
      "        cluster.append(clustering(grafoFinal))\n",
      "        gradomedio.append(averageGrado(grafoFinal))\n",
      "        criterio.append(criterion(grafoFinal))\n",
      "        relSizeGC.append((giantCluster.num_vertices())/(float(graphSize)))"
     ],
     "language": "python",
     "metadata": {},
     "outputs": [],
     "prompt_number": 3
    },
    {
     "cell_type": "code",
     "collapsed": false,
     "input": [
      "#gestore = [\"Tim\", \"Vodafone\", \"Wind\", \"Tre\"]\n",
      "gestore = \"Tre\"\n",
      "diametro = []\n",
      "cammino = []\n",
      "cluster = []\n",
      "gradomedio = []\n",
      "criterio = []\n",
      "relSizeGC = []\n",
      "\n",
      "aziendaFinal = []\n",
      "ascisse = []\n",
      "\n",
      "#for compagnia in gestore:\n",
      "#    %time attackPercent(compagnia, 10)\n",
      "\n",
      "attackPercent(gestore, 10)\n",
      "\n",
      "datiFinal = pandas.DataFrame()\n",
      "datiFinal['percent'] = ascisse\n",
      "\n",
      "datiFinal['provider'] = aziendaFinal\n",
      "datiFinal['diameter'] = diametro\n",
      "datiFinal['average path length'] = cammino\n",
      "datiFinal['clustering'] = cluster\n",
      "datiFinal['average degree'] = gradomedio\n",
      "datiFinal['soglia percolativa'] = criterio\n",
      "\n",
      "datiFinal['GCsize'] = relSizeGC\n",
      "datiFinal.to_csv(\"/home/protoss/Documenti/SistemiComplessi/data/Iuri/AttackDataForSeaborn.csv\")\n",
      "datiFinal.head()"
     ],
     "language": "python",
     "metadata": {},
     "outputs": [],
     "prompt_number": 4
    }
   ],
   "metadata": {}
  }
 ]
}