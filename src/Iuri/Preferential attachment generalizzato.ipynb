{
 "metadata": {
  "name": "",
  "signature": "sha256:faa8f2903eb0a92c5fc85246d3babfddcda1c7fba5ef358fd144015daca8eaf7"
 },
 "nbformat": 3,
 "nbformat_minor": 0,
 "worksheets": [
  {
   "cells": [
    {
     "cell_type": "code",
     "collapsed": false,
     "input": [
      "import geopy\n",
      "from geopy import distance #TODO BUGGONE\n",
      "import math\n",
      "import itertools\n",
      "import pandas\n",
      "import numpy\n",
      "import networkx\n",
      "from matplotlib import pyplot\n",
      "%matplotlib inline"
     ],
     "language": "python",
     "metadata": {},
     "outputs": [],
     "prompt_number": 2
    },
    {
     "cell_type": "code",
     "collapsed": false,
     "input": [
      "#esercizi di rimaneggiamento colonne/righe\n",
      "\n",
      "a = numpy.array((1,2,3))\n",
      "b = numpy.array((2,3,4))\n",
      "c = numpy.column_stack((a,b))\n",
      "e = numpy.vstack((a,b))\n",
      "print c\n",
      "print e"
     ],
     "language": "python",
     "metadata": {},
     "outputs": [
      {
       "output_type": "stream",
       "stream": "stdout",
       "text": [
        "[[1 2]\n",
        " [2 3]\n",
        " [3 4]]\n",
        "[[1 2 3]\n",
        " [2 3 4]]\n"
       ]
      }
     ],
     "prompt_number": 3
    },
    {
     "cell_type": "code",
     "collapsed": false,
     "input": [
      "adiacenza = numpy.matrix('0, 1 ; 1, 0')\n",
      "\n",
      "prob = "
     ],
     "language": "python",
     "metadata": {},
     "outputs": [],
     "prompt_number": 38
    },
    {
     "cell_type": "code",
     "collapsed": false,
     "input": [],
     "language": "python",
     "metadata": {},
     "outputs": []
    }
   ],
   "metadata": {}
  }
 ]
}