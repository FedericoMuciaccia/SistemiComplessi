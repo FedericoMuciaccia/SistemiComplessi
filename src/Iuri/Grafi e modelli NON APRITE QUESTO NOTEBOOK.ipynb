{
 "metadata": {
  "name": "",
  "signature": "sha256:1e0a069e6d8231e0a5899c81542ce41a45e48f1dc586773be4374a9288bdd131"
 },
 "nbformat": 3,
 "nbformat_minor": 0,
 "worksheets": [
  {
   "cells": [
    {
     "cell_type": "code",
     "collapsed": false,
     "input": [
      "from graph_tool.all import *\n",
      "import networkx\n",
      "import matplotlib\n",
      "from matplotlib import pyplot\n",
      "import numpy\n",
      "import pandas\n",
      "import math"
     ],
     "language": "python",
     "metadata": {},
     "outputs": [],
     "prompt_number": 30
    },
    {
     "cell_type": "code",
     "collapsed": false,
     "input": [
      "def degreeDistributionLog(gradi, azienda, colore):\n",
      "    distribuzioneRange = pyplot.hist(gradi, bins=max(gradi)-min(gradi), histtype='step', label=azienda, \n",
      "                                     color=colore, alpha= 0.7, linewidth=3)\n",
      "    pyplot.title('Comparazione distribuzioni del grado')\n",
      "    pyplot.xlabel(\"Grado\")\n",
      "    pyplot.ylabel(\"Frequenza\")\n",
      "\n",
      "    pyplot.gca().set_xscale(\"log\")\n",
      "    pyplot.gca().set_yscale(\"log\")\n",
      "#    pyplot.ylim(1,100)\n",
      "\n",
      "#Costruzione grafo con graph-tool da matrice di adiacenza\n",
      "def conversione(grafo, adiacenza):\n",
      "    grafo.add_vertex(len(adiacenza))\n",
      "    num_vertices = adiacenza.shape[0]\n",
      "    for i in range(num_vertices - 1):\n",
      "        for j in range(i + 1, num_vertices):\n",
      "            if adiacenza[i,j] != 0:\n",
      "                e = grafo.add_edge(i, j)"
     ],
     "language": "python",
     "metadata": {},
     "outputs": [],
     "prompt_number": 31
    },
    {
     "cell_type": "code",
     "collapsed": false,
     "input": [
      "#funzioni topologiche\n",
      "def averageLength(grafo):\n",
      "    istoLength = graph_tool.stats.distance_histogram(grafo)\n",
      "    istoLength[1] = numpy.delete(istoLength[1], len(istoLength[1])-1)\n",
      "    return numpy.average(istoLength[1], weights=istoLength[0])\n",
      "\n",
      "def diameter(grafo):\n",
      "    istoLength = graph_tool.stats.distance_histogram(grafo)\n",
      "    return len(istoLength[0])-1\n",
      "\n",
      "def clustering(grafo):\n",
      "    cluster = graph_tool.clustering.local_clustering(grafo)\n",
      "    array = numpy.array(cluster.a)\n",
      "    return numpy.average(array)"
     ],
     "language": "python",
     "metadata": {},
     "outputs": [],
     "prompt_number": 32
    },
    {
     "cell_type": "code",
     "collapsed": false,
     "input": [
      "def topologia(grafo, compagnia):\n",
      "    \n",
      "    def gradonodo(identificativo):\n",
      "        vertice = grafo.vertex(identificativo)\n",
      "        return vertice.out_degree()\n",
      "\n",
      "    def kmedio(listadeg):\n",
      "        return numpy.mean(listadeg)\n",
      "    \n",
      "    def kquadromedio(listadeg):\n",
      "        listadegQuadri = numpy.power(listadeg, 2)\n",
      "        return numpy.mean(listadegQuadri)\n",
      "    \n",
      "    def freqCriterion(criterion):\n",
      "        return 1-(1/float(criterion-1))\n",
      "    \n",
      "    graphSize = grafo.num_vertices()\n",
      "    giantCluster = graph_tool.topology.label_largest_component(grafo)\n",
      "    giantCluster = graph_tool.GraphView(grafo, vfilt=giantCluster)\n",
      "    \n",
      "    azienda.append(compagnia)\n",
      "    diametro.append(diameter(grafo))\n",
      "    cammino.append(averageLength(grafo))\n",
      "    cluster.append(clustering(grafo))\n",
      "    relSizeGC.append((giantCluster.num_vertices())/(float(graphSize)))\n",
      "\n",
      "    indice = numpy.arange(grafo.num_vertices())\n",
      "    listaGradi = map(gradonodo, indice)\n",
      "        \n",
      "    gradomedio.append(kmedio(listaGradi))\n",
      "    criterion = kquadromedio(listaGradi)/float(kmedio(listaGradi))\n",
      "    criterio.append(criterion)\n",
      "    fcritica.append(freqCriterion(criterion))"
     ],
     "language": "python",
     "metadata": {},
     "outputs": [],
     "prompt_number": 35
    },
    {
     "cell_type": "code",
     "collapsed": false,
     "input": [
      "#esempio di creazione grafo\n",
      "grafo = Graph(directed=False)\n",
      "v1 = grafo.add_vertex()\n",
      "v2 = grafo.add_vertex()\n",
      "vlist = grafo.add_vertex(10)\n",
      "e = grafo.add_edge(v1, v2)\n",
      "f = grafo.add_edge(grafo.vertex(10), grafo.vertex(8))\n",
      "%matplotlib inline\n",
      "graph_draw(grafo, vertex_text=grafo.vertex_index, vertex_font_size=18,\n",
      "           output_size=(800, 800), \n",
      "           #output=\"two-nodes.png\"\n",
      "           )"
     ],
     "language": "python",
     "metadata": {},
     "outputs": [
      {
       "metadata": {},
       "output_type": "pyout",
       "prompt_number": 3,
       "text": [
        "(<PropertyMap object with key type 'Vertex' and value type 'vector<double>', for Graph 0x7f393c56e690, at 0x7f393c56e650>,\n",
        " <PropertyMap object with key type 'Vertex' and value type 'bool', for Graph 0x7f393c56e690, at 0x7f393c591c50>)"
       ]
      }
     ],
     "prompt_number": 3
    },
    {
     "cell_type": "code",
     "collapsed": false,
     "input": [
      "gestore = [\"Tim\", \"Vodafone\", \"Wind\", \"Tre\"]\n",
      "for compagnia in gestore:\n",
      "    grafoFinal = load_graph(\"/home/protoss/Documenti/Siscomp_datas/data/GTool{0}.xml\".format(compagnia))\n",
      "\n",
      "    pos = graph_tool.draw.sfdp_layout(grafoFinal)\n",
      "    graph_draw(grafoFinal, pos=pos, output_size=(2000, 2000), vertex_color=[1,1,1,0],\n",
      "               vertex_size=3, edge_pen_width=0.8,\n",
      "               vcmap=matplotlib.cm.gist_heat_r, \n",
      "               output=\"prova{0}.png\".format(compagnia)\n",
      "               )\n"
     ],
     "language": "python",
     "metadata": {},
     "outputs": [],
     "prompt_number": 6
    },
    {
     "cell_type": "markdown",
     "metadata": {},
     "source": [
      "## Grafi semplici con networkx"
     ]
    },
    {
     "cell_type": "code",
     "collapsed": false,
     "input": [
      "pyplot.figure(figsize=(9,9))\n",
      "simpleWatts = networkx.watts_strogatz_graph(100, 4, 0.0)\n",
      "#simpleWatts = networkx.watts_strogatz_graph(100, 10, 1)\n",
      "networkx.draw_circular(simpleWatts, node_size=80,\n",
      "                       with_labels = False,\n",
      "                       #alpha = 0.8,\n",
      "                       #node_color=simpleWatts.degree().values(),\n",
      "                       cmap=pyplot.cm.Reds_r)\n",
      "#pyplot.savefig('totalrandomwatts.svg', format='svg', dpi=1000)\n",
      "#pyplot.savefig('random-smallworld.svg', format='svg', dpi=1000)\n",
      "#pyplot.savefig('smallworld.svg', format='svg', dpi=1000)\n",
      "pyplot.savefig('ringnet.svg', format='svg', dpi=1000)\n",
      "pyplot.show()\n",
      "\n",
      "#    if(modello == 'Erdos-Renyi'):\n",
      "#%matplotlib inline\n",
      "#pyplot.figure(figsize=(16,9))\n",
      "#simpleErdos = networkx.erdos_renyi_graph(80, 0.04)\n",
      "#networkx.draw_random(simpleErdos, node_size=80,\n",
      "#                     with_labels = False,\n",
      "#                     node_color=simpleErdos.degree().values(),\n",
      "#                     cmap=pyplot.cm.Reds_r)\n",
      "#pyplot.show()\n",
      "\n",
      "\n",
      "\n",
      "#pyplot.figure(figsize=(16,9))\n",
      "#simpleBara = networkx.barabasi_albert_graph(100, 1)\n",
      "#networkx.draw_random(simpleBara, node_size=80,\n",
      "#                     with_labels = False,\n",
      "#                     node_color=simpleBara.degree().values(),\n",
      "#                     cmap=pyplot.cm.Reds_r)\n",
      "#pyplot.show()"
     ],
     "language": "python",
     "metadata": {},
     "outputs": [
      {
       "metadata": {},
       "output_type": "display_data",
       "png": "[encoded data removed]",
       "text": [
        "<matplotlib.figure.Figure at 0x7fa353d0f950>"
       ]
      }
     ],
     "prompt_number": 29
    },
    {
     "cell_type": "markdown",
     "metadata": {},
     "source": [
      "NB: Quando si hanno pochi nodi, una connessione tra soli primi vicini e poca probabilit\u00e0 di avere un rewire, il grafo pu\u00f2 essere tracciato come un cerchio con le corde, quando per\u00f2 si aumentano nodi, connessioni tra vicini, e sopratutto probabilit\u00e0 di rewire, la rete \u00e8 assolutamente indistinguibile sia nel grafo, sia come distribuzione del grado, a una rete random di Erdos-Renyi."
     ]
    },
    {
     "cell_type": "markdown",
     "metadata": {},
     "source": [
      "## Conversioni modelli reti da networkx a graph-tool"
     ]
    },
    {
     "cell_type": "code",
     "collapsed": false,
     "input": [
      "#    if(modello == 'Erdos-Renyi'):\n",
      "grafoErdos = networkx.erdos_renyi_graph(1756, 0.03661162)\n",
      "gradoErdos = grafoErdos.degree().values()\n",
      "adiacenzaErdos = networkx.to_numpy_matrix(grafoErdos)\n",
      "adiacenzaErdos\n",
      "gToolGrafoErdos = graph_tool.Graph(directed = False)\n",
      "%time conversione(gToolGrafoErdos, adiacenzaErdos)\n",
      "#gToolGrafoErdos.save(\"GToolErdosTim.xml\")\n",
      "\n",
      "#    if(modello == 'Watts-Strogatz'):\n",
      "#grafoWatts = networkx.watts_strogatz_graph(236, 64, 0)\n",
      "#gradoWatts = grafoWatts.degree().values()\n",
      "#adiacenzaWatts = networkx.to_numpy_matrix(grafoWatts)\n",
      "#adiacenzaWatts\n",
      "#gToolGrafoWatts = graph_tool.Graph(directed = False)\n",
      "#%time conversione(gToolGrafoWatts, adiacenzaWatts)\n",
      "#gToolGrafoWatts.save(\"GToolWattsTim.xml\")\n",
      "\n",
      "#    if(modello == 'Barabasi-Abert'):\n",
      "#grafoBarabasi = networkx.barabasi_albert_graph(100, 10)\n",
      "#gradoBarabasi = grafoBarabasi.degree().values()\n",
      "#adiacenzaBarabasi = networkx.to_numpy_matrix(grafoBarabasi)\n",
      "#adiacenzaBarabasi\n",
      "#gToolGrafoBarabasi = graph_tool.Graph(directed = False)\n",
      "#%time conversione(gToolGrafoBarabasi, adiacenzaBarabasi)\n",
      "\n",
      "#    if(modello == 'Barabasi-Abert'):\n",
      "#grafoBara = networkx.barabasi_albert_graph(1000, 2)\n",
      "#gradoBara = grafoBara.degree().values()\n"
     ],
     "language": "python",
     "metadata": {},
     "outputs": [
      {
       "output_type": "stream",
       "stream": "stdout",
       "text": [
        "CPU times: user 11.6 s, sys: 0 ns, total: 11.6 s\n",
        "Wall time: 11.6 s\n"
       ]
      }
     ],
     "prompt_number": 36
    },
    {
     "cell_type": "code",
     "collapsed": false,
     "input": [
      "azienda = []\n",
      "diametro = []\n",
      "cammino = []\n",
      "cluster = []\n",
      "relSizeGC = []\n",
      "gradomedio = []\n",
      "criterio = []\n",
      "fcritica = []\n",
      "\n",
      "topologia(gToolGrafoErdos, \"Tim\")\n",
      "datiInitial = pandas.DataFrame()\n",
      "datiInitial['Rete'] = azienda\n",
      "datiInitial['GC %'] = relSizeGC\n",
      "datiInitial['D'] = diametro\n",
      "datiInitial['<l>'] = cammino\n",
      "datiInitial['C'] = cluster\n",
      "datiInitial['<k>'] = gradomedio\n",
      "datiInitial['<k^2>/<k>'] = criterio\n",
      "datiInitial['f'] = fcritica\n",
      "datiInitial"
     ],
     "language": "python",
     "metadata": {},
     "outputs": [
      {
       "html": [
        "<div style=\"max-height:1000px;max-width:1500px;overflow:auto;\">\n",
        "<table border=\"1\" class=\"dataframe\">\n",
        "  <thead>\n",
        "    <tr style=\"text-align: right;\">\n",
        "      <th></th>\n",
        "      <th>Rete</th>\n",
        "      <th>GC %</th>\n",
        "      <th>D</th>\n",
        "      <th>&lt;l&gt;</th>\n",
        "      <th>C</th>\n",
        "      <th>&lt;k&gt;</th>\n",
        "      <th>&lt;k^2&gt;/&lt;k&gt;</th>\n",
        "      <th>f</th>\n",
        "    </tr>\n",
        "  </thead>\n",
        "  <tbody>\n",
        "    <tr>\n",
        "      <th>0</th>\n",
        "      <td> Tim</td>\n",
        "      <td> 1</td>\n",
        "      <td> 3</td>\n",
        "      <td> 2.054629</td>\n",
        "      <td> 0.036596</td>\n",
        "      <td> 64.307517</td>\n",
        "      <td> 65.233856</td>\n",
        "      <td> 0.984432</td>\n",
        "    </tr>\n",
        "  </tbody>\n",
        "</table>\n",
        "</div>"
       ],
       "metadata": {},
       "output_type": "pyout",
       "prompt_number": 39,
       "text": [
        "  Rete  GC %  D       <l>         C        <k>  <k^2>/<k>         f\n",
        "0  Tim     1  3  2.054629  0.036596  64.307517  65.233856  0.984432"
       ]
      }
     ],
     "prompt_number": 39
    },
    {
     "cell_type": "code",
     "collapsed": false,
     "input": [
      "%matplotlib inline\n",
      "pyplot.figure(figsize=(12,9)) \n",
      "grafico = degreeDistributionLog(gradoErdos, 'Erdos-Renyi', '#699534')\n",
      "#grafico = degreeDistributionLog(gradoWatts, 'Watts-Strogatz', '#3D5A92')\n",
      "#grafico = degreeDistributionLog(gradoBarabasi, 'Barabasi-Albert', '#FD6266')\n",
      "#grafico = degreeDistributionLog(gradoBara, 'm=2', '#E47F2C')\n",
      "#pyplot.ylim(0.9,1100)\n",
      "#pyplot.xlim(1,25)\n",
      "pyplot.legend()\n",
      "#pyplot.savefig('compareSameN.svg', format='svg', dpi=1000)"
     ],
     "language": "python",
     "metadata": {},
     "outputs": [
      {
       "metadata": {},
       "output_type": "pyout",
       "prompt_number": 40,
       "text": [
        "<matplotlib.legend.Legend at 0x7fbb45e7d8d0>"
       ]
      },
      {
       "metadata": {},
       "output_type": "display_data",
       "png": "[encoded data removed]",
       "text": [
        "<matplotlib.figure.Figure at 0x7fbb46000950>"
       ]
      }
     ],
     "prompt_number": 40
    },
    {
     "cell_type": "code",
     "collapsed": false,
     "input": [
      "#grafo watts\n",
      "%matplotlib inline\n",
      "#pos = graph_tool.draw.radial_tree_layout(gToolGrafoWatts, gToolGrafoWatts.vertex(0))\n",
      "gToolGrafoWatts = graph_tool.generation.circular_graph(70, 2)\n",
      "#pos = graph_tool.draw.sfdp_layout(gToolGrafoWatts, cooling_step=0.95)\n",
      "#pos = graph_tool.draw.arf_layout(gToolGrafoWatts)\n",
      "pos = graph_tool.draw.sfdp_layout(gToolGrafoWatts)\n",
      "graph_draw(gToolGrafoWatts, pos = pos, output_size=(1000, 1000),\n",
      "           vertex_color=[1,1,1,0], vertex_size=5, edge_pen_width=1.2,\n",
      "           vcmap=matplotlib.cm.gist_heat_r, \n",
      "           output=\"Ring1.svg\"\n",
      "           )\n",
      "\n",
      "#grafo erdos\n",
      "#pos = graph_tool.draw.arf_layout(gToolGrafoErdos)\n",
      "#pos = graph_tool.draw.radial_tree_layout(gToolGrafoErdos, gToolGrafoErdos.vertex(0))\n",
      "#graph_draw(gToolGrafoErdos, pos = pos, output_size=(1000, 1000), \n",
      "#           vertex_color=[1,1,1,0], vertex_size=4, edge_pen_width=1.2,\n",
      "#           vcmap=matplotlib.cm.gist_heat_r, \n",
      "#           output=\"Erdosmodel.svg\"\n",
      "#           )"
     ],
     "language": "python",
     "metadata": {},
     "outputs": [
      {
       "metadata": {},
       "output_type": "pyout",
       "prompt_number": 16,
       "text": [
        "<PropertyMap object with key type 'Vertex' and value type 'vector<double>', for Graph 0x7fa35bb66950, at 0x7fa35bb4a150>"
       ]
      }
     ],
     "prompt_number": 16
    },
    {
     "cell_type": "code",
     "collapsed": false,
     "input": [
      "#grafo barabasi\n",
      "pos = graph_tool.draw.sfdp_layout(gToolGrafoBarabasi)\n",
      "#pos = graph_tool.draw.radial_tree_layout(gToolGrafoBarabasi, gToolGrafoBarabasi.vertex(0))\n",
      "graph_draw(gToolGrafoBarabasi, pos = pos, output_size=(1000, 1000), \n",
      "           vertex_color=[1,1,1,0], vertex_size=4, edge_pen_width=1.2,\n",
      "           vcmap=matplotlib.cm.gist_heat_r, output=\"Barabasimodel.svg\")"
     ],
     "language": "python",
     "metadata": {},
     "outputs": [
      {
       "metadata": {},
       "output_type": "pyout",
       "prompt_number": 12,
       "text": [
        "<PropertyMap object with key type 'Vertex' and value type 'vector<double>', for Graph 0x7f560e828b10, at 0x7f560e83f610>"
       ]
      }
     ],
     "prompt_number": 12
    },
    {
     "cell_type": "markdown",
     "metadata": {},
     "source": [
      "## Generazione modelli reti direttamente con graph tool"
     ]
    },
    {
     "cell_type": "markdown",
     "metadata": {},
     "source": [
      "### Barabasi Albert con *initial attractiveness*"
     ]
    },
    {
     "cell_type": "code",
     "collapsed": false,
     "input": [
      "#initial = 0\n",
      "g = graph_tool.generation.price_network(10000, m=1, gamma = 1,\n",
      "                                              #seed_graph = gToolGrafoErdos,\n",
      "                                              directed=False)\n",
      "pos = graph_tool.draw.sfdp_layout(g)\n",
      "graph_draw(g, pos = pos, output_size=(1000, 1000), \n",
      "           vertex_color=[1,1,1,0], vertex_size=3, edge_pen_width=1,\n",
      "           vcmap=matplotlib.cm.gist_heat_r, \n",
      "           output=(\"barabalbert1.svg\"))"
     ],
     "language": "python",
     "metadata": {},
     "outputs": [
      {
       "metadata": {},
       "output_type": "pyout",
       "prompt_number": 8,
       "text": [
        "<PropertyMap object with key type 'Vertex' and value type 'vector<double>', for Graph 0x7f3922da2cd0, at 0x7f3922da2f50>"
       ]
      }
     ],
     "prompt_number": 8
    },
    {
     "cell_type": "code",
     "collapsed": false,
     "input": [
      "%matplotlib inline\n",
      "# We will need some things from several places\n",
      "from __future__ import division, absolute_import, print_function\n",
      "import sys\n",
      "if sys.version_info < (3,):\n",
      "    range = xrange\n",
      "import os\n",
      "from pylab import *  # for plotting\n",
      "from numpy.random import *  # for random sampling\n",
      "seed(42)\n",
      "\n",
      "# We need to import the graph_tool module itself\n",
      "from graph_tool.all import *\n",
      "\n",
      "in_hist = vertex_hist(g, \"out\")\n",
      "\n",
      "y = in_hist[0]\n",
      "\n",
      "err = sqrt(in_hist[0])\n",
      "err[err >= y] = y[err >= y] - 1e-2\n",
      "\n",
      "figure(figsize=(8,5))\n",
      "errorbar(in_hist[1][:-1], in_hist[0], fmt=\"o\", yerr=err,\n",
      "        label=\"in\")\n",
      "gca().set_yscale(\"log\")\n",
      "gca().set_xscale(\"log\")\n",
      "gca().set_ylim(1, 300)\n",
      "gca().set_xlim(40, 600)\n",
      "subplots_adjust(left=0.2, bottom=0.2)\n",
      "xlabel(\"$k$\")\n",
      "ylabel(\"$P(k)$\")\n",
      "tight_layout()\n",
      "#savefig(\"price-deg-dist.pdf\")\n",
      "savefig((\"grado c = {0}.png\").format(initial))\n",
      "gradoBarabasi = gradiFinal = pandas.DataFrame(in_hist[0], columns=['grado'])\n",
      "#gradoBarabasi.to_csv((\"c = {0}.csv\".format(initial)))"
     ],
     "language": "python",
     "metadata": {},
     "outputs": [
      {
       "ename": "NameError",
       "evalue": "name 'initial' is not defined",
       "output_type": "pyerr",
       "traceback": [
        "\u001b[0;31m---------------------------------------------------------------------------\u001b[0m\n\u001b[0;31mNameError\u001b[0m                                 Traceback (most recent call last)",
        "\u001b[0;32m<ipython-input-26-ced6d78086a2>\u001b[0m in \u001b[0;36m<module>\u001b[0;34m()\u001b[0m\n\u001b[1;32m     32\u001b[0m \u001b[0mtight_layout\u001b[0m\u001b[0;34m(\u001b[0m\u001b[0;34m)\u001b[0m\u001b[0;34m\u001b[0m\u001b[0m\n\u001b[1;32m     33\u001b[0m \u001b[0;31m#savefig(\"price-deg-dist.pdf\")\u001b[0m\u001b[0;34m\u001b[0m\u001b[0;34m\u001b[0m\u001b[0m\n\u001b[0;32m---> 34\u001b[0;31m \u001b[0msavefig\u001b[0m\u001b[0;34m(\u001b[0m\u001b[0;34m(\u001b[0m\u001b[0;34m\"grado c = {0}.png\"\u001b[0m\u001b[0;34m)\u001b[0m\u001b[0;34m.\u001b[0m\u001b[0mformat\u001b[0m\u001b[0;34m(\u001b[0m\u001b[0minitial\u001b[0m\u001b[0;34m)\u001b[0m\u001b[0;34m)\u001b[0m\u001b[0;34m\u001b[0m\u001b[0m\n\u001b[0m\u001b[1;32m     35\u001b[0m \u001b[0mgradoBarabasi\u001b[0m \u001b[0;34m=\u001b[0m \u001b[0mgradiFinal\u001b[0m \u001b[0;34m=\u001b[0m \u001b[0mpandas\u001b[0m\u001b[0;34m.\u001b[0m\u001b[0mDataFrame\u001b[0m\u001b[0;34m(\u001b[0m\u001b[0min_hist\u001b[0m\u001b[0;34m[\u001b[0m\u001b[0;36m0\u001b[0m\u001b[0;34m]\u001b[0m\u001b[0;34m,\u001b[0m \u001b[0mcolumns\u001b[0m\u001b[0;34m=\u001b[0m\u001b[0;34m[\u001b[0m\u001b[0;34m'grado'\u001b[0m\u001b[0;34m]\u001b[0m\u001b[0;34m)\u001b[0m\u001b[0;34m\u001b[0m\u001b[0m\n\u001b[1;32m     36\u001b[0m \u001b[0;31m#gradoBarabasi.to_csv((\"c = {0}.csv\".format(initial)))\u001b[0m\u001b[0;34m\u001b[0m\u001b[0;34m\u001b[0m\u001b[0m\n",
        "\u001b[0;31mNameError\u001b[0m: name 'initial' is not defined"
       ]
      },
      {
       "metadata": {},
       "output_type": "display_data",
       "png": "[encoded data removed]",
       "text": [
        "<matplotlib.figure.Figure at 0x7f04034dbb90>"
       ]
      }
     ],
     "prompt_number": 26
    },
    {
     "cell_type": "markdown",
     "metadata": {},
     "source": [
      "##Documentazione graph-tool\n",
      "\n",
      "* [Quick Start](https://graph-tool.skewed.de/static/doc/quickstart.html)\n",
      "* [Graph generators](https://graph-tool.skewed.de/static/doc/generation.html#graph_tool.generation.price_network)\n",
      "* [Topologia (diametro etc)](https://graph-tool.skewed.de/static/doc/topology.html)\n",
      "* [Statistica (gradi etc)](https://graph-tool.skewed.de/static/doc/stats.html)\n",
      "* [Draw e layouts](https://graph-tool.skewed.de/static/doc/draw.html#graph_tool.draw.arf_layout)\n",
      "* [Animazioni](http://graph-tool.skewed.de/static/doc/demos/animation.html)\n"
     ]
    },
    {
     "cell_type": "markdown",
     "metadata": {},
     "source": [
      "## Attacco e failure con modelli"
     ]
    },
    {
     "cell_type": "code",
     "collapsed": false,
     "input": [
      "grafoErdos = networkx.erdos_renyi_graph(10000, 0.0101)\n",
      "grafoWatts = networkx.watts_strogatz_graph(10000, 100, 0.2)\n",
      "grafoBarabasi = networkx.barabasi_albert_graph(10000, 100)"
     ],
     "language": "python",
     "metadata": {},
     "outputs": []
    },
    {
     "cell_type": "code",
     "collapsed": false,
     "input": [
      "def modelAttack(grafoFinal, steps):\n",
      "    gradoFinal = grafoFinal.degree().values()\n",
      "    graphSize = networkx.number_of_nodes(grafoFinal)\n",
      "    passo = networkx.number_of_nodes(grafoFinal)/float(steps)\n",
      "\n",
      "    i = 0\n",
      "    ascisse.append(i)\n",
      "    aziendaFinal.append(modello)\n",
      "    diametro.append(2)\n",
      "    relSizeGC.append(1)\n",
      "\n",
      "    \n",
      "    while (networkx.number_of_nodes(grafoFinal) > passo):\n",
      "        gradiFinal = pandas.DataFrame(grafoFinal.degree().items(), columns=['index', 'grado'])\n",
      "        gradiFinal.sort([\"grado\"], ascending=[False], inplace=True)\n",
      "        sortedIDnode = gradiFinal['index'].values\n",
      "\n",
      "        for identificativo in sortedIDnode:\n",
      "            if (networkx.number_of_nodes(grafoFinal) > len(sortedIDnode) - passo):\n",
      "                grafoFinal.remove_node(identificativo)\n",
      "\n",
      "        giantCluster = max(networkx.connected_component_subgraphs(grafoFinal), key = len)\n",
      "        \n",
      "        i += 100/steps\n",
      "        ascisse.append(i)\n",
      "        aziendaFinal.append(modello)\n",
      "\n",
      "        graphSize = networkx.number_of_nodes(grafoFinal)\n",
      "        diametro.append(networkx.diameter(giantCluster, e=None))\n",
      "        relSizeGC.append(networkx.number_of_nodes(giantCluster)/float(graphSize))\n",
      "        \n",
      "def modelFailure(grafoFinal, steps):\n",
      "    gradoFinal = grafoFinal.degree().values()\n",
      "    graphSize = networkx.number_of_nodes(grafoFinal)\n",
      "    passo = networkx.number_of_nodes(grafoFinal)/float(steps)\n",
      "\n",
      "    i = 0\n",
      "    ascisse.append(i)\n",
      "    aziendaFinal.append(modello)\n",
      "    diametro.append(2)\n",
      "    relSizeGC.append(1)\n",
      "\n",
      "    while (networkx.number_of_nodes(grafoFinal) > passo):\n",
      "        gradiFinal = pandas.DataFrame(grafoFinal.degree().items(), columns=['index', 'grado'])\n",
      "        randomante = gradiFinal['index'].values\n",
      "        randomante = numpy.random.permutation(randomante)\n",
      "\n",
      "        for identificativo in randomante:\n",
      "            if (networkx.number_of_nodes(grafoFinal) > len(randomante) - passo):\n",
      "                grafoFinal.remove_node(identificativo)\n",
      "\n",
      "        giantCluster = max(networkx.connected_component_subgraphs(grafoFinal), key = len)\n",
      "\n",
      "        i += 100/steps\n",
      "        ascisse.append(i)\n",
      "        aziendaFinal.append(modello)\n",
      "        \n",
      "        graphSize = networkx.number_of_nodes(grafoFinal)\n",
      "        diametro.append(networkx.diameter(giantCluster, e=None))\n",
      "        relSizeGC.append(networkx.number_of_nodes(giantCluster)/float(graphSize))"
     ],
     "language": "python",
     "metadata": {},
     "outputs": []
    },
    {
     "cell_type": "code",
     "collapsed": false,
     "input": [
      "#calcolo attacco con modelli\n",
      "\n",
      "diametro = []\n",
      "relSizeGC = []\n",
      "aziendaFinal = []\n",
      "ascisse = []\n",
      "\n",
      "pyplot.figure(figsize=(16,9))       \n",
      "modelAttack('Erdos-Renyi', 100)\n",
      "modelAttack('Watts-Strogatz', 100)\n",
      "modelAttack('Barabasi-Abert', 100)\n",
      "pyplot.legend()\n",
      "\n",
      "datiFinal = pandas.DataFrame()\n",
      "\n",
      "datiFinal['percent'] = ascisse\n",
      "datiFinal['Modello'] = aziendaFinal\n",
      "datiFinal['diam'] = diametro\n",
      "datiFinal['GC'] = relSizeGC\n",
      "datiFinal.to_csv(\"/home/protoss/Documenti/SistemiComplessi/data/Iuri/ModelAttackForSeaborn.csv\")\n",
      "datiFinal.head()"
     ],
     "language": "python",
     "metadata": {},
     "outputs": []
    },
    {
     "cell_type": "code",
     "collapsed": false,
     "input": [
      "#calcolo failure con modelli\n",
      "diametro = []\n",
      "relSizeGC = []\n",
      "aziendaFinal = []\n",
      "ascisse = []\n",
      "\n",
      "pyplot.figure(figsize=(16,9))       \n",
      "modelFailure('Watts-Strogatz', 100)\n",
      "modelFailure('Erdos-Renyi', 100)\n",
      "modelFailure('Barabasi-Abert', 100)\n",
      "pyplot.legend()\n",
      "\n",
      "datiFinal = pandas.DataFrame()\n",
      "\n",
      "datiFinal['percent'] = ascisse\n",
      "datiFinal['Modello'] = aziendaFinal\n",
      "datiFinal['diam'] = diametro\n",
      "datiFinal['GC'] = relSizeGC\n",
      "datiFinal.to_csv(\"/home/protoss/Documenti/SistemiComplessi/data/Iuri/ModelFailureForSeaborn.csv\")\n",
      "datiFinal.head()"
     ],
     "language": "python",
     "metadata": {},
     "outputs": []
    },
    {
     "cell_type": "markdown",
     "metadata": {},
     "source": [
      "## Faccio i grafici"
     ]
    },
    {
     "cell_type": "code",
     "collapsed": false,
     "input": [
      "#Attack\n",
      "import seaborn\n",
      "\n",
      "datiFinal = pandas.read_csv('/home/protoss/Documenti/SistemiComplessi/data/Iuri/AttackDataForSeaborn.csv')\n",
      "\n",
      "seaborn.set_context(\"notebook\", font_scale=1.1)\n",
      "seaborn.set_style(\"ticks\")\n",
      "\n",
      "#PLOTS\n",
      "seaborn.lmplot('percent', 'diam',\n",
      "           data=datiFinal,\n",
      "           fit_reg=False,\n",
      "           size = 7,\n",
      "           aspect = 1.7778,\n",
      "           hue='Modello',\n",
      "           scatter_kws={\"marker\": \"D\", \"s\": 100})\n",
      "pyplot.title('Attacco con i modelli di rete: diametro')\n",
      "pyplot.xlabel(\"%\")\n",
      "pyplot.ylabel(\"Valore\")\n",
      "pyplot.xlim(0, 100)\n",
      "pyplot.ylim(0, 1)\n",
      "pyplot.ylim(0,max(diametro)+2)\n",
      "pyplot.savefig('/home/protoss/Documenti/SistemiComplessi/img/iuri/AttackD_Model', format='eps', dpi=1000)\n",
      "\n",
      "seaborn.lmplot('percent', 'GC',\n",
      "           data=datiFinal,\n",
      "           fit_reg=False,\n",
      "           size = 7,\n",
      "           aspect = 1.7778,\n",
      "           hue='Modello',\n",
      "           scatter_kws={\"marker\": \"D\", \"s\": 100})\n",
      "pyplot.title('Attacco con i modelli di rete: dimensioni relative del GC')\n",
      "pyplot.xlabel(\"%\")\n",
      "pyplot.ylabel(\"Valore\")\n",
      "pyplot.xlim(0, 100)\n",
      "pyplot.ylim(0,1.1)\n",
      "pyplot.savefig('/home/protoss/Documenti/SistemiComplessi/img/iuri/AttackGC_Model', format='eps', dpi=1000)"
     ],
     "language": "python",
     "metadata": {},
     "outputs": []
    },
    {
     "cell_type": "code",
     "collapsed": false,
     "input": [
      "seaborn.set_context(\"notebook\", font_scale=1.1)\n",
      "seaborn.set_style(\"ticks\")\n",
      "\n",
      "\n",
      "seaborn.lmplot('percent', 'diam',\n",
      "           data=datiFinal,\n",
      "           fit_reg=False,\n",
      "           size = 7,\n",
      "           aspect = 1.7778,\n",
      "           hue='Modello',\n",
      "           scatter_kws={\"marker\": \"D\", \"s\": 100})\n",
      "pyplot.title('Random failure con i modelli di rete: diametro')\n",
      "pyplot.xlabel(\"%\")\n",
      "pyplot.ylabel(\"Valore\")\n",
      "pyplot.xlim(0, 100)\n",
      "#pyplot.ylim(0, 1)\n",
      "pyplot.ylim(0,max(diametro)+2)\n",
      "pyplot.savefig('/home/protoss/Documenti/SistemiComplessi/img/iuri/FailureD_Model', format='eps', dpi=1000)\n",
      "\n",
      "seaborn.lmplot('percent', 'GC',\n",
      "           data=datiFinal,\n",
      "           fit_reg=False,\n",
      "           size = 7,\n",
      "           aspect = 1.7778,\n",
      "           hue='Modello',\n",
      "           scatter_kws={\"marker\": \"D\", \"s\": 100})\n",
      "pyplot.title('Random failure con i modelli di rete: dimensioni relative del GC')\n",
      "pyplot.xlabel(\"%\")\n",
      "pyplot.ylabel(\"Valore\")\n",
      "pyplot.xlim(0, 100)\n",
      "pyplot.ylim(0,1.1)\n",
      "pyplot.savefig('/home/protoss/Documenti/SistemiComplessi/img/iuri/FailureGC_Model', format='eps', dpi=1000)"
     ],
     "language": "python",
     "metadata": {},
     "outputs": []
    }
   ],
   "metadata": {}
  }
 ]
}