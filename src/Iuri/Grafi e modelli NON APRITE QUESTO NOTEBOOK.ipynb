{
 "metadata": {
  "name": "",
  "signature": "sha256:c5b2a28049297042537316a292902bbf336b7ef247dd1e4284ef59e51bfd5c53"
 },
 "nbformat": 3,
 "nbformat_minor": 0,
 "worksheets": [
  {
   "cells": [
    {
     "cell_type": "code",
     "collapsed": false,
     "input": [
      "from graph_tool.all import *\n",
      "import networkx\n",
      "import matplotlib\n",
      "from matplotlib import pyplot\n",
      "import numpy\n",
      "import pandas\n",
      "import math"
     ],
     "language": "python",
     "metadata": {},
     "outputs": [],
     "prompt_number": 1
    },
    {
     "cell_type": "code",
     "collapsed": false,
     "input": [
      "def degreeDistributionLog(gradi, azienda, colore):\n",
      "    distribuzioneRange = pyplot.hist(gradi, bins=max(gradi)-min(gradi), histtype='step', label=azienda, color=colore, linewidth=1.1)\n",
      "    pyplot.title('Degree distribution')\n",
      "    pyplot.xlabel(\"Degree\")\n",
      "    pyplot.ylabel(\"Frequency\")\n",
      "\n",
      "    pyplot.gca().set_xscale(\"log\")\n",
      "    pyplot.gca().set_yscale(\"log\")\n",
      "#    pyplot.ylim(1,100)\n",
      "\n",
      "#Costruzione grafo con graph-tool da matrice di adiacenza\n",
      "def conversione(grafo, adiacenza):\n",
      "    grafo.add_vertex(len(adiacenza))\n",
      "    num_vertices = adiacenza.shape[0]\n",
      "    for i in range(num_vertices - 1):\n",
      "        for j in range(i + 1, num_vertices):\n",
      "            if adiacenza[i,j] != 0:\n",
      "                e = grafo.add_edge(i, j)"
     ],
     "language": "python",
     "metadata": {},
     "outputs": [],
     "prompt_number": 3
    },
    {
     "cell_type": "code",
     "collapsed": false,
     "input": [
      "#esempio di creazione grafo\n",
      "grafo = Graph(directed=False)\n",
      "v1 = grafo.add_vertex()\n",
      "v2 = grafo.add_vertex()\n",
      "vlist = grafo.add_vertex(10)\n",
      "e = grafo.add_edge(v1, v2)\n",
      "f = grafo.add_edge(grafo.vertex(10), grafo.vertex(8))\n",
      "%matplotlib inline\n",
      "graph_draw(grafo, vertex_text=grafo.vertex_index, vertex_font_size=18,\n",
      "           output_size=(800, 800), output=\"two-nodes.png\")"
     ],
     "language": "python",
     "metadata": {},
     "outputs": [],
     "prompt_number": 28
    },
    {
     "cell_type": "code",
     "collapsed": false,
     "input": [
      "adiacenzaRoma = numpy.genfromtxt(\"/home/protoss/Documenti/Siscomp_datas/data/AdiacenzaEuclidea_Roma.csv\",delimiter=',',dtype='int')\n",
      "adiacenzaTim = numpy.genfromtxt(\"/home/protoss/Documenti/Siscomp_datas/data/AdiacenzaEuclidea_Tim.csv\",delimiter=',',dtype='int')\n",
      "adiacenzaVoda = numpy.genfromtxt(\"/home/protoss/Documenti/Siscomp_datas/data/AdiacenzaEuclidea_Vodafone.csv\",delimiter=',',dtype='int')\n",
      "adiacenzaWind = numpy.genfromtxt(\"/home/protoss/Documenti/Siscomp_datas/data/AdiacenzaEuclidea_Wind.csv\",delimiter=',',dtype='int')\n",
      "adiacenzaTre = numpy.genfromtxt(\"/home/protoss/Documenti/Siscomp_datas/data/AdiacenzaEuclidea_Tre.csv\",delimiter=',',dtype='int')"
     ],
     "language": "python",
     "metadata": {},
     "outputs": [],
     "prompt_number": 32
    },
    {
     "cell_type": "code",
     "collapsed": false,
     "input": [
      "graph_draw(g, vertex_text=g.vertex_index, vertex_font_size=18,\n",
      "           output_size=(800, 800), output=\"two-nodes.png\")\n"
     ],
     "language": "python",
     "metadata": {},
     "outputs": [
      {
       "metadata": {},
       "output_type": "pyout",
       "prompt_number": 36,
       "text": [
        "<PropertyMap object with key type 'Vertex' and value type 'vector<double>', for Graph 0x7fdd4ff99950, at 0x7fdd58395b10>"
       ]
      }
     ],
     "prompt_number": 36
    },
    {
     "cell_type": "code",
     "collapsed": false,
     "input": [
      "g = Graph(directed=False)\n",
      "%time conversione(g, adiacenzaTre)\n",
      "pos = graph_tool.draw.sfdp_layout(g)\n",
      "graph_draw(g, pos=pos, output_size=(2000, 2000), vertex_color=[1,1,1,0],\n",
      "           vertex_size=2, edge_pen_width=0.8,\n",
      "           vcmap=matplotlib.cm.gist_heat_r, output=\"provaTre.png\")\n"
     ],
     "language": "python",
     "metadata": {},
     "outputs": [
      {
       "output_type": "stream",
       "stream": "stdout",
       "text": [
        "CPU times: user 3.6 s, sys: 56 ms, total: 3.66 s\n",
        "Wall time: 3.59 s\n"
       ]
      },
      {
       "metadata": {},
       "output_type": "pyout",
       "prompt_number": 156,
       "text": [
        "<PropertyMap object with key type 'Vertex' and value type 'vector<double>', for Graph 0x7fdd1f1dd290, at 0x7fdd1ee8f3d0>"
       ]
      }
     ],
     "prompt_number": 156
    },
    {
     "cell_type": "markdown",
     "metadata": {},
     "source": [
      "## Conversioni modelli reti da networkx a graph-tool"
     ]
    },
    {
     "cell_type": "code",
     "collapsed": false,
     "input": [
      "#    if(modello == 'Erdos-Renyi'):\n",
      "grafoErdos = networkx.erdos_renyi_graph(1000, 0.004)\n",
      "gradoErdos = grafoErdos.degree().values()\n",
      "adiacenzaErdos = networkx.to_numpy_matrix(grafoErdos)\n",
      "#adiacenzaErdos\n",
      "gToolGrafoErdos = graph_tool.Graph(directed = False)\n",
      "%time conversione(gToolGrafoErdos, adiacenzaErdos)\n",
      "\n",
      "pos = graph_tool.draw.arf_layout(gToolGrafoErdos)\n",
      "#pos = graph_tool.draw.radial_tree_layout(gToolGrafoErdos, gToolGrafoErdos.vertex(0))\n",
      "graph_draw(gToolGrafoErdos, pos = pos, output_size=(1000, 1000), \n",
      "           vertex_color=[1,1,1,0], vertex_size=4, edge_pen_width=1.2,\n",
      "           vcmap=matplotlib.cm.gist_heat_r, output=\"Erdosmodel.png\")"
     ],
     "language": "python",
     "metadata": {},
     "outputs": [
      {
       "output_type": "stream",
       "stream": "stdout",
       "text": [
        "CPU times: user 1.27 s, sys: 24 ms, total: 1.3 s\n",
        "Wall time: 1.29 s\n"
       ]
      },
      {
       "metadata": {},
       "output_type": "pyout",
       "prompt_number": 9,
       "text": [
        "<PropertyMap object with key type 'Vertex' and value type 'vector<double>', for Graph 0x7f563851a8d0, at 0x7f563851a710>"
       ]
      }
     ],
     "prompt_number": 9
    },
    {
     "cell_type": "code",
     "collapsed": false,
     "input": [
      "#    if(modello == 'Watts-Strogatz'):\n",
      "grafoWatts = networkx.watts_strogatz_graph(1000, 4, 0.6)\n",
      "gradoWatts = grafoWatts.degree().values()\n",
      "adiacenzaWatts = networkx.to_numpy_matrix(grafoWatts)\n",
      "#adiacenzaWatts\n",
      "print \"check\"\n",
      "gToolGrafoWatts = graph_tool.Graph(directed = False)\n",
      "print \"check\"\n",
      "%time conversione(gToolGrafoWatts, adiacenzaWatts)\n",
      "\n",
      "#pos = graph_tool.draw.radial_tree_layout(gToolGrafoWatts, gToolGrafoWatts.vertex(0))\n",
      "pos = graph_tool.draw.arf_layout(gToolGrafoWatts)\n",
      "#pos = graph_tool.draw.sfdp_layout(gToolGrafoWatts)\n",
      "graph_draw(gToolGrafoWatts, pos = pos, output_size=(1000, 1000),\n",
      "           vertex_color=[1,1,1,0], vertex_size=4, edge_pen_width=1.2,\n",
      "           vcmap=matplotlib.cm.gist_heat_r, output=\"Wattsmodel.png\")"
     ],
     "language": "python",
     "metadata": {},
     "outputs": [
      {
       "output_type": "stream",
       "stream": "stdout",
       "text": [
        "check\n",
        "check\n",
        "CPU times: user 1.31 s, sys: 48 ms, total: 1.36 s"
       ]
      },
      {
       "output_type": "stream",
       "stream": "stdout",
       "text": [
        "\n",
        "Wall time: 1.32 s\n"
       ]
      },
      {
       "metadata": {},
       "output_type": "pyout",
       "prompt_number": 4,
       "text": [
        "<PropertyMap object with key type 'Vertex' and value type 'vector<double>', for Graph 0x7f5638278ed0, at 0x7f5638278e90>"
       ]
      }
     ],
     "prompt_number": 4
    },
    {
     "cell_type": "code",
     "collapsed": false,
     "input": [
      "#    if(modello == 'Barabasi-Abert'):\n",
      "grafoBarabasi = networkx.barabasi_albert_graph(2000, 1)\n",
      "gradoBarabasi = grafoBarabasi.degree().values()\n",
      "adiacenzaBarabasi = networkx.to_numpy_matrix(grafoBarabasi)\n",
      "#adiacenzaBarabasi\n",
      "gToolGrafoBarabasi = graph_tool.Graph(directed = False)\n",
      "%time conversione(gToolGrafoBarabasi, adiacenzaBarabasi)\n",
      "\n",
      "pos = graph_tool.draw.sfdp_layout(gToolGrafoBarabasi)\n",
      "#pos = graph_tool.draw.radial_tree_layout(gToolGrafoBarabasi, gToolGrafoBarabasi.vertex(0))\n",
      "graph_draw(gToolGrafoBarabasi, pos = pos, output_size=(1000, 1000), \n",
      "           vertex_color=[1,1,1,0], vertex_size=4, edge_pen_width=1.2,\n",
      "           vcmap=matplotlib.cm.gist_heat_r, output=\"Barabasimodel.png\")"
     ],
     "language": "python",
     "metadata": {},
     "outputs": [
      {
       "output_type": "stream",
       "stream": "stdout",
       "text": [
        "CPU times: user 4.6 s, sys: 72 ms, total: 4.67 s\n",
        "Wall time: 4.59 s\n"
       ]
      },
      {
       "metadata": {},
       "output_type": "pyout",
       "prompt_number": 11,
       "text": [
        "<PropertyMap object with key type 'Vertex' and value type 'vector<double>', for Graph 0x7f5635d7d9d0, at 0x7f5635d7dbd0>"
       ]
      }
     ],
     "prompt_number": 11
    },
    {
     "cell_type": "code",
     "collapsed": false,
     "input": [
      "%matplotlib inline\n",
      "pyplot.figure(figsize=(16,9)) \n",
      "grafico = degreeDistributionLog(gradoErdos, 'Erdos-Renyi', '#4d4d4d')\n",
      "grafico = degreeDistributionLog(gradoWatts, 'Watts', '#47d147')\n",
      "grafico = degreeDistributionLog(gradoBarabasi, 'Barabasi', '#ff3300')\n",
      "pyplot.legend()"
     ],
     "language": "python",
     "metadata": {},
     "outputs": [
      {
       "metadata": {},
       "output_type": "pyout",
       "prompt_number": 13,
       "text": [
        "<matplotlib.legend.Legend at 0x7f5631bb1850>"
       ]
      },
      {
       "metadata": {},
       "output_type": "display_data",
       "png": "[encoded data removed]",
       "text": [
        "<matplotlib.figure.Figure at 0x7f5631c7e910>"
       ]
      }
     ],
     "prompt_number": 13
    },
    {
     "cell_type": "markdown",
     "metadata": {},
     "source": [
      "## Generazione modelli reti direttamente con graph tool"
     ]
    },
    {
     "cell_type": "markdown",
     "metadata": {},
     "source": [
      "### Barabasi Albert con *initial attractiveness*"
     ]
    },
    {
     "cell_type": "code",
     "collapsed": false,
     "input": [
      "g = graph_tool.generation.price_network(10000, m=2, c= -0.9, gamma = 1, directed=False)\n",
      "\n",
      "pos = graph_tool.draw.sfdp_layout(g)\n",
      "graph_draw(g, pos = pos, output_size=(1000, 1000), \n",
      "           vertex_color=[1,1,1,0], vertex_size=4, edge_pen_width=1.2,\n",
      "           vcmap=matplotlib.cm.gist_heat_r, output=\"InitialAttr.pdf\")\n",
      "\n",
      "#pos=graph_tool.draw.sfdp_layout(g, cooling_step=0.99)\n",
      "#graph_draw(g, pos=pos, output_size=(1000, 1000),\n",
      "#              vertex_fill_color=g.vertex_index, vertex_size=2,\n",
      "#              edge_pen_width=1.0, output=\"initialAttractiv.png\")\n",
      "\n",
      "#todo mettere gradi minimi sempre pi\u00f9 grandi e provare initial attrattivness\n",
      "#fare in un box a parte per lavorare solo con distr grado"
     ],
     "language": "python",
     "metadata": {},
     "outputs": [
      {
       "metadata": {},
       "output_type": "pyout",
       "prompt_number": 16,
       "text": [
        "<PropertyMap object with key type 'Vertex' and value type 'vector<double>', for Graph 0x7f7903da5250, at 0x7f7903d69850>"
       ]
      }
     ],
     "prompt_number": 16
    },
    {
     "cell_type": "code",
     "collapsed": false,
     "input": [
      "%matplotlib inline\n",
      "# We will need some things from several places\n",
      "from __future__ import division, absolute_import, print_function\n",
      "import sys\n",
      "if sys.version_info < (3,):\n",
      "    range = xrange\n",
      "import os\n",
      "from pylab import *  # for plotting\n",
      "from numpy.random import *  # for random sampling\n",
      "seed(42)\n",
      "\n",
      "# We need to import the graph_tool module itself\n",
      "from graph_tool.all import *\n",
      "\n",
      "in_hist = vertex_hist(g, \"out\")\n",
      "\n",
      "y = in_hist[0]\n",
      "err = sqrt(in_hist[0])\n",
      "err[err >= y] = y[err >= y] - 1e-2\n",
      "\n",
      "figure(figsize=(8,5))\n",
      "errorbar(in_hist[1][:-1], in_hist[0], fmt=\"o\", yerr=err,\n",
      "        label=\"in\")\n",
      "gca().set_yscale(\"log\")\n",
      "gca().set_xscale(\"log\")\n",
      "gca().set_ylim(1, 1e4)\n",
      "#gca().set_xlim(10, 1e3)\n",
      "subplots_adjust(left=0.2, bottom=0.2)\n",
      "xlabel(\"$k$\")\n",
      "ylabel(\"$P(k)$\")\n",
      "tight_layout()\n",
      "savefig(\"price-deg-dist.pdf\")\n",
      "savefig(\"price-deg-dist.png\")"
     ],
     "language": "python",
     "metadata": {},
     "outputs": [
      {
       "metadata": {},
       "output_type": "display_data",
       "png": "[encoded data removed]",
       "text": [
        "<matplotlib.figure.Figure at 0x7f7903f63f10>"
       ]
      }
     ],
     "prompt_number": 17
    },
    {
     "cell_type": "markdown",
     "metadata": {},
     "source": [
      "##Documentazione graph-tool\n",
      "\n",
      "* [Quick Start](https://graph-tool.skewed.de/static/doc/quickstart.html)\n",
      "* [Graph generators](https://graph-tool.skewed.de/static/doc/generation.html#graph_tool.generation.price_network)\n",
      "* [Topologia (diametro etc)](https://graph-tool.skewed.de/static/doc/topology.html)\n",
      "* [Statistica (gradi etc)](https://graph-tool.skewed.de/static/doc/stats.html)\n",
      "* [Draw e layouts](https://graph-tool.skewed.de/static/doc/draw.html#graph_tool.draw.arf_layout)\n",
      "* [Animazioni](http://graph-tool.skewed.de/static/doc/demos/animation.html)\n"
     ]
    },
    {
     "cell_type": "markdown",
     "metadata": {},
     "source": [
      "## Attacco e failure con modelli"
     ]
    },
    {
     "cell_type": "code",
     "collapsed": false,
     "input": [
      "def modelAttack(modello, steps):\n",
      "    if(modello == 'Erdos-Renyi'):\n",
      "        grafoFinal = networkx.erdos_renyi_graph(1500, 0.05)\n",
      "        gradoFinal = grafoFinal.degree().values()\n",
      "        #print grado\n",
      "        grafico = degreeDistributionLog(gradoFinal, 'Erdos-Renyi', '#4d4d4d')\n",
      "    if(modello == 'Barabasi-Abert'):\n",
      "        grafoFinal = networkx.barabasi_albert_graph(1500, 40)\n",
      "        gradoFinal = grafoFinal.degree().values()\n",
      "        #print grado \n",
      "        grafico = degreeDistributionLog(gradoFinal, 'Barabasi', '#ff3300')\n",
      "    if(modello == 'Watts-Strogatz'):\n",
      "        grafoFinal = networkx.watts_strogatz_graph(1500, 37, 1)\n",
      "        gradoFinal = grafoFinal.degree().values()\n",
      "        #print grado  \n",
      "        grafico = degreeDistributionLog(gradoFinal, 'Watts', '#47d147')\n",
      "    \n",
      "    graphSize = networkx.number_of_nodes(grafoFinal)\n",
      "    passo = networkx.number_of_nodes(grafoFinal)/float(steps)\n",
      "\n",
      "    i = 0\n",
      "    ascisse.append(i)\n",
      "    aziendaFinal.append(modello)\n",
      "    diametro.append(2)\n",
      "    relSizeGC.append(1)\n",
      "\n",
      "    \n",
      "    while (networkx.number_of_nodes(grafoFinal) > passo):\n",
      "        gradiFinal = pandas.DataFrame(grafoFinal.degree().items(), columns=['index', 'grado'])\n",
      "        gradiFinal.sort([\"grado\"], ascending=[False], inplace=True)\n",
      "        sortedIDnode = gradiFinal['index'].values\n",
      "\n",
      "        for identificativo in sortedIDnode:\n",
      "            if (networkx.number_of_nodes(grafoFinal) > len(sortedIDnode) - passo):\n",
      "                grafoFinal.remove_node(identificativo)\n",
      "\n",
      "        giantCluster = max(networkx.connected_component_subgraphs(grafoFinal), key = len)\n",
      "        \n",
      "        i += 100/steps\n",
      "        ascisse.append(i)\n",
      "        aziendaFinal.append(modello)\n",
      "\n",
      "        graphSize = networkx.number_of_nodes(grafoFinal)\n",
      "        diametro.append(networkx.diameter(giantCluster, e=None))\n",
      "        relSizeGC.append(networkx.number_of_nodes(giantCluster)/float(graphSize))\n",
      "        \n",
      "def modelFailure(modello, steps):\n",
      "    if(modello == 'Erdos-Renyi'):\n",
      "        grafoFinal = networkx.erdos_renyi_graph(1500, 0.05)\n",
      "        gradoFinal = grafoFinal.degree().values()\n",
      "        #print grado\n",
      "        grafico = degreeDistributionLog(gradoFinal, 'Erdos-Renyi', '#4d4d4d')\n",
      "    if(modello == 'Barabasi-Abert'):\n",
      "        grafoFinal = networkx.barabasi_albert_graph(1500, 40)\n",
      "        gradoFinal = grafoFinal.degree().values()\n",
      "        #print grado \n",
      "        grafico = degreeDistributionLog(gradoFinal, 'Barabasi', '#ff3300')\n",
      "    if(modello == 'Watts-Strogatz'):\n",
      "        grafoFinal = networkx.watts_strogatz_graph(1500, 37, 1)\n",
      "        gradoFinal = grafoFinal.degree().values()\n",
      "        #print grado  \n",
      "        grafico = degreeDistributionLog(gradoFinal, 'Watts', '#47d147')\n",
      "    \n",
      "\n",
      "    graphSize = networkx.number_of_nodes(grafoFinal)\n",
      "    passo = networkx.number_of_nodes(grafoFinal)/float(steps)\n",
      "\n",
      "    i = 0\n",
      "    ascisse.append(i)\n",
      "    aziendaFinal.append(modello)\n",
      "    diametro.append(2)\n",
      "    relSizeGC.append(1)\n",
      "\n",
      "    while (networkx.number_of_nodes(grafoFinal) > passo):\n",
      "        gradiFinal = pandas.DataFrame(grafoFinal.degree().items(), columns=['index', 'grado'])\n",
      "        randomante = gradiFinal['index'].values\n",
      "        randomante = numpy.random.permutation(randomante)\n",
      "\n",
      "        for identificativo in randomante:\n",
      "            if (networkx.number_of_nodes(grafoFinal) > len(randomante) - passo):\n",
      "                grafoFinal.remove_node(identificativo)\n",
      "\n",
      "        giantCluster = max(networkx.connected_component_subgraphs(grafoFinal), key = len)\n",
      "\n",
      "        i += 100/steps\n",
      "        ascisse.append(i)\n",
      "        aziendaFinal.append(modello)\n",
      "        \n",
      "        graphSize = networkx.number_of_nodes(grafoFinal)\n",
      "        diametro.append(networkx.diameter(giantCluster, e=None))\n",
      "        relSizeGC.append(networkx.number_of_nodes(giantCluster)/float(graphSize))"
     ],
     "language": "python",
     "metadata": {},
     "outputs": []
    },
    {
     "cell_type": "code",
     "collapsed": false,
     "input": [
      "#calcolo attacco con modelli\n",
      "\n",
      "diametro = []\n",
      "relSizeGC = []\n",
      "aziendaFinal = []\n",
      "ascisse = []\n",
      "\n",
      "pyplot.figure(figsize=(16,9))       \n",
      "modelAttack('Erdos-Renyi', 100)\n",
      "modelAttack('Watts-Strogatz', 100)\n",
      "modelAttack('Barabasi-Abert', 100)\n",
      "pyplot.legend()\n",
      "\n",
      "datiFinal = pandas.DataFrame()\n",
      "\n",
      "datiFinal['percent'] = ascisse\n",
      "datiFinal['Modello'] = aziendaFinal\n",
      "datiFinal['diam'] = diametro\n",
      "datiFinal['GC'] = relSizeGC\n",
      "datiFinal.to_csv(\"/home/protoss/Documenti/SistemiComplessi/data/Iuri/ModelAttackForSeaborn.csv\")\n",
      "datiFinal.head()"
     ],
     "language": "python",
     "metadata": {},
     "outputs": []
    },
    {
     "cell_type": "code",
     "collapsed": false,
     "input": [
      "#calcolo failure con modelli\n",
      "diametro = []\n",
      "relSizeGC = []\n",
      "aziendaFinal = []\n",
      "ascisse = []\n",
      "\n",
      "pyplot.figure(figsize=(16,9))       \n",
      "modelFailure('Watts-Strogatz', 100)\n",
      "modelFailure('Erdos-Renyi', 100)\n",
      "modelFailure('Barabasi-Abert', 100)\n",
      "pyplot.legend()\n",
      "\n",
      "datiFinal = pandas.DataFrame()\n",
      "\n",
      "datiFinal['percent'] = ascisse\n",
      "datiFinal['Modello'] = aziendaFinal\n",
      "datiFinal['diam'] = diametro\n",
      "datiFinal['GC'] = relSizeGC\n",
      "datiFinal.to_csv(\"/home/protoss/Documenti/SistemiComplessi/data/Iuri/ModelFailureForSeaborn.csv\")\n",
      "datiFinal.head()"
     ],
     "language": "python",
     "metadata": {},
     "outputs": []
    },
    {
     "cell_type": "markdown",
     "metadata": {},
     "source": [
      "## Faccio i grafici"
     ]
    },
    {
     "cell_type": "code",
     "collapsed": false,
     "input": [
      "#Attack\n",
      "import seaborn\n",
      "\n",
      "datiFinal = pandas.read_csv('/home/protoss/Documenti/SistemiComplessi/data/Iuri/AttackDataForSeaborn.csv')\n",
      "\n",
      "seaborn.set_context(\"notebook\", font_scale=1.1)\n",
      "seaborn.set_style(\"ticks\")\n",
      "\n",
      "#PLOTS\n",
      "seaborn.lmplot('percent', 'diam',\n",
      "           data=datiFinal,\n",
      "           fit_reg=False,\n",
      "           size = 7,\n",
      "           aspect = 1.7778,\n",
      "           hue='Modello',\n",
      "           scatter_kws={\"marker\": \"D\", \"s\": 100})\n",
      "pyplot.title('Attacco con i modelli di rete: diametro')\n",
      "pyplot.xlabel(\"%\")\n",
      "pyplot.ylabel(\"Valore\")\n",
      "pyplot.xlim(0, 100)\n",
      "pyplot.ylim(0, 1)\n",
      "pyplot.ylim(0,max(diametro)+2)\n",
      "pyplot.savefig('/home/protoss/Documenti/SistemiComplessi/img/iuri/AttackD_Model', format='eps', dpi=1000)\n",
      "\n",
      "seaborn.lmplot('percent', 'GC',\n",
      "           data=datiFinal,\n",
      "           fit_reg=False,\n",
      "           size = 7,\n",
      "           aspect = 1.7778,\n",
      "           hue='Modello',\n",
      "           scatter_kws={\"marker\": \"D\", \"s\": 100})\n",
      "pyplot.title('Attacco con i modelli di rete: dimensioni relative del GC')\n",
      "pyplot.xlabel(\"%\")\n",
      "pyplot.ylabel(\"Valore\")\n",
      "pyplot.xlim(0, 100)\n",
      "pyplot.ylim(0,1.1)\n",
      "pyplot.savefig('/home/protoss/Documenti/SistemiComplessi/img/iuri/AttackGC_Model', format='eps', dpi=1000)"
     ],
     "language": "python",
     "metadata": {},
     "outputs": []
    },
    {
     "cell_type": "code",
     "collapsed": false,
     "input": [
      "seaborn.set_context(\"notebook\", font_scale=1.1)\n",
      "seaborn.set_style(\"ticks\")\n",
      "\n",
      "\n",
      "seaborn.lmplot('percent', 'diam',\n",
      "           data=datiFinal,\n",
      "           fit_reg=False,\n",
      "           size = 7,\n",
      "           aspect = 1.7778,\n",
      "           hue='Modello',\n",
      "           scatter_kws={\"marker\": \"D\", \"s\": 100})\n",
      "pyplot.title('Random failure con i modelli di rete: diametro')\n",
      "pyplot.xlabel(\"%\")\n",
      "pyplot.ylabel(\"Valore\")\n",
      "pyplot.xlim(0, 100)\n",
      "#pyplot.ylim(0, 1)\n",
      "pyplot.ylim(0,max(diametro)+2)\n",
      "pyplot.savefig('/home/protoss/Documenti/SistemiComplessi/img/iuri/FailureD_Model', format='eps', dpi=1000)\n",
      "\n",
      "seaborn.lmplot('percent', 'GC',\n",
      "           data=datiFinal,\n",
      "           fit_reg=False,\n",
      "           size = 7,\n",
      "           aspect = 1.7778,\n",
      "           hue='Modello',\n",
      "           scatter_kws={\"marker\": \"D\", \"s\": 100})\n",
      "pyplot.title('Random failure con i modelli di rete: dimensioni relative del GC')\n",
      "pyplot.xlabel(\"%\")\n",
      "pyplot.ylabel(\"Valore\")\n",
      "pyplot.xlim(0, 100)\n",
      "pyplot.ylim(0,1.1)\n",
      "pyplot.savefig('/home/protoss/Documenti/SistemiComplessi/img/iuri/FailureGC_Model', format='eps', dpi=1000)"
     ],
     "language": "python",
     "metadata": {},
     "outputs": []
    }
   ],
   "metadata": {}
  }
 ]
}