{
 "metadata": {
  "name": "",
  "signature": "sha256:151ef97f09fcbadcdae8806743752ff54f36a25a07ea66018ba13a2cb215887c"
 },
 "nbformat": 3,
 "nbformat_minor": 0,
 "worksheets": [
  {
   "cells": [
    {
     "cell_type": "code",
     "collapsed": false,
     "input": [
      "from graph_tool.all import *\n",
      "import networkx\n",
      "import matplotlib\n",
      "from matplotlib import pyplot\n",
      "import numpy"
     ],
     "language": "python",
     "metadata": {},
     "outputs": [],
     "prompt_number": 1
    },
    {
     "cell_type": "code",
     "collapsed": false,
     "input": [
      "def degreeDistributionLog(gradi, azienda, colore):\n",
      "    distribuzioneRange = pyplot.hist(gradi, bins=max(gradi)-min(gradi), histtype='step', label=azienda, color=colore, linewidth=1.1)\n",
      "    pyplot.title('Degree distribution')\n",
      "    pyplot.xlabel(\"Degree\")\n",
      "    pyplot.ylabel(\"Frequency\")\n",
      "\n",
      "    pyplot.gca().set_xscale(\"log\")\n",
      "    pyplot.gca().set_yscale(\"log\")\n",
      "#    pyplot.ylim(1,100)\n",
      "\n",
      "#Costruzione grafo da matrice di adiacenza\n",
      "def conversione(grafo, adiacenza):\n",
      "    grafo.add_vertex(len(adiacenza))\n",
      "    num_vertices = adiacenza.shape[0]\n",
      "    for i in range(num_vertices - 1):\n",
      "        for j in range(i + 1, num_vertices):\n",
      "            if adiacenza[i,j] != 0:\n",
      "                e = grafo.add_edge(i, j)"
     ],
     "language": "python",
     "metadata": {},
     "outputs": [],
     "prompt_number": 2
    },
    {
     "cell_type": "code",
     "collapsed": false,
     "input": [
      "#esempio di creazione grafo\n",
      "grafo = Graph(directed=False)\n",
      "v1 = grafo.add_vertex()\n",
      "v2 = grafo.add_vertex()\n",
      "vlist = grafo.add_vertex(10)\n",
      "e = grafo.add_edge(v1, v2)\n",
      "f = grafo.add_edge(grafo.vertex(10), grafo.vertex(8))\n",
      "%matplotlib inline\n",
      "graph_draw(grafo, vertex_text=grafo.vertex_index, vertex_font_size=18,\n",
      "           output_size=(800, 800), output=\"two-nodes.png\")"
     ],
     "language": "python",
     "metadata": {},
     "outputs": [],
     "prompt_number": 28
    },
    {
     "cell_type": "code",
     "collapsed": false,
     "input": [
      "adiacenzaRoma = numpy.genfromtxt(\"/home/protoss/Documenti/Siscomp_datas/data/AdiacenzaEuclidea_Roma.csv\",delimiter=',',dtype='int')\n",
      "adiacenzaTim = numpy.genfromtxt(\"/home/protoss/Documenti/Siscomp_datas/data/AdiacenzaEuclidea_Tim.csv\",delimiter=',',dtype='int')\n",
      "adiacenzaVoda = numpy.genfromtxt(\"/home/protoss/Documenti/Siscomp_datas/data/AdiacenzaEuclidea_Vodafone.csv\",delimiter=',',dtype='int')\n",
      "adiacenzaWind = numpy.genfromtxt(\"/home/protoss/Documenti/Siscomp_datas/data/AdiacenzaEuclidea_Wind.csv\",delimiter=',',dtype='int')\n",
      "adiacenzaTre = numpy.genfromtxt(\"/home/protoss/Documenti/Siscomp_datas/data/AdiacenzaEuclidea_Tre.csv\",delimiter=',',dtype='int')"
     ],
     "language": "python",
     "metadata": {},
     "outputs": [],
     "prompt_number": 32
    },
    {
     "cell_type": "code",
     "collapsed": false,
     "input": [
      "graph_draw(g, vertex_text=g.vertex_index, vertex_font_size=18,\n",
      "           output_size=(800, 800), output=\"two-nodes.png\")\n"
     ],
     "language": "python",
     "metadata": {},
     "outputs": [
      {
       "metadata": {},
       "output_type": "pyout",
       "prompt_number": 36,
       "text": [
        "<PropertyMap object with key type 'Vertex' and value type 'vector<double>', for Graph 0x7fdd4ff99950, at 0x7fdd58395b10>"
       ]
      }
     ],
     "prompt_number": 36
    },
    {
     "cell_type": "code",
     "collapsed": false,
     "input": [
      "g = Graph(directed=False)\n",
      "%time conversione(g, adiacenzaTre)\n",
      "pos = graph_tool.draw.sfdp_layout(g)\n",
      "graph_draw(g, pos=pos, output_size=(2000, 2000), vertex_color=[1,1,1,0],\n",
      "           vertex_size=2, edge_pen_width=0.8,\n",
      "           vcmap=matplotlib.cm.gist_heat_r, output=\"provaTre.png\")\n"
     ],
     "language": "python",
     "metadata": {},
     "outputs": [
      {
       "output_type": "stream",
       "stream": "stdout",
       "text": [
        "CPU times: user 3.6 s, sys: 56 ms, total: 3.66 s\n",
        "Wall time: 3.59 s\n"
       ]
      },
      {
       "metadata": {},
       "output_type": "pyout",
       "prompt_number": 156,
       "text": [
        "<PropertyMap object with key type 'Vertex' and value type 'vector<double>', for Graph 0x7fdd1f1dd290, at 0x7fdd1ee8f3d0>"
       ]
      }
     ],
     "prompt_number": 156
    },
    {
     "cell_type": "code",
     "collapsed": false,
     "input": [
      "#    if(modello == 'Erdos-Renyi'):\n",
      "grafoErdos = networkx.erdos_renyi_graph(1000, 0.004)\n",
      "gradoErdos = grafoErdos.degree().values()\n",
      "adiacenzaErdos = networkx.to_numpy_matrix(grafoErdos)\n",
      "#adiacenzaErdos\n",
      "gToolGrafoErdos = graph_tool.Graph(directed = False)\n",
      "%time conversione(gToolGrafoErdos, adiacenzaErdos)\n",
      "\n",
      "pos = graph_tool.draw.arf_layout(gToolGrafoErdos)\n",
      "#pos = graph_tool.draw.radial_tree_layout(gToolGrafoErdos, gToolGrafoErdos.vertex(0))\n",
      "graph_draw(gToolGrafoErdos, pos = pos, output_size=(1000, 1000), \n",
      "           vertex_color=[1,1,1,0], vertex_size=4, edge_pen_width=1.2,\n",
      "           vcmap=matplotlib.cm.gist_heat_r, output=\"Erdosmodel.png\")"
     ],
     "language": "python",
     "metadata": {},
     "outputs": [
      {
       "output_type": "stream",
       "stream": "stdout",
       "text": [
        "CPU times: user 1.27 s, sys: 24 ms, total: 1.3 s\n",
        "Wall time: 1.29 s\n"
       ]
      },
      {
       "metadata": {},
       "output_type": "pyout",
       "prompt_number": 9,
       "text": [
        "<PropertyMap object with key type 'Vertex' and value type 'vector<double>', for Graph 0x7f563851a8d0, at 0x7f563851a710>"
       ]
      }
     ],
     "prompt_number": 9
    },
    {
     "cell_type": "code",
     "collapsed": false,
     "input": [
      "#    if(modello == 'Watts-Strogatz'):\n",
      "grafoWatts = networkx.watts_strogatz_graph(1000, 4, 0.6)\n",
      "gradoWatts = grafoWatts.degree().values()\n",
      "adiacenzaWatts = networkx.to_numpy_matrix(grafoWatts)\n",
      "#adiacenzaWatts\n",
      "print \"check\"\n",
      "gToolGrafoWatts = graph_tool.Graph(directed = False)\n",
      "print \"check\"\n",
      "%time conversione(gToolGrafoWatts, adiacenzaWatts)\n",
      "\n",
      "#pos = graph_tool.draw.radial_tree_layout(gToolGrafoWatts, gToolGrafoWatts.vertex(0))\n",
      "pos = graph_tool.draw.arf_layout(gToolGrafoWatts)\n",
      "#pos = graph_tool.draw.sfdp_layout(gToolGrafoWatts)\n",
      "graph_draw(gToolGrafoWatts, pos = pos, output_size=(1000, 1000),\n",
      "           vertex_color=[1,1,1,0], vertex_size=4, edge_pen_width=1.2,\n",
      "           vcmap=matplotlib.cm.gist_heat_r, output=\"Wattsmodel.png\")"
     ],
     "language": "python",
     "metadata": {},
     "outputs": [
      {
       "output_type": "stream",
       "stream": "stdout",
       "text": [
        "check\n",
        "check\n",
        "CPU times: user 1.31 s, sys: 48 ms, total: 1.36 s"
       ]
      },
      {
       "output_type": "stream",
       "stream": "stdout",
       "text": [
        "\n",
        "Wall time: 1.32 s\n"
       ]
      },
      {
       "metadata": {},
       "output_type": "pyout",
       "prompt_number": 4,
       "text": [
        "<PropertyMap object with key type 'Vertex' and value type 'vector<double>', for Graph 0x7f5638278ed0, at 0x7f5638278e90>"
       ]
      }
     ],
     "prompt_number": 4
    },
    {
     "cell_type": "code",
     "collapsed": false,
     "input": [
      "#    if(modello == 'Barabasi-Abert'):\n",
      "grafoBarabasi = networkx.barabasi_albert_graph(2000, 1)\n",
      "gradoBarabasi = grafoBarabasi.degree().values()\n",
      "adiacenzaBarabasi = networkx.to_numpy_matrix(grafoBarabasi)\n",
      "#adiacenzaBarabasi\n",
      "gToolGrafoBarabasi = graph_tool.Graph(directed = False)\n",
      "%time conversione(gToolGrafoBarabasi, adiacenzaBarabasi)\n",
      "\n",
      "pos = graph_tool.draw.sfdp_layout(gToolGrafoBarabasi)\n",
      "#pos = graph_tool.draw.radial_tree_layout(gToolGrafoBarabasi, gToolGrafoBarabasi.vertex(0))\n",
      "graph_draw(gToolGrafoBarabasi, pos = pos, output_size=(1000, 1000), \n",
      "           vertex_color=[1,1,1,0], vertex_size=4, edge_pen_width=1.2,\n",
      "           vcmap=matplotlib.cm.gist_heat_r, output=\"Barabasimodel.png\")"
     ],
     "language": "python",
     "metadata": {},
     "outputs": [
      {
       "output_type": "stream",
       "stream": "stdout",
       "text": [
        "CPU times: user 4.6 s, sys: 72 ms, total: 4.67 s\n",
        "Wall time: 4.59 s\n"
       ]
      },
      {
       "metadata": {},
       "output_type": "pyout",
       "prompt_number": 11,
       "text": [
        "<PropertyMap object with key type 'Vertex' and value type 'vector<double>', for Graph 0x7f5635d7d9d0, at 0x7f5635d7dbd0>"
       ]
      }
     ],
     "prompt_number": 11
    },
    {
     "cell_type": "code",
     "collapsed": false,
     "input": [
      "%matplotlib inline\n",
      "pyplot.figure(figsize=(16,9)) \n",
      "grafico = degreeDistributionLog(gradoErdos, 'Erdos-Renyi', '#4d4d4d')\n",
      "grafico = degreeDistributionLog(gradoWatts, 'Watts', '#47d147')\n",
      "grafico = degreeDistributionLog(gradoBarabasi, 'Barabasi', '#ff3300')\n",
      "pyplot.legend()"
     ],
     "language": "python",
     "metadata": {},
     "outputs": [
      {
       "metadata": {},
       "output_type": "pyout",
       "prompt_number": 13,
       "text": [
        "<matplotlib.legend.Legend at 0x7f5631bb1850>"
       ]
      },
      {
       "metadata": {},
       "output_type": "display_data",
       "png": "[encoded data removed]",
       "text": [
        "<matplotlib.figure.Figure at 0x7f5631c7e910>"
       ]
      }
     ],
     "prompt_number": 13
    },
    {
     "cell_type": "code",
     "collapsed": false,
     "input": [],
     "language": "python",
     "metadata": {},
     "outputs": []
    }
   ],
   "metadata": {}
  }
 ]
}