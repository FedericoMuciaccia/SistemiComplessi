{
 "metadata": {
  "name": "",
  "signature": "sha256:adc22d1687121bb65659ef0cb493fa4bcddd2ab6489395a0afdd5c0363de30ae"
 },
 "nbformat": 3,
 "nbformat_minor": 0,
 "worksheets": [
  {
   "cells": [
    {
     "cell_type": "markdown",
     "metadata": {},
     "source": [
      "#Attacco e failure con seaborn"
     ]
    },
    {
     "cell_type": "markdown",
     "metadata": {},
     "source": [
      "###Importo librerie e definisco funzioni fondamentali"
     ]
    },
    {
     "cell_type": "code",
     "collapsed": false,
     "input": [
      "from graph_tool.all import *\n",
      "import networkx\n",
      "import matplotlib\n",
      "from matplotlib import pyplot\n",
      "import numpy\n",
      "import pandas\n",
      "import math\n",
      "#import seaborn\n",
      "\n",
      "\n",
      "gestore = [\"Tim\", \"Vodafone\", \"Wind\", \"Tre\", \"Roma\"]\n",
      "colori = ['#4d4d4d','#004184','#ff3300','#ff8000','#018ECC']"
     ],
     "language": "python",
     "metadata": {},
     "outputs": [],
     "prompt_number": 1
    },
    {
     "cell_type": "code",
     "collapsed": false,
     "input": [
      "#Costruzione grafo con graph-tool da matrice di adiacenza\n",
      "def conversione(grafo, adiacenza):\n",
      "    grafo.add_vertex(len(adiacenza))\n",
      "    num_vertices = adiacenza.shape[0]\n",
      "    for i in range(num_vertices - 1):\n",
      "        for j in range(i + 1, num_vertices):\n",
      "            if adiacenza[i,j] != 0:\n",
      "                e = grafo.add_edge(i, j)\n",
      "                \n",
      "def costruzione(gestore):\n",
      "    grafo = graph_tool.Graph(directed = False)\n",
      "    adiacenza = numpy.genfromtxt(\"/home/protoss/Documenti/Siscomp_datas/data/AdiacenzaEuclidea_{0}.csv\".format(gestore),delimiter=',',dtype='int')\n",
      "    conversione(grafo, adiacenza)\n",
      "    grafo.save(\"GTool{0}.xml\".format(gestore))\n",
      "    #graph_tool.draw.graph_draw(grafoTre)"
     ],
     "language": "python",
     "metadata": {},
     "outputs": []
    },
    {
     "cell_type": "code",
     "collapsed": false,
     "input": [
      "#funzioni topologiche\n",
      "def averageLength(grafo):\n",
      "    istoLength = graph_tool.stats.distance_histogram(grafo)\n",
      "    istoLength[1] = numpy.delete(istoLength[1], len(istoLength[1])-1)\n",
      "    return numpy.average(istoLength[1], weights=istoLength[0])\n",
      "\n",
      "def diameter(grafo):\n",
      "    istoLength = graph_tool.stats.distance_histogram(grafo)\n",
      "    return len(istoLength[0])-1\n",
      "\n",
      "def clustering(grafo):\n",
      "    cluster = graph_tool.clustering.local_clustering(grafo)\n",
      "    array = numpy.array(cluster.a)\n",
      "    return numpy.average(array)\n",
      "\n",
      "def averageGrado(grafo):\n",
      "    kmedio = graph_tool.stats.vertex_average(grafo, \"total\")\n",
      "    return kmedio[0]\n",
      "\n",
      "def criterion(grafo):\n",
      "    kmedio = graph_tool.stats.vertex_average(grafo, \"total\")\n",
      "    kmedioQuadro = numpy.power(kmedio, 2)\n",
      "    criterion = (kmedioQuadro[0]+kmedioQuadro[1])/(kmedio[0])\n",
      "    return criterion\n",
      "\n",
      "def topologia(grafo):\n",
      "    d = diameter(grafo)\n",
      "    l = averageLength(grafo)\n",
      "    C = clustering(grafo)\n",
      "    k = averageGrado(grafo)\n",
      "    c = criterion(grafo)\n",
      "    return (d, l), C, (k, c)\n",
      "\n",
      "def gradonodo(identificativo):\n",
      "    vertice = grafoFinal.vertex(identificativo)\n",
      "    return vertice.out_degree()"
     ],
     "language": "python",
     "metadata": {},
     "outputs": [],
     "prompt_number": 26
    },
    {
     "cell_type": "code",
     "collapsed": false,
     "input": [
      "\n",
      "compagnia = \"Tre\"\n",
      "grafoFinal = load_graph(\"/home/protoss/Documenti/Siscomp_datas/data/GTool{0}.xml\".format(compagnia))\n",
      "graphSize = grafoFinal.num_vertices()\n",
      "indice = numpy.arange(graphSize)\n",
      "indice\n",
      "\n"
     ],
     "language": "python",
     "metadata": {},
     "outputs": [
      {
       "metadata": {},
       "output_type": "pyout",
       "prompt_number": 148,
       "text": [
        "array([   0,    1,    2, ..., 1392, 1393, 1394])"
       ]
      }
     ],
     "prompt_number": 148
    },
    {
     "cell_type": "code",
     "collapsed": false,
     "input": [
      "listaGradi = map(gradonodo, indice)"
     ],
     "language": "python",
     "metadata": {},
     "outputs": [],
     "prompt_number": 149
    },
    {
     "cell_type": "code",
     "collapsed": false,
     "input": [
      "passo = 13\n",
      "gradiFinal = pandas.DataFrame(listaGradi, columns=['grado'])\n",
      "gradiFinal = pandas.DataFrame.reset_index(gradiFinal)\n",
      "gradiFinal.sort([\"grado\"], ascending=[False], inplace=True)\n",
      "sortedIDnode = gradiFinal['index'].values\n",
      "#print sortedIDnode\n",
      "daRimuovere = numpy.take(sortedIDnode, range(passo))\n",
      "#gradiFinal"
     ],
     "language": "python",
     "metadata": {},
     "outputs": [],
     "prompt_number": 150
    },
    {
     "cell_type": "code",
     "collapsed": false,
     "input": [
      "daRimuovere\n",
      "#indice = numpy.arange(graphSize-passo)"
     ],
     "language": "python",
     "metadata": {},
     "outputs": [
      {
       "metadata": {},
       "output_type": "pyout",
       "prompt_number": 151,
       "text": [
        "array([ 106,  139, 1025,  643,  736,  281,  783,  280,  485,  642,  283,\n",
        "        354,  846])"
       ]
      }
     ],
     "prompt_number": 151
    },
    {
     "cell_type": "code",
     "collapsed": false,
     "input": [
      "\n",
      "#indiciRimossi = gradiFinal.drop(daRimuovere)\n",
      "#indice = []\n",
      "#indice = indiciRimossi['index'].values\n",
      "grafoFinal.remove_vertex(daRimuovere)\n",
      "grafoFinal.num_vertices()\n"
     ],
     "language": "python",
     "metadata": {},
     "outputs": [
      {
       "metadata": {},
       "output_type": "pyout",
       "prompt_number": 152,
       "text": [
        "1382"
       ]
      }
     ],
     "prompt_number": 152
    },
    {
     "cell_type": "code",
     "collapsed": false,
     "input": [
      "giantCluster = graph_tool.topology.label_largest_component(grafoFinal)\n",
      "giantCluster = graph_tool.GraphView(grafoFinal, vfilt=giantCluster)\n",
      "giantCluster"
     ],
     "language": "python",
     "metadata": {},
     "outputs": [
      {
       "metadata": {},
       "output_type": "pyout",
       "prompt_number": 153,
       "text": [
        "<GraphView object, undirected, with 1371 vertices and 18306 edges, edges filtered by (<PropertyMap object with key type 'Edge' and value type 'bool', for Graph 0x7f116511a610, at 0x7f116511af90>, False), vertices filtered by (<PropertyMap object with key type 'Vertex' and value type 'bool', for Graph 0x7f116511a610, at 0x7f116511a6d0>, False) at 0x7f116511a610>"
       ]
      }
     ],
     "prompt_number": 153
    },
    {
     "cell_type": "code",
     "collapsed": false,
     "input": [
      "grafoFinal = Graph(giantCluster, prune = True)\n",
      "grafoFinal"
     ],
     "language": "python",
     "metadata": {},
     "outputs": [
      {
       "metadata": {},
       "output_type": "pyout",
       "prompt_number": 154,
       "text": [
        "<Graph object, undirected, with 1371 vertices and 18306 edges at 0x7f116517f9d0>"
       ]
      }
     ],
     "prompt_number": 154
    },
    {
     "cell_type": "code",
     "collapsed": false,
     "input": [
      "indice = numpy.arange(grafoFinal.num_vertices())\n",
      "len(indice)"
     ],
     "language": "python",
     "metadata": {},
     "outputs": [
      {
       "metadata": {},
       "output_type": "pyout",
       "prompt_number": 155,
       "text": [
        "1371"
       ]
      }
     ],
     "prompt_number": 155
    },
    {
     "cell_type": "code",
     "collapsed": false,
     "input": [
      "listaGradi = map(gradonodo, indice)\n",
      "len(listaGradi)"
     ],
     "language": "python",
     "metadata": {},
     "outputs": [
      {
       "metadata": {},
       "output_type": "pyout",
       "prompt_number": 156,
       "text": [
        "1371"
       ]
      }
     ],
     "prompt_number": 156
    },
    {
     "cell_type": "markdown",
     "metadata": {},
     "source": [
      "### Cicli input/output gafi"
     ]
    },
    {
     "cell_type": "code",
     "collapsed": false,
     "input": [
      "#NON ESEGUIRE, reti gi\u00e0 costruite\n",
      "for compagnia in gestore:\n",
      "    %time costruzione(compagnia)"
     ],
     "language": "python",
     "metadata": {},
     "outputs": []
    },
    {
     "cell_type": "code",
     "collapsed": false,
     "input": [
      "# caricamento rete e studio topologico iniziale\n",
      "for compagnia in gestore:\n",
      "    print compagnia\n",
      "    grafo = load_graph(\"/home/protoss/Documenti/Siscomp_datas/data/GTool{0}.xml\".format(gestore))\n",
      "    topo = %time topologia(grafo)\n",
      "    print topo, \"\\n\""
     ],
     "language": "python",
     "metadata": {},
     "outputs": [
      {
       "output_type": "stream",
       "stream": "stdout",
       "text": [
        "Tim\n",
        "CPU times: user 6.03 s, sys: 28 ms, total: 6.06 s"
       ]
      },
      {
       "output_type": "stream",
       "stream": "stdout",
       "text": [
        "\n",
        "Wall time: 901 ms\n",
        "((2, 1.9633666257812044), 0.89480230607780475, (64.29157175398633, 64.459252188133064)) \n",
        "\n",
        "Vodafone\n",
        "CPU times: user 5 s, sys: 24 ms, total: 5.02 s"
       ]
      },
      {
       "output_type": "stream",
       "stream": "stdout",
       "text": [
        "\n",
        "Wall time: 711 ms\n",
        "((2, 1.970121894808704), 0.87220713550074869, (52.88424618859401, 52.991738574635264)) \n",
        "\n",
        "Wind\n",
        "CPU times: user 16.4 s, sys: 252 ms, total: 16.6 s"
       ]
      },
      {
       "output_type": "stream",
       "stream": "stdout",
       "text": [
        "\n",
        "Wall time: 2.36 s\n",
        "((2, 1.9588213620087072), 0.88791306537820769, (97.34630021141649, 97.507144547264943)) \n",
        "\n",
        "Tre\n",
        "CPU times: user 2.62 s, sys: 24 ms, total: 2.65 s"
       ]
      },
      {
       "output_type": "stream",
       "stream": "stdout",
       "text": [
        "\n",
        "Wall time: 380 ms\n",
        "((2, 1.970320318003939), 0.88024456202685419, (41.37347670250896, 41.515444558693623)) \n",
        "\n",
        "Roma\n",
        "CPU times: user 8min 22s, sys: 3.25 s, total: 8min 25s"
       ]
      },
      {
       "output_type": "stream",
       "stream": "stdout",
       "text": [
        "\n",
        "Wall time: 1min 8s\n",
        "((2, 1.9671778707440641), 0.88916666574280956, (239.14203375874845, 239.29491163562992)) \n",
        "\n"
       ]
      }
     ],
     "prompt_number": 5
    },
    {
     "cell_type": "markdown",
     "metadata": {},
     "source": [
      "# Simulazione attacco, andamento grandezze topologiche in funzione dei nodi rimossi"
     ]
    },
    {
     "cell_type": "code",
     "collapsed": false,
     "input": [
      "#PERCENT ATTACK!!\n",
      "def attackPercent(compagnia, steps):\n",
      "    grafoFinal = load_graph(\"/home/protoss/Documenti/Siscomp_datas/data/GTool{0}.xml\".format(compagnia))\n",
      "\n",
      "    graphSize = grafoFinal.num_vertices()\n",
      "    passo = graphSize/steps\n",
      "\n",
      "    i = 0\n",
      "    ascisse.append(i)\n",
      "    aziendaFinal.append(compagnia)\n",
      "\n",
      "    diametro.append(diameter(grafoFinal))\n",
      "    cammino.append(averageLength(grafoFinal))\n",
      "    cluster.append(clustering(grafoFinal))\n",
      "    gradomedio.append(averageGrado(grafoFinal))\n",
      "    criterio.append(criterion(grafoFinal))\n",
      "    relSizeGC.append(1)\n",
      "    indice = numpy.arange(graphSize)\n",
      "    listaGradi = map(gradonodo, indice)\n",
      "    \n",
      "    while (grafoFinal.num_vertices() > passo):    \n",
      "        gradiFinal = pandas.DataFrame(listaGradi, columns=['grado'])\n",
      "        gradiFinal = pandas.DataFrame.reset_index(gradiFinal)\n",
      "        gradiFinal.sort([\"grado\"], ascending=[False], inplace=True)\n",
      "        sortedIDnode = gradiFinal['index'].values\n",
      "\n",
      "        daRimuovere = numpy.take(sortedIDnode, range(passo))\n",
      "        grafoFinal.remove_vertex(daRimuovere)\n",
      "\n",
      "        giantCluster = graph_tool.topology.label_largest_component(grafoFinal)\n",
      "        giantCluster = graph_tool.GraphView(grafoFinal, vfilt=giantCluster)\n",
      "        \n",
      "        graphSize = graphSize-passo\n",
      "        i += 100/steps\n",
      "        ascisse.append(i)\n",
      "        aziendaFinal.append(compagnia)\n",
      "        diametro.append(diameter(grafoFinal))\n",
      "        cammino.append(averageLength(grafoFinal))\n",
      "        cluster.append(clustering(grafoFinal))\n",
      "        gradomedio.append(averageGrado(grafoFinal))\n",
      "        criterio.append(criterion(grafoFinal))\n",
      "        relSizeGC.append((giantCluster.num_vertices())/(float(graphSize)))\n",
      "        \n",
      "        grafoFinal = Graph(giantCluster, prune = True)\n",
      "        indice = numpy.arange(grafoFinal.num_vertices())\n",
      "        listaGradi = map(gradonodo, indice)\n",
      "\n",
      "#PERCENT FAILURE!!\n",
      "def failurePercent(compagnia, steps):\n",
      "    grafoFinal = load_graph(\"/home/protoss/Documenti/Siscomp_datas/data/GTool{0}.xml\".format(compagnia))\n",
      "\n",
      "    graphSize = grafoFinal.num_vertices()\n",
      "    passo = graphSize/steps\n",
      "\n",
      "    i = 0\n",
      "    ascisse.append(i)\n",
      "    aziendaFinal.append(compagnia)\n",
      "\n",
      "    diametro.append(diameter(grafoFinal))\n",
      "    cammino.append(averageLength(grafoFinal))\n",
      "    cluster.append(clustering(grafoFinal))\n",
      "    gradomedio.append(averageGrado(grafoFinal))\n",
      "    criterio.append(criterion(grafoFinal))\n",
      "    relSizeGC.append(1)\n",
      "    indice = numpy.arange(graphSize)\n",
      "    listaGradi = map(gradonodo, indice)\n",
      "    \n",
      "    while (grafoFinal.num_vertices() > passo):\n",
      "        gradiFinal = pandas.DataFrame(listaGradi, columns=['grado'])\n",
      "        gradiFinal = pandas.DataFrame.reset_index(gradiFinal)\n",
      "        randomante = gradiFinal['index'].values\n",
      "        randomante = numpy.random.permutation(randomante)\n",
      "\n",
      "        daRimuovere = numpy.take(randomante, range(passo))\n",
      "        grafoFinal.remove_vertex(daRimuovere)\n",
      "\n",
      "        giantCluster = graph_tool.topology.label_largest_component(grafoFinal)\n",
      "        giantCluster = graph_tool.GraphView(grafoFinal, vfilt=giantCluster)\n",
      "        \n",
      "        graphSize = graphSize-passo\n",
      "        i += 100/steps\n",
      "        ascisse.append(i)\n",
      "        aziendaFinal.append(compagnia)\n",
      "        diametro.append(diameter(grafoFinal))\n",
      "        cammino.append(averageLength(grafoFinal))\n",
      "        cluster.append(clustering(grafoFinal))\n",
      "        gradomedio.append(averageGrado(grafoFinal))\n",
      "        criterio.append(criterion(grafoFinal))\n",
      "        relSizeGC.append((giantCluster.num_vertices())/(float(graphSize)))\n",
      "        \n",
      "        grafoFinal = Graph(giantCluster, prune = True)\n",
      "        print grafoFinal\n",
      "        indice = numpy.arange(grafoFinal.num_vertices())\n",
      "        print len(indice)\n",
      "        listaGradi = map(gradonodo, indice)"
     ],
     "language": "python",
     "metadata": {},
     "outputs": [],
     "prompt_number": 161
    },
    {
     "cell_type": "code",
     "collapsed": false,
     "input": [
      "#gestore = [\"Tim\", \"Vodafone\", \"Wind\", \"Tre\", \"Roma\"]\n",
      "#gestore = [\"Tim\", \"Vodafone\", \"Wind\", \"Tre\"]\n",
      "gestore = \"Tre\"\n",
      "#gestore = \"Roma\"\n",
      "indice = []\n",
      "diametro = []\n",
      "cammino = []\n",
      "cluster = []\n",
      "gradomedio = []\n",
      "criterio = []\n",
      "relSizeGC = []\n",
      "\n",
      "aziendaFinal = []\n",
      "ascisse = []\n",
      "\n",
      "#for compagnia in gestore:\n",
      "#    %time attackPercent(compagnia, 10)\n",
      "\n",
      "attackPercent(gestore, 10)\n",
      "\n",
      "datiFinal = pandas.DataFrame()\n",
      "datiFinal['percent'] = ascisse\n",
      "\n",
      "datiFinal['provider'] = aziendaFinal\n",
      "datiFinal['diameter'] = diametro\n",
      "datiFinal['average path length'] = cammino\n",
      "datiFinal['clustering'] = cluster\n",
      "datiFinal['average degree'] = gradomedio\n",
      "datiFinal['soglia percolativa'] = criterio\n",
      "\n",
      "datiFinal['GCsize'] = relSizeGC\n",
      "datiFinal.to_csv(\"/home/protoss/Documenti/SistemiComplessi/data/Iuri/GtoolAttackDataForSeaborn.csv\")\n",
      "datiFinal"
     ],
     "language": "python",
     "metadata": {},
     "outputs": [
      {
       "ename": "ValueError",
       "evalue": "Invalid vertex index: 1371",
       "output_type": "pyerr",
       "traceback": [
        "\u001b[0;31m---------------------------------------------------------------------------\u001b[0m\n\u001b[0;31mValueError\u001b[0m                                Traceback (most recent call last)",
        "\u001b[0;32m<ipython-input-163-793d542ed804>\u001b[0m in \u001b[0;36m<module>\u001b[0;34m()\u001b[0m\n\u001b[1;32m     17\u001b[0m \u001b[0;31m#    %time attackPercent(compagnia, 10)\u001b[0m\u001b[0;34m\u001b[0m\u001b[0;34m\u001b[0m\u001b[0m\n\u001b[1;32m     18\u001b[0m \u001b[0;34m\u001b[0m\u001b[0m\n\u001b[0;32m---> 19\u001b[0;31m \u001b[0mattackPercent\u001b[0m\u001b[0;34m(\u001b[0m\u001b[0mgestore\u001b[0m\u001b[0;34m,\u001b[0m \u001b[0;36m10\u001b[0m\u001b[0;34m)\u001b[0m\u001b[0;34m\u001b[0m\u001b[0m\n\u001b[0m\u001b[1;32m     20\u001b[0m \u001b[0;34m\u001b[0m\u001b[0m\n\u001b[1;32m     21\u001b[0m \u001b[0mdatiFinal\u001b[0m \u001b[0;34m=\u001b[0m \u001b[0mpandas\u001b[0m\u001b[0;34m.\u001b[0m\u001b[0mDataFrame\u001b[0m\u001b[0;34m(\u001b[0m\u001b[0;34m)\u001b[0m\u001b[0;34m\u001b[0m\u001b[0m\n",
        "\u001b[0;32m<ipython-input-161-dbaec280f1f5>\u001b[0m in \u001b[0;36mattackPercent\u001b[0;34m(compagnia, steps)\u001b[0m\n\u001b[1;32m     17\u001b[0m     \u001b[0mrelSizeGC\u001b[0m\u001b[0;34m.\u001b[0m\u001b[0mappend\u001b[0m\u001b[0;34m(\u001b[0m\u001b[0;36m1\u001b[0m\u001b[0;34m)\u001b[0m\u001b[0;34m\u001b[0m\u001b[0m\n\u001b[1;32m     18\u001b[0m     \u001b[0mindice\u001b[0m \u001b[0;34m=\u001b[0m \u001b[0mnumpy\u001b[0m\u001b[0;34m.\u001b[0m\u001b[0marange\u001b[0m\u001b[0;34m(\u001b[0m\u001b[0mgraphSize\u001b[0m\u001b[0;34m)\u001b[0m\u001b[0;34m\u001b[0m\u001b[0m\n\u001b[0;32m---> 19\u001b[0;31m     \u001b[0mlistaGradi\u001b[0m \u001b[0;34m=\u001b[0m \u001b[0mmap\u001b[0m\u001b[0;34m(\u001b[0m\u001b[0mgradonodo\u001b[0m\u001b[0;34m,\u001b[0m \u001b[0mindice\u001b[0m\u001b[0;34m)\u001b[0m\u001b[0;34m\u001b[0m\u001b[0m\n\u001b[0m\u001b[1;32m     20\u001b[0m \u001b[0;34m\u001b[0m\u001b[0m\n\u001b[1;32m     21\u001b[0m     \u001b[0;32mwhile\u001b[0m \u001b[0;34m(\u001b[0m\u001b[0mgrafoFinal\u001b[0m\u001b[0;34m.\u001b[0m\u001b[0mnum_vertices\u001b[0m\u001b[0;34m(\u001b[0m\u001b[0;34m)\u001b[0m \u001b[0;34m>\u001b[0m \u001b[0mpasso\u001b[0m\u001b[0;34m)\u001b[0m\u001b[0;34m:\u001b[0m\u001b[0;34m\u001b[0m\u001b[0m\n",
        "\u001b[0;32m<ipython-input-26-b2892386a32d>\u001b[0m in \u001b[0;36mgradonodo\u001b[0;34m(identificativo)\u001b[0m\n\u001b[1;32m     33\u001b[0m \u001b[0;34m\u001b[0m\u001b[0m\n\u001b[1;32m     34\u001b[0m \u001b[0;32mdef\u001b[0m \u001b[0mgradonodo\u001b[0m\u001b[0;34m(\u001b[0m\u001b[0midentificativo\u001b[0m\u001b[0;34m)\u001b[0m\u001b[0;34m:\u001b[0m\u001b[0;34m\u001b[0m\u001b[0m\n\u001b[0;32m---> 35\u001b[0;31m     \u001b[0mvertice\u001b[0m \u001b[0;34m=\u001b[0m \u001b[0mgrafoFinal\u001b[0m\u001b[0;34m.\u001b[0m\u001b[0mvertex\u001b[0m\u001b[0;34m(\u001b[0m\u001b[0midentificativo\u001b[0m\u001b[0;34m)\u001b[0m\u001b[0;34m\u001b[0m\u001b[0m\n\u001b[0m\u001b[1;32m     36\u001b[0m     \u001b[0;32mreturn\u001b[0m \u001b[0mvertice\u001b[0m\u001b[0;34m.\u001b[0m\u001b[0mout_degree\u001b[0m\u001b[0;34m(\u001b[0m\u001b[0;34m)\u001b[0m\u001b[0;34m\u001b[0m\u001b[0m\n",
        "\u001b[0;32m/usr/lib/python2.7/dist-packages/graph_tool/__init__.pyc\u001b[0m in \u001b[0;36mvertex\u001b[0;34m(self, i, use_index, add_missing)\u001b[0m\n\u001b[1;32m   1779\u001b[0m                 \u001b[0mself\u001b[0m\u001b[0;34m.\u001b[0m\u001b[0madd_vertex\u001b[0m\u001b[0;34m(\u001b[0m\u001b[0mint\u001b[0m\u001b[0;34m(\u001b[0m\u001b[0mi\u001b[0m\u001b[0;34m)\u001b[0m \u001b[0;34m-\u001b[0m \u001b[0mself\u001b[0m\u001b[0;34m.\u001b[0m\u001b[0mnum_vertices\u001b[0m\u001b[0;34m(\u001b[0m\u001b[0muse_index\u001b[0m\u001b[0;34m)\u001b[0m \u001b[0;34m+\u001b[0m \u001b[0;36m1\u001b[0m\u001b[0;34m)\u001b[0m\u001b[0;34m\u001b[0m\u001b[0m\n\u001b[1;32m   1780\u001b[0m                 \u001b[0;32mreturn\u001b[0m \u001b[0mself\u001b[0m\u001b[0;34m.\u001b[0m\u001b[0mvertex\u001b[0m\u001b[0;34m(\u001b[0m\u001b[0mint\u001b[0m\u001b[0;34m(\u001b[0m\u001b[0mi\u001b[0m\u001b[0;34m)\u001b[0m\u001b[0;34m,\u001b[0m \u001b[0muse_index\u001b[0m\u001b[0;34m)\u001b[0m\u001b[0;34m\u001b[0m\u001b[0m\n\u001b[0;32m-> 1781\u001b[0;31m             \u001b[0;32mraise\u001b[0m \u001b[0mValueError\u001b[0m\u001b[0;34m(\u001b[0m\u001b[0;34m\"Invalid vertex index: %d\"\u001b[0m \u001b[0;34m%\u001b[0m \u001b[0mint\u001b[0m\u001b[0;34m(\u001b[0m\u001b[0mi\u001b[0m\u001b[0;34m)\u001b[0m\u001b[0;34m)\u001b[0m\u001b[0;34m\u001b[0m\u001b[0m\n\u001b[0m\u001b[1;32m   1782\u001b[0m         \u001b[0;32mreturn\u001b[0m \u001b[0mv\u001b[0m\u001b[0;34m\u001b[0m\u001b[0m\n\u001b[1;32m   1783\u001b[0m \u001b[0;34m\u001b[0m\u001b[0m\n",
        "\u001b[0;31mValueError\u001b[0m: Invalid vertex index: 1371"
       ]
      }
     ],
     "prompt_number": 163
    },
    {
     "cell_type": "code",
     "collapsed": false,
     "input": [
      "gestore = [\"Tim\", \"Vodafone\", \"Wind\", \"Tre\", \"Roma\"]\n",
      "#gestore = \"Roma\"\n",
      "diametro = []\n",
      "cammino = []\n",
      "cluster = []\n",
      "gradomedio = []\n",
      "criterio = []\n",
      "relSizeGC = []\n",
      "\n",
      "aziendaFinal = []\n",
      "ascisse = []\n",
      "\n",
      "for compagnia in gestore:\n",
      "    %time failurePercent(compagnia, 100)\n",
      "\n",
      "#attackPercent(gestore, 50)\n",
      "\n",
      "datiFinal = pandas.DataFrame()\n",
      "datiFinal['percent'] = ascisse\n",
      "\n",
      "datiFinal['provider'] = aziendaFinal\n",
      "datiFinal['diameter'] = diametro\n",
      "datiFinal['average path length'] = cammino\n",
      "datiFinal['clustering'] = cluster\n",
      "datiFinal['average degree'] = gradomedio\n",
      "datiFinal['soglia percolativa'] = criterio\n",
      "\n",
      "datiFinal['GCsize'] = relSizeGC\n",
      "datiFinal.to_csv(\"/home/protoss/Documenti/SistemiComplessi/data/Iuri/GtoolFailureDataForSeaborn.csv\")\n",
      "datiFinal"
     ],
     "language": "python",
     "metadata": {},
     "outputs": []
    },
    {
     "cell_type": "code",
     "collapsed": false,
     "input": [
      "#gestore = [\"Tim\", \"Vodafone\", \"Wind\", \"Tre\", \"Roma\"]\n",
      "compagnia = \"Tre\"\n",
      "steps = 100\n",
      "\n",
      "diametro = []\n",
      "cammino = []\n",
      "cluster = []\n",
      "gradomedio = []\n",
      "criterio = []\n",
      "relSizeGC = []\n",
      "\n",
      "aziendaFinal = []\n",
      "ascisse = []\n",
      "\n",
      "grafoFinal = load_graph(\"/home/protoss/Documenti/Siscomp_datas/data/GTool{0}.xml\".format(compagnia))\n",
      "\n",
      "graphSize = grafoFinal.num_vertices()\n",
      "passo = graphSize/steps\n",
      "\n",
      "i = 0\n",
      "ascisse.append(i)\n",
      "aziendaFinal.append(compagnia)\n",
      "\n",
      "diametro.append(diameter(grafoFinal))\n",
      "cammino.append(averageLength(grafoFinal))\n",
      "cluster.append(clustering(grafoFinal))\n",
      "gradomedio.append(averageGrado(grafoFinal))\n",
      "criterio.append(criterion(grafoFinal))\n",
      "relSizeGC.append(1)\n",
      "indice = numpy.arange(graphSize)\n",
      "\n",
      "while (grafoFinal.num_vertices() > passo):\n",
      "\n",
      "    listaGradi = map(gradonodo, indice)\n",
      "\n",
      "    gradiFinal = pandas.DataFrame(listaGradi, columns=['grado'])\n",
      "    gradiFinal = pandas.DataFrame.reset_index(gradiFinal)\n",
      "    gradiFinal.sort([\"grado\"], ascending=[False], inplace=True)\n",
      "    sortedIDnode = gradiFinal['index'].values\n",
      "    daRimuovere = numpy.take(sortedIDnode, range(passo))\n",
      "    grafoFinal.remove_vertex(daRimuovere)\n",
      "    \n",
      "    giantCluster = graph_tool.topology.label_largest_component(grafoFinal)\n",
      "    giantCluster = graph_tool.GraphView(grafoFinal, vfilt=giantCluster)\n",
      "\n",
      "    grafoFinal = Graph(giantCluster, prune = True)\n",
      "    graphSize = grafoFinal.num_vertices()\n",
      "    indice = numpy.arange(graphSize)\n",
      "    \n",
      "    i += 100/steps\n",
      "    ascisse.append(i)\n",
      "    aziendaFinal.append(compagnia)\n",
      "    \n",
      "    diametro.append(diameter(grafoFinal))\n",
      "    cammino.append(averageLength(grafoFinal))\n",
      "    cluster.append(clustering(grafoFinal))\n",
      "    gradomedio.append(averageGrado(grafoFinal))\n",
      "    criterio.append(criterion(grafoFinal))\n",
      "    relSizeGC.append((giantCluster.num_vertices())/(float(graphSize)))\n",
      "    "
     ],
     "language": "python",
     "metadata": {},
     "outputs": [],
     "prompt_number": 90
    },
    {
     "cell_type": "code",
     "collapsed": false,
     "input": [],
     "language": "python",
     "metadata": {},
     "outputs": []
    }
   ],
   "metadata": {}
  }
 ]
}