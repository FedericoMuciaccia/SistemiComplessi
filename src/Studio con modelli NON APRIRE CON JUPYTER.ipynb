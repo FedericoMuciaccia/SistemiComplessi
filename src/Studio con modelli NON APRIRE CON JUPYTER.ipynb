{
 "metadata": {
  "name": "",
  "signature": "sha256:7bde3e9343a238a4512f9baebdbe91503e58a6d1427feb3ccb7d82d01dd78a69"
 },
 "nbformat": 3,
 "nbformat_minor": 0,
 "worksheets": [
  {
   "cells": [
    {
     "cell_type": "code",
     "collapsed": false,
     "input": [
      "from graph_tool.all import *\n",
      "import networkx\n",
      "import matplotlib\n",
      "from matplotlib import pyplot\n",
      "import numpy\n",
      "import pandas\n",
      "import math"
     ],
     "language": "python",
     "metadata": {},
     "outputs": [],
     "prompt_number": 2
    },
    {
     "cell_type": "markdown",
     "metadata": {},
     "source": [
      "### Definisco alcune funzioni utili"
     ]
    },
    {
     "cell_type": "code",
     "collapsed": false,
     "input": [
      "\n",
      "def degreeDistributionLog(gradi, azienda, colore):\n",
      "    distribuzioneRange = pyplot.hist(gradi, bins=max(gradi)-min(gradi), histtype='step', label=azienda, \n",
      "                                     color=colore, alpha= 0.7, linewidth=3)\n",
      "    pyplot.title('Comparazione distribuzioni del grado')\n",
      "    pyplot.xlabel(\"Grado\")\n",
      "    pyplot.ylabel(\"Frequenza\")\n",
      "\n",
      "    pyplot.gca().set_xscale(\"log\")\n",
      "    pyplot.gca().set_yscale(\"log\")\n",
      "#    pyplot.ylim(1,100)\n",
      "\n",
      "#Costruzione grafo con graph-tool da matrice di adiacenza\n",
      "def conversione(grafo, adiacenza):\n",
      "    grafo.add_vertex(len(adiacenza))\n",
      "    num_vertices = adiacenza.shape[0]\n",
      "    for i in range(num_vertices - 1):\n",
      "        for j in range(i + 1, num_vertices):\n",
      "            if adiacenza[i,j] != 0:\n",
      "                e = grafo.add_edge(i, j)"
     ],
     "language": "python",
     "metadata": {},
     "outputs": [],
     "prompt_number": 3
    },
    {
     "cell_type": "code",
     "collapsed": false,
     "input": [
      "#funzioni topologiche\n",
      "def averageLength(grafo):\n",
      "    istoLength = graph_tool.stats.distance_histogram(grafo)\n",
      "    istoLength[1] = numpy.delete(istoLength[1], len(istoLength[1])-1)\n",
      "    return numpy.average(istoLength[1], weights=istoLength[0])\n",
      "\n",
      "def diameter(grafo):\n",
      "    istoLength = graph_tool.stats.distance_histogram(grafo)\n",
      "    return len(istoLength[0])-1\n",
      "\n",
      "def clustering(grafo):\n",
      "    cluster = graph_tool.clustering.local_clustering(grafo)\n",
      "    array = numpy.array(cluster.a)\n",
      "    return numpy.average(array)"
     ],
     "language": "python",
     "metadata": {},
     "outputs": [],
     "prompt_number": 7
    },
    {
     "cell_type": "code",
     "collapsed": false,
     "input": [
      "def topologia(grafo, tipo):\n",
      "    \n",
      "    def gradonodo(identificativo):\n",
      "        vertice = grafo.vertex(identificativo)\n",
      "        return vertice.out_degree()\n",
      "\n",
      "    def kmedio(listadeg):\n",
      "        return numpy.mean(listadeg)\n",
      "    \n",
      "    def kquadromedio(listadeg):\n",
      "        listadegQuadri = numpy.power(listadeg, 2)\n",
      "        return numpy.mean(listadegQuadri)\n",
      "    \n",
      "    def freqCritica(criterion):\n",
      "        return 1-(1/float(criterion-1))\n",
      "    \n",
      "    graphSize = grafo.num_vertices()\n",
      "    giantCluster = graph_tool.topology.label_largest_component(grafo)\n",
      "    giantCluster = graph_tool.GraphView(grafo, vfilt=giantCluster)\n",
      "    \n",
      "    azienda.append(compagnia)\n",
      "    diametro.append(diameter(grafo))\n",
      "    cammino.append(averageLength(grafo))\n",
      "    cluster.append(clustering(grafo))\n",
      "    relSizeGC.append((giantCluster.num_vertices())/(float(graphSize)))\n",
      "\n",
      "    indice = numpy.arange(grafo.num_vertices())\n",
      "    listaGradi = map(gradonodo, indice)\n",
      "        \n",
      "    gradomedio.append(kmedio(listaGradi))\n",
      "    criterion = kquadromedio(listaGradi)/float(kmedio(listaGradi))\n",
      "    criterio.append(criterion)\n",
      "    fcritica.append(freqCritica(criterion))"
     ],
     "language": "python",
     "metadata": {},
     "outputs": [],
     "prompt_number": 8
    },
    {
     "cell_type": "markdown",
     "metadata": {},
     "source": [
      "### Traccio i grafi delle reti in esame con graph-tool"
     ]
    },
    {
     "cell_type": "code",
     "collapsed": false,
     "input": [
      "\n",
      "gestore = [\"Tim\", \"Vodafone\", \"Wind\", \"Tre\"]\n",
      "for compagnia in gestore:\n",
      "    grafoFinal = load_graph(\"/home/protoss/Documenti/Siscomp_datas/data/GTool{0}.xml\".format(compagnia))\n",
      "\n",
      "    pos = graph_tool.draw.sfdp_layout(grafoFinal)\n",
      "    graph_draw(grafoFinal, pos=pos, output_size=(2000, 2000), vertex_color=[1,1,1,0],\n",
      "               vertex_size=3, edge_pen_width=0.8,\n",
      "               vcmap=matplotlib.cm.gist_heat_r, \n",
      "               output=\"prova{0}.png\".format(compagnia)\n",
      "               )"
     ],
     "language": "python",
     "metadata": {},
     "outputs": [],
     "prompt_number": 6
    },
    {
     "cell_type": "markdown",
     "metadata": {},
     "source": [
      "## Grafi semplici con networkx"
     ]
    },
    {
     "cell_type": "code",
     "collapsed": false,
     "input": [
      "# modello Watts-Strogatz\n",
      "simpleWatts = networkx.watts_strogatz_graph(100, 4, 0.0)\n",
      "# modello Erdos-Renyi\n",
      "simpleErdos = networkx.erdos_renyi_graph(100, 0.04)\n",
      "# modello Barabasi-Albert\n",
      "simpleBara = networkx.barabasi_albert_graph(100, 1)\n",
      "\n",
      "\n",
      "#%matplotlib inline\n",
      "#pyplot.figure(figsize=(9,9))\n",
      "#networkx.draw_random(simpleErdos, node_size=80,\n",
      "#                     with_labels = False,\n",
      "#                     #node_color=simpleErdos.degree().values(),\n",
      "#                     cmap=pyplot.cm.Reds_r)\n",
      "#pyplot.savefig('random.svg', format='svg', dpi=1000)\n",
      "#pyplot.show()\n"
     ],
     "language": "python",
     "metadata": {},
     "outputs": [],
     "prompt_number": 6
    },
    {
     "cell_type": "markdown",
     "metadata": {},
     "source": [
      "## Conversioni modelli reti da networkx a graph-tool"
     ]
    },
    {
     "cell_type": "code",
     "collapsed": false,
     "input": [
      "# modello Erdos-Renyi\n",
      "grafoErdos = networkx.erdos_renyi_graph(1000, 0.02)\n",
      "adiacenzaErdos = networkx.to_numpy_matrix(grafoErdos)\n",
      "\n",
      "gToolGrafoErdos = graph_tool.Graph(directed = False)\n",
      "%time conversione(gToolGrafoErdos, adiacenzaErdos)\n",
      "#gToolGrafoErdos.save(\"GToolErdos.xml\")\n",
      "\n",
      "# modello Watts-Strogatz\n",
      "grafoWatts = networkx.watts_strogatz_graph(1000, 30, 0)\n",
      "adiacenzaWatts = networkx.to_numpy_matrix(grafoWatts)\n",
      "\n",
      "gToolGrafoWatts = graph_tool.Graph(directed = False)\n",
      "%time conversione(gToolGrafoWatts, adiacenzaWatts)\n",
      "#gToolGrafoWatts.save(\"GToolWatts.xml\")\n",
      "\n",
      "# modello Barabasi-Abert\n",
      "grafoBarabasi = networkx.barabasi_albert_graph(1000, 2)\n",
      "adiacenzaBarabasi = networkx.to_numpy_matrix(grafoBarabasi)\n",
      "\n",
      "gToolGrafoBarabasi = graph_tool.Graph(directed = False)\n",
      "%time conversione(gToolGrafoBarabasi, adiacenzaBarabasi)"
     ],
     "language": "python",
     "metadata": {},
     "outputs": [
      {
       "output_type": "stream",
       "stream": "stdout",
       "text": [
        "CPU times: user 2.34 s, sys: 4 ms, total: 2.34 s\n",
        "Wall time: 2.34 s\n",
        "CPU times: user 3.12 s, sys: 12 ms, total: 3.13 s"
       ]
      },
      {
       "output_type": "stream",
       "stream": "stdout",
       "text": [
        "\n",
        "Wall time: 3.12 s\n",
        "CPU times: user 980 ms, sys: 8 ms, total: 988 ms"
       ]
      },
      {
       "output_type": "stream",
       "stream": "stdout",
       "text": [
        "\n",
        "Wall time: 987 ms\n"
       ]
      }
     ],
     "prompt_number": 7
    },
    {
     "cell_type": "code",
     "collapsed": false,
     "input": [
      "#analisi con graph-tool\n",
      "azienda = []\n",
      "diametro = []\n",
      "cammino = []\n",
      "cluster = []\n",
      "relSizeGC = []\n",
      "gradomedio = []\n",
      "criterio = []\n",
      "fcritica = []\n",
      "\n",
      "topologia(gToolGrafoErdos, \"Random\")\n",
      "datiInitial = pandas.DataFrame()\n",
      "datiInitial['Rete'] = azienda\n",
      "datiInitial['GC %'] = relSizeGC\n",
      "datiInitial['D'] = diametro\n",
      "datiInitial['<l>'] = cammino\n",
      "datiInitial['C'] = cluster\n",
      "datiInitial['<k>'] = gradomedio\n",
      "datiInitial['<k^2>/<k>'] = criterio\n",
      "datiInitial['f'] = fcritica\n",
      "datiInitial"
     ],
     "language": "python",
     "metadata": {},
     "outputs": [
      {
       "html": [
        "<div style=\"max-height:1000px;max-width:1500px;overflow:auto;\">\n",
        "<table border=\"1\" class=\"dataframe\">\n",
        "  <thead>\n",
        "    <tr style=\"text-align: right;\">\n",
        "      <th></th>\n",
        "      <th>Rete</th>\n",
        "      <th>GC %</th>\n",
        "      <th>D</th>\n",
        "      <th>&lt;l&gt;</th>\n",
        "      <th>C</th>\n",
        "      <th>&lt;k&gt;</th>\n",
        "      <th>&lt;k^2&gt;/&lt;k&gt;</th>\n",
        "      <th>f</th>\n",
        "    </tr>\n",
        "  </thead>\n",
        "  <tbody>\n",
        "    <tr>\n",
        "      <th>0</th>\n",
        "      <td> Tim</td>\n",
        "      <td> 1</td>\n",
        "      <td> 5</td>\n",
        "      <td> 3.399951</td>\n",
        "      <td> 0.001946</td>\n",
        "      <td> 20.0428</td>\n",
        "      <td> 21.040124</td>\n",
        "      <td> 0.9501</td>\n",
        "    </tr>\n",
        "  </tbody>\n",
        "</table>\n",
        "</div>"
       ],
       "metadata": {},
       "output_type": "pyout",
       "prompt_number": 41,
       "text": [
        "  Rete  GC %  D       <l>         C      <k>  <k^2>/<k>       f\n",
        "0  Tim     1  5  3.399951  0.001946  20.0428  21.040124  0.9501"
       ]
      }
     ],
     "prompt_number": 41
    },
    {
     "cell_type": "code",
     "collapsed": false,
     "input": [
      "#lista gradi con networkx\n",
      "gradoErdos = grafoErdos.degree().values()\n",
      "\n",
      "#lista gradi con Graph-tool\n",
      "def gradonodo(identificativo):\n",
      "        vertice = gToolGrafoErdos.vertex(identificativo)\n",
      "        return vertice.out_degree()\n",
      "    \n",
      "indice = numpy.arange(gToolGrafoErdos.num_vertices())\n",
      "listaGradi = map(gradonodo, indice)"
     ],
     "language": "python",
     "metadata": {},
     "outputs": [],
     "prompt_number": 8
    },
    {
     "cell_type": "code",
     "collapsed": false,
     "input": [
      "%matplotlib inline\n",
      "pyplot.figure(figsize=(12,9)) \n",
      "grafico = degreeDistributionLog(gradoErdos, 'Con Networkx', '#699534')\n",
      "grafico = degreeDistributionLog(listaGradi, 'Con Graph-tool', '#3D5A92')\n",
      "#pyplot.ylim(0.9,1100)\n",
      "#pyplot.xlim(1,25)\n",
      "pyplot.legend()\n",
      "#pyplot.savefig('compareSameN.svg', format='svg', dpi=1000)"
     ],
     "language": "python",
     "metadata": {},
     "outputs": [
      {
       "metadata": {},
       "output_type": "pyout",
       "prompt_number": 11,
       "text": [
        "<matplotlib.legend.Legend at 0x7f3ca2af6950>"
       ]
      },
      {
       "metadata": {},
       "output_type": "display_data",
       "png": "[encoded data removed]",
       "text": [
        "<matplotlib.figure.Figure at 0x7f3ca2abb850>"
       ]
      }
     ],
     "prompt_number": 11
    },
    {
     "cell_type": "markdown",
     "metadata": {},
     "source": [
      "### Traccio i grafi convertiti in graph-tool, con la grafica di graph-tool"
     ]
    },
    {
     "cell_type": "code",
     "collapsed": false,
     "input": [
      "#alcuni layout\n",
      "#pos = graph_tool.draw.radial_tree_layout(gToolGrafoWatts, gToolGrafoWatts.vertex(0))\n",
      "#pos = graph_tool.draw.sfdp_layout(gToolGrafoWatts, cooling_step=0.95)\n",
      "#pos = graph_tool.draw.arf_layout(gToolGrafoWatts)\n",
      "\n",
      "#questa riga genera il reticolo circolare da cui parte Watts-Strogatz\n",
      "#gToolGrafoWatts = graph_tool.generation.circular_graph(70, 2)\n",
      "nomeGrafo = gToolGrafoBarabasi\n",
      "\n",
      "pos = graph_tool.draw.sfdp_layout(nomeGrafo)\n",
      "graph_draw(nomeGrafo, pos = pos, output_size=(1000, 1000),\n",
      "           vertex_color=[1,1,1,0], vertex_size=5, edge_pen_width=1.2,\n",
      "           vcmap=matplotlib.cm.gist_heat_r, \n",
      "           output=\"grafo.svg\"\n",
      "           )"
     ],
     "language": "python",
     "metadata": {},
     "outputs": [
      {
       "metadata": {},
       "output_type": "pyout",
       "prompt_number": 15,
       "text": [
        "<PropertyMap object with key type 'Vertex' and value type 'vector<double>', for Graph 0x7f3ca51b1cd0, at 0x7f3ca2f9ced0>"
       ]
      }
     ],
     "prompt_number": 15
    },
    {
     "cell_type": "markdown",
     "metadata": {},
     "source": [
      "## Generazione modelli reti direttamente con graph tool"
     ]
    },
    {
     "cell_type": "markdown",
     "metadata": {},
     "source": [
      "### Barabasi Albert con *initial attractiveness*"
     ]
    },
    {
     "cell_type": "code",
     "collapsed": false,
     "input": [
      "initial = 0\n",
      "g = graph_tool.generation.price_network(10000, m=10, gamma = 1,\n",
      "                                        c=initial,\n",
      "                                        #seed_graph = gToolGrafoErdos,\n",
      "                                        directed=False)\n",
      "#pos = graph_tool.draw.sfdp_layout(g)\n",
      "#graph_draw(g, pos = pos, output_size=(1000, 1000), \n",
      "#           vertex_color=[1,1,1,0], vertex_size=3, edge_pen_width=1,\n",
      "#           vcmap=matplotlib.cm.gist_heat_r, \n",
      "#           output=(\"barabalbert1.svg\"))"
     ],
     "language": "python",
     "metadata": {},
     "outputs": [],
     "prompt_number": 34
    },
    {
     "cell_type": "code",
     "collapsed": false,
     "input": [
      "#analisi\n",
      "\n",
      "azienda = []\n",
      "diametro = []\n",
      "cammino = []\n",
      "cluster = []\n",
      "relSizeGC = []\n",
      "gradomedio = []\n",
      "criterio = []\n",
      "fcritica = []\n",
      "\n",
      "topologia(g, \"Barabalbero\")\n",
      "datiInitial = pandas.DataFrame()\n",
      "datiInitial['Rete'] = azienda\n",
      "datiInitial['GC %'] = relSizeGC\n",
      "datiInitial['D'] = diametro\n",
      "datiInitial['<l>'] = cammino\n",
      "datiInitial['C'] = cluster\n",
      "datiInitial['<k>'] = gradomedio\n",
      "datiInitial['<k^2>/<k>'] = criterio\n",
      "datiInitial['f'] = fcritica\n",
      "datiInitial\n"
     ],
     "language": "python",
     "metadata": {},
     "outputs": [
      {
       "html": [
        "<div style=\"max-height:1000px;max-width:1500px;overflow:auto;\">\n",
        "<table border=\"1\" class=\"dataframe\">\n",
        "  <thead>\n",
        "    <tr style=\"text-align: right;\">\n",
        "      <th></th>\n",
        "      <th>Rete</th>\n",
        "      <th>GC %</th>\n",
        "      <th>D</th>\n",
        "      <th>&lt;l&gt;</th>\n",
        "      <th>C</th>\n",
        "      <th>&lt;k&gt;</th>\n",
        "      <th>&lt;k^2&gt;/&lt;k&gt;</th>\n",
        "      <th>f</th>\n",
        "    </tr>\n",
        "  </thead>\n",
        "  <tbody>\n",
        "    <tr>\n",
        "      <th>0</th>\n",
        "      <td> Barabalbero</td>\n",
        "      <td> 1</td>\n",
        "      <td> 5</td>\n",
        "      <td> 3.046723</td>\n",
        "      <td> 0.012297</td>\n",
        "      <td> 19.989</td>\n",
        "      <td> 49.715634</td>\n",
        "      <td> 0.979473</td>\n",
        "    </tr>\n",
        "  </tbody>\n",
        "</table>\n",
        "</div>"
       ],
       "metadata": {},
       "output_type": "pyout",
       "prompt_number": 35,
       "text": [
        "          Rete  GC %  D       <l>         C     <k>  <k^2>/<k>         f\n",
        "0  Barabalbero     1  5  3.046723  0.012297  19.989  49.715634  0.979473"
       ]
      }
     ],
     "prompt_number": 35
    },
    {
     "cell_type": "code",
     "collapsed": false,
     "input": [
      "\n",
      "def gradonodo(identificativo):\n",
      "        vertice = g.vertex(identificativo)\n",
      "        return vertice.out_degree()\n",
      "    \n",
      "indice = numpy.arange(g.num_vertices())\n",
      "listaGradi = map(gradonodo, indice)\n",
      "numpy.sum(listaGradi)"
     ],
     "language": "python",
     "metadata": {},
     "outputs": [
      {
       "metadata": {},
       "output_type": "pyout",
       "prompt_number": 36,
       "text": [
        "199890"
       ]
      }
     ],
     "prompt_number": 36
    },
    {
     "cell_type": "markdown",
     "metadata": {},
     "source": [
      "##Documentazione graph-tool\n",
      "\n",
      "* [Quick Start](https://graph-tool.skewed.de/static/doc/quickstart.html)\n",
      "* [Graph generators](https://graph-tool.skewed.de/static/doc/generation.html#graph_tool.generation.price_network)\n",
      "* [Topologia (diametro etc)](https://graph-tool.skewed.de/static/doc/topology.html)\n",
      "* [Statistica (gradi etc)](https://graph-tool.skewed.de/static/doc/stats.html)\n",
      "* [Draw e layouts](https://graph-tool.skewed.de/static/doc/draw.html#graph_tool.draw.arf_layout)\n",
      "* [Animazioni](http://graph-tool.skewed.de/static/doc/demos/animation.html)\n"
     ]
    }
   ],
   "metadata": {}
  }
 ]
}