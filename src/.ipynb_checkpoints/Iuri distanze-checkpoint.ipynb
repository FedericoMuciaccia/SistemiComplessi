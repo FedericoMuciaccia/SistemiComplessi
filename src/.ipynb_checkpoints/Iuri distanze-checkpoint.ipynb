{
 "metadata": {
  "name": "",
  "signature": "sha256:9a3fc7fc65254f30cf5365ee7f2e626459aa331dcc218b0def7ffdc835e1fd63"
 },
 "nbformat": 3,
 "nbformat_minor": 0,
 "worksheets": [
  {
   "cells": [
    {
     "cell_type": "code",
     "collapsed": false,
     "input": [
      "import geopy\n",
      "from geopy import distance #TODO BUGGONE\n",
      "import math\n",
      "import itertools\n",
      "import pandas\n",
      "import numpy"
     ],
     "language": "python",
     "metadata": {},
     "outputs": [],
     "prompt_number": 1
    },
    {
     "cell_type": "code",
     "collapsed": false,
     "input": [
      "colosseo = (41.890173, 12.492331)\n",
      "raccordo = [(41.914456, 12.615807),(41.990672, 12.502714),(41.793883, 12.511297),(41.812566, 12.396628),(41.956277, 12.384611)]\n",
      "raggi = []\n",
      "\n",
      "def geodesicDistance(A, B=colosseo):\n",
      "    return geopy.distance.vincenty(A, B).meters\n",
      "\n",
      "raggioTerra = 6371000\n",
      "def euclidDistance(A, B=colosseo):\n",
      "    x1 = raggioTerra*math.sin(math.pi-A[0])*math.cos(A[1])\n",
      "    y1 = raggioTerra*math.sin(math.pi-A[0])*math.sin(A[1])\n",
      "    z1 = raggioTerra*math.cos(math.pi-A[0])\n",
      "    x2 = raggioTerra*math.sin(math.pi-B[0])*math.cos(B[1])\n",
      "    y2 = raggioTerra*math.sin(math.pi-B[0])*math.sin(B[1])\n",
      "    z2 = raggioTerra*math.cos(math.pi-B[0])\n",
      "    return math.sqrt((x1-x2)**2+(y1-y2)**2+(z1-z2)**2)\n",
      "\n",
      "raggi = map(geodesicDistance, raccordo)\n",
      "print raggi\n",
      "\n",
      "raggi1= []\n",
      "raggi1 = map(euclidDistance, raccordo)\n",
      "print raggi1\n",
      "\n",
      "raggiomedio = 0\n",
      "for i in raggi:\n",
      "\traggiomedio += i\n",
      "raggiomedio /= len(raggi)\n",
      "#raggiomedio = 11000\n",
      "print raggiomedio\n",
      "#print media"
     ],
     "language": "python",
     "metadata": {},
     "outputs": [
      {
       "output_type": "stream",
       "stream": "stdout",
       "text": [
        "[10594.771772886095, 11195.797051005826, 10810.334056716569, 11724.513790860976, 11565.06035260429]\n",
        "[703586.3138413058, 642709.7872090879, 621585.4934191024, 714424.8046205813, 737410.4069212559]\n",
        "11178.0954048\n"
       ]
      }
     ],
     "prompt_number": 38
    },
    {
     "cell_type": "code",
     "collapsed": false,
     "input": [
      "dataframe = pandas.read_csv(\"../Siscomp_datas/cell_towers.csv\")\n",
      "#dataframe = pandas.read_csv(\"./romaprova.csv\")\n",
      "#dataframe\n",
      "criterioMCC = dataframe.mcc == 222\n",
      "criterioMinsamples = dataframe.samples > 1\n",
      "italydoitcleaner = dataframe[criterioMCC & criterioMinsamples]\n",
      "italydoitcleaner\n",
      "#del italydoitcleaner['index']\n",
      "italydoitcleaner = italydoitcleaner.reset_index()\n",
      "#print italydoitcleaner"
     ],
     "language": "python",
     "metadata": {},
     "outputs": [],
     "prompt_number": 6
    },
    {
     "cell_type": "code",
     "collapsed": false,
     "input": [
      "#inroma = pandas.DataFrame([[41.947416, 12.371001],\n",
      "#                            [41.899392, 12.397436],\n",
      "#                            [41.870510, 12.287917],\n",
      "#                            [41.899648, 12.515196]], \n",
      "#                            columns=('lon', 'lat'))\n",
      "\n",
      "#istruzione che fa selezione alcune righe con criteri su alcune colonne, \n",
      "#ne seleziona alcune e restituisce un array nompy di valori desiderati\n",
      "coordinate = dataframe[criterioMCC & criterioMinsamples][['lat', 'lon']].values\n",
      "#print coordinate\n",
      "\n",
      "distanza = []\n",
      "distanza = map(geodesicDistance, coordinate)\n",
      "print len(distanza)\n",
      "\n",
      "#da approfondire\n",
      "#italydoitcleaner['distanze'] = italydoitcleaner[['lat', 'lon']].map(lambda x: geodesicDistance())\n",
      "italydoitcleaner['distanze'] = distanza\n",
      "italydoitcleaner\n",
      "criterioRaccordo = italydoitcleaner.distanze < raggiomedio\n",
      "romacellid = italydoitcleaner[criterioRaccordo]\n",
      "romacellid = romacellid.reset_index()\n",
      "romacellid.to_csv(\"../data/roma_towers.csv\")\n",
      "\n",
      "#distanza = map(geodesicDistance, cell)\n",
      "#def isInRome(point):\n",
      "#    return geodesicDistance(point) <= raggiomedio\n",
      "#filter(isInRome, cell)\n"
     ],
     "language": "python",
     "metadata": {},
     "outputs": [
      {
       "output_type": "stream",
       "stream": "stdout",
       "text": [
        "204576\n"
       ]
      }
     ],
     "prompt_number": 6
    },
    {
     "cell_type": "markdown",
     "metadata": {},
     "source": [
      "##TODO:  \n",
      "* Prendere array coordinate                                                           \u2714\n",
      "* fare array distanze                                                                  \u2714\n",
      "* mettere colonna distanze in dataframe  \u2714\n",
      "* selezionare righe con variabile compresa entro raggiomedio                           \u2714  \n",
      "* fare un nuovo dataframe  \u2714\n",
      "* escludere tutti i nodi con 1 sample solo \u2714\n",
      "* fare P(k)\n",
      "\n",
      "\u2714\u2714ggwpbb"
     ]
    },
    {
     "cell_type": "markdown",
     "metadata": {},
     "source": [
      "Domande su iterazione su panda dataframe e efficienza, un tizio dice che la funzione iterrows \u00e8 molto poco efficiente e sarebbe molto meglio usare un numpy array. Forse esistono funzioni pi\u00f9 efficienti.\n",
      "http://stackoverflow.com/questions/10729210/iterating-row-by-row-through-a-pandas-dataframe\n",
      "http://stackoverflow.com/questions/7837722/what-is-the-most-efficient-way-to-loop-through-dataframes-with-pandas\n"
     ]
    },
    {
     "cell_type": "code",
     "collapsed": false,
     "input": [
      "\n",
      "#dataframe = pandas.read_csv(\"../Siscomp_datas/cell_towers.csv\")\n",
      "dataframe = pandas.read_csv(\"../data/romaprova.csv\")\n",
      "#dataframe\n",
      "\n",
      "#celle = dataframe[['cell', 'lat', 'lon', 'range']].values\n",
      "#print celle\n",
      "coordinate = dataframe[['lat', 'lon']].values\n",
      "raggio = dataframe['range'].values\n",
      "\n",
      "#print coordinate\n",
      "#print raggio\n",
      "\n",
      "def geodesicDistance(A, B):\n",
      "    return geopy.distance.vincenty(A, B).meters\n",
      "    #return geopy.distance.great_circle(A, B).meters\n",
      "    \n",
      "def euclidDistance(A, B):\n",
      "    return math.sqrt((A[0]-B[0])**2+(A[1]-B[1])**2)\n",
      "\n",
      "def matricesuperiore(datiCoordinate, datiRaggi):\n",
      "    a = numpy.zeros((datiRaggi.size,datiRaggi.size))\n",
      "    for i in xrange(datiRaggi.size):\n",
      "        for j in xrange(datiRaggi.size-i-1):\n",
      "            if euclidDistance(datiCoordinate[i], datiCoordinate[j+i+1]) <= datiRaggi[i] + datiRaggi[j+i+1]:\n",
      "#            if geodesicDistance(datiCoordinate[i], datiCoordinate[j+i+1]) <= datiRaggi[i] + datiRaggi[j+i+1]:\n",
      "                a[i,j+i+1] = 1\n",
      "                a[j+i+1,i] = 1\n",
      "    return a\n",
      "                \n",
      "def matricetutta(datiCoordinate, datiRaggi):\n",
      "    a = numpy.zeros((datiRaggi.size,datiRaggi.size))\n",
      "    for i in xrange(datiRaggi.size):\n",
      "        for j in xrange(datiRaggi.size):\n",
      "            if geodesicDistance(datiCoordinate[i], datiCoordinate[j]) <= datiRaggi[i] + datiRaggi[j]:\n",
      "                a[i,j] = 1\n",
      "            if (i == j):\n",
      "                a[i,j] = 0\n",
      "    return a\n",
      "\n",
      "%time adiacenzasopra = matricesuperiore(coordinate, raggio)\n",
      "\n",
      "%time adiacenzatutta = matricetutta(coordinate, raggio)\n",
      "\n",
      "\n",
      "\n",
      "\n",
      "#print adiacenzasopra\n",
      "#print adiacenzatutta\n",
      "            \n",
      "#ridotto = dataframe[['cell', 'lat', 'lon', 'range']]        \n",
      "#b = numpy.zeros((50,50))\n",
      "\n",
      "#for i in ridotto.iterrows():\n",
      "#    for j in ridotto.iterrows():\n",
      "#        if linkVettori(i, j):\n",
      "#            a[ridotto[\"index\"],ridotto[\"index\"]] = 1\n",
      "\n",
      "            \n",
      "            \n"
     ],
     "language": "python",
     "metadata": {},
     "outputs": [
      {
       "output_type": "stream",
       "stream": "stdout",
       "text": [
        "CPU times: user 4 ms, sys: 4 ms, total: 8 ms\n",
        "Wall time: 7.76 ms\n",
        "CPU times: user 92 ms, sys: 20 ms, total: 112 ms"
       ]
      },
      {
       "output_type": "stream",
       "stream": "stdout",
       "text": [
        "\n",
        "Wall time: 91.5 ms\n"
       ]
      }
     ],
     "prompt_number": 24
    },
    {
     "cell_type": "markdown",
     "metadata": {},
     "source": [
      "Il primo tentativo \u00e8 stato di fare la matrice di adiacenza a forza bruta. Con un campione di soli 50 nodi ci metteva pochi microsecondi, quindi abbiamo provato a fare la matrice di adiacenza delle 7000 antenne entro il raccordo anulare, notando che la compilazione durava tanto, facendo le dovute proporzioni abbiamo preventivato 2,5 ore di tempo di calcolo. La prima cosa che abbiamo sistemato \u00e8 stato ovviamente fare un ciclo che calcolasse soltanto la met\u00e0 superiore della matrice, dimezzando il tempo di calcolo. \n",
      "\n",
      "La prima cosa che abbiamo pensato di fare \u00e8 stato di diagonalizzare a blocchi la matrice, o fare un ciclo di bassissimo livello che mettesse 0 a tutti gli elementi relativi alle antenne con $\\Delta$Latitudine e/o $\\Delta$Longitudine maggiori del range massimo del campione di dati. Il problema avuto \u00e8 che il range delle antenne \u00e8 tendenzialmente grande, con alcune che arrivano a 10km (con raggioRoma 11km)(e anche tanti samples), quindi non c'era modo di ridurre i calcoli. \n",
      "\n",
      "L'unica altra idea che abbiamo avuto \u00e8 stata di non fare il calcolo complicato con la distanza sul geoide con il metodo vincenty. Primo passo \u00e8 stato usare il metodo con great circles, l'altro \u00e8 stato di considerare la porzione di Roma presa come un cerchio piano, calcolando quindi la distanza euclidea tra coordinate geografiche e convertendola in metri. E ci mette MOLTO meno tempo $\\sim$10 volte in meno. Con un preventivo quindi di 10 minuti di tempo di calcolo invece di 1 ora e mezza.\n",
      "\n",
      "TODO vedere parallelaizazione"
     ]
    },
    {
     "cell_type": "markdown",
     "metadata": {},
     "source": [
      "con vincenti \n",
      "$\\sim$45 ms\n",
      "\n",
      "con great circols\n",
      "$\\sim$25 ms\n",
      "\n",
      "con euclid\n",
      "$\\sim$5 ms"
     ]
    },
    {
     "cell_type": "code",
     "collapsed": false,
     "input": [],
     "language": "python",
     "metadata": {},
     "outputs": []
    }
   ],
   "metadata": {}
  }
 ]
}