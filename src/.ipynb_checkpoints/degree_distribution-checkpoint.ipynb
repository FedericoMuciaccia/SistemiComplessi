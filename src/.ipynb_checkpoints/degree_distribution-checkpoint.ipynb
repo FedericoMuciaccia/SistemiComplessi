{
 "cells": [
  {
   "cell_type": "code",
   "execution_count": null,
   "metadata": {
    "collapsed": true
   },
   "outputs": [],
   "source": [
    "# TODO vedere se il grafo finale non è scale free, \n",
    "# non è reticolo geometrico.\n",
    "# è una specie di vetro"
   ]
  },
  {
   "cell_type": "code",
   "execution_count": null,
   "metadata": {
    "collapsed": true
   },
   "outputs": [],
   "source": [
    "# Tre = roma.net == 99\n",
    "# treCell = roma[Tre].reset_index(drop=True)\n",
    "# treCell\n",
    "\n",
    "# TODO snellire il dataframe iniziale levando le colonne inutili\n",
    "\n",
    "dataframe = pandas.read_csv(\"../data/cell_towers_diff-2016012100.csv\")\n",
    "troncato = dataframe[50:70]\n",
    "ordinato = troncato.reset_index(drop=True)\n",
    "ordinato"
   ]
  },
  {
   "cell_type": "code",
   "execution_count": null,
   "metadata": {
    "collapsed": true
   },
   "outputs": [],
   "source": [
    "\n",
    "# criteri di filtro per le compagnie telefoniche\n",
    "isTim = roma.net == 1\n",
    "isWind = roma.net == 88\n",
    "isVodafone = roma.net == 10\n",
    "isTre = roma.net == 99\n",
    "\n",
    "# creazione dei dataframe separati per gestore\n",
    "tim = roma[isTim].reset_index(drop=True)\n",
    "wind = roma[isWind].reset_index(drop=True)\n",
    "vodafone = roma[isVodafone].reset_index(drop=True)\n",
    "tre = roma[isTre].reset_index(drop=True)\n",
    " "
   ]
  },
  {
   "cell_type": "code",
   "execution_count": null,
   "metadata": {
    "collapsed": true
   },
   "outputs": [],
   "source": [
    "tim = romaFiltrato[isTim].reset_index(drop=True)\n",
    "wind = romaFiltrato[isWind].reset_index(drop=True)\n",
    "vodafone = romaFiltrato[isVodafone].reset_index(drop=True)\n",
    "tre = romaFiltrato[isTre].reset_index(drop=True)\n"
   ]
  },
  {
   "cell_type": "code",
   "execution_count": null,
   "metadata": {
    "collapsed": true
   },
   "outputs": [],
   "source": [
    "compagnie = ['Tim','Wind','Vodafone','Tre','aggregati']\n",
    "\n",
    "colori = ['#0066ff','#ff8000','#ff3300','#99ccff','#4d4d4d']\n",
    "\n",
    "valori = [tim.range.values, wind.range.values, vodafone.range.values, tre.range.values, raggi.values]\n",
    "\n",
    "pyplot.figure(figsize=(20,8)) # dimensioni in pollici\n",
    "distribuzioneRangeTutti = pyplot.hist(valori,\\\n",
    "                                 bins=max(raggi)-min(raggi),\\\n",
    "                                 histtype='step',\\\n",
    "                                 label=compagnie,\\\n",
    "                                 color=colori\n",
    "                                )\n",
    "pyplot.title('Distribuzione della copertura')\n",
    "pyplot.ylabel(\"Numero di antenne\")\n",
    "pyplot.xlabel(\"Copertura [m]\")\n",
    "# pyplot.gca().set_xscale(\"log\")\n",
    "# pyplot.gca().set_yscale(\"log\")\n",
    "pyplot.xscale(\"log\")\n",
    "pyplot.yscale(\"log\")\n",
    "pyplot.legend()\n",
    "\n",
    "# TODO prendere colori aggiornati dal notebook di Iuri\n",
    "# TODO mettere la legenda coi loghi delle compagnie\n",
    "# oppure mettere direttamente le scritte del colore corrispondente,\n",
    "# magari anche attaccate al relativo istogramma\n",
    "# TODO levare il bordo del riquadro della legenda\n",
    "# TODO provare istogramma stacked, in modo da dare il totale\n",
    "# TODO scrivere che dietro il futuro istogramma equispaziato ci sta un giorno di lavoro"
   ]
  },
  {
   "cell_type": "markdown",
   "metadata": {},
   "source": [
    "TODO (futuristico):\n",
    "vedere se esiste un modo per mettere due o più computer in rete a fare una piccola grid, per condividere la potenza di calcolo, la memoria ram e lo spazio su disco\n",
    "\n",
    "## TODO prove da sistemare per canalizzazione logaritmic in base 2"
   ]
  },
  {
   "cell_type": "code",
   "execution_count": null,
   "metadata": {
    "collapsed": true
   },
   "outputs": [],
   "source": [
    "pyplot.figure(figsize=(20,8))\n",
    "distribuzioneRange = pyplot.hist(raggi.values,\\\n",
    "                                 bins=div,\\\n",
    "                                 histtype='step')\n",
    "pyplot.title('PROVA, CON CANALI NON ANCORA PESATI')\n",
    "pyplot.xscale(\"log\")\n",
    "pyplot.yscale(\"log\")\n"
   ]
  },
  {
   "cell_type": "code",
   "execution_count": null,
   "metadata": {
    "collapsed": true
   },
   "outputs": [],
   "source": [
    "a,b,c = distribuzioneRange\n",
    "a1 = numpy.append(a.astype(int), 0)\n",
    "b1 = b.astype(int)\n",
    "a1\n",
    "b1\n",
    "div = numpy.logspace(start=0, stop=15, num=16, base=2).astype(int) # max = 20341\n",
    "div\n",
    "a2 = a1/div\n",
    "a2"
   ]
  },
  {
   "cell_type": "code",
   "execution_count": null,
   "metadata": {
    "collapsed": true
   },
   "outputs": [],
   "source": [
    "pyplot.scatter(y=a2,x=div)\n",
    "pyplot.xscale(\"log\")\n",
    "pyplot.yscale(\"log\")\n"
   ]
  },
  {
   "cell_type": "code",
   "execution_count": null,
   "metadata": {
    "collapsed": true
   },
   "outputs": [],
   "source": [
    "# TODO vedere se le due slope del grafico log-log possono essere\n",
    "# messe in relazione con le due slode della legge\n",
    "# di Heap e di Zipf (o come cavolo si scrivono)"
   ]
  },
  {
   "cell_type": "code",
   "execution_count": null,
   "metadata": {
    "collapsed": true
   },
   "outputs": [],
   "source": [
    "# TODO esterno:\n",
    "\n",
    "# datigenerati = numpy.random.normal(0,1, 10000)\n",
    "# b = pylab.hist(datigenerati,bins=100, histtype='step')\n",
    "# plottare la gaussiana di origine, \n",
    "# fare i residui e vedere che il loro istogramma \n",
    "# è di nuovo gaussiano e farne un fit e vedere \n",
    "# se il residui dei residui sono gaussiani, \n",
    "# che al mercato mio padre comprò\n"
   ]
  },
  {
   "cell_type": "code",
   "execution_count": null,
   "metadata": {
    "collapsed": true
   },
   "outputs": [],
   "source": [
    "# TODO\n",
    "# fit e lot della distribuzione del grado con i due modelli di rete\n",
    "# Erdos Renyi\n",
    "# preferential attachement di Barabasi Albert\n"
   ]
  },
  {
   "cell_type": "markdown",
   "metadata": {},
   "source": [
    "## distribuzione del grado\n",
    "\n",
    "si fa un plot logaritmico unificato e poi i relativi fit con i vari modelli di rete"
   ]
  },
  {
   "cell_type": "code",
   "execution_count": null,
   "metadata": {
    "collapsed": true
   },
   "outputs": [],
   "source": [
    "\n",
    "gradi = [numpy.loadtxt(\"../data/DistrGrado_{0}\".format(compagnia)) for compagnia in compagnie]\n",
    "\n",
    "# dataframeGradi = pandas.DataFrame(numpy.transpose(gradi))\n",
    "\n",
    "# grado = grafo.degree().values\n",
    "# grado = numpy.loadtxt(\"../data/DistrGrado_{0}\",compagnia)\n"
   ]
  },
  {
   "cell_type": "code",
   "execution_count": null,
   "metadata": {
    "collapsed": true
   },
   "outputs": [],
   "source": [
    "pyplot.figure(figsize=(20,8)) # dimensioni in pollici\n",
    "distribuzioneRangeTutti = pyplot.hist(gradi,\\\n",
    "                                 bins=max(gradi[-1])-min(gradi[-1]),\\\n",
    "                                 histtype='step',\\\n",
    "                                 label=compagnie,\\\n",
    "                                 color=colori\n",
    "                                )\n",
    "pyplot.title('Degree distribution')\n",
    "pyplot.ylabel(\"Frequency\")\n",
    "pyplot.xlabel(\"Degree\")\n",
    "# pyplot.gca().set_xscale(\"log\")\n",
    "# pyplot.gca().set_yscale(\"log\")\n",
    "pyplot.xscale(\"log\")\n",
    "pyplot.yscale(\"log\")\n",
    "pyplot.legend()\n"
   ]
  },
  {
   "cell_type": "markdown",
   "metadata": {},
   "source": [
    "###  altro approccio, con i dataframe"
   ]
  },
  {
   "cell_type": "code",
   "execution_count": null,
   "metadata": {
    "collapsed": true
   },
   "outputs": [],
   "source": [
    "dictGradi = dict()\n",
    "for label in compagnie:\n",
    "    dictGradi[label] = numpy.loadtxt(\"../data/DistrGrado_{0}\".format(label)).astype(int)\n",
    "\n",
    "dictGradi"
   ]
  },
  {
   "cell_type": "code",
   "execution_count": null,
   "metadata": {
    "collapsed": true
   },
   "outputs": [],
   "source": [
    "\n",
    "# TODO vedere se c'è un metodo migliore rispetto a transpose()\n",
    "dataframeGradi = pandas.DataFrame.from_dict(dictGradi, orient='index').transpose()\n",
    "# TODO attenzione ai valori NaN nei posti vuoti\n"
   ]
  },
  {
   "cell_type": "code",
   "execution_count": null,
   "metadata": {
    "collapsed": true
   },
   "outputs": [],
   "source": [
    "canali = int(max(dataframeGradi.aggregati)-min(dataframeGradi.aggregati))\n",
    "\n",
    "kwds = {\n",
    "    \"bins\": canali,\n",
    "    \"histtype\": 'step',\n",
    "    # \"color\": colori,\n",
    "    #\"fill\": True,\n",
    "    #\"alpha\": 0.25,\n",
    "    #\"linestyle\": \"solid\",\n",
    "    #\"edgecolor\": \"black\"\n",
    "}\n",
    "\n",
    "dataframeGradi.plot(kind='hist', loglog=True, figsize=(20,8), **kwds)"
   ]
  },
  {
   "cell_type": "code",
   "execution_count": null,
   "metadata": {
    "collapsed": true
   },
   "outputs": [],
   "source": [
    "# TODO funzione numpy.diff per la correlazione connessa\n",
    "numpy.diff([0,4,6,2,8,9,7,0,1])"
   ]
  },
  {
   "cell_type": "code",
   "execution_count": null,
   "metadata": {
    "collapsed": true
   },
   "outputs": [],
   "source": []
  },
  {
   "cell_type": "code",
   "execution_count": null,
   "metadata": {
    "collapsed": true
   },
   "outputs": [],
   "source": []
  },
  {
   "cell_type": "code",
   "execution_count": null,
   "metadata": {
    "collapsed": true
   },
   "outputs": [],
   "source": []
  }
 ],
 "metadata": {
  "kernelspec": {
   "display_name": "Python 2",
   "language": "python",
   "name": "python2"
  },
  "language_info": {
   "codemirror_mode": {
    "name": "ipython",
    "version": 2
   },
   "file_extension": ".py",
   "mimetype": "text/x-python",
   "name": "python",
   "nbconvert_exporter": "python",
   "pygments_lexer": "ipython2",
   "version": "2.7.10"
  }
 },
 "nbformat": 4,
 "nbformat_minor": 0
}
