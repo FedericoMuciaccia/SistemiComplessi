{
 "cells": [
  {
   "cell_type": "code",
   "execution_count": null,
   "metadata": {
    "collapsed": true
   },
   "outputs": [],
   "source": [
    "import math\n",
    "\n",
    "def poissoniana(x, mu):\n",
    "    return (numpy.exp(-mu) * mu**x)/ (scipy.misc.factorial(x)) # if x >= 0"
   ]
  },
  {
   "cell_type": "code",
   "execution_count": null,
   "metadata": {
    "collapsed": true
   },
   "outputs": [],
   "source": [
    "x = numpy.linspace(1,1000,1000)\n",
    "# y = poissoniana(x, 3)\n",
    "y = dataframeGradi.Tre.values"
   ]
  },
  {
   "cell_type": "code",
   "execution_count": null,
   "metadata": {
    "collapsed": true
   },
   "outputs": [],
   "source": [
    "popt, pcov = scipy.optimize.curve_fit(poissoniana, x, y)"
   ]
  },
  {
   "cell_type": "code",
   "execution_count": null,
   "metadata": {
    "collapsed": true
   },
   "outputs": [],
   "source": [
    "y, x = numpy.histogram(dataframeGradi.aggregati.values, bins = 3)"
   ]
  },
  {
   "cell_type": "code",
   "execution_count": null,
   "metadata": {
    "collapsed": true
   },
   "outputs": [],
   "source": [
    "min(dataframeGradi.aggregati.values)"
   ]
  },
  {
   "cell_type": "code",
   "execution_count": null,
   "metadata": {
    "collapsed": true
   },
   "outputs": [],
   "source": [
    "len(y),len(x)"
   ]
  },
  {
   "cell_type": "code",
   "execution_count": null,
   "metadata": {
    "collapsed": true
   },
   "outputs": [],
   "source": [
    "y,x"
   ]
  },
  {
   "cell_type": "code",
   "execution_count": null,
   "metadata": {
    "collapsed": true
   },
   "outputs": [],
   "source": [
    "arr = [5,5,5,5,5,6,6,6,7,7]\n",
    "\n",
    "y, x = numpy.histogram(numpy.array(arr), bins=(5,6,7,8))"
   ]
  },
  {
   "cell_type": "code",
   "execution_count": null,
   "metadata": {
    "collapsed": true
   },
   "outputs": [],
   "source": [
    "y,x"
   ]
  },
  {
   "cell_type": "code",
   "execution_count": null,
   "metadata": {
    "collapsed": true
   },
   "outputs": [],
   "source": [
    "pyplot.hist(arr, bins=(5,6,7,8))"
   ]
  },
  {
   "cell_type": "code",
   "execution_count": null,
   "metadata": {
    "collapsed": true
   },
   "outputs": [],
   "source": [
    "pyplot.hist(arr, bins=3)"
   ]
  },
  {
   "cell_type": "code",
   "execution_count": null,
   "metadata": {
    "collapsed": true
   },
   "outputs": [],
   "source": [
    "pyplot.hist(arr, bins=3, align=\"left\")"
   ]
  },
  {
   "cell_type": "code",
   "execution_count": null,
   "metadata": {
    "collapsed": true
   },
   "outputs": [],
   "source": [
    "pyplot.hist(arr, bins=(5,6,7,8), align=\"mid\")"
   ]
  },
  {
   "cell_type": "code",
   "execution_count": null,
   "metadata": {
    "collapsed": true
   },
   "outputs": [],
   "source": [
    "pyplot.hist(arr, bins=(5,6,7,8), align=\"left\")"
   ]
  },
  {
   "cell_type": "code",
   "execution_count": null,
   "metadata": {
    "collapsed": true
   },
   "outputs": [],
   "source": [
    "def integerHistogram(integerData):\n",
    "    integerData = [5,5,5,5,5,6,6,6,7,7]\n",
    "    minimum = min(integerData)\n",
    "    maximum = max(integerData)\n",
    "    integerBins = maximum - minimum + 1\n",
    "    numberSet = numpy.linspace(minimum, maximum, integerBins)\n",
    "    y, x = numpy.histogram(arr, bins=(5,6,7,8))\n",
    "    "
   ]
  },
  {
   "cell_type": "code",
   "execution_count": null,
   "metadata": {
    "collapsed": true
   },
   "outputs": [],
   "source": [
    "numpy.histogram(arr, bins=(5,6,7,8))"
   ]
  },
  {
   "cell_type": "code",
   "execution_count": null,
   "metadata": {
    "collapsed": true
   },
   "outputs": [],
   "source": [
    "integerData = [5,5,5,5,5,6,6,6,7,7,9,10,10]\n",
    "minimum = min(integerData)\n",
    "maximum = max(integerData)\n",
    "integerBins = maximum - minimum + 1\n",
    "numberSet = numpy.linspace(minimum, maximum, integerBins, dtype=int)\n",
    "min(integerData), max(integerData)"
   ]
  },
  {
   "cell_type": "code",
   "execution_count": null,
   "metadata": {
    "collapsed": true
   },
   "outputs": [],
   "source": [
    "numberSet"
   ]
  },
  {
   "cell_type": "code",
   "execution_count": null,
   "metadata": {
    "collapsed": true
   },
   "outputs": [],
   "source": [
    "numpyBins = numberSet + [minimum+1]"
   ]
  },
  {
   "cell_type": "code",
   "execution_count": null,
   "metadata": {
    "collapsed": true
   },
   "outputs": [],
   "source": [
    "numpyBins"
   ]
  },
  {
   "cell_type": "markdown",
   "metadata": {},
   "source": [
    "\n",
    "http://docs.scipy.org/doc/numpy-1.10.1/reference/generated/numpy.transpose.html\n",
    "http://stackoverflow.com/questions/17779316/un-normalized-gaussian-curve-on-histogram\n",
    "!!!    http://glowingpython.blogspot.it/2012/07/distribution-fitting-with-scipy.html\n",
    "http://danielhnyk.cz/fitting-distribution-histogram-using-python/\n",
    "http://stackoverflow.com/questions/19736080/creating-dataframe-from-a-dictionary-where-entries-have-different-lengths\n",
    "!!!    https://plot.ly/pandas/histograms/\n",
    "https://www.python.org/dev/peps/pep-0008/\n",
    "http://stackoverflow.com/questions/1769403/understanding-kwargs-in-python\n",
    "http://docs.scipy.org/doc/scipy/reference/stats.html\n",
    "http://docs.scipy.org/doc/scipy/reference/generated/scipy.stats.poisson.html#scipy.stats.poisson\n",
    "http://stackoverflow.com/questions/3433486/how-to-do-exponential-and-logarithmic-curve-fitting-in-python-i-found-only-poly\n",
    "http://docs.scipy.org/doc/numpy-1.10.1/reference/generated/numpy.bincount.html#numpy.bincount\n",
    "http://docs.scipy.org/doc/numpy-1.10.0/reference/generated/numpy.linspace.html\n",
    "\n",
    "\n",
    "\n",
    "\n"
   ]
  },
  {
   "cell_type": "code",
   "execution_count": null,
   "metadata": {
    "collapsed": true
   },
   "outputs": [],
   "source": []
  }
 ],
 "metadata": {
  "kernelspec": {
   "display_name": "Python 2",
   "language": "python",
   "name": "python2"
  },
  "language_info": {
   "codemirror_mode": {
    "name": "ipython",
    "version": 2
   },
   "file_extension": ".py",
   "mimetype": "text/x-python",
   "name": "python",
   "nbconvert_exporter": "python",
   "pygments_lexer": "ipython2",
   "version": "2.7.10"
  }
 },
 "nbformat": 4,
 "nbformat_minor": 0
}
