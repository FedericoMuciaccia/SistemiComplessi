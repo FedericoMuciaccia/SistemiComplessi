{
 "cells": [
  {
   "cell_type": "markdown",
   "metadata": {},
   "source": [
    "## logaritmic (base 2) binning in log-log (base 10) plots of integer histograms"
   ]
  },
  {
   "cell_type": "code",
   "execution_count": 67,
   "metadata": {
    "collapsed": true
   },
   "outputs": [],
   "source": [
    "import numpy\n",
    "\n",
    "import matplotlib.pyplot\n",
    "\n",
    "% matplotlib inline"
   ]
  },
  {
   "cell_type": "code",
   "execution_count": 114,
   "metadata": {
    "collapsed": false
   },
   "outputs": [
    {
     "ename": "NameError",
     "evalue": "name 'histogramResults' is not defined",
     "output_type": "error",
     "traceback": [
      "\u001b[1;31m---------------------------------------------------------------------------\u001b[0m",
      "\u001b[1;31mNameError\u001b[0m                                 Traceback (most recent call last)",
      "\u001b[1;32m<ipython-input-114-31485b7854cd>\u001b[0m in \u001b[0;36m<module>\u001b[1;34m()\u001b[0m\n\u001b[0;32m      9\u001b[0m \u001b[1;31m# plt.plot(x, y, ls='steps')\u001b[0m\u001b[1;33m\u001b[0m\u001b[1;33m\u001b[0m\u001b[0m\n\u001b[0;32m     10\u001b[0m \u001b[1;33m\u001b[0m\u001b[0m\n\u001b[1;32m---> 11\u001b[1;33m \u001b[0mbinEdges\u001b[0m\u001b[1;33m,\u001b[0m \u001b[0mvalues\u001b[0m\u001b[1;33m,\u001b[0m \u001b[0mothers\u001b[0m \u001b[1;33m=\u001b[0m \u001b[0mhistogramResults\u001b[0m\u001b[1;33m\u001b[0m\u001b[0m\n\u001b[0m",
      "\u001b[1;31mNameError\u001b[0m: name 'histogramResults' is not defined"
     ]
    }
   ],
   "source": [
    "\n",
    "DA BUTTARE\n",
    "\n",
    "\n",
    "def  logBinnedStepPlot(histogramResults):\n",
    "    if 0 in integerData:\n",
    "        return \"error: log2(0) = ?\"\n",
    "\n",
    "# y, binEdges = np.histogram(...)\n",
    "\n",
    "# plt.bar(bin_edges[:-1], hist, width=1) and plt.xlim(min(bin_edges), max(bin_edges))\n",
    "\n",
    "# plt.plot(x, y, ls='steps')\n",
    "\n",
    "values, binEdges, others = histogramResults\n"
   ]
  },
  {
   "cell_type": "code",
   "execution_count": 120,
   "metadata": {
    "collapsed": false
   },
   "outputs": [
    {
     "name": "stdout",
     "output_type": "stream",
     "text": [
      "[1, 2, 3, 4, 5, 6, 7, 8, 9, 10, 11, 12, 13, 14, 15, 16, 17, 18, 19]\n",
      "1 19\n",
      "0 4\n",
      "5\n",
      "[ 1  2  4  8 16]\n",
      "17 19\n",
      "3\n",
      "[17 18 19]\n",
      "[ 1  2  4  8 16 17 18 19]\n",
      "8\n"
     ]
    }
   ],
   "source": [
    "\n",
    "DA BUTTARE\n",
    "\n",
    "binEdges = range(1,20)\n",
    "print binEdges # TODO vedere quando non si parte da 1\n",
    "\n",
    "# int arrotonda all'intero inferiore\n",
    "linMin = min(binEdges)\n",
    "linMax = max(binEdges)\n",
    "\n",
    "print linMin, linMax\n",
    "\n",
    "logStart = int(numpy.log2(linMin))\n",
    "logStop = int(numpy.log2(linMax))\n",
    "\n",
    "print logStart, logStop\n",
    "\n",
    "nLogBins = logStop - logStart + 1\n",
    "\n",
    "print nLogBins\n",
    "\n",
    "logBins = numpy.logspace(logStart, logStop, num=nLogBins, base=2, dtype=int)\n",
    "print logBins\n",
    "\n",
    "# 1,2,4,8,16,32,64,128,256,512,1024\n",
    "\n",
    "linStart = 2**logStop + 1\n",
    "linStop = linMax\n",
    "\n",
    "print linStart, linStop\n",
    "\n",
    "nLinBins = linStop - linStart + 1\n",
    "\n",
    "print nLinBins\n",
    "\n",
    "linBins = numpy.linspace(linStart, linStop, num=nLinBins, dtype=int)\n",
    "\n",
    "print linBins\n",
    "\n",
    "bins = numpy.append(logBins, linBins)\n",
    "\n",
    "print bins\n",
    "\n",
    "print len(bins)"
   ]
  },
  {
   "cell_type": "code",
   "execution_count": 121,
   "metadata": {
    "collapsed": false
   },
   "outputs": [
    {
     "name": "stdout",
     "output_type": "stream",
     "text": [
      "[1 2 4 8]\n",
      "[1 1 1]\n",
      "3\n",
      "[1 2 4 8 1 1 1]\n",
      "7\n"
     ]
    }
   ],
   "source": [
    "\n",
    "DA BUTTARE\n",
    "\n",
    "\n",
    "# uso le proprietà dei logaritmi in base 2:\n",
    "# 2^(n+1) - 2^n = 2^n\n",
    "divisoriDatiCanalizzatiLog = numpy.delete(logBins, -1)\n",
    "\n",
    "print divisoriDatiCanalizzatiLog\n",
    "\n",
    "divisoriDatiCanalizzatiLin = numpy.ones(nLinBins, dtype=int)\n",
    "\n",
    "print divisoriDatiCanalizzatiLin\n",
    "\n",
    "print len(divisoriDatiCanalizzatiLin)\n",
    "\n",
    "divisoriDatiCanalizzati = numpy.append(divisoriDatiCanalizzatiLog, divisoriDatiCanalizzatiLin)\n",
    "\n",
    "print divisoriDatiCanalizzati\n",
    "\n",
    "print len(divisoriDatiCanalizzati)"
   ]
  },
  {
   "cell_type": "code",
   "execution_count": 113,
   "metadata": {
    "collapsed": false
   },
   "outputs": [
    {
     "data": {
      "text/plain": [
       "(2.0, 10)"
      ]
     },
     "execution_count": 113,
     "metadata": {},
     "output_type": "execute_result"
    },
    {
     "data": {
      "image/png": "[encoded data removed]",
      "text/plain": [
       "<matplotlib.figure.Figure at 0x7f22dfc5a710>"
      ]
     },
     "metadata": {},
     "output_type": "display_data"
    }
   ],
   "source": [
    "\n",
    "x = numpy.concatenate(([0], bins))\n",
    "conteggi = values\n",
    "y = numpy.concatenate(([0], conteggi, [0]))\n",
    "matplotlib.pyplot.plot(x, y)\n",
    "\n",
    "matplotlib.pyplot.xscale('log')\n",
    "matplotlib.pyplot.yscale('log')\n",
    "matplotlib.pyplot.step(x, y, where='post') #where = mid OR post\n",
    "matplotlib.pyplot.xlim(0,100)\n",
    "matplotlib.pyplot.ylim(0,10)"
   ]
  },
  {
   "cell_type": "code",
   "execution_count": 86,
   "metadata": {
    "collapsed": false
   },
   "outputs": [
    {
     "ename": "TypeError",
     "evalue": "function takes at most 2 arguments (3 given)",
     "output_type": "error",
     "traceback": [
      "\u001b[1;31m---------------------------------------------------------------------------\u001b[0m",
      "\u001b[1;31mTypeError\u001b[0m                                 Traceback (most recent call last)",
      "\u001b[1;32m<ipython-input-86-05438655e6bb>\u001b[0m in \u001b[0;36m<module>\u001b[1;34m()\u001b[0m\n\u001b[1;32m----> 1\u001b[1;33m \u001b[0mnumpy\u001b[0m\u001b[1;33m.\u001b[0m\u001b[0mconcatenate\u001b[0m\u001b[1;33m(\u001b[0m\u001b[1;33m[\u001b[0m\u001b[1;36m0\u001b[0m\u001b[1;33m]\u001b[0m\u001b[1;33m,\u001b[0m \u001b[0mconteggi\u001b[0m\u001b[1;33m,\u001b[0m \u001b[1;33m[\u001b[0m\u001b[1;36m0\u001b[0m\u001b[1;33m]\u001b[0m\u001b[1;33m)\u001b[0m\u001b[1;33m\u001b[0m\u001b[0m\n\u001b[0m",
      "\u001b[1;31mTypeError\u001b[0m: function takes at most 2 arguments (3 given)"
     ]
    }
   ],
   "source": [
    "numpy.concatenate([0], conteggi, [0])"
   ]
  },
  {
   "cell_type": "code",
   "execution_count": null,
   "metadata": {
    "collapsed": true
   },
   "outputs": [],
   "source": []
  },
  {
   "cell_type": "code",
   "execution_count": null,
   "metadata": {
    "collapsed": true
   },
   "outputs": [],
   "source": []
  }
 ],
 "metadata": {
  "kernelspec": {
   "display_name": "Python 2",
   "language": "python",
   "name": "python2"
  },
  "language_info": {
   "codemirror_mode": {
    "name": "ipython",
    "version": 2
   },
   "file_extension": ".py",
   "mimetype": "text/x-python",
   "name": "python",
   "nbconvert_exporter": "python",
   "pygments_lexer": "ipython2",
   "version": "2.7.10"
  }
 },
 "nbformat": 4,
 "nbformat_minor": 0
}
