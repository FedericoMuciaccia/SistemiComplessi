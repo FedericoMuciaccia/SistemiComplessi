{
 "cells": [
  {
   "cell_type": "markdown",
   "metadata": {},
   "source": [
    "###Importo tutte le librerie necessarie"
   ]
  },
  {
   "cell_type": "code",
   "execution_count": 3,
   "metadata": {
    "collapsed": false
   },
   "outputs": [],
   "source": [
    "import geopy\n",
    "from geopy import distance #TODO BUGGONE\n",
    "import math\n",
    "import itertools\n",
    "import pandas\n",
    "import numpy\n",
    "from matplotlib import pyplot"
   ]
  },
  {
   "cell_type": "markdown",
   "metadata": {},
   "source": [
    "###Calcolo il raggio medio che definisce Roma entro il raccordo anulare\n",
    "\n",
    "NB: da verificare che distanza euclidea non crei troppi problemi"
   ]
  },
  {
   "cell_type": "code",
   "execution_count": 4,
   "metadata": {
    "collapsed": false
   },
   "outputs": [
    {
     "name": "stdout",
     "output_type": "stream",
     "text": [
      "[10594.771772886095, 11195.797051005826, 10810.334056716569, 11724.513790860976, 11565.06035260429]\n",
      "[9561.666348445664, 11204.74314532015, 10802.028143952435, 11178.132568907718, 10869.268356548899]\n",
      "[4.573421793988439, 4.443745767765982, 4.297013270943725, 4.852411898005889, 4.8520761352156]\n",
      "11178.0954048\n"
     ]
    }
   ],
   "source": [
    "colosseo = (41.890173, 12.492331)\n",
    "raccordo = [(41.914456, 12.615807),(41.990672, 12.502714),(41.793883, 12.511297),(41.812566, 12.396628),(41.956277, 12.384611)]\n",
    "raggi = []\n",
    "\n",
    "def geodesicDistance(A, B=colosseo):\n",
    "    return geopy.distance.vincenty(A, B).meters\n",
    "\n",
    "raggioTerra = 6372795\n",
    "def euclidDistance1(A, B=colosseo):\n",
    "    latitudine1 = math.radians(A[0])\n",
    "    latitudine2 = math.radians(B[0])\n",
    "    longitudine1 = math.radians(A[1])\n",
    "    longitudine2 = math.radians(B[1])\n",
    "    x1 = raggioTerra*math.sin(math.pi-latitudine1)*math.cos(longitudine1)\n",
    "    y1 = raggioTerra*math.sin(math.pi-latitudine1)*math.sin(longitudine1)\n",
    "    z1 = raggioTerra*math.cos(math.pi-latitudine1)\n",
    "    x2 = raggioTerra*math.sin(math.pi-latitudine2)*math.cos(longitudine2)\n",
    "    y2 = raggioTerra*math.sin(math.pi-latitudine2)*math.sin(longitudine2)\n",
    "    z2 = raggioTerra*math.cos(math.pi-latitudine2)\n",
    "    return math.sqrt((x1-x2)**2+(y1-y2)**2+(z1-z2)**2)\n",
    "\n",
    "def euclidDistance2(A, B=colosseo):\n",
    "    latitudine1 = math.radians(A[0])\n",
    "    latitudine2 = math.radians(B[0])\n",
    "    longitudine1 = math.radians(A[1])\n",
    "    longitudine2 = math.radians(B[1])\n",
    "    return math.sqrt(raggioTerra*math.sin(latitudine1)*(longitudine1-longitudine2)**2+raggioTerra*(latitudine1-latitudine2)**2)\n",
    "\n",
    "raggi = map(geodesicDistance, raccordo)\n",
    "print raggi\n",
    "\n",
    "raggi1= []\n",
    "raggi1 = map(euclidDistance1, raccordo)\n",
    "print raggi1\n",
    "\n",
    "raggi2= []\n",
    "raggi2 = map(euclidDistance2, raccordo)\n",
    "print raggi2\n",
    "\n",
    "raggiomedio = 0\n",
    "for i in raggi:\n",
    "\traggiomedio += i\n",
    "raggiomedio /= len(raggi)\n",
    "#raggiomedio = 11000\n",
    "print raggiomedio\n",
    "#print media"
   ]
  },
  {
   "cell_type": "markdown",
   "metadata": {},
   "source": [
    "###Popolo il dataframe e faccio una prima grossa scrematura"
   ]
  },
  {
   "cell_type": "code",
   "execution_count": 6,
   "metadata": {
    "collapsed": false
   },
   "outputs": [],
   "source": [
    "dataframe = pandas.read_csv(\"/home/protoss/Documenti/Siscomp_datas/cell_towers.csv\")\n",
    "#dataframe = pandas.read_csv(\"./romaprova.csv\")\n",
    "#dataframe\n",
    "criterioMCC = dataframe.mcc == 222\n",
    "criterioMinsamples = dataframe.samples > 1\n",
    "italydoitcleaner = dataframe[criterioMCC & criterioMinsamples]\n",
    "italydoitcleaner\n",
    "#del italydoitcleaner['index']\n",
    "italydoitcleaner = italydoitcleaner.reset_index()\n",
    "#print italydoitcleaner"
   ]
  },
  {
   "cell_type": "markdown",
   "metadata": {},
   "source": [
    "###Seleziono le antenne in Roma e faccio dei .csv appositi"
   ]
  },
  {
   "cell_type": "code",
   "execution_count": 10,
   "metadata": {
    "collapsed": false
   },
   "outputs": [],
   "source": [
    "#inroma = pandas.DataFrame([[41.947416, 12.371001],\n",
    "#                            [41.899392, 12.397436],\n",
    "#                            [41.870510, 12.287917],\n",
    "#                            [41.899648, 12.515196]], \n",
    "#                            columns=('lon', 'lat'))\n",
    "\n",
    "#istruzione che fa selezione alcune righe con criteri su alcune colonne, \n",
    "#ne seleziona alcune e restituisce un array nompy di valori desiderati\n",
    "criterioTim = dataframe.net == 1\n",
    "criterioWind = dataframe.net == 88\n",
    "criterioVoda = dataframe.net == 10\n",
    "criterio3 = dataframe.net == 99\n",
    "coordinate = dataframe[criterioMCC & criterioMinsamples][['lat', 'lon']].values\n",
    "coordinateTim = dataframe[criterioMCC & criterioMinsamples & criterioTim][['lat', 'lon']].values\n",
    "coordinateWind = dataframe[criterioMCC & criterioMinsamples & criterioWind][['lat', 'lon']].values\n",
    "coordinateVoda = dataframe[criterioMCC & criterioMinsamples & criterioVoda][['lat', 'lon']].values\n",
    "coordinate3 = dataframe[criterioMCC & criterioMinsamples & criterio3][['lat', 'lon']].values\n",
    "#print coordinate\n",
    "\n",
    "distanza = []\n",
    "distanza = map(geodesicDistance, coordinate)\n",
    "distanzaTim = []\n",
    "distanzaTim = map(geodesicDistance, coordinateTim)\n",
    "distanzaWind = []\n",
    "distanzaWind = map(geodesicDistance, coordinateWind)\n",
    "distanzaVoda = []\n",
    "distanzaVoda = map(geodesicDistance, coordinateVoda)\n",
    "distanza3 = []\n",
    "distanza3 = map(geodesicDistance, coordinate3)\n",
    "#print len(distanza)\n",
    "\n",
    "#da approfondire\n",
    "#italydoitcleaner['distanze'] = italydoitcleaner[['lat', 'lon']].map(lambda x: geodesicDistance())\n",
    "\n",
    "italydoitcleaner['distanze'] = distanza\n",
    "criterioRaccordo = italydoitcleaner.distanze < raggiomedio\n",
    "romacellid = italydoitcleaner[criterioRaccordo]\n",
    "romacellid = romacellid.reset_index()\n",
    "romacellid.to_csv(\"../data/roma_towers.csv\")\n",
    "\n",
    "#antenneTim = italydoitcleaner[criterioTim]\n",
    "#antenneTim = antenneTim.reset_index()\n",
    "#antenneTim['distanze'] = distanza\n",
    "#romacellid = antenneTim[criterioRaccordo]\n",
    "#romacellid = romacellid.reset_index()\n",
    "#romacellid.to_csv(\"../data/tim_towers.csv\")\n",
    "\n",
    "#distanza = map(geodesicDistance, cell)\n",
    "#def isInRome(point):\n",
    "#    return geodesicDistance(point) <= raggiomedio\n",
    "#filter(isInRome, cell)\n"
   ]
  },
  {
   "cell_type": "markdown",
   "metadata": {},
   "source": [
    "Domande su iterazione su panda dataframe e efficienza, un tizio dice che la funzione iterrows è molto poco efficiente e sarebbe molto meglio usare un numpy array. Forse esistono funzioni più efficienti. \n",
    "\n",
    "http://stackoverflow.com/questions/10729210/iterating-row-by-row-through-a-pandas-dataframe  \n",
    "\n",
    "http://stackoverflow.com/questions/7837722/what-is-the-most-efficient-way-to-loop-through-dataframes-with-pandas\n"
   ]
  },
  {
   "cell_type": "code",
   "execution_count": 118,
   "metadata": {
    "collapsed": false
   },
   "outputs": [
    {
     "name": "stdout",
     "output_type": "stream",
     "text": [
      "CPU times: user 1min 29s, sys: 492 ms, total: 1min 29s\n",
      "Wall time: 1min 29s\n"
     ]
    }
   ],
   "source": [
    "\n",
    "#dataframe = pandas.read_csv(\"../Siscomp_datas/cell_towers.csv\")\n",
    "dataframe = pandas.read_csv(\"../data/roma_towers.csv\")\n",
    "#dataframe\n",
    "\n",
    "#celle = dataframe[['cell', 'lat', 'lon', 'range']].values\n",
    "#print celle\n",
    "coordinate = dataframe[['lat', 'lon']].values\n",
    "raggio = dataframe['range'].values\n",
    "\n",
    "numdati = raggio.size\n",
    "#numdati = 100\n",
    "\n",
    "def matriceSupEuclid(datiCoordinate, datiRaggi):\n",
    "    a = numpy.zeros((numdati,numdati), dtype=int)\n",
    "    for i in xrange(numdati):\n",
    "        for j in xrange(numdati-i-1):\n",
    "#            if euclidDistance1(datiCoordinate[i], datiCoordinate[j+i+1]) <= datiRaggi[i] + datiRaggi[j+i+1]:\n",
    "#                a[i,j+i+1] = 1\n",
    "#                a[j+i+1,i] = 1\n",
    "#            else:\n",
    "#                a[i,j+i+1] = 0\n",
    "            a[i,j+i+1] = a[j+i+1,i] = (euclidDistance1(datiCoordinate[i], datiCoordinate[j+i+1]) <= datiRaggi[i] + datiRaggi[j+i+1])\n",
    "    return a\n",
    "\n",
    "def matriceSupGeodetic(datiCoordinate, datiRaggi):\n",
    "    a = numpy.zeros((numdati,numdati))\n",
    "    for i in xrange(numdati):\n",
    "        for j in xrange(numdati-i-1):\n",
    "            if geodesicDistance(datiCoordinate[i], datiCoordinate[j+i+1]) <= datiRaggi[i] + datiRaggi[j+i+1]:\n",
    "#            if geodesicDistance(datiCoordinate[i], datiCoordinate[j+i+1]) <= datiRaggi[i] + datiRaggi[j+i+1]:\n",
    "                a[i,j+i+1] = 1\n",
    "                a[j+i+1,i] = 1\n",
    "    return a\n",
    "\n",
    "def matricetutta(datiCoordinate, datiRaggi):\n",
    "    a = numpy.zeros((numdati,numdati))\n",
    "    for i in xrange(numdati):\n",
    "        for j in xrange(numdati):\n",
    "            if geodesicDistance(datiCoordinate[i], datiCoordinate[j]) <= datiRaggi[i] + datiRaggi[j]:\n",
    "                a[i,j] = 1\n",
    "            if (i == j):\n",
    "                a[i,j] = 0\n",
    "    return a\n",
    "\n",
    "#%time adiacenzaGeo = matriceSupGeodetic(coordinate, raggio)\n",
    "\n",
    "%time adiacenzaEuclid = matriceSupEuclid(coordinate, raggio)\n",
    "\n",
    "#adiacenzaEuclid\n",
    "numpy.savetxt('adiacenzaeuclidea.csv',adiacenzaEuclid, fmt='%d',delimiter=',',newline='\\n')      \n",
    "#numpy.savetxt?\n",
    "#ridotto = dataframe[['cell', 'lat', 'lon', 'range']]        \n",
    "#b = numpy.zeros((50,50))\n",
    "\n",
    "#for i in ridotto.iterrows():\n",
    "#    for j in ridotto.iterrows():\n",
    "#        if linkVettori(i, j):\n",
    "#            a[ridotto[\"index\"],ridotto[\"index\"]] = 1"
   ]
  },
  {
   "cell_type": "markdown",
   "metadata": {},
   "source": [
    "Il primo tentativo è stato di fare la matrice di adiacenza a forza bruta. Con un campione di soli 50 nodi ci metteva pochi microsecondi, quindi abbiamo provato a fare la matrice di adiacenza delle 7000 antenne entro il raccordo anulare, notando che la compilazione durava tanto, facendo le dovute proporzioni abbiamo preventivato 2,5 ore di tempo di calcolo. La prima cosa che abbiamo sistemato è stato ovviamente fare un ciclo che calcolasse soltanto la metà superiore della matrice, dimezzando il tempo di calcolo. \n",
    "\n",
    "La prima cosa che abbiamo pensato di fare è stato di diagonalizzare a blocchi la matrice, o fare un ciclo di bassissimo livello che mettesse 0 a tutti gli elementi relativi alle antenne con $\\Delta$Latitudine e/o $\\Delta$Longitudine maggiori del range massimo del campione di dati. Il problema avuto è che il range delle antenne è tendenzialmente grande, con alcune che arrivano a 10km (con raggioRoma 11km)(e anche tanti samples), quindi non c'era modo di ridurre i calcoli. \n",
    "\n",
    "L'unica altra idea che abbiamo avuto è stata di non fare il calcolo complicato con la distanza sul geoide con il metodo vincenty. Primo passo è stato usare il metodo con great circles, l'altro è stato di considerare la porzione di Roma presa come un cerchio piano, calcolando quindi la distanza euclidea tra coordinate geografiche e convertendola in metri. E ci mette MOLTO meno tempo $\\sim$10 volte in meno. Con un \n",
    "preventivo quindi di 10 minuti di tempo di calcolo invece di 1 ora e mezza.\n",
    "\n",
    "TODO vedere parallelaizazione"
   ]
  },
  {
   "cell_type": "markdown",
   "metadata": {},
   "source": [
    "\n",
    "###Prova preliminare con 50 dati\n",
    "con vincenti \n",
    "$\\sim$45 ms\n",
    "\n",
    "con great circols\n",
    "$\\sim$25 ms\n",
    "\n",
    "con euclid\n",
    "$\\sim$5 ms\n",
    "\n",
    "###Prova 50 dati\n",
    "\n",
    "CPU times: user 32 ms, sys: 0 ns, total: 32 ms\n",
    "Wall time: 31.8 ms  \n",
    "CPU times: user 4 ms, sys: 0 ns, total: 4 ms\n",
    "Wall time: 4.3 ms\n",
    "\n",
    "CPU times: user 32 ms, sys: 0 ns, total: 32 ms\n",
    "Wall time: 33.6 ms\n",
    "CPU times: user 4 ms, sys: 0 ns, total: 4 ms\n",
    "Wall time: 4.2 ms\n",
    "\n",
    "CPU times: user 32 ms, sys: 0 ns, total: 32 ms\n",
    "Wall time: 31.2 ms\n",
    "CPU times: user 4 ms, sys: 0 ns, total: 4 ms\n",
    "Wall time: 4.24 ms\n",
    "\n",
    "CPU times: user 32 ms, sys: 0 ns, total: 32 ms\n",
    "Wall time: 31 ms\n",
    "CPU times: user 4 ms, sys: 0 ns, total: 4 ms\n",
    "Wall time: 4.29 ms\n",
    "\n",
    "###Prova 100 dati\n",
    "\n",
    "CPU times: user 132 ms, sys: 0 ns, total: 132 ms\n",
    "Wall time: 133 ms  \n",
    "CPU times: user 12 ms, sys: 16 ms, total: 28 ms\n",
    "Wall time: 21.5 ms\n",
    "\n",
    "CPU times: user 124 ms, sys: 0 ns, total: 124 ms\n",
    "Wall time: 126 ms  \n",
    "CPU times: user 20 ms, sys: 0 ns, total: 20 ms\n",
    "Wall time: 16.6 ms\n",
    "\n",
    "CPU times: user 132 ms, sys: 0 ns, total: 132 ms\n",
    "Wall time: 126 ms  \n",
    "CPU times: user 16 ms, sys: 8 ms, total: 24 ms\n",
    "Wall time: 21.9 ms\n",
    "\n",
    "CPU times: user 128 ms, sys: 0 ns, total: 128 ms\n",
    "Wall time: 127 ms  \n",
    "CPU times: user 16 ms, sys: 0 ns, total: 16 ms\n",
    "Wall time: 16.8 ms\n",
    "\n",
    "###con 500\n",
    "\n",
    "CPU times: user 3.28 s, sys: 0 ns, total: 3.28 s\n",
    "Wall time: 3.27 s  \n",
    "CPU times: user 404 ms, sys: 0 ns, total: 404 ms\n",
    "Wall time: 403 ms\n",
    "\n",
    "CPU times: user 3.26 s, sys: 20 ms, total: 3.28 s\n",
    "Wall time: 3.23 s\n",
    "CPU times: user 404 ms, sys: 0 ns, total: 404 ms\n",
    "Wall time: 401 ms\n",
    "\n",
    "###con 1000\n",
    "CPU times: user 12.6 s, sys: 32 ms, total: 12.6 s\n",
    "Wall time: 12.5 s\n",
    "CPU times: user 1.62 s, sys: 16 ms, total: 1.64 s\n",
    "Wall time: 1.62 s\n",
    "\n",
    "CPU times: user 12.5 s, sys: 48 ms, total: 12.5 s\n",
    "Wall time: 12.5 s\n",
    "CPU times: user 1.62 s, sys: 16 ms, total: 1.64 s\n",
    "Wall time: 1.62 s\n",
    "\n",
    "###con 2000\n",
    "CPU times: user 49.7 s, sys: 160 ms, total: 49.9 s\n",
    "Wall time: 49.6 s  \n",
    "CPU times: user 6.47 s, sys: 40 ms, total: 6.51 s\n",
    "Wall time: 6.44 s\n",
    "\n",
    "CPU times: user 51.2 s, sys: 232 ms, total: 51.4 s\n",
    "Wall time: 51.1 s  \n",
    "CPU times: user 6.67 s, sys: 24 ms, total: 6.7 s\n",
    "Wall time: 6.65 s\n",
    "\n",
    "\n"
   ]
  },
  {
   "cell_type": "code",
   "execution_count": 94,
   "metadata": {
    "collapsed": false
   },
   "outputs": [
    {
     "data": {
      "text/plain": [
       "<matplotlib.legend.Legend at 0x7efe3f9fc710>"
      ]
     },
     "execution_count": 94,
     "metadata": {},
     "output_type": "execute_result"
    },
    {
     "data": {
      "image/png": "[encoded data removed]",
      "text/plain": [
       "<matplotlib.figure.Figure at 0x7efe40141e10>"
      ]
     },
     "metadata": {},
     "output_type": "display_data"
    }
   ],
   "source": [
    "numdati = [50, 100, 500, 1000, 2000]\n",
    "tempieuclid = [0.0042575, 0.0192, 0.402, 1.62, 6.545]\n",
    "tempigeo = [0.032, 0.128, 3.25, 12.5, 50.35]\n",
    "\n",
    "%matplotlib inline\n",
    "\n",
    "\n",
    "geo = pyplot.scatter(x=numdati, y=tempigeo, label=\"Geodesic Dist\", c='red')\n",
    "euclid = pyplot.scatter(x=numdati, y=tempieuclid, label=\"Euclid Dist\", c='green')\n",
    "pyplot.title('Benchmark')\n",
    "pyplot.xlabel(\"Numero dati\")\n",
    "pyplot.ylabel(\"Tempo di calcolo\")\n",
    "pyplot.legend(loc = 2)\n",
    "#roma.plot(kind=\"scatter\", x=\"lon\", y=\"lat\", label=\"Roma PRELIMINARE\")"
   ]
  },
  {
   "cell_type": "markdown",
   "metadata": {},
   "source": [
    "###Geo dist\n",
    "Tempo previsto di calcolo con $\\sim$ 7000 dati: $\\sim$ 620 sec $\\sim$ 10 minuti\n",
    "\n",
    "###Euclid dist\n",
    "Tempo previsto di calcolo con $\\sim$ 7000 dati: $\\sim$ 80 sec $\\sim$ 1,3 minuti"
   ]
  },
  {
   "cell_type": "code",
   "execution_count": 2,
   "metadata": {
    "collapsed": false
   },
   "outputs": [],
   "source": [
    "adiacenzaEuclidea = numpy.genfromtxt(\"/home/protoss/Documenti/Siscomp_datas/AdiacenzaEuclidea.csv\",delimiter=',',dtype='int')"
   ]
  },
  {
   "cell_type": "code",
   "execution_count": 4,
   "metadata": {
    "collapsed": false
   },
   "outputs": [],
   "source": [
    "import networkx\n",
    "grafoRoma = networkx.Graph(adiacenzaEuclidea)"
   ]
  },
  {
   "cell_type": "code",
   "execution_count": 7,
   "metadata": {
    "collapsed": false
   },
   "outputs": [
    {
     "data": {
      "image/png": "[encoded data removed]",
      "text/plain": [
       "<matplotlib.figure.Figure at 0x7f01f67ca210>"
      ]
     },
     "metadata": {},
     "output_type": "display_data"
    }
   ],
   "source": [
    "%matplotlib inline\n",
    "networkx.draw_random(grafoRoma)"
   ]
  },
  {
   "cell_type": "code",
   "execution_count": 8,
   "metadata": {
    "collapsed": false
   },
   "outputs": [
    {
     "data": {
      "image/png": "[encoded data removed]",
      "text/plain": [
       "<matplotlib.figure.Figure at 0x7f01b2b7bdd0>"
      ]
     },
     "metadata": {},
     "output_type": "display_data"
    }
   ],
   "source": [
    "grado = grafoRoma.degree().values()\n",
    "\n",
    "def degreeDistribution(gradi):\n",
    "    pyplot.hist(gradi, bins=max(gradi)-min(gradi), histtype='step')\n",
    "    pyplot.title('Degree distribution')\n",
    "    pyplot.xlabel(\"Degree\")\n",
    "    pyplot.ylabel(\"Frequency\")\n",
    "    # return\n",
    "    # histtype='bar', alpha=0.5\n",
    "    # bins=max(grado)-min(grado)\n",
    "\n",
    "distribuzione = degreeDistribution(grado)"
   ]
  },
  {
   "cell_type": "code",
   "execution_count": 13,
   "metadata": {
    "collapsed": false
   },
   "outputs": [
    {
     "data": {
      "text/plain": [
       "False"
      ]
     },
     "execution_count": 13,
     "metadata": {},
     "output_type": "execute_result"
    }
   ],
   "source": [
    "0 in grado"
   ]
  },
  {
   "cell_type": "code",
   "execution_count": 16,
   "metadata": {
    "collapsed": false
   },
   "outputs": [
    {
     "data": {
      "image/png": "[encoded data removed]",
      "text/plain": [
       "<matplotlib.figure.Figure at 0x7f01aca50050>"
      ]
     },
     "metadata": {},
     "output_type": "display_data"
    }
   ],
   "source": [
    "def degreeDistribution(gradi):\n",
    "    pyplot.hist(numpy.log10(gradi), bins=max(gradi)-min(gradi), histtype='step', log=True)\n",
    "    pyplot.title('Degree distribution')\n",
    "    pyplot.xlabel(\"log Degree\")\n",
    "    pyplot.ylabel(\"Frequency (log)\")\n",
    "    # return\n",
    "    # histtype='bar', alpha=0.5\n",
    "    # bins=max(grado)-min(grado)\n",
    "\n",
    "distribuzione = degreeDistribution(grado)"
   ]
  },
  {
   "cell_type": "markdown",
   "metadata": {},
   "source": [
    "##TODO:  \n",
    "* Prendere array coordinate                                                           ✔\n",
    "* fare array distanze                                                                  ✔\n",
    "* mettere colonna distanze in dataframe  ✔\n",
    "* selezionare righe con variabile compresa entro raggiomedio                           ✔  \n",
    "* fare un nuovo dataframe  ✔\n",
    "* escludere tutti i nodi con 1 sample solo ✔\n",
    "* fare P(k) ✔\n",
    "\n",
    "##TODO:\n",
    "* log binning \n",
    "* FARE GRAFICI MEGLIO \n",
    "* Soglia percolativa: fare grafico dimensioni giant cluster in funzione di rimozione di nodi\n",
    "* in modo casuale\n",
    "* cominciando da i nodi più connessi  \n",
    "NB giant cluster è cluster che scala con N. E.g., se il giant cluster è composto da N/10 della rete, se raddoppio la rete o la dimezzo deve rimanere composto da 1/10 del totale dei nodi della rete. Idem se è N/100 o N/0.9\n",
    "\n",
    "  Leggere (materiale lezione su percolazione-attacchi-epidemie):  \n",
    "  http://www.nature.com/nature/journal/v406/n6794/full/406378a0.html  \n",
    "  http://arxiv.org/pdf/cond-mat/0010317.pdf  \n",
    "  http://arxiv.org/pdf/cond-mat/0007048.pdf  \n",
    "  http://arxiv.org/pdf/cond-mat/0010251.pdf  \n",
    "  \n",
    "  Altro materiale forse utile:\n",
    "  http://arxiv.org/pdf/cond-mat/9910332.pdf  \n",
    "  http://arxiv.org/pdf/cond-mat/9907068.pdf  \n",
    "  http://citeseerx.ist.psu.edu/viewdoc/download?doi=10.1.1.71.8276&rep=rep1&type=pdf  \n",
    "  \n",
    "  \n",
    "  Tesina: parte iniziale su problema robustezza reti, poi test su reti di antenne in roma (rete scale free ma che deve avere una certa robustezza)\n",
    "  veder compagnie separae"
   ]
  },
  {
   "cell_type": "code",
   "execution_count": null,
   "metadata": {
    "collapsed": false
   },
   "outputs": [],
   "source": []
  }
 ],
 "metadata": {
  "kernelspec": {
   "display_name": "Python 2",
   "language": "python",
   "name": "python2"
  },
  "language_info": {
   "codemirror_mode": {
    "name": "ipython",
    "version": 2
   },
   "file_extension": ".py",
   "mimetype": "text/x-python",
   "name": "python",
   "nbconvert_exporter": "python",
   "pygments_lexer": "ipython2",
   "version": "2.7.10"
  }
 },
 "nbformat": 4,
 "nbformat_minor": 0
}
