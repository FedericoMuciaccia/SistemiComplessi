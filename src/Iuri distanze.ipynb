{
 "metadata": {
  "name": "",
  "signature": "sha256:7fab0ed274994e67d116f7c3f521d83aee37709a9a8c0d39c3c603e93165c3a9"
 },
 "nbformat": 3,
 "nbformat_minor": 0,
 "worksheets": [
  {
   "cells": [
    {
     "cell_type": "markdown",
     "metadata": {},
     "source": [
      "###Importo tutte le librerie necessarie"
     ]
    },
    {
     "cell_type": "code",
     "collapsed": false,
     "input": [
      "import geopy\n",
      "from geopy import distance #TODO BUGGONE\n",
      "import math\n",
      "import itertools\n",
      "import pandas\n",
      "import numpy\n",
      "import networkx\n",
      "from matplotlib import pyplot\n",
      "#import seaborn\n",
      "%matplotlib qt"
     ],
     "language": "python",
     "metadata": {},
     "outputs": [],
     "prompt_number": 1
    },
    {
     "cell_type": "markdown",
     "metadata": {},
     "source": [
      "##Calcolo matrice adiacenza\n",
      "\n",
      "###Calcolo il raggio medio che definisce Roma entro il raccordo anulare\n",
      "\n",
      "NB: da verificare che distanza euclidea non crei troppi problemi"
     ]
    },
    {
     "cell_type": "code",
     "collapsed": false,
     "input": [
      "colosseo = (41.890173, 12.492331)\n",
      "raccordo = [(41.914456, 12.615807),(41.990672, 12.502714),(41.793883, 12.511297),(41.812566, 12.396628),(41.956277, 12.384611)]\n",
      "raggi = []\n",
      "\n",
      "def geodesicDistance(A, B=colosseo):\n",
      "    return geopy.distance.vincenty(A, B).meters\n",
      "\n",
      "raggioTerra = 6372795\n",
      "def euclidDistance(A, B=colosseo):\n",
      "    latitudine1 = math.radians(A[0])\n",
      "    latitudine2 = math.radians(B[0])\n",
      "    longitudine1 = math.radians(A[1])\n",
      "    longitudine2 = math.radians(B[1])\n",
      "    x1 = raggioTerra*math.sin(math.pi-latitudine1)*math.cos(longitudine1)\n",
      "    y1 = raggioTerra*math.sin(math.pi-latitudine1)*math.sin(longitudine1)\n",
      "    z1 = raggioTerra*math.cos(math.pi-latitudine1)\n",
      "    x2 = raggioTerra*math.sin(math.pi-latitudine2)*math.cos(longitudine2)\n",
      "    y2 = raggioTerra*math.sin(math.pi-latitudine2)*math.sin(longitudine2)\n",
      "    z2 = raggioTerra*math.cos(math.pi-latitudine2)\n",
      "    return math.sqrt((x1-x2)**2+(y1-y2)**2+(z1-z2)**2)\n",
      "\n",
      "\n",
      "raggi = map(geodesicDistance, raccordo)\n",
      "print raggi\n",
      "\n",
      "raggi1= []\n",
      "raggi1 = map(euclidDistance, raccordo)\n",
      "print raggi1\n",
      "\n",
      "raggiomedioGeo = 0\n",
      "raggiomedioEuclid = 0\n",
      "for i in raggi:\n",
      "\traggiomedioGeo += i\n",
      "\n",
      "for i in raggi1:\n",
      "    raggiomedioEuclid += i\n",
      "    \n",
      "raggiomedioGeo /= len(raggi)\n",
      "raggiomedioEuclid /= len(raggi1)\n",
      "\n",
      "\n",
      "print raggiomedioGeo\n",
      "print raggiomedioEuclid"
     ],
     "language": "python",
     "metadata": {},
     "outputs": [
      {
       "output_type": "stream",
       "stream": "stdout",
       "text": [
        "[10594.771772886095, 11195.797051005826, 10810.334056716569, 11724.513790860976, 11565.06035260429]\n",
        "[9561.666348445664, 11204.74314532015, 10802.028143952435, 11178.132568907718, 10869.268356548899]\n",
        "11178.0954048\n",
        "10723.1677126\n"
       ]
      }
     ],
     "prompt_number": 2
    },
    {
     "cell_type": "markdown",
     "metadata": {},
     "source": [
      "###Popolo il dataframe e faccio una prima grossa scrematura"
     ]
    },
    {
     "cell_type": "code",
     "collapsed": false,
     "input": [
      "dataframe = pandas.read_csv(\"/home/protoss/Documenti/Siscomp_datas/cell_towers.csv\")\n",
      "#dataframe = pandas.read_csv(\"/home/protoss/Documenti/SistemiComplessi/data/cell_towers_diff-2016012100.csv\")\n",
      "#dataframe\n",
      "criterioMCC = dataframe.mcc == 222\n",
      "criterioMinsamples = dataframe.samples > 1\n",
      "italydoitcleaner = dataframe[criterioMCC & criterioMinsamples]\n",
      "italydoitcleaner\n",
      "\n",
      "italydoitcleaner = italydoitcleaner.reset_index()\n",
      "italydoitcleaner.drop(italydoitcleaner.columns[[0,1,2,4,6,11,12,13,14]], axis = 1, inplace=True)\n",
      "#italydoitcleaner"
     ],
     "language": "python",
     "metadata": {},
     "outputs": [],
     "prompt_number": 14
    },
    {
     "cell_type": "markdown",
     "metadata": {},
     "source": [
      "###Seleziono le antenne in Roma e faccio dei .csv appositi"
     ]
    },
    {
     "cell_type": "code",
     "collapsed": false,
     "input": [
      "#inroma = pandas.DataFrame([[41.947416, 12.371001],\n",
      "#                            [41.899392, 12.397436],\n",
      "#                            [41.870510, 12.287917],\n",
      "#                            [41.899648, 12.515196]], \n",
      "#                            columns=('lon', 'lat'))\n",
      "\n",
      "#istruzione che fa selezione alcune righe con criteri su alcune colonne, \n",
      "#ne seleziona alcune e restituisce un array nompy di valori desiderati\n",
      "\n",
      "coordinate = dataframe[criterioMCC & criterioMinsamples][['lat', 'lon']].values\n",
      "#print coordinate\n",
      "\n",
      "\n",
      "distanza = []\n",
      "distanza = map(geodesicDistance, coordinate)\n",
      "\n",
      "#print len(distanza)\n",
      "\n",
      "#da approfondire\n",
      "#italydoitcleaner['distanze'] = italydoitcleaner[['lat', 'lon']].map(lambda x: geodesicDistance())\n",
      "\n",
      "italydoitcleaner['distanze'] = distanza\n",
      "criterioRaccordo = italydoitcleaner.distanze < raggiomedioEuclid\n",
      "romaCell = italydoitcleaner[criterioRaccordo]\n",
      "romaCell = romaCell.reset_index()\n",
      "romaCell.drop(romaCell.columns[[0]], axis = 1, inplace=True)\n",
      "#romacellid\n",
      "romaCell.to_csv(\"../data/roma_towers.csv\")\n",
      "\n",
      "criterioTim = romaCell.net == 1\n",
      "criterioWind = romaCell.net == 88\n",
      "criterioVoda = romaCell.net == 10\n",
      "criterioTre = romaCell.net == 99\n",
      "\n",
      "\n",
      "timCell = romaCell[criterioTim]\n",
      "timCell = timCell.reset_index()\n",
      "timCell.drop(timCell.columns[[0]], axis = 1, inplace=True)\n",
      "timCell.to_csv(\"../data/tim_towers.csv\")\n",
      "\n",
      "windCell = romaCell[criterioWind]\n",
      "windCell = windCell.reset_index()\n",
      "windCell.drop(windCell.columns[[0]], axis = 1, inplace=True)\n",
      "windCell.to_csv(\"../data/wind_towers.csv\")\n",
      "\n",
      "vodaCell = romaCell[criterioVoda]\n",
      "vodaCell = vodaCell.reset_index()\n",
      "vodaCell.drop(vodaCell.columns[[0]], axis = 1, inplace=True)\n",
      "vodaCell.to_csv(\"../data/voda_towers.csv\")\n",
      "\n",
      "treCell = romaCell[criterioTre]\n",
      "treCell = treCell.reset_index()\n",
      "treCell.drop(treCell.columns[[0]], axis = 1, inplace=True)\n",
      "treCell.to_csv(\"../data/tre_towers.csv\")\n"
     ],
     "language": "python",
     "metadata": {},
     "outputs": [],
     "prompt_number": 15
    },
    {
     "cell_type": "markdown",
     "metadata": {},
     "source": [
      "Domande su iterazione su panda dataframe e efficienza, un tizio dice che la funzione iterrows \u00e8 molto poco efficiente e sarebbe molto meglio usare un numpy array. Forse esistono funzioni pi\u00f9 efficienti. \n",
      "\n",
      "http://stackoverflow.com/questions/10729210/iterating-row-by-row-through-a-pandas-dataframe  \n",
      "\n",
      "http://stackoverflow.com/questions/7837722/what-is-the-most-efficient-way-to-loop-through-dataframes-with-pandas\n"
     ]
    },
    {
     "cell_type": "markdown",
     "metadata": {},
     "source": [
      "### Prendo le antenne di Roma e faccio matrice adiacenza"
     ]
    },
    {
     "cell_type": "code",
     "collapsed": false,
     "input": [
      "#definisco la funzione che mi calcola la matrice di adiacenza\n",
      "def matriceSupEuclid(datiCoordinate, datiRaggi):\n",
      "    a = numpy.zeros((numdati,numdati), dtype=int)\n",
      "    for i in xrange(numdati):\n",
      "        for j in xrange(numdati-i-1):\n",
      "            sommaraggi = datiRaggi[i] + datiRaggi[j+i+1]\n",
      "            #\u00e8 equivalente a un if \n",
      "            a[i,j+i+1] = a[j+i+1,i] = (euclidDistance(datiCoordinate[i], datiCoordinate[j+i+1]) <= 0.8*sommaraggi)\n",
      "    return a\n",
      "\n",
      "def matriceSupGeodetic(datiCoordinate, datiRaggi):\n",
      "    a = numpy.zeros((numdati,numdati))\n",
      "    for i in xrange(numdati):\n",
      "        for j in xrange(numdati-i-1):\n",
      "            if geodesicDistance(datiCoordinate[i], datiCoordinate[j+i+1]) <= datiRaggi[i] + datiRaggi[j+i+1]:\n",
      "                a[i,j+i+1] = 1\n",
      "                a[j+i+1,i] = 1\n",
      "    return a\n",
      "\n",
      "\n",
      "\n",
      "#dataframe = pandas.read_csv(\"../data/roma_towers.csv\")\n",
      "compagnie = [\"roma\", \"tim\", \"wind\", \"voda\", \"tre\"]\n",
      "for gestore in compagnie:\n",
      "    dataframe = pandas.read_csv(\"../data/{0}_towers.csv\".format(gestore))\n",
      "    coordinate = dataframe[['lat', 'lon']].values\n",
      "    raggio = dataframe['range'].values\n",
      "\n",
      "    numdati = raggio.size\n",
      "    \n",
      "    #%time adiacenzaGeo = matriceSupGeodetic(coordinate, raggio)\n",
      "    %time adiacenzaEuclid = matriceSupEuclid(coordinate, raggio)\n",
      "    \n",
      "    numpy.savetxt((\"/home/protoss/Documenti/Siscomp_datas/AdiacenzaEuclidea_{0}.csv\".format(gestore)),adiacenzaEuclid, fmt='%d',delimiter=',',newline='\\n')"
     ],
     "language": "python",
     "metadata": {},
     "outputs": [
      {
       "output_type": "stream",
       "stream": "stdout",
       "text": [
        "CPU times: user 1min 23s, sys: 504 ms, total: 1min 24s\n",
        "Wall time: 1min 23s\n",
        "CPU times: user 4.63 s, sys: 36 ms, total: 4.66 s"
       ]
      },
      {
       "output_type": "stream",
       "stream": "stdout",
       "text": [
        "\n",
        "Wall time: 4.64 s\n",
        "CPU times: user 9.09 s, sys: 60 ms, total: 9.15 s"
       ]
      },
      {
       "output_type": "stream",
       "stream": "stdout",
       "text": [
        "\n",
        "Wall time: 9.09 s\n",
        "CPU times: user 4.54 s, sys: 36 ms, total: 4.58 s"
       ]
      },
      {
       "output_type": "stream",
       "stream": "stdout",
       "text": [
        "\n",
        "Wall time: 4.54 s\n",
        "CPU times: user 3.35 s, sys: 40 ms, total: 3.39 s"
       ]
      },
      {
       "output_type": "stream",
       "stream": "stdout",
       "text": [
        "\n",
        "Wall time: 3.35 s\n"
       ]
      }
     ],
     "prompt_number": 16
    },
    {
     "cell_type": "markdown",
     "metadata": {},
     "source": [
      "## Varie note su tempi di calcolo"
     ]
    },
    {
     "cell_type": "markdown",
     "metadata": {},
     "source": [
      "\n",
      "###Prova preliminare con 50 dati\n",
      "con vincenti \n",
      "$\\sim$45 ms\n",
      "\n",
      "con great circols\n",
      "$\\sim$25 ms\n",
      "\n",
      "con euclid\n",
      "$\\sim$5 ms\n",
      "\n",
      "###Prova 50 dati\n",
      "\n",
      "CPU times: user 32 ms, sys: 0 ns, total: 32 ms\n",
      "Wall time: 31.8 ms  \n",
      "CPU times: user 4 ms, sys: 0 ns, total: 4 ms\n",
      "Wall time: 4.3 ms\n",
      "\n",
      "CPU times: user 32 ms, sys: 0 ns, total: 32 ms\n",
      "Wall time: 33.6 ms\n",
      "CPU times: user 4 ms, sys: 0 ns, total: 4 ms\n",
      "Wall time: 4.2 ms\n",
      "\n",
      "CPU times: user 32 ms, sys: 0 ns, total: 32 ms\n",
      "Wall time: 31.2 ms\n",
      "CPU times: user 4 ms, sys: 0 ns, total: 4 ms\n",
      "Wall time: 4.24 ms\n",
      "\n",
      "CPU times: user 32 ms, sys: 0 ns, total: 32 ms\n",
      "Wall time: 31 ms\n",
      "CPU times: user 4 ms, sys: 0 ns, total: 4 ms\n",
      "Wall time: 4.29 ms\n",
      "\n",
      "###Prova 100 dati\n",
      "\n",
      "CPU times: user 132 ms, sys: 0 ns, total: 132 ms\n",
      "Wall time: 133 ms  \n",
      "CPU times: user 12 ms, sys: 16 ms, total: 28 ms\n",
      "Wall time: 21.5 ms\n",
      "\n",
      "CPU times: user 124 ms, sys: 0 ns, total: 124 ms\n",
      "Wall time: 126 ms  \n",
      "CPU times: user 20 ms, sys: 0 ns, total: 20 ms\n",
      "Wall time: 16.6 ms\n",
      "\n",
      "CPU times: user 132 ms, sys: 0 ns, total: 132 ms\n",
      "Wall time: 126 ms  \n",
      "CPU times: user 16 ms, sys: 8 ms, total: 24 ms\n",
      "Wall time: 21.9 ms\n",
      "\n",
      "CPU times: user 128 ms, sys: 0 ns, total: 128 ms\n",
      "Wall time: 127 ms  \n",
      "CPU times: user 16 ms, sys: 0 ns, total: 16 ms\n",
      "Wall time: 16.8 ms\n",
      "\n",
      "###con 500\n",
      "\n",
      "CPU times: user 3.28 s, sys: 0 ns, total: 3.28 s\n",
      "Wall time: 3.27 s  \n",
      "CPU times: user 404 ms, sys: 0 ns, total: 404 ms\n",
      "Wall time: 403 ms\n",
      "\n",
      "CPU times: user 3.26 s, sys: 20 ms, total: 3.28 s\n",
      "Wall time: 3.23 s\n",
      "CPU times: user 404 ms, sys: 0 ns, total: 404 ms\n",
      "Wall time: 401 ms\n",
      "\n",
      "###con 1000\n",
      "CPU times: user 12.6 s, sys: 32 ms, total: 12.6 s\n",
      "Wall time: 12.5 s\n",
      "CPU times: user 1.62 s, sys: 16 ms, total: 1.64 s\n",
      "Wall time: 1.62 s\n",
      "\n",
      "CPU times: user 12.5 s, sys: 48 ms, total: 12.5 s\n",
      "Wall time: 12.5 s\n",
      "CPU times: user 1.62 s, sys: 16 ms, total: 1.64 s\n",
      "Wall time: 1.62 s\n",
      "\n",
      "###con 2000\n",
      "CPU times: user 49.7 s, sys: 160 ms, total: 49.9 s\n",
      "Wall time: 49.6 s  \n",
      "CPU times: user 6.47 s, sys: 40 ms, total: 6.51 s\n",
      "Wall time: 6.44 s\n",
      "\n",
      "CPU times: user 51.2 s, sys: 232 ms, total: 51.4 s\n",
      "Wall time: 51.1 s  \n",
      "CPU times: user 6.67 s, sys: 24 ms, total: 6.7 s\n",
      "Wall time: 6.65 s\n",
      "\n",
      "\n"
     ]
    },
    {
     "cell_type": "code",
     "collapsed": false,
     "input": [
      "numdati = [50, 100, 500, 1000, 2000]\n",
      "tempieuclid = [0.0042575, 0.0192, 0.402, 1.62, 6.545]\n",
      "tempigeo = [0.032, 0.128, 3.25, 12.5, 50.35]\n",
      "\n",
      "\n",
      "geo = pyplot.scatter(x=numdati, y=tempigeo, label=\"Geodesic Dist\", c='red')\n",
      "euclid = pyplot.scatter(x=numdati, y=tempieuclid, label=\"Euclid Dist\", c='green')\n",
      "pyplot.title('Benchmark')\n",
      "pyplot.xlabel(\"Numero dati\")\n",
      "pyplot.ylabel(\"Tempo di calcolo\")\n",
      "pyplot.legend(loc = 2)\n",
      "#roma.plot(kind=\"scatter\", x=\"lon\", y=\"lat\", label=\"Roma PRELIMINARE\")"
     ],
     "language": "python",
     "metadata": {},
     "outputs": [
      {
       "metadata": {},
       "output_type": "pyout",
       "prompt_number": 94,
       "text": [
        "<matplotlib.legend.Legend at 0x7efe3f9fc710>"
       ]
      },
      {
       "metadata": {},
       "output_type": "display_data",
       "png": "[encoded data removed]",
       "text": [
        "<matplotlib.figure.Figure at 0x7efe40141e10>"
       ]
      }
     ],
     "prompt_number": 94
    },
    {
     "cell_type": "markdown",
     "metadata": {},
     "source": [
      "###Geo dist\n",
      "Tempo previsto di calcolo con $\\sim$ 7000 dati: $\\sim$ 620 sec $\\sim$ 10 minuti\n",
      "\n",
      "###Euclid dist\n",
      "Tempo previsto di calcolo con $\\sim$ 7000 dati: $\\sim$ 80 sec $\\sim$ 1,3 minuti"
     ]
    },
    {
     "cell_type": "markdown",
     "metadata": {},
     "source": [
      "##Faccio disegno grafo e grafico distr grado"
     ]
    },
    {
     "cell_type": "code",
     "collapsed": false,
     "input": [
      "adiacenzaEuclidea = numpy.genfromtxt(\"/home/protoss/Documenti/Siscomp_datas/AdiacenzaEuclidea_tre.csv\",delimiter=',',dtype='int')\n",
      "grafoRoma = networkx.Graph(adiacenzaEuclidea)\n",
      "\n",
      "pyplot.subplot(221)\n",
      "networkx.draw_random(grafoRoma)\n",
      "\n",
      "pyplot.subplot(222)\n",
      "networkx.draw_random(grafoRoma)\n",
      "\n",
      "pyplot.subplot(223)\n",
      "networkx.draw_random(grafoRoma)\n",
      "\n",
      "pyplot.subplot(224)\n",
      "networkx.draw_random(grafoRoma)\n",
      "\n",
      "pyplot.show()"
     ],
     "language": "python",
     "metadata": {},
     "outputs": [],
     "prompt_number": 6
    },
    {
     "cell_type": "code",
     "collapsed": false,
     "input": [
      "%matplotlib inline\n",
      "\n",
      "def degreeDistribution(gradi):\n",
      "    pyplot.hist(gradi, bins=max(gradi)-min(gradi), histtype='step')\n",
      "    pyplot.title('Degree distribution')\n",
      "    pyplot.xlabel(\"Degree\")\n",
      "    pyplot.ylabel(\"Frequency\")\n",
      "    # pyplot.legend()\n",
      "    # return\n",
      "    # histtype='bar', alpha=0.5\n",
      "    # bins=max(grado)-min(grado)\n",
      "\n",
      "def degreeDistributionLog(gradi):\n",
      "    pyplot.hist(numpy.log10(gradi), bins=max(gradi)-min(gradi), histtype='step', log=True)\n",
      "    pyplot.title('Degree distribution')\n",
      "    pyplot.xlabel(\"log Degree\")\n",
      "    pyplot.ylabel(\"Frequency (log)\")\n",
      "    # pyplot.legend()\n",
      "    # return\n",
      "    # histtype='bar', alpha=0.5\n",
      "    # bins=max(grado)-min(grado)\n",
      "\n",
      "#TODO METTERE IN BOX SOPRA TUTTI I CALCOLI DELLE DISTRIBUZIONI DEL GRADO, CHE QUINDI DEVONO PORTARE IN UN SOLO FOR A DEFINIRE 5 ARRAYS\n",
      "#ROMA + 4 COMPAGNIE\n",
      "adiacenzaEuclidea = numpy.genfromtxt(\"/home/protoss/Documenti/Siscomp_datas/AdiacenzaEuclidea_roma.csv\",delimiter=',',dtype='int')\n",
      "grafoRoma = networkx.Graph(adiacenzaEuclidea)\n",
      "grado = grafoRoma.degree().values()\n",
      "distribuzione = degreeDistributionLog(grado)\n",
      "pyplot.show()\n",
      "distribuzione = degreeDistribution(grado)\n",
      "pyplot.show()\n",
      "    \n",
      "compagnie = [\"tim\", \"wind\", \"voda\", \"tre\"]\n",
      "for gestore in compagnie:\n",
      "    adiacenzaEuclidea = numpy.genfromtxt((\"/home/protoss/Documenti/Siscomp_datas/AdiacenzaEuclidea_{0}.csv\".format(gestore)),delimiter=',',dtype='int')\n",
      "    grafoRoma = networkx.Graph(adiacenzaEuclidea)\n",
      "    grado = grafoRoma.degree().values()\n",
      "    distribuzione = degreeDistributionLog(grado)\n",
      "    \n",
      "pyplot.show()    \n",
      "    \n",
      "for gestore in compagnie:\n",
      "    adiacenzaEuclidea = numpy.genfromtxt((\"/home/protoss/Documenti/Siscomp_datas/AdiacenzaEuclidea_{0}.csv\".format(gestore)),delimiter=',',dtype='int')\n",
      "    grafoRoma = networkx.Graph(adiacenzaEuclidea)\n",
      "    grado = grafoRoma.degree().values()\n",
      "    distribuzione = degreeDistribution(grado)\n",
      "    \n",
      "pyplot.show()\n",
      "    #distribuzione = degreeDistribution(grado)"
     ],
     "language": "python",
     "metadata": {},
     "outputs": [
      {
       "metadata": {},
       "output_type": "display_data",
       "png": "[encoded data removed]",
       "text": [
        "<matplotlib.figure.Figure at 0x7feed7f19f10>"
       ]
      },
      {
       "metadata": {},
       "output_type": "display_data",
       "png": "[encoded data removed]",
       "text": [
        "<matplotlib.figure.Figure at 0x7feed7f19f50>"
       ]
      },
      {
       "metadata": {},
       "output_type": "display_data",
       "png": "[encoded data removed]",
       "text": [
        "<matplotlib.figure.Figure at 0x7feed82edc10>"
       ]
      },
      {
       "metadata": {},
       "output_type": "display_data",
       "png": "[encoded data removed]",
       "text": [
        "<matplotlib.figure.Figure at 0x7feed8327790>"
       ]
      }
     ],
     "prompt_number": 9
    },
    {
     "cell_type": "code",
     "collapsed": false,
     "input": [
      "#compagnie = [\"roma\", \"tim\", \"wind\", \"voda\", \"tre\"]\n",
      "compagnie = [\"tim\"]\n",
      "seaborn.set_style(\"whitegreed\")\n",
      "for gestore in compagnie:\n",
      "    adiacenzaEuclidea = numpy.genfromtxt((\"/home/protoss/Documenti/Siscomp_datas/AdiacenzaEuclidea_{0}.csv\".format(gestore)),delimiter=',',dtype='int')\n",
      "    grafoRoma = networkx.Graph(adiacenzaEuclidea)\n",
      "    grado = grafoRoma.degree().values()\n",
      "\n",
      "#    distribuzione = degreeDistributionLog(grado)\n",
      "#    distribuzione = degreeDistribution(grado)\n",
      "    seaborn.kdeplot(grado,bw=0.5)\n",
      "    \n",
      "#pyplot.show()\n",
      "\n",
      "#distribuzione = degreeDistribution(grado)\n",
      "#pyplot.show()"
     ],
     "language": "python",
     "metadata": {},
     "outputs": []
    },
    {
     "cell_type": "markdown",
     "metadata": {},
     "source": [
      "NB. num antenne  \n",
      "   * TIM - 1550  \n",
      "   * Vodafone - 1531  \n",
      "   * Wind - 2175   \n",
      "   * 3 - 1315  \n",
      "   \n",
      "Tot antenne: 6571  "
     ]
    },
    {
     "cell_type": "markdown",
     "metadata": {},
     "source": [
      "##TODO:  \n",
      "* Prendere array coordinate                                                           \u2714\n",
      "* fare array distanze                                                                  \u2714\n",
      "* mettere colonna distanze in dataframe  \u2714\n",
      "* selezionare righe con variabile compresa entro raggiomedio                           \u2714  \n",
      "* fare un nuovo dataframe  \u2714\n",
      "* escludere tutti i nodi con 1 sample solo \u2714\n",
      "* fare P(k) \u2714\n",
      "\n",
      "##TODO:\n",
      "* log binning  \u2714 (lo sono gi\u00e0)\n",
      "* FARE GRAFICI MEGLIO \n",
      "* Soglia percolativa: fare grafico dimensioni giant cluster in funzione di rimozione di nodi\n",
      "* in modo casuale\n",
      "* cominciando da i nodi pi\u00f9 connessi  \n",
      "NB giant cluster \u00e8 cluster che scala con N. E.g., se il giant cluster \u00e8 composto da N/10 della rete, se raddoppio la rete o la dimezzo deve rimanere composto da 1/10 del totale dei nodi della rete. Idem se \u00e8 N/100 o N/0.9\n",
      "\n",
      "  Leggere (materiale lezione su percolazione-attacchi-epidemie):  \n",
      "  http://www.nature.com/nature/journal/v406/n6794/pdf/406378a0.pdf  \n",
      "  http://arxiv.org/pdf/cond-mat/0010317.pdf  \n",
      "  http://arxiv.org/pdf/cond-mat/0007048.pdf  \n",
      "  http://arxiv.org/pdf/cond-mat/0010251.pdf  \n",
      "  \n",
      "  Altro materiale forse utile:\n",
      "  http://arxiv.org/pdf/cond-mat/9910332.pdf  \n",
      "  http://arxiv.org/pdf/cond-mat/9907068.pdf  \n",
      "  http://citeseerx.ist.psu.edu/viewdoc/download?doi=10.1.1.71.8276&rep=rep1&type=pdf  \n",
      "  \n",
      "  \n",
      "  Tesina: parte iniziale su problema robustezza reti, poi test su reti di antenne in roma (rete non scale free ma che deve avere una certa robustezza)\n",
      "  veder compagnie separae"
     ]
    },
    {
     "cell_type": "markdown",
     "metadata": {},
     "source": [
      "Il primo tentativo \u00e8 stato di fare la matrice di adiacenza a forza bruta. Con un campione di soli 50 nodi ci metteva pochi microsecondi, quindi abbiamo provato a fare la matrice di adiacenza delle 7000 antenne entro il raccordo anulare, notando che la compilazione durava tanto, facendo le dovute proporzioni abbiamo preventivato 2,5 ore di tempo di calcolo. La prima cosa che abbiamo sistemato \u00e8 stato ovviamente fare un ciclo che calcolasse soltanto la met\u00e0 superiore della matrice, dimezzando il tempo di calcolo. \n",
      "\n",
      "La prima cosa che abbiamo pensato di fare \u00e8 stato di diagonalizzare a blocchi la matrice, o fare un ciclo di bassissimo livello che mettesse 0 a tutti gli elementi relativi alle antenne con $\\Delta$Latitudine e/o $\\Delta$Longitudine maggiori del range massimo del campione di dati. Il problema avuto \u00e8 che il range delle antenne \u00e8 tendenzialmente grande, con alcune che arrivano a 10km (con raggioRoma 11km)(e anche tanti samples), quindi non c'era modo di ridurre i calcoli. \n",
      "\n",
      "L'unica altra idea che abbiamo avuto \u00e8 stata di non fare il calcolo complicato con la distanza sul geoide con il metodo vincenty. Primo passo \u00e8 stato usare il metodo con great circles, l'altro \u00e8 stato di considerare la porzione di Roma presa come un cerchio piano, calcolando quindi la distanza euclidea tra coordinate geografiche e convertendola in metri. E ci mette MOLTO meno tempo $\\sim$10 volte in meno. Con un \n",
      "preventivo quindi di 10 minuti di tempo di calcolo invece di 1 ora e mezza.\n",
      "\n",
      "TODO vedere parallelaizazione"
     ]
    }
   ],
   "metadata": {}
  }
 ]
}