{
 "cells": [
  {
   "cell_type": "code",
   "execution_count": 2,
   "metadata": {
    "collapsed": false
   },
   "outputs": [
    {
     "data": {
      "application/javascript": [
       "\n",
       "            require(['base/js/utils'],\n",
       "            function(utils) {\n",
       "                utils.load_extensions('gmaps_js/gmaps_views');\n",
       "            });\n",
       "            "
      ],
      "text/plain": [
       "<IPython.core.display.Javascript object>"
      ]
     },
     "metadata": {},
     "output_type": "display_data"
    }
   ],
   "source": [
    "import numpy\n",
    "import pandas\n",
    "\n",
    "import matplotlib\n",
    "from matplotlib import pyplot\n",
    "%matplotlib inline\n",
    "\n",
    "import scipy\n",
    "from scipy import stats # TODO vedere perché non fa chiamare il modulo direttamente\n",
    "\n",
    "import gmaps"
   ]
  },
  {
   "cell_type": "markdown",
   "metadata": {},
   "source": [
    "## Creazione della mappa\n",
    "\n",
    "invece che uno scatterplot con dei raggi, la libreria ci consente solo di fare una heatmap (eventualmente pesata)\n"
   ]
  },
  {
   "cell_type": "code",
   "execution_count": 3,
   "metadata": {
    "collapsed": false
   },
   "outputs": [],
   "source": [
    "roma = pandas.read_csv(\"../data/Roma_towers.csv\")\n",
    "coordinate = roma[['lat', 'lon']].values"
   ]
  },
  {
   "cell_type": "code",
   "execution_count": 3,
   "metadata": {
    "collapsed": false
   },
   "outputs": [],
   "source": [
    "heatmap = gmaps.heatmap(coordinate)\n",
    "gmaps.display(heatmap)\n",
    "\n",
    "# TODO scrivere che dietro queste due semplici linee ci sta un pomeriggio intero di smadonnamenti"
   ]
  },
  {
   "cell_type": "markdown",
   "metadata": {},
   "source": [
    "## Analisi del raggio di copertura delle antenne\n",
    "\n",
    "dato che ci servirà fare un grafico con scale logaritmiche teniamo solo i dati con\n",
    "> range =! 0"
   ]
  },
  {
   "cell_type": "code",
   "execution_count": 4,
   "metadata": {
    "collapsed": false
   },
   "outputs": [
    {
     "name": "stdout",
     "output_type": "stream",
     "text": [
      "20341\n"
     ]
    }
   ],
   "source": [
    "\n",
    "# condizioni di filtro\n",
    "raggioMin = 1\n",
    "# raggioMax = 1000\n",
    "raggiPositivi = roma.range >= raggioMin\n",
    "# raggiCorti = roma.range < raggioMax\n",
    "\n",
    "# query con le condizioni\n",
    "#romaFiltrato = roma[raggiPositivi & raggiCorti]\n",
    "romaFiltrato = roma[raggiPositivi]\n",
    "raggi = romaFiltrato.range\n",
    "\n",
    "print max(raggi)\n"
   ]
  },
  {
   "cell_type": "code",
   "execution_count": 16,
   "metadata": {
    "collapsed": true
   },
   "outputs": [],
   "source": [
    "\n",
    "# logaritmic (base 2) binning in log-log (base 10) plots of integer histograms\n",
    "\n",
    "def logBinnedHist(histogramResults):\n",
    "    \"\"\"\n",
    "    histogramResults = numpy.histogram(...)\n",
    "        OR matplotlib.pyplot.hist(...)\n",
    "    \n",
    "    returns x, y\n",
    "    to be used with matplotlib.pyplot.step(x, y, where='post')\n",
    "    \"\"\"\n",
    "    \n",
    "    values, binEdges, others = histogramResults\n",
    "    \n",
    "    # print binEdges\n",
    "    \n",
    "    # TODO\n",
    "    # if 0 in binEdges:\n",
    "    #     return \"error: log2(0) = ?\"\n",
    "    \n",
    "    # print len(values), len(binEdges)\n",
    "    \n",
    "    # print binEdges # TODO vedere quando non si parte da 1\n",
    "    \n",
    "    # int arrotonda all'intero inferiore\n",
    "    linMin = min(binEdges)\n",
    "    linMax = max(binEdges)\n",
    "    \n",
    "    # print linMin, linMax\n",
    "    \n",
    "    logStart = int(numpy.log2(linMin))\n",
    "    logStop = int(numpy.log2(linMax))\n",
    "    \n",
    "    # print logStart, logStop\n",
    "    \n",
    "    nLogBins = logStop - logStart + 1\n",
    "    \n",
    "    # print nLogBins\n",
    "    \n",
    "    logBins = numpy.logspace(logStart, logStop, num=nLogBins, base=2, dtype=int)\n",
    "    # print logBins\n",
    "    \n",
    "    # 1,2,4,8,16,32,64,128,256,512,1024\n",
    "    \n",
    "    ######################\n",
    "    \n",
    "    linStart = 2**logStop + 1\n",
    "    linStop = linMax\n",
    "    \n",
    "    # print linStart, linStop\n",
    "    \n",
    "    nLinBins = linStop - linStart + 1\n",
    "    \n",
    "    # print nLinBins\n",
    "    \n",
    "    linBins = numpy.linspace(linStart, linStop, num=nLinBins, dtype=int)\n",
    "    \n",
    "    # print linBins\n",
    "    \n",
    "    ######################\n",
    "    \n",
    "    bins = numpy.append(logBins, linBins)\n",
    "    \n",
    "    # print bins\n",
    "    \n",
    "    # print len(bins)\n",
    "    \n",
    "    totalValues, binEdges, otherBinNumbers = scipy.stats.binned_statistic(raggi.values,\n",
    "                                                                         raggi.values,\n",
    "                                                                         statistic='count',\n",
    "                                                                         bins=bins)\n",
    "    \n",
    "    # print totalValues\n",
    "    # print len(totalValues)\n",
    "    \n",
    "    # uso le proprietà dei logaritmi in base 2:\n",
    "    # 2^(n+1) - 2^n = 2^n\n",
    "    correzioniDatiCanalizzatiLog = numpy.delete(logBins, -1)\n",
    "    \n",
    "    # print correzioniDatiCanalizzatiLog\n",
    "    \n",
    "    # print len(correzioniDatiCanalizzatiLog)\n",
    "    \n",
    "    correzioniDatiCanalizzatiLin = numpy.ones(nLinBins, dtype=int)\n",
    "    \n",
    "    # print correzioniDatiCanalizzatiLin\n",
    "    \n",
    "    # print len(correzioniDatiCanalizzatiLin)\n",
    "    \n",
    "    correzioniDatiCanalizzati = numpy.append(correzioniDatiCanalizzatiLog, correzioniDatiCanalizzatiLin)\n",
    "    \n",
    "    # print correzioniDatiCanalizzati\n",
    "    \n",
    "    # print len(correzioniDatiCanalizzati)\n",
    "    \n",
    "    \n",
    "    \n",
    "    \n",
    "    x = numpy.concatenate(([0], bins))\n",
    "    conteggi = totalValues/correzioniDatiCanalizzati\n",
    "    \n",
    "    # TODO caso speciale per il grafico di sotto\n",
    "    # (per non fare vedere la parte oltre l'ultima potenza di 2)\n",
    "    l = len(correzioniDatiCanalizzatiLin)\n",
    "    conteggi[-l:] = numpy.zeros(l, dtype='int')\n",
    "    \n",
    "    y = numpy.concatenate(([0], conteggi, [0]))\n",
    "    \n",
    "    return x, y\n"
   ]
  },
  {
   "cell_type": "code",
   "execution_count": 17,
   "metadata": {
    "collapsed": false
   },
   "outputs": [
    {
     "data": {
      "image/png": "[encoded data removed]",
      "text/plain": [
       "<matplotlib.figure.Figure at 0x7f3033789590>"
      ]
     },
     "metadata": {},
     "output_type": "display_data"
    }
   ],
   "source": [
    "\n",
    "# creazione di un istogramma log-log per la distribuzione del raggio di copertura\n",
    "\n",
    "# TODO provare a raggruppare le code\n",
    "# esempio: con bins=100\n",
    "# oppure con canalizzazione a logaritmo di 2, ma mediato\n",
    "# in modo che venga equispaziato nel grafico logaritmico\n",
    "# il programma vuole pesati i dati e non i canali\n",
    "# si potrebbe implementare una mappa che pesa i dati\n",
    "# secondo la funzione divisione intera per logaritmo di 2\n",
    "# TODO mettere cerchietto che indica il range massimo oppure scritta in rosso \"20341 m!\"\n",
    "# TODO spiegare perché ci sono così tanti conteggi a 1,2,4,... metri\n",
    "# TODO ricavare il range dai dati grezzi, facendo un algoritmo di clustering\n",
    "# sulle varie osservazioni delle antenne. machine learning?\n",
    "# TODO scrivere funzione che fa grafici logaritmici con canali\n",
    "# equispaziati nel plot logaritmico (canali pesati)\n",
    "\n",
    "# impostazioni plot complessivo\n",
    "# pyplot.figure(figsize=(20,8)) # dimensioni in pollici\n",
    "pyplot.figure(figsize=(15,15))\n",
    "matplotlib.pyplot.xlim(10**0,10**5)\n",
    "matplotlib.pyplot.ylim(10**-3,10**2)\n",
    "pyplot.title('Distribuzione del raggio di copertura')\n",
    "pyplot.ylabel(\"Numero di antenne\")\n",
    "pyplot.xlabel(\"Copertura [m]\")\n",
    "# pyplot.gca().set_xscale(\"log\")\n",
    "# pyplot.gca().set_yscale(\"log\")\n",
    "pyplot.xscale(\"log\")\n",
    "pyplot.yscale(\"log\")\n",
    "\n",
    "# lin binning\n",
    "distribuzioneRange = pyplot.hist(raggi.values,\n",
    "                                bins=max(raggi)-min(raggi),\n",
    "                                histtype='step',\n",
    "                                color='#3385ff',\n",
    "                                label='lin binning')\n",
    "\n",
    "# log_2 binning\n",
    "x, y = logBinnedHist(distribuzioneRange)\n",
    "matplotlib.pyplot.step(x, y, where='post', color='#ff3300', linewidth=2, label='log_2 weighted binning') #where = mid OR post\n",
    "# matplotlib.pyplot.plot(x, y)\n",
    "\n",
    "# linea verticale ad indicare il massimo grado\n",
    "pyplot.axvline(x=max(raggi), color='#808080', linestyle='dotted', label='max range (20341m)')\n",
    "\n",
    "# legenda e salvataggio\n",
    "pyplot.legend(loc='lower left', frameon=False)\n",
    "pyplot.savefig('../img/range/range_distribution.eps', format='eps', dpi=600)\n",
    "\n"
   ]
  },
  {
   "cell_type": "code",
   "execution_count": null,
   "metadata": {
    "collapsed": true
   },
   "outputs": [],
   "source": []
  },
  {
   "cell_type": "code",
   "execution_count": null,
   "metadata": {
    "collapsed": true
   },
   "outputs": [],
   "source": [
    "# TODO fare funzione cumulativa di Capocci e anche altra cosa (vedere foglietti)\n"
   ]
  },
  {
   "cell_type": "code",
   "execution_count": null,
   "metadata": {
    "collapsed": true
   },
   "outputs": [],
   "source": []
  },
  {
   "cell_type": "code",
   "execution_count": null,
   "metadata": {
    "collapsed": true
   },
   "outputs": [],
   "source": []
  },
  {
   "cell_type": "code",
   "execution_count": null,
   "metadata": {
    "collapsed": true
   },
   "outputs": [],
   "source": []
  },
  {
   "cell_type": "code",
   "execution_count": 8,
   "metadata": {
    "collapsed": true
   },
   "outputs": [],
   "source": [
    "# TODO vedere se il grafo finale non è scale free, \n",
    "# non è reticolo geometrico.\n",
    "# è una specie di vetro"
   ]
  },
  {
   "cell_type": "code",
   "execution_count": 9,
   "metadata": {
    "collapsed": false,
    "scrolled": true
   },
   "outputs": [
    {
     "data": {
      "text/html": [
       "<div style=\"max-height:1000px;max-width:1500px;overflow:auto;\">\n",
       "<table border=\"1\" class=\"dataframe\">\n",
       "  <thead>\n",
       "    <tr style=\"text-align: right;\">\n",
       "      <th></th>\n",
       "      <th>radio</th>\n",
       "      <th>mcc</th>\n",
       "      <th>net</th>\n",
       "      <th>area</th>\n",
       "      <th>cell</th>\n",
       "      <th>unit</th>\n",
       "      <th>lon</th>\n",
       "      <th>lat</th>\n",
       "      <th>range</th>\n",
       "      <th>samples</th>\n",
       "      <th>changeable</th>\n",
       "      <th>created</th>\n",
       "      <th>updated</th>\n",
       "      <th>averageSignal</th>\n",
       "    </tr>\n",
       "  </thead>\n",
       "  <tbody>\n",
       "    <tr>\n",
       "      <th>0 </th>\n",
       "      <td> GSM</td>\n",
       "      <td> 262</td>\n",
       "      <td> 7</td>\n",
       "      <td> 20208</td>\n",
       "      <td> 22311</td>\n",
       "      <td>NaN</td>\n",
       "      <td> 13.451345</td>\n",
       "      <td> 52.451001</td>\n",
       "      <td> 178964</td>\n",
       "      <td>  8174</td>\n",
       "      <td> 1</td>\n",
       "      <td> 1304784457</td>\n",
       "      <td> 1453336789</td>\n",
       "      <td>-71</td>\n",
       "    </tr>\n",
       "    <tr>\n",
       "      <th>1 </th>\n",
       "      <td> GSM</td>\n",
       "      <td> 262</td>\n",
       "      <td> 7</td>\n",
       "      <td> 20208</td>\n",
       "      <td> 42303</td>\n",
       "      <td>NaN</td>\n",
       "      <td> 13.446594</td>\n",
       "      <td> 52.453607</td>\n",
       "      <td> 154650</td>\n",
       "      <td>  7151</td>\n",
       "      <td> 1</td>\n",
       "      <td> 1304784457</td>\n",
       "      <td> 1453336395</td>\n",
       "      <td>-69</td>\n",
       "    </tr>\n",
       "    <tr>\n",
       "      <th>2 </th>\n",
       "      <td> GSM</td>\n",
       "      <td> 262</td>\n",
       "      <td> 1</td>\n",
       "      <td> 17426</td>\n",
       "      <td> 40228</td>\n",
       "      <td>NaN</td>\n",
       "      <td> 11.599694</td>\n",
       "      <td> 49.895716</td>\n",
       "      <td> 139228</td>\n",
       "      <td> 10302</td>\n",
       "      <td> 1</td>\n",
       "      <td> 1304947912</td>\n",
       "      <td> 1453335354</td>\n",
       "      <td>-51</td>\n",
       "    </tr>\n",
       "    <tr>\n",
       "      <th>3 </th>\n",
       "      <td> GSM</td>\n",
       "      <td> 262</td>\n",
       "      <td> 3</td>\n",
       "      <td>  4417</td>\n",
       "      <td> 55777</td>\n",
       "      <td>NaN</td>\n",
       "      <td> 11.584462</td>\n",
       "      <td> 49.895334</td>\n",
       "      <td> 139936</td>\n",
       "      <td>  2167</td>\n",
       "      <td> 1</td>\n",
       "      <td> 1304947912</td>\n",
       "      <td> 1453335354</td>\n",
       "      <td>-78</td>\n",
       "    </tr>\n",
       "    <tr>\n",
       "      <th>4 </th>\n",
       "      <td> GSM</td>\n",
       "      <td> 262</td>\n",
       "      <td> 7</td>\n",
       "      <td> 50836</td>\n",
       "      <td> 28074</td>\n",
       "      <td>NaN</td>\n",
       "      <td> 11.602636</td>\n",
       "      <td> 49.896744</td>\n",
       "      <td> 139009</td>\n",
       "      <td>  1385</td>\n",
       "      <td> 1</td>\n",
       "      <td> 1304947912</td>\n",
       "      <td> 1453335354</td>\n",
       "      <td>-72</td>\n",
       "    </tr>\n",
       "    <tr>\n",
       "      <th>5 </th>\n",
       "      <td> GSM</td>\n",
       "      <td> 262</td>\n",
       "      <td> 3</td>\n",
       "      <td>  4417</td>\n",
       "      <td> 52707</td>\n",
       "      <td>NaN</td>\n",
       "      <td> 11.615497</td>\n",
       "      <td> 49.944321</td>\n",
       "      <td> 134295</td>\n",
       "      <td>   439</td>\n",
       "      <td> 1</td>\n",
       "      <td> 1304947912</td>\n",
       "      <td> 1453335354</td>\n",
       "      <td>-83</td>\n",
       "    </tr>\n",
       "    <tr>\n",
       "      <th>6 </th>\n",
       "      <td> GSM</td>\n",
       "      <td> 262</td>\n",
       "      <td> 3</td>\n",
       "      <td>  4417</td>\n",
       "      <td>   557</td>\n",
       "      <td>NaN</td>\n",
       "      <td> 11.591642</td>\n",
       "      <td> 49.912699</td>\n",
       "      <td> 138104</td>\n",
       "      <td>  1045</td>\n",
       "      <td> 1</td>\n",
       "      <td> 1304947912</td>\n",
       "      <td> 1453335354</td>\n",
       "      <td>-77</td>\n",
       "    </tr>\n",
       "    <tr>\n",
       "      <th>7 </th>\n",
       "      <td> GSM</td>\n",
       "      <td> 262</td>\n",
       "      <td> 7</td>\n",
       "      <td> 50836</td>\n",
       "      <td> 28496</td>\n",
       "      <td>NaN</td>\n",
       "      <td> 11.581390</td>\n",
       "      <td> 49.882920</td>\n",
       "      <td>  59746</td>\n",
       "      <td>   797</td>\n",
       "      <td> 1</td>\n",
       "      <td> 1304947912</td>\n",
       "      <td> 1453335354</td>\n",
       "      <td>-77</td>\n",
       "    </tr>\n",
       "    <tr>\n",
       "      <th>8 </th>\n",
       "      <td> GSM</td>\n",
       "      <td> 262</td>\n",
       "      <td> 1</td>\n",
       "      <td> 17426</td>\n",
       "      <td>  2470</td>\n",
       "      <td>NaN</td>\n",
       "      <td> 11.599449</td>\n",
       "      <td> 49.884277</td>\n",
       "      <td>  21773</td>\n",
       "      <td>   507</td>\n",
       "      <td> 1</td>\n",
       "      <td> 1304947912</td>\n",
       "      <td> 1453335354</td>\n",
       "      <td>-81</td>\n",
       "    </tr>\n",
       "    <tr>\n",
       "      <th>9 </th>\n",
       "      <td> GSM</td>\n",
       "      <td> 262</td>\n",
       "      <td> 3</td>\n",
       "      <td>  4417</td>\n",
       "      <td> 17127</td>\n",
       "      <td>NaN</td>\n",
       "      <td> 11.594675</td>\n",
       "      <td> 49.937884</td>\n",
       "      <td>  57527</td>\n",
       "      <td>  1161</td>\n",
       "      <td> 1</td>\n",
       "      <td> 1304947912</td>\n",
       "      <td> 1453335354</td>\n",
       "      <td>-70</td>\n",
       "    </tr>\n",
       "    <tr>\n",
       "      <th>10</th>\n",
       "      <td> GSM</td>\n",
       "      <td> 262</td>\n",
       "      <td> 2</td>\n",
       "      <td>   890</td>\n",
       "      <td> 59532</td>\n",
       "      <td>NaN</td>\n",
       "      <td> 11.734844</td>\n",
       "      <td> 48.163751</td>\n",
       "      <td>  16604</td>\n",
       "      <td> 57157</td>\n",
       "      <td> 1</td>\n",
       "      <td> 1305010693</td>\n",
       "      <td> 1453337960</td>\n",
       "      <td>-70</td>\n",
       "    </tr>\n",
       "    <tr>\n",
       "      <th>11</th>\n",
       "      <td> GSM</td>\n",
       "      <td> 262</td>\n",
       "      <td> 3</td>\n",
       "      <td>  4417</td>\n",
       "      <td> 55807</td>\n",
       "      <td>NaN</td>\n",
       "      <td> 11.533571</td>\n",
       "      <td> 49.778768</td>\n",
       "      <td> 152458</td>\n",
       "      <td>  2580</td>\n",
       "      <td> 1</td>\n",
       "      <td> 1305223113</td>\n",
       "      <td> 1453335354</td>\n",
       "      <td>-80</td>\n",
       "    </tr>\n",
       "    <tr>\n",
       "      <th>12</th>\n",
       "      <td> GSM</td>\n",
       "      <td> 262</td>\n",
       "      <td> 3</td>\n",
       "      <td>  4417</td>\n",
       "      <td> 46537</td>\n",
       "      <td>NaN</td>\n",
       "      <td> 11.558965</td>\n",
       "      <td> 49.886733</td>\n",
       "      <td> 141821</td>\n",
       "      <td>  2279</td>\n",
       "      <td> 1</td>\n",
       "      <td> 1305223113</td>\n",
       "      <td> 1453335354</td>\n",
       "      <td>-89</td>\n",
       "    </tr>\n",
       "    <tr>\n",
       "      <th>13</th>\n",
       "      <td> GSM</td>\n",
       "      <td> 262</td>\n",
       "      <td> 7</td>\n",
       "      <td> 20205</td>\n",
       "      <td> 22227</td>\n",
       "      <td>NaN</td>\n",
       "      <td> 13.310791</td>\n",
       "      <td> 52.508281</td>\n",
       "      <td> 133241</td>\n",
       "      <td>  8202</td>\n",
       "      <td> 1</td>\n",
       "      <td> 1306583263</td>\n",
       "      <td> 1453335612</td>\n",
       "      <td>-67</td>\n",
       "    </tr>\n",
       "    <tr>\n",
       "      <th>14</th>\n",
       "      <td> GSM</td>\n",
       "      <td> 262</td>\n",
       "      <td> 1</td>\n",
       "      <td> 22273</td>\n",
       "      <td> 34839</td>\n",
       "      <td>NaN</td>\n",
       "      <td>  9.963851</td>\n",
       "      <td> 52.390667</td>\n",
       "      <td> 159880</td>\n",
       "      <td>  6908</td>\n",
       "      <td> 1</td>\n",
       "      <td> 1306590674</td>\n",
       "      <td> 1453337576</td>\n",
       "      <td>-51</td>\n",
       "    </tr>\n",
       "    <tr>\n",
       "      <th>15</th>\n",
       "      <td> GSM</td>\n",
       "      <td> 262</td>\n",
       "      <td> 2</td>\n",
       "      <td>   514</td>\n",
       "      <td> 42661</td>\n",
       "      <td>NaN</td>\n",
       "      <td>  9.956752</td>\n",
       "      <td> 52.376188</td>\n",
       "      <td> 209120</td>\n",
       "      <td> 15802</td>\n",
       "      <td> 1</td>\n",
       "      <td> 1306590704</td>\n",
       "      <td> 1453334697</td>\n",
       "      <td>-64</td>\n",
       "    </tr>\n",
       "    <tr>\n",
       "      <th>16</th>\n",
       "      <td> GSM</td>\n",
       "      <td> 262</td>\n",
       "      <td> 3</td>\n",
       "      <td>   582</td>\n",
       "      <td> 38062</td>\n",
       "      <td>NaN</td>\n",
       "      <td>  9.912072</td>\n",
       "      <td> 52.379838</td>\n",
       "      <td> 159245</td>\n",
       "      <td> 13036</td>\n",
       "      <td> 1</td>\n",
       "      <td> 1306590704</td>\n",
       "      <td> 1453337576</td>\n",
       "      <td>-83</td>\n",
       "    </tr>\n",
       "    <tr>\n",
       "      <th>17</th>\n",
       "      <td> GSM</td>\n",
       "      <td> 262</td>\n",
       "      <td> 3</td>\n",
       "      <td>   582</td>\n",
       "      <td>  2842</td>\n",
       "      <td>NaN</td>\n",
       "      <td>  9.911645</td>\n",
       "      <td> 52.379309</td>\n",
       "      <td> 162234</td>\n",
       "      <td> 22975</td>\n",
       "      <td> 1</td>\n",
       "      <td> 1306590704</td>\n",
       "      <td> 1453337576</td>\n",
       "      <td>-73</td>\n",
       "    </tr>\n",
       "    <tr>\n",
       "      <th>18</th>\n",
       "      <td> GSM</td>\n",
       "      <td> 262</td>\n",
       "      <td> 7</td>\n",
       "      <td> 30545</td>\n",
       "      <td> 35232</td>\n",
       "      <td>NaN</td>\n",
       "      <td>  8.665562</td>\n",
       "      <td> 52.072996</td>\n",
       "      <td> 120280</td>\n",
       "      <td>   728</td>\n",
       "      <td> 1</td>\n",
       "      <td> 1306624056</td>\n",
       "      <td> 1453334702</td>\n",
       "      <td>-73</td>\n",
       "    </tr>\n",
       "    <tr>\n",
       "      <th>19</th>\n",
       "      <td> GSM</td>\n",
       "      <td> 262</td>\n",
       "      <td> 2</td>\n",
       "      <td>   513</td>\n",
       "      <td>  6600</td>\n",
       "      <td>NaN</td>\n",
       "      <td> 10.840947</td>\n",
       "      <td> 52.305103</td>\n",
       "      <td> 185927</td>\n",
       "      <td> 36461</td>\n",
       "      <td> 1</td>\n",
       "      <td> 1306772794</td>\n",
       "      <td> 1453337051</td>\n",
       "      <td>-78</td>\n",
       "    </tr>\n",
       "  </tbody>\n",
       "</table>\n",
       "</div>"
      ],
      "text/plain": [
       "   radio  mcc  net   area   cell  unit        lon        lat   range  samples  \\\n",
       "0    GSM  262    7  20208  22311   NaN  13.451345  52.451001  178964     8174   \n",
       "1    GSM  262    7  20208  42303   NaN  13.446594  52.453607  154650     7151   \n",
       "2    GSM  262    1  17426  40228   NaN  11.599694  49.895716  139228    10302   \n",
       "3    GSM  262    3   4417  55777   NaN  11.584462  49.895334  139936     2167   \n",
       "4    GSM  262    7  50836  28074   NaN  11.602636  49.896744  139009     1385   \n",
       "5    GSM  262    3   4417  52707   NaN  11.615497  49.944321  134295      439   \n",
       "6    GSM  262    3   4417    557   NaN  11.591642  49.912699  138104     1045   \n",
       "7    GSM  262    7  50836  28496   NaN  11.581390  49.882920   59746      797   \n",
       "8    GSM  262    1  17426   2470   NaN  11.599449  49.884277   21773      507   \n",
       "9    GSM  262    3   4417  17127   NaN  11.594675  49.937884   57527     1161   \n",
       "10   GSM  262    2    890  59532   NaN  11.734844  48.163751   16604    57157   \n",
       "11   GSM  262    3   4417  55807   NaN  11.533571  49.778768  152458     2580   \n",
       "12   GSM  262    3   4417  46537   NaN  11.558965  49.886733  141821     2279   \n",
       "13   GSM  262    7  20205  22227   NaN  13.310791  52.508281  133241     8202   \n",
       "14   GSM  262    1  22273  34839   NaN   9.963851  52.390667  159880     6908   \n",
       "15   GSM  262    2    514  42661   NaN   9.956752  52.376188  209120    15802   \n",
       "16   GSM  262    3    582  38062   NaN   9.912072  52.379838  159245    13036   \n",
       "17   GSM  262    3    582   2842   NaN   9.911645  52.379309  162234    22975   \n",
       "18   GSM  262    7  30545  35232   NaN   8.665562  52.072996  120280      728   \n",
       "19   GSM  262    2    513   6600   NaN  10.840947  52.305103  185927    36461   \n",
       "\n",
       "    changeable     created     updated  averageSignal  \n",
       "0            1  1304784457  1453336789            -71  \n",
       "1            1  1304784457  1453336395            -69  \n",
       "2            1  1304947912  1453335354            -51  \n",
       "3            1  1304947912  1453335354            -78  \n",
       "4            1  1304947912  1453335354            -72  \n",
       "5            1  1304947912  1453335354            -83  \n",
       "6            1  1304947912  1453335354            -77  \n",
       "7            1  1304947912  1453335354            -77  \n",
       "8            1  1304947912  1453335354            -81  \n",
       "9            1  1304947912  1453335354            -70  \n",
       "10           1  1305010693  1453337960            -70  \n",
       "11           1  1305223113  1453335354            -80  \n",
       "12           1  1305223113  1453335354            -89  \n",
       "13           1  1306583263  1453335612            -67  \n",
       "14           1  1306590674  1453337576            -51  \n",
       "15           1  1306590704  1453334697            -64  \n",
       "16           1  1306590704  1453337576            -83  \n",
       "17           1  1306590704  1453337576            -73  \n",
       "18           1  1306624056  1453334702            -73  \n",
       "19           1  1306772794  1453337051            -78  "
      ]
     },
     "execution_count": 9,
     "metadata": {},
     "output_type": "execute_result"
    }
   ],
   "source": [
    "# Tre = roma.net == 99\n",
    "# treCell = roma[Tre].reset_index(drop=True)\n",
    "# treCell\n",
    "\n",
    "# TODO snellire il dataframe iniziale levando le colonne inutili\n",
    "\n",
    "dataframe = pandas.read_csv(\"../data/cell_towers_diff-2016012100.csv\")\n",
    "troncato = dataframe[50:70]\n",
    "ordinato = troncato.reset_index(drop=True)\n",
    "ordinato"
   ]
  },
  {
   "cell_type": "code",
   "execution_count": 10,
   "metadata": {
    "collapsed": true
   },
   "outputs": [],
   "source": [
    "\n",
    "# criteri di filtro per le compagnie telefoniche\n",
    "isTim = roma.net == 1\n",
    "isWind = roma.net == 88\n",
    "isVodafone = roma.net == 10\n",
    "isTre = roma.net == 99\n",
    "\n",
    "# creazione dei dataframe separati per gestore\n",
    "tim = roma[isTim].reset_index(drop=True)\n",
    "wind = roma[isWind].reset_index(drop=True)\n",
    "vodafone = roma[isVodafone].reset_index(drop=True)\n",
    "tre = roma[isTre].reset_index(drop=True)\n",
    " "
   ]
  },
  {
   "cell_type": "code",
   "execution_count": 11,
   "metadata": {
    "collapsed": false
   },
   "outputs": [
    {
     "name": "stderr",
     "output_type": "stream",
     "text": [
      "/usr/lib/python2.7/dist-packages/pandas/core/frame.py:1771: UserWarning: Boolean Series key will be reindexed to match DataFrame index.\n",
      "  \"DataFrame index.\", UserWarning)\n"
     ]
    }
   ],
   "source": [
    "tim = romaFiltrato[isTim].reset_index(drop=True)\n",
    "wind = romaFiltrato[isWind].reset_index(drop=True)\n",
    "vodafone = romaFiltrato[isVodafone].reset_index(drop=True)\n",
    "tre = romaFiltrato[isTre].reset_index(drop=True)\n"
   ]
  },
  {
   "cell_type": "code",
   "execution_count": 12,
   "metadata": {
    "collapsed": false,
    "scrolled": true
   },
   "outputs": [
    {
     "data": {
      "text/plain": [
       "<matplotlib.legend.Legend at 0x7fc527005b90>"
      ]
     },
     "execution_count": 12,
     "metadata": {},
     "output_type": "execute_result"
    },
    {
     "data": {
      "image/png": "[encoded data removed]",
      "text/plain": [
       "<matplotlib.figure.Figure at 0x7fc527007f90>"
      ]
     },
     "metadata": {},
     "output_type": "display_data"
    }
   ],
   "source": [
    "compagnie = ['Tim','Wind','Vodafone','Tre','aggregati']\n",
    "\n",
    "colori = ['#0066ff','#ff8000','#ff3300','#99ccff','#4d4d4d']\n",
    "\n",
    "valori = [tim.range.values, wind.range.values, vodafone.range.values, tre.range.values, raggi.values]\n",
    "\n",
    "pyplot.figure(figsize=(20,8)) # dimensioni in pollici\n",
    "distribuzioneRangeTutti = pyplot.hist(valori,\\\n",
    "                                 bins=max(raggi)-min(raggi),\\\n",
    "                                 histtype='step',\\\n",
    "                                 label=compagnie,\\\n",
    "                                 color=colori\n",
    "                                )\n",
    "pyplot.title('Distribuzione della copertura')\n",
    "pyplot.ylabel(\"Numero di antenne\")\n",
    "pyplot.xlabel(\"Copertura [m]\")\n",
    "# pyplot.gca().set_xscale(\"log\")\n",
    "# pyplot.gca().set_yscale(\"log\")\n",
    "pyplot.xscale(\"log\")\n",
    "pyplot.yscale(\"log\")\n",
    "pyplot.legend()\n",
    "\n",
    "# TODO prendere colori aggiornati dal notebook di Iuri\n",
    "# TODO mettere la legenda coi loghi delle compagnie\n",
    "# oppure mettere direttamente le scritte del colore corrispondente,\n",
    "# magari anche attaccate al relativo istogramma\n",
    "# TODO levare il bordo del riquadro della legenda\n",
    "# TODO provare istogramma stacked, in modo da dare il totale\n",
    "# TODO scrivere che dietro il futuro istogramma equispaziato ci sta un giorno di lavoro"
   ]
  },
  {
   "cell_type": "markdown",
   "metadata": {},
   "source": [
    "TODO (futuristico):\n",
    "vedere se esiste un modo per mettere due o più computer in rete a fare una piccola grid, per condividere la potenza di calcolo, la memoria ram e lo spazio su disco\n",
    "\n",
    "## TODO prove da sistemare per canalizzazione logaritmic in base 2"
   ]
  },
  {
   "cell_type": "code",
   "execution_count": 13,
   "metadata": {
    "collapsed": false
   },
   "outputs": [
    {
     "ename": "NameError",
     "evalue": "name 'div' is not defined",
     "output_type": "error",
     "traceback": [
      "\u001b[1;31m---------------------------------------------------------------------------\u001b[0m",
      "\u001b[1;31mNameError\u001b[0m                                 Traceback (most recent call last)",
      "\u001b[1;32m<ipython-input-13-50f688e33738>\u001b[0m in \u001b[0;36m<module>\u001b[1;34m()\u001b[0m\n\u001b[0;32m      1\u001b[0m \u001b[0mpyplot\u001b[0m\u001b[1;33m.\u001b[0m\u001b[0mfigure\u001b[0m\u001b[1;33m(\u001b[0m\u001b[0mfigsize\u001b[0m\u001b[1;33m=\u001b[0m\u001b[1;33m(\u001b[0m\u001b[1;36m20\u001b[0m\u001b[1;33m,\u001b[0m\u001b[1;36m8\u001b[0m\u001b[1;33m)\u001b[0m\u001b[1;33m)\u001b[0m\u001b[1;33m\u001b[0m\u001b[0m\n\u001b[1;32m----> 2\u001b[1;33m \u001b[0mdistribuzioneRange\u001b[0m \u001b[1;33m=\u001b[0m \u001b[0mpyplot\u001b[0m\u001b[1;33m.\u001b[0m\u001b[0mhist\u001b[0m\u001b[1;33m(\u001b[0m\u001b[0mraggi\u001b[0m\u001b[1;33m.\u001b[0m\u001b[0mvalues\u001b[0m\u001b[1;33m,\u001b[0m                                 \u001b[0mbins\u001b[0m\u001b[1;33m=\u001b[0m\u001b[0mdiv\u001b[0m\u001b[1;33m,\u001b[0m                                 \u001b[0mhisttype\u001b[0m\u001b[1;33m=\u001b[0m\u001b[1;34m'step'\u001b[0m\u001b[1;33m)\u001b[0m\u001b[1;33m\u001b[0m\u001b[0m\n\u001b[0m\u001b[0;32m      3\u001b[0m \u001b[0mpyplot\u001b[0m\u001b[1;33m.\u001b[0m\u001b[0mtitle\u001b[0m\u001b[1;33m(\u001b[0m\u001b[1;34m'PROVA, CON CANALI NON ANCORA PESATI'\u001b[0m\u001b[1;33m)\u001b[0m\u001b[1;33m\u001b[0m\u001b[0m\n\u001b[0;32m      4\u001b[0m \u001b[0mpyplot\u001b[0m\u001b[1;33m.\u001b[0m\u001b[0mxscale\u001b[0m\u001b[1;33m(\u001b[0m\u001b[1;34m\"log\"\u001b[0m\u001b[1;33m)\u001b[0m\u001b[1;33m\u001b[0m\u001b[0m\n\u001b[0;32m      5\u001b[0m \u001b[0mpyplot\u001b[0m\u001b[1;33m.\u001b[0m\u001b[0myscale\u001b[0m\u001b[1;33m(\u001b[0m\u001b[1;34m\"log\"\u001b[0m\u001b[1;33m)\u001b[0m\u001b[1;33m\u001b[0m\u001b[0m\n",
      "\u001b[1;31mNameError\u001b[0m: name 'div' is not defined"
     ]
    },
    {
     "data": {
      "text/plain": [
       "<matplotlib.figure.Figure at 0x7fc527007890>"
      ]
     },
     "metadata": {},
     "output_type": "display_data"
    }
   ],
   "source": [
    "pyplot.figure(figsize=(20,8))\n",
    "distribuzioneRange = pyplot.hist(raggi.values,\\\n",
    "                                 bins=div,\\\n",
    "                                 histtype='step')\n",
    "pyplot.title('PROVA, CON CANALI NON ANCORA PESATI')\n",
    "pyplot.xscale(\"log\")\n",
    "pyplot.yscale(\"log\")\n"
   ]
  },
  {
   "cell_type": "code",
   "execution_count": 14,
   "metadata": {
    "collapsed": false
   },
   "outputs": [],
   "source": [
    "a,b,c = distribuzioneRange"
   ]
  },
  {
   "cell_type": "code",
   "execution_count": 15,
   "metadata": {
    "collapsed": false
   },
   "outputs": [],
   "source": [
    "a1 = numpy.append(a.astype(int), 0)"
   ]
  },
  {
   "cell_type": "code",
   "execution_count": 16,
   "metadata": {
    "collapsed": false
   },
   "outputs": [],
   "source": [
    "b1 = b.astype(int)"
   ]
  },
  {
   "cell_type": "code",
   "execution_count": 17,
   "metadata": {
    "collapsed": false
   },
   "outputs": [
    {
     "data": {
      "text/plain": [
       "array([85, 73, 62, ...,  0,  1,  0])"
      ]
     },
     "execution_count": 17,
     "metadata": {},
     "output_type": "execute_result"
    }
   ],
   "source": [
    "a1"
   ]
  },
  {
   "cell_type": "code",
   "execution_count": 18,
   "metadata": {
    "collapsed": false
   },
   "outputs": [
    {
     "data": {
      "text/plain": [
       "array([    1,     2,     3, ..., 20339, 20340, 20341])"
      ]
     },
     "execution_count": 18,
     "metadata": {},
     "output_type": "execute_result"
    }
   ],
   "source": [
    "b1"
   ]
  },
  {
   "cell_type": "code",
   "execution_count": 19,
   "metadata": {
    "collapsed": false
   },
   "outputs": [
    {
     "data": {
      "text/plain": [
       "array([    1,     2,     4,     8,    16,    32,    64,   128,   256,\n",
       "         512,  1024,  2048,  4096,  8192, 16384, 32768])"
      ]
     },
     "execution_count": 19,
     "metadata": {},
     "output_type": "execute_result"
    }
   ],
   "source": [
    "div = numpy.logspace(start=0, stop=15, num=16, base=2).astype(int) # max = 20341\n",
    "div"
   ]
  },
  {
   "cell_type": "code",
   "execution_count": 20,
   "metadata": {
    "collapsed": false
   },
   "outputs": [
    {
     "ename": "ValueError",
     "evalue": "operands could not be broadcast together with shapes (20341,) (16,) ",
     "output_type": "error",
     "traceback": [
      "\u001b[1;31m---------------------------------------------------------------------------\u001b[0m",
      "\u001b[1;31mValueError\u001b[0m                                Traceback (most recent call last)",
      "\u001b[1;32m<ipython-input-20-ebaf628244a4>\u001b[0m in \u001b[0;36m<module>\u001b[1;34m()\u001b[0m\n\u001b[1;32m----> 1\u001b[1;33m \u001b[0ma2\u001b[0m \u001b[1;33m=\u001b[0m \u001b[0ma1\u001b[0m\u001b[1;33m/\u001b[0m\u001b[0mdiv\u001b[0m\u001b[1;33m\u001b[0m\u001b[0m\n\u001b[0m\u001b[0;32m      2\u001b[0m \u001b[0ma2\u001b[0m\u001b[1;33m\u001b[0m\u001b[0m\n",
      "\u001b[1;31mValueError\u001b[0m: operands could not be broadcast together with shapes (20341,) (16,) "
     ]
    }
   ],
   "source": [
    "a2 = a1/div\n",
    "a2"
   ]
  },
  {
   "cell_type": "code",
   "execution_count": 21,
   "metadata": {
    "collapsed": false
   },
   "outputs": [
    {
     "ename": "NameError",
     "evalue": "name 'a2' is not defined",
     "output_type": "error",
     "traceback": [
      "\u001b[1;31m---------------------------------------------------------------------------\u001b[0m",
      "\u001b[1;31mNameError\u001b[0m                                 Traceback (most recent call last)",
      "\u001b[1;32m<ipython-input-21-1e7af9d71c36>\u001b[0m in \u001b[0;36m<module>\u001b[1;34m()\u001b[0m\n\u001b[1;32m----> 1\u001b[1;33m \u001b[0mpyplot\u001b[0m\u001b[1;33m.\u001b[0m\u001b[0mscatter\u001b[0m\u001b[1;33m(\u001b[0m\u001b[0my\u001b[0m\u001b[1;33m=\u001b[0m\u001b[0ma2\u001b[0m\u001b[1;33m,\u001b[0m\u001b[0mx\u001b[0m\u001b[1;33m=\u001b[0m\u001b[0mdiv\u001b[0m\u001b[1;33m)\u001b[0m\u001b[1;33m\u001b[0m\u001b[0m\n\u001b[0m\u001b[0;32m      2\u001b[0m \u001b[0mpyplot\u001b[0m\u001b[1;33m.\u001b[0m\u001b[0mxscale\u001b[0m\u001b[1;33m(\u001b[0m\u001b[1;34m\"log\"\u001b[0m\u001b[1;33m)\u001b[0m\u001b[1;33m\u001b[0m\u001b[0m\n\u001b[0;32m      3\u001b[0m \u001b[0mpyplot\u001b[0m\u001b[1;33m.\u001b[0m\u001b[0myscale\u001b[0m\u001b[1;33m(\u001b[0m\u001b[1;34m\"log\"\u001b[0m\u001b[1;33m)\u001b[0m\u001b[1;33m\u001b[0m\u001b[0m\n",
      "\u001b[1;31mNameError\u001b[0m: name 'a2' is not defined"
     ]
    }
   ],
   "source": [
    "pyplot.scatter(y=a2,x=div)\n",
    "pyplot.xscale(\"log\")\n",
    "pyplot.yscale(\"log\")\n"
   ]
  },
  {
   "cell_type": "code",
   "execution_count": 22,
   "metadata": {
    "collapsed": true
   },
   "outputs": [],
   "source": [
    "# TODO vedere se le due slope del grafico log-log possono essere\n",
    "# messe in relazione con le due slode della legge\n",
    "# di Heap e di Zipf (o come cavolo si scrivono)"
   ]
  },
  {
   "cell_type": "code",
   "execution_count": 23,
   "metadata": {
    "collapsed": true
   },
   "outputs": [],
   "source": [
    "# TODO esterno:\n",
    "\n",
    "# datigenerati = numpy.random.normal(0,1, 10000)\n",
    "# b = pylab.hist(datigenerati,bins=100, histtype='step')\n",
    "# plottare la gaussiana di origine, \n",
    "# fare i residui e vedere che il loro istogramma \n",
    "# è di nuovo gaussiano e farne un fit e vedere \n",
    "# se il residui dei residui sono gaussiani, \n",
    "# che al mercato mio padre comprò\n"
   ]
  },
  {
   "cell_type": "code",
   "execution_count": 24,
   "metadata": {
    "collapsed": true
   },
   "outputs": [],
   "source": [
    "# TODO\n",
    "# fit e lot della distribuzione del grado con i due modelli di rete\n",
    "# Erdos Renyi\n",
    "# preferential attachement di Barabasi Albert\n"
   ]
  },
  {
   "cell_type": "markdown",
   "metadata": {},
   "source": [
    "## distribuzione del grado\n",
    "\n",
    "si fa un plot logaritmico unificato e poi i relativi fit con i vari modelli di rete"
   ]
  },
  {
   "cell_type": "code",
   "execution_count": 25,
   "metadata": {
    "collapsed": false
   },
   "outputs": [],
   "source": [
    "\n",
    "gradi = [numpy.loadtxt(\"../data/DistrGrado_{0}\".format(compagnia)) for compagnia in compagnie]\n",
    "\n",
    "# dataframeGradi = pandas.DataFrame(numpy.transpose(gradi))\n",
    "\n",
    "# grado = grafo.degree().values\n",
    "# grado = numpy.loadtxt(\"../data/DistrGrado_{0}\",compagnia)\n"
   ]
  },
  {
   "cell_type": "code",
   "execution_count": 26,
   "metadata": {
    "collapsed": false
   },
   "outputs": [
    {
     "data": {
      "text/plain": [
       "<matplotlib.legend.Legend at 0x7fc534fcc510>"
      ]
     },
     "execution_count": 26,
     "metadata": {},
     "output_type": "execute_result"
    },
    {
     "data": {
      "image/png": "[encoded data removed]",
      "text/plain": [
       "<matplotlib.figure.Figure at 0x7fc5583cbe50>"
      ]
     },
     "metadata": {},
     "output_type": "display_data"
    }
   ],
   "source": [
    "pyplot.figure(figsize=(20,8)) # dimensioni in pollici\n",
    "distribuzioneRangeTutti = pyplot.hist(gradi,\\\n",
    "                                 bins=max(gradi[-1])-min(gradi[-1]),\\\n",
    "                                 histtype='step',\\\n",
    "                                 label=compagnie,\\\n",
    "                                 color=colori\n",
    "                                )\n",
    "pyplot.title('Degree distribution')\n",
    "pyplot.ylabel(\"Frequency\")\n",
    "pyplot.xlabel(\"Degree\")\n",
    "# pyplot.gca().set_xscale(\"log\")\n",
    "# pyplot.gca().set_yscale(\"log\")\n",
    "pyplot.xscale(\"log\")\n",
    "pyplot.yscale(\"log\")\n",
    "pyplot.legend()\n"
   ]
  },
  {
   "cell_type": "markdown",
   "metadata": {},
   "source": [
    "###  altro approccio, con i dataframe"
   ]
  },
  {
   "cell_type": "code",
   "execution_count": 27,
   "metadata": {
    "collapsed": false
   },
   "outputs": [
    {
     "data": {
      "text/plain": [
       "{'Tim': array([52, 40, 42, ..., 24, 24, 25]),\n",
       " 'Tre': array([ 8, 10, 15, ..., 42, 30, 32]),\n",
       " 'Vodafone': array([476, 122, 142, ...,  22,   8, 243]),\n",
       " 'Wind': array([181, 624, 152, ...,  44,  68,  63]),\n",
       " 'aggregati': array([2139,  558, 1874, ...,   81,   92, 1536])}"
      ]
     },
     "execution_count": 27,
     "metadata": {},
     "output_type": "execute_result"
    }
   ],
   "source": [
    "dictGradi = dict()\n",
    "for label in compagnie:\n",
    "    dictGradi[label] = numpy.loadtxt(\"../data/DistrGrado_{0}\".format(label)).astype(int)\n",
    "\n",
    "dictGradi"
   ]
  },
  {
   "cell_type": "code",
   "execution_count": 28,
   "metadata": {
    "collapsed": false
   },
   "outputs": [],
   "source": [
    "\n",
    "# TODO vedere se c'è un metodo migliore rispetto a transpose()\n",
    "dataframeGradi = pandas.DataFrame.from_dict(dictGradi, orient='index').transpose()\n",
    "# TODO attenzione ai valori NaN nei posti vuoti\n"
   ]
  },
  {
   "cell_type": "code",
   "execution_count": 41,
   "metadata": {
    "collapsed": false
   },
   "outputs": [
    {
     "data": {
      "text/plain": [
       "<matplotlib.axes._subplots.AxesSubplot at 0x7fc5252686d0>"
      ]
     },
     "execution_count": 41,
     "metadata": {},
     "output_type": "execute_result"
    },
    {
     "data": {
      "image/png": "[encoded data removed]",
      "text/plain": [
       "<matplotlib.figure.Figure at 0x7fc52578af50>"
      ]
     },
     "metadata": {},
     "output_type": "display_data"
    }
   ],
   "source": [
    "canali = int(max(dataframeGradi.aggregati)-min(dataframeGradi.aggregati))\n",
    "\n",
    "kwds = {\n",
    "    \"bins\": canali,\n",
    "    \"histtype\": 'step',\n",
    "    # \"color\": colori,\n",
    "    #\"fill\": True,\n",
    "    #\"alpha\": 0.25,\n",
    "    #\"linestyle\": \"solid\",\n",
    "    #\"edgecolor\": \"black\"\n",
    "}\n",
    "\n",
    "dataframeGradi.plot(kind='hist', loglog=True, figsize=(20,8), **kwds)"
   ]
  },
  {
   "cell_type": "code",
   "execution_count": null,
   "metadata": {
    "collapsed": true
   },
   "outputs": [],
   "source": []
  }
 ],
 "metadata": {
  "kernelspec": {
   "display_name": "Python 2",
   "language": "python",
   "name": "python2"
  },
  "language_info": {
   "codemirror_mode": {
    "name": "ipython",
    "version": 2
   },
   "file_extension": ".py",
   "mimetype": "text/x-python",
   "name": "python",
   "nbconvert_exporter": "python",
   "pygments_lexer": "ipython2",
   "version": "2.7.10"
  }
 },
 "nbformat": 4,
 "nbformat_minor": 0
}
