{
 "cells": [
  {
   "cell_type": "markdown",
   "metadata": {},
   "source": [
    "## logaritmic (base 2) binning in log-log (base 10) plots of integer histograms"
   ]
  },
  {
   "cell_type": "code",
   "execution_count": 1,
   "metadata": {
    "collapsed": true
   },
   "outputs": [],
   "source": [
    "import numpy"
   ]
  },
  {
   "cell_type": "code",
   "execution_count": 132,
   "metadata": {
    "collapsed": false
   },
   "outputs": [
    {
     "name": "stdout",
     "output_type": "stream",
     "text": [
      "1 13\n",
      "0 3\n",
      "4\n",
      "[1 2 4 8]\n"
     ]
    }
   ],
   "source": [
    "# a = range(1, 129)\n",
    "a = range(1, 14) # TODO vedere quando non si parte da 1\n",
    "# print a\n",
    "\n",
    "def  integerLogHistogram(integerData):\n",
    "    if 0 in integerData:\n",
    "        return \"error: log2(0) = ?\"\n",
    "\n",
    "# int arrotonda all'intero inferiore\n",
    "linMin = min(a)\n",
    "linMax = max(a)\n",
    "\n",
    "print linMin, linMax\n",
    "\n",
    "logStart = int(numpy.log2(linMin))\n",
    "logStop = int(numpy.log2(linMax))\n",
    "\n",
    "print logStart, logStop\n",
    "\n",
    "nLogBins = logStop - logStart + 1\n",
    "\n",
    "print nLogBins\n",
    "\n",
    "logBins = numpy.logspace(logStart, logStop, num=nLogBins, base=2, dtype=int)\n",
    "print logBins\n",
    "\n",
    "# 1,2,4,8,16,32,64,128,256,512,1024"
   ]
  },
  {
   "cell_type": "code",
   "execution_count": 133,
   "metadata": {
    "collapsed": false
   },
   "outputs": [
    {
     "name": "stdout",
     "output_type": "stream",
     "text": [
      "8\n"
     ]
    }
   ],
   "source": [
    "nPartialLinBins = 2**logStop - 2**logStart + 1\n",
    "\n",
    "print nPartialLinBins\n",
    "\n",
    "a = numpy.ones(nPartialLinBins, dtype=int)"
   ]
  },
  {
   "cell_type": "code",
   "execution_count": 134,
   "metadata": {
    "collapsed": false
   },
   "outputs": [
    {
     "data": {
      "text/plain": [
       "8"
      ]
     },
     "execution_count": 134,
     "metadata": {},
     "output_type": "execute_result"
    }
   ],
   "source": [
    "a\n",
    "len(a)"
   ]
  },
  {
   "cell_type": "code",
   "execution_count": 139,
   "metadata": {
    "collapsed": false
   },
   "outputs": [
    {
     "name": "stdout",
     "output_type": "stream",
     "text": [
      "[array([1]), array([2, 2]), array([4, 4, 4, 4]), array([8, 8, 8, 8, 8, 8, 8, 8])]\n",
      "[ 1.  2.  4.  8.]\n",
      "[8 8 8 8 8 8 8 8]\n",
      "[ 1.     0.5    0.25   0.125]\n"
     ]
    }
   ],
   "source": [
    "\n",
    "\n",
    "def numberArray(n):\n",
    "    return n * numpy.ones(n, dtype=int)\n",
    "\n",
    "pesi = map(numberArray, logBins)\n",
    "\n",
    "print pesi\n",
    "\n",
    "pesi = []\n",
    "\n",
    "for i in logBins:\n",
    "    numpy.append(pesi, numberArray(logBins[i -1]))\n",
    "\n",
    "# TODO vedere numpy.nditer(logBins)\n",
    "\n",
    "print pesi\n",
    "\n",
    "b = logBins.astype(float)\n",
    "\n",
    "print b\n",
    "\n",
    "print numberArray(8)\n",
    "\n",
    "c = 1/b\n",
    "\n",
    "print c"
   ]
  },
  {
   "cell_type": "code",
   "execution_count": 136,
   "metadata": {
    "collapsed": false
   },
   "outputs": [
    {
     "ename": "SyntaxError",
     "evalue": "invalid syntax (<ipython-input-136-8c837a25a4e9>, line 1)",
     "output_type": "error",
     "traceback": [
      "\u001b[1;36m  File \u001b[1;32m\"<ipython-input-136-8c837a25a4e9>\"\u001b[1;36m, line \u001b[1;32m1\u001b[0m\n\u001b[1;33m    logWeights =\u001b[0m\n\u001b[1;37m                 ^\u001b[0m\n\u001b[1;31mSyntaxError\u001b[0m\u001b[1;31m:\u001b[0m invalid syntax\n"
     ]
    }
   ],
   "source": [
    "logWeights = "
   ]
  },
  {
   "cell_type": "code",
   "execution_count": null,
   "metadata": {
    "collapsed": true
   },
   "outputs": [],
   "source": []
  },
  {
   "cell_type": "code",
   "execution_count": 137,
   "metadata": {
    "collapsed": false
   },
   "outputs": [
    {
     "name": "stdout",
     "output_type": "stream",
     "text": [
      "9 13\n",
      "15\n",
      "[ 9 10 11 12 13]\n"
     ]
    }
   ],
   "source": [
    "\n",
    "linStart = 2**logStop + 1\n",
    "linStop = linMax\n",
    "\n",
    "print linStart, linStop\n",
    "\n",
    "nOtherLinBins = linStop - linStart + 1\n",
    "\n",
    "print nLinBins\n",
    "\n",
    "linBins = numpy.linspace(linStart, linStop, num=nOtherLinBins, dtype=int)\n",
    "\n",
    "print linBins"
   ]
  },
  {
   "cell_type": "code",
   "execution_count": 138,
   "metadata": {
    "collapsed": false
   },
   "outputs": [
    {
     "name": "stdout",
     "output_type": "stream",
     "text": [
      "[1 1 1 1 1]\n",
      "5 5\n"
     ]
    }
   ],
   "source": [
    "linWeights = numpy.ones(nOtherLinBins, dtype=int)\n",
    "\n",
    "print linWeights\n",
    "\n",
    "print len(linBins), len(linWeights)"
   ]
  },
  {
   "cell_type": "code",
   "execution_count": null,
   "metadata": {
    "collapsed": true
   },
   "outputs": [],
   "source": []
  },
  {
   "cell_type": "code",
   "execution_count": null,
   "metadata": {
    "collapsed": true
   },
   "outputs": [],
   "source": []
  },
  {
   "cell_type": "code",
   "execution_count": 74,
   "metadata": {
    "collapsed": false
   },
   "outputs": [
    {
     "name": "stdout",
     "output_type": "stream",
     "text": [
      "[ 1  2  4  8 16 32 64 65 66 67 68 69 70 71 72 73 74 75 76 77 78 79]\n"
     ]
    }
   ],
   "source": [
    "bins = numpy.append(logBins, linBins)\n",
    "\n",
    "print bins"
   ]
  },
  {
   "cell_type": "code",
   "execution_count": null,
   "metadata": {
    "collapsed": true
   },
   "outputs": [],
   "source": [
    "weights = numpy.append(logWeights, linWeights)\n",
    "\n",
    "print weights"
   ]
  }
 ],
 "metadata": {
  "kernelspec": {
   "display_name": "Python 2",
   "language": "python",
   "name": "python2"
  },
  "language_info": {
   "codemirror_mode": {
    "name": "ipython",
    "version": 2
   },
   "file_extension": ".py",
   "mimetype": "text/x-python",
   "name": "python",
   "nbconvert_exporter": "python",
   "pygments_lexer": "ipython2",
   "version": "2.7.10"
  }
 },
 "nbformat": 4,
 "nbformat_minor": 0
}
