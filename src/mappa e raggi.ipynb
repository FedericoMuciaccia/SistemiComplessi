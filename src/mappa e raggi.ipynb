{
 "cells": [
  {
   "cell_type": "code",
   "execution_count": 303,
   "metadata": {
    "collapsed": false
   },
   "outputs": [],
   "source": [
    "import numpy\n",
    "import pandas\n",
    "from matplotlib import pyplot\n",
    "%matplotlib inline\n",
    "\n",
    "import gmaps"
   ]
  },
  {
   "cell_type": "markdown",
   "metadata": {},
   "source": [
    "## Creazione della mappa\n",
    "\n",
    "invece che uno scatterplot con dei raggi, la libreria ci consente solo di fare una heatmap (eventualmente pesata)\n"
   ]
  },
  {
   "cell_type": "code",
   "execution_count": 304,
   "metadata": {
    "collapsed": false
   },
   "outputs": [],
   "source": [
    "roma = pandas.read_csv(\"../data/roma_towers.csv\")\n",
    "coordinate = roma[['lat', 'lon']].values"
   ]
  },
  {
   "cell_type": "code",
   "execution_count": 305,
   "metadata": {
    "collapsed": false
   },
   "outputs": [],
   "source": [
    "gmaps.heatmap(coordinate)\n",
    "\n",
    "# TODO scrivere che dietro queste due semplici linee ci sta un pomeriggio intero di smadonnamenti"
   ]
  },
  {
   "cell_type": "markdown",
   "metadata": {},
   "source": [
    "## Analisi del raggio di copertura delle antenne\n",
    "\n",
    "dato che ci servirà fare un grafico con scale logaritmiche eliminiamo i dati con\n",
    "> range = 0"
   ]
  },
  {
   "cell_type": "code",
   "execution_count": 306,
   "metadata": {
    "collapsed": false
   },
   "outputs": [
    {
     "name": "stdout",
     "output_type": "stream",
     "text": [
      "20341\n"
     ]
    }
   ],
   "source": [
    "\n",
    "# condizioni di filtro\n",
    "raggioMin = 1\n",
    "# raggioMax = 1000\n",
    "raggiPositivi = roma.range >= raggioMin\n",
    "# raggiCorti = roma.range < raggioMax\n",
    "\n",
    "# query con le condizioni\n",
    "#romaFiltrato = roma[raggiPositivi & raggiCorti]\n",
    "romaFiltrato = roma[raggiPositivi]\n",
    "raggi = romaFiltrato.range\n",
    "\n",
    "print max(raggi)\n"
   ]
  },
  {
   "cell_type": "markdown",
   "metadata": {},
   "source": [
    "creazione di un istogramma log-log per la distribuzione del raggio di copertura"
   ]
  },
  {
   "cell_type": "code",
   "execution_count": 307,
   "metadata": {
    "collapsed": false,
    "scrolled": false
   },
   "outputs": [
    {
     "data": {
      "image/png": "[encoded data removed]",
      "text/plain": [
       "<matplotlib.figure.Figure at 0x7f5596e07e50>"
      ]
     },
     "metadata": {},
     "output_type": "display_data"
    }
   ],
   "source": [
    "\n",
    "pyplot.figure(figsize=(20,8)) # dimensioni in pollici\n",
    "distribuzioneRange = pyplot.hist(raggi.values,\\\n",
    "                                 bins=max(raggi)-min(raggi),\\\n",
    "                                 histtype='step',\\\n",
    "                                 color='#0066ff')\n",
    "pyplot.title('Distribuzione della copertura')\n",
    "pyplot.ylabel(\"Numero di antenne\")\n",
    "pyplot.xlabel(\"Copertura [m]\")\n",
    "# pyplot.gca().set_xscale(\"log\")\n",
    "# pyplot.gca().set_yscale(\"log\")\n",
    "pyplot.xscale(\"log\")\n",
    "pyplot.yscale(\"log\")\n",
    "\n",
    "# TODO provare a raggruppare le code\n",
    "# esempio: con bins=100\n",
    "# oppure con canalizzazione a logaritmo di 2, ma mediato\n",
    "# in modo che venga equispaziato nel grafico logaritmico\n",
    "# il programma vuole pesati i dati e non i canali\n",
    "# si potrebbe implementare una mappa che pesa i dati\n",
    "# secondo la funzione divisione intera per logaritmo di 2\n",
    "# TODO mettere cerchietto che indica il range massimo oppure scritta in rosso \"20341 m!\"\n",
    "# TODO spiegare perché ci sono così tanti conteggi a 1,2,4,... metri\n",
    "# TODO ricavare il range dai dati grezzi, facendo un algoritmo di clustering\n",
    "# sulle varie osservazioni delle antenne. machine learning?\n",
    "# TODO scrivere funzione che fa grafici logaritmici con canali\n",
    "# equispaziati nel plot logaritmico (canali pesati)"
   ]
  },
  {
   "cell_type": "code",
   "execution_count": 308,
   "metadata": {
    "collapsed": true
   },
   "outputs": [],
   "source": [
    "# TODO vedere se il grafo finale non è scale free, \n",
    "# non è reticolo geometrico.\n",
    "# è una specie di vetro"
   ]
  },
  {
   "cell_type": "code",
   "execution_count": 309,
   "metadata": {
    "collapsed": false,
    "scrolled": true
   },
   "outputs": [
    {
     "data": {
      "text/html": [
       "<div style=\"max-height:1000px;max-width:1500px;overflow:auto;\">\n",
       "<table border=\"1\" class=\"dataframe\">\n",
       "  <thead>\n",
       "    <tr style=\"text-align: right;\">\n",
       "      <th></th>\n",
       "      <th>radio</th>\n",
       "      <th>mcc</th>\n",
       "      <th>net</th>\n",
       "      <th>area</th>\n",
       "      <th>cell</th>\n",
       "      <th>unit</th>\n",
       "      <th>lon</th>\n",
       "      <th>lat</th>\n",
       "      <th>range</th>\n",
       "      <th>samples</th>\n",
       "      <th>changeable</th>\n",
       "      <th>created</th>\n",
       "      <th>updated</th>\n",
       "      <th>averageSignal</th>\n",
       "    </tr>\n",
       "  </thead>\n",
       "  <tbody>\n",
       "    <tr>\n",
       "      <th>0 </th>\n",
       "      <td> GSM</td>\n",
       "      <td> 262</td>\n",
       "      <td> 7</td>\n",
       "      <td> 20208</td>\n",
       "      <td> 22311</td>\n",
       "      <td>NaN</td>\n",
       "      <td> 13.451345</td>\n",
       "      <td> 52.451001</td>\n",
       "      <td> 178964</td>\n",
       "      <td>  8174</td>\n",
       "      <td> 1</td>\n",
       "      <td> 1304784457</td>\n",
       "      <td> 1453336789</td>\n",
       "      <td>-71</td>\n",
       "    </tr>\n",
       "    <tr>\n",
       "      <th>1 </th>\n",
       "      <td> GSM</td>\n",
       "      <td> 262</td>\n",
       "      <td> 7</td>\n",
       "      <td> 20208</td>\n",
       "      <td> 42303</td>\n",
       "      <td>NaN</td>\n",
       "      <td> 13.446594</td>\n",
       "      <td> 52.453607</td>\n",
       "      <td> 154650</td>\n",
       "      <td>  7151</td>\n",
       "      <td> 1</td>\n",
       "      <td> 1304784457</td>\n",
       "      <td> 1453336395</td>\n",
       "      <td>-69</td>\n",
       "    </tr>\n",
       "    <tr>\n",
       "      <th>2 </th>\n",
       "      <td> GSM</td>\n",
       "      <td> 262</td>\n",
       "      <td> 1</td>\n",
       "      <td> 17426</td>\n",
       "      <td> 40228</td>\n",
       "      <td>NaN</td>\n",
       "      <td> 11.599694</td>\n",
       "      <td> 49.895716</td>\n",
       "      <td> 139228</td>\n",
       "      <td> 10302</td>\n",
       "      <td> 1</td>\n",
       "      <td> 1304947912</td>\n",
       "      <td> 1453335354</td>\n",
       "      <td>-51</td>\n",
       "    </tr>\n",
       "    <tr>\n",
       "      <th>3 </th>\n",
       "      <td> GSM</td>\n",
       "      <td> 262</td>\n",
       "      <td> 3</td>\n",
       "      <td>  4417</td>\n",
       "      <td> 55777</td>\n",
       "      <td>NaN</td>\n",
       "      <td> 11.584462</td>\n",
       "      <td> 49.895334</td>\n",
       "      <td> 139936</td>\n",
       "      <td>  2167</td>\n",
       "      <td> 1</td>\n",
       "      <td> 1304947912</td>\n",
       "      <td> 1453335354</td>\n",
       "      <td>-78</td>\n",
       "    </tr>\n",
       "    <tr>\n",
       "      <th>4 </th>\n",
       "      <td> GSM</td>\n",
       "      <td> 262</td>\n",
       "      <td> 7</td>\n",
       "      <td> 50836</td>\n",
       "      <td> 28074</td>\n",
       "      <td>NaN</td>\n",
       "      <td> 11.602636</td>\n",
       "      <td> 49.896744</td>\n",
       "      <td> 139009</td>\n",
       "      <td>  1385</td>\n",
       "      <td> 1</td>\n",
       "      <td> 1304947912</td>\n",
       "      <td> 1453335354</td>\n",
       "      <td>-72</td>\n",
       "    </tr>\n",
       "    <tr>\n",
       "      <th>5 </th>\n",
       "      <td> GSM</td>\n",
       "      <td> 262</td>\n",
       "      <td> 3</td>\n",
       "      <td>  4417</td>\n",
       "      <td> 52707</td>\n",
       "      <td>NaN</td>\n",
       "      <td> 11.615497</td>\n",
       "      <td> 49.944321</td>\n",
       "      <td> 134295</td>\n",
       "      <td>   439</td>\n",
       "      <td> 1</td>\n",
       "      <td> 1304947912</td>\n",
       "      <td> 1453335354</td>\n",
       "      <td>-83</td>\n",
       "    </tr>\n",
       "    <tr>\n",
       "      <th>6 </th>\n",
       "      <td> GSM</td>\n",
       "      <td> 262</td>\n",
       "      <td> 3</td>\n",
       "      <td>  4417</td>\n",
       "      <td>   557</td>\n",
       "      <td>NaN</td>\n",
       "      <td> 11.591642</td>\n",
       "      <td> 49.912699</td>\n",
       "      <td> 138104</td>\n",
       "      <td>  1045</td>\n",
       "      <td> 1</td>\n",
       "      <td> 1304947912</td>\n",
       "      <td> 1453335354</td>\n",
       "      <td>-77</td>\n",
       "    </tr>\n",
       "    <tr>\n",
       "      <th>7 </th>\n",
       "      <td> GSM</td>\n",
       "      <td> 262</td>\n",
       "      <td> 7</td>\n",
       "      <td> 50836</td>\n",
       "      <td> 28496</td>\n",
       "      <td>NaN</td>\n",
       "      <td> 11.581390</td>\n",
       "      <td> 49.882920</td>\n",
       "      <td>  59746</td>\n",
       "      <td>   797</td>\n",
       "      <td> 1</td>\n",
       "      <td> 1304947912</td>\n",
       "      <td> 1453335354</td>\n",
       "      <td>-77</td>\n",
       "    </tr>\n",
       "    <tr>\n",
       "      <th>8 </th>\n",
       "      <td> GSM</td>\n",
       "      <td> 262</td>\n",
       "      <td> 1</td>\n",
       "      <td> 17426</td>\n",
       "      <td>  2470</td>\n",
       "      <td>NaN</td>\n",
       "      <td> 11.599449</td>\n",
       "      <td> 49.884277</td>\n",
       "      <td>  21773</td>\n",
       "      <td>   507</td>\n",
       "      <td> 1</td>\n",
       "      <td> 1304947912</td>\n",
       "      <td> 1453335354</td>\n",
       "      <td>-81</td>\n",
       "    </tr>\n",
       "    <tr>\n",
       "      <th>9 </th>\n",
       "      <td> GSM</td>\n",
       "      <td> 262</td>\n",
       "      <td> 3</td>\n",
       "      <td>  4417</td>\n",
       "      <td> 17127</td>\n",
       "      <td>NaN</td>\n",
       "      <td> 11.594675</td>\n",
       "      <td> 49.937884</td>\n",
       "      <td>  57527</td>\n",
       "      <td>  1161</td>\n",
       "      <td> 1</td>\n",
       "      <td> 1304947912</td>\n",
       "      <td> 1453335354</td>\n",
       "      <td>-70</td>\n",
       "    </tr>\n",
       "    <tr>\n",
       "      <th>10</th>\n",
       "      <td> GSM</td>\n",
       "      <td> 262</td>\n",
       "      <td> 2</td>\n",
       "      <td>   890</td>\n",
       "      <td> 59532</td>\n",
       "      <td>NaN</td>\n",
       "      <td> 11.734844</td>\n",
       "      <td> 48.163751</td>\n",
       "      <td>  16604</td>\n",
       "      <td> 57157</td>\n",
       "      <td> 1</td>\n",
       "      <td> 1305010693</td>\n",
       "      <td> 1453337960</td>\n",
       "      <td>-70</td>\n",
       "    </tr>\n",
       "    <tr>\n",
       "      <th>11</th>\n",
       "      <td> GSM</td>\n",
       "      <td> 262</td>\n",
       "      <td> 3</td>\n",
       "      <td>  4417</td>\n",
       "      <td> 55807</td>\n",
       "      <td>NaN</td>\n",
       "      <td> 11.533571</td>\n",
       "      <td> 49.778768</td>\n",
       "      <td> 152458</td>\n",
       "      <td>  2580</td>\n",
       "      <td> 1</td>\n",
       "      <td> 1305223113</td>\n",
       "      <td> 1453335354</td>\n",
       "      <td>-80</td>\n",
       "    </tr>\n",
       "    <tr>\n",
       "      <th>12</th>\n",
       "      <td> GSM</td>\n",
       "      <td> 262</td>\n",
       "      <td> 3</td>\n",
       "      <td>  4417</td>\n",
       "      <td> 46537</td>\n",
       "      <td>NaN</td>\n",
       "      <td> 11.558965</td>\n",
       "      <td> 49.886733</td>\n",
       "      <td> 141821</td>\n",
       "      <td>  2279</td>\n",
       "      <td> 1</td>\n",
       "      <td> 1305223113</td>\n",
       "      <td> 1453335354</td>\n",
       "      <td>-89</td>\n",
       "    </tr>\n",
       "    <tr>\n",
       "      <th>13</th>\n",
       "      <td> GSM</td>\n",
       "      <td> 262</td>\n",
       "      <td> 7</td>\n",
       "      <td> 20205</td>\n",
       "      <td> 22227</td>\n",
       "      <td>NaN</td>\n",
       "      <td> 13.310791</td>\n",
       "      <td> 52.508281</td>\n",
       "      <td> 133241</td>\n",
       "      <td>  8202</td>\n",
       "      <td> 1</td>\n",
       "      <td> 1306583263</td>\n",
       "      <td> 1453335612</td>\n",
       "      <td>-67</td>\n",
       "    </tr>\n",
       "    <tr>\n",
       "      <th>14</th>\n",
       "      <td> GSM</td>\n",
       "      <td> 262</td>\n",
       "      <td> 1</td>\n",
       "      <td> 22273</td>\n",
       "      <td> 34839</td>\n",
       "      <td>NaN</td>\n",
       "      <td>  9.963851</td>\n",
       "      <td> 52.390667</td>\n",
       "      <td> 159880</td>\n",
       "      <td>  6908</td>\n",
       "      <td> 1</td>\n",
       "      <td> 1306590674</td>\n",
       "      <td> 1453337576</td>\n",
       "      <td>-51</td>\n",
       "    </tr>\n",
       "    <tr>\n",
       "      <th>15</th>\n",
       "      <td> GSM</td>\n",
       "      <td> 262</td>\n",
       "      <td> 2</td>\n",
       "      <td>   514</td>\n",
       "      <td> 42661</td>\n",
       "      <td>NaN</td>\n",
       "      <td>  9.956752</td>\n",
       "      <td> 52.376188</td>\n",
       "      <td> 209120</td>\n",
       "      <td> 15802</td>\n",
       "      <td> 1</td>\n",
       "      <td> 1306590704</td>\n",
       "      <td> 1453334697</td>\n",
       "      <td>-64</td>\n",
       "    </tr>\n",
       "    <tr>\n",
       "      <th>16</th>\n",
       "      <td> GSM</td>\n",
       "      <td> 262</td>\n",
       "      <td> 3</td>\n",
       "      <td>   582</td>\n",
       "      <td> 38062</td>\n",
       "      <td>NaN</td>\n",
       "      <td>  9.912072</td>\n",
       "      <td> 52.379838</td>\n",
       "      <td> 159245</td>\n",
       "      <td> 13036</td>\n",
       "      <td> 1</td>\n",
       "      <td> 1306590704</td>\n",
       "      <td> 1453337576</td>\n",
       "      <td>-83</td>\n",
       "    </tr>\n",
       "    <tr>\n",
       "      <th>17</th>\n",
       "      <td> GSM</td>\n",
       "      <td> 262</td>\n",
       "      <td> 3</td>\n",
       "      <td>   582</td>\n",
       "      <td>  2842</td>\n",
       "      <td>NaN</td>\n",
       "      <td>  9.911645</td>\n",
       "      <td> 52.379309</td>\n",
       "      <td> 162234</td>\n",
       "      <td> 22975</td>\n",
       "      <td> 1</td>\n",
       "      <td> 1306590704</td>\n",
       "      <td> 1453337576</td>\n",
       "      <td>-73</td>\n",
       "    </tr>\n",
       "    <tr>\n",
       "      <th>18</th>\n",
       "      <td> GSM</td>\n",
       "      <td> 262</td>\n",
       "      <td> 7</td>\n",
       "      <td> 30545</td>\n",
       "      <td> 35232</td>\n",
       "      <td>NaN</td>\n",
       "      <td>  8.665562</td>\n",
       "      <td> 52.072996</td>\n",
       "      <td> 120280</td>\n",
       "      <td>   728</td>\n",
       "      <td> 1</td>\n",
       "      <td> 1306624056</td>\n",
       "      <td> 1453334702</td>\n",
       "      <td>-73</td>\n",
       "    </tr>\n",
       "    <tr>\n",
       "      <th>19</th>\n",
       "      <td> GSM</td>\n",
       "      <td> 262</td>\n",
       "      <td> 2</td>\n",
       "      <td>   513</td>\n",
       "      <td>  6600</td>\n",
       "      <td>NaN</td>\n",
       "      <td> 10.840947</td>\n",
       "      <td> 52.305103</td>\n",
       "      <td> 185927</td>\n",
       "      <td> 36461</td>\n",
       "      <td> 1</td>\n",
       "      <td> 1306772794</td>\n",
       "      <td> 1453337051</td>\n",
       "      <td>-78</td>\n",
       "    </tr>\n",
       "  </tbody>\n",
       "</table>\n",
       "</div>"
      ],
      "text/plain": [
       "   radio  mcc  net   area   cell  unit        lon        lat   range  samples  \\\n",
       "0    GSM  262    7  20208  22311   NaN  13.451345  52.451001  178964     8174   \n",
       "1    GSM  262    7  20208  42303   NaN  13.446594  52.453607  154650     7151   \n",
       "2    GSM  262    1  17426  40228   NaN  11.599694  49.895716  139228    10302   \n",
       "3    GSM  262    3   4417  55777   NaN  11.584462  49.895334  139936     2167   \n",
       "4    GSM  262    7  50836  28074   NaN  11.602636  49.896744  139009     1385   \n",
       "5    GSM  262    3   4417  52707   NaN  11.615497  49.944321  134295      439   \n",
       "6    GSM  262    3   4417    557   NaN  11.591642  49.912699  138104     1045   \n",
       "7    GSM  262    7  50836  28496   NaN  11.581390  49.882920   59746      797   \n",
       "8    GSM  262    1  17426   2470   NaN  11.599449  49.884277   21773      507   \n",
       "9    GSM  262    3   4417  17127   NaN  11.594675  49.937884   57527     1161   \n",
       "10   GSM  262    2    890  59532   NaN  11.734844  48.163751   16604    57157   \n",
       "11   GSM  262    3   4417  55807   NaN  11.533571  49.778768  152458     2580   \n",
       "12   GSM  262    3   4417  46537   NaN  11.558965  49.886733  141821     2279   \n",
       "13   GSM  262    7  20205  22227   NaN  13.310791  52.508281  133241     8202   \n",
       "14   GSM  262    1  22273  34839   NaN   9.963851  52.390667  159880     6908   \n",
       "15   GSM  262    2    514  42661   NaN   9.956752  52.376188  209120    15802   \n",
       "16   GSM  262    3    582  38062   NaN   9.912072  52.379838  159245    13036   \n",
       "17   GSM  262    3    582   2842   NaN   9.911645  52.379309  162234    22975   \n",
       "18   GSM  262    7  30545  35232   NaN   8.665562  52.072996  120280      728   \n",
       "19   GSM  262    2    513   6600   NaN  10.840947  52.305103  185927    36461   \n",
       "\n",
       "    changeable     created     updated  averageSignal  \n",
       "0            1  1304784457  1453336789            -71  \n",
       "1            1  1304784457  1453336395            -69  \n",
       "2            1  1304947912  1453335354            -51  \n",
       "3            1  1304947912  1453335354            -78  \n",
       "4            1  1304947912  1453335354            -72  \n",
       "5            1  1304947912  1453335354            -83  \n",
       "6            1  1304947912  1453335354            -77  \n",
       "7            1  1304947912  1453335354            -77  \n",
       "8            1  1304947912  1453335354            -81  \n",
       "9            1  1304947912  1453335354            -70  \n",
       "10           1  1305010693  1453337960            -70  \n",
       "11           1  1305223113  1453335354            -80  \n",
       "12           1  1305223113  1453335354            -89  \n",
       "13           1  1306583263  1453335612            -67  \n",
       "14           1  1306590674  1453337576            -51  \n",
       "15           1  1306590704  1453334697            -64  \n",
       "16           1  1306590704  1453337576            -83  \n",
       "17           1  1306590704  1453337576            -73  \n",
       "18           1  1306624056  1453334702            -73  \n",
       "19           1  1306772794  1453337051            -78  "
      ]
     },
     "execution_count": 309,
     "metadata": {},
     "output_type": "execute_result"
    }
   ],
   "source": [
    "# Tre = roma.net == 99\n",
    "# treCell = roma[Tre].reset_index(drop=True)\n",
    "# treCell\n",
    "\n",
    "# TODO snellire il dataframe iniziale levando le colonne inutili\n",
    "\n",
    "dataframe = pandas.read_csv(\"../data/cell_towers_diff-2016012100.csv\")\n",
    "troncato = dataframe[50:70]\n",
    "ordinato = troncato.reset_index(drop=True)\n",
    "ordinato"
   ]
  },
  {
   "cell_type": "code",
   "execution_count": 310,
   "metadata": {
    "collapsed": true
   },
   "outputs": [],
   "source": [
    "\n",
    "# criteri di filtro per le compagnie telefoniche\n",
    "isTim = roma.net == 1\n",
    "isWind = roma.net == 88\n",
    "isVodafone = roma.net == 10\n",
    "isTre = roma.net == 99\n",
    "\n",
    "# creazione dei dataframe separati per gestore\n",
    "tim = roma[isTim].reset_index(drop=True)\n",
    "wind = roma[isWind].reset_index(drop=True)\n",
    "vodafone = roma[isVodafone].reset_index(drop=True)\n",
    "tre = roma[isTre].reset_index(drop=True)\n",
    " "
   ]
  },
  {
   "cell_type": "code",
   "execution_count": 311,
   "metadata": {
    "collapsed": false
   },
   "outputs": [],
   "source": [
    "tim = romaFiltrato[isTim].reset_index(drop=True)\n",
    "wind = romaFiltrato[isWind].reset_index(drop=True)\n",
    "vodafone = romaFiltrato[isVodafone].reset_index(drop=True)\n",
    "tre = romaFiltrato[isTre].reset_index(drop=True)\n"
   ]
  },
  {
   "cell_type": "code",
   "execution_count": 312,
   "metadata": {
    "collapsed": false,
    "scrolled": true
   },
   "outputs": [
    {
     "data": {
      "text/plain": [
       "<matplotlib.legend.Legend at 0x7f5597116ad0>"
      ]
     },
     "execution_count": 312,
     "metadata": {},
     "output_type": "execute_result"
    },
    {
     "data": {
      "image/png": "[encoded data removed]",
      "text/plain": [
       "<matplotlib.figure.Figure at 0x7f5597d30090>"
      ]
     },
     "metadata": {},
     "output_type": "display_data"
    }
   ],
   "source": [
    "compagnie = ['Tim','Wind','Vodafone','Tre','aggregati']\n",
    "\n",
    "colori = ['#0066ff','#ff8000','#ff3300','#99ccff','#4d4d4d']\n",
    "\n",
    "valori = [tim.range.values, wind.range.values, vodafone.range.values, tre.range.values, raggi.values]\n",
    "\n",
    "pyplot.figure(figsize=(20,8)) # dimensioni in pollici\n",
    "distribuzioneRangeTutti = pyplot.hist(valori,\\\n",
    "                                 bins=max(raggi)-min(raggi),\\\n",
    "                                 histtype='step',\\\n",
    "                                 label=compagnie,\\\n",
    "                                 color=colori\n",
    "                                )\n",
    "pyplot.title('Distribuzione della copertura')\n",
    "pyplot.ylabel(\"Numero di antenne\")\n",
    "pyplot.xlabel(\"Copertura [m]\")\n",
    "# pyplot.gca().set_xscale(\"log\")\n",
    "# pyplot.gca().set_yscale(\"log\")\n",
    "pyplot.xscale(\"log\")\n",
    "pyplot.yscale(\"log\")\n",
    "pyplot.legend()\n",
    "\n",
    "# TODO prendere colori aggiornati dal notebook di Iuri\n",
    "# TODO mettere la legenda coi loghi delle compagnie\n",
    "# oppure mettere direttamente le scritte del colore corrispondente,\n",
    "# magari anche attaccate al relativo istogramma\n",
    "# TODO levare il bordo del riquadro della legenda\n",
    "# TODO provare istogramma stacked, in modo da dare il totale\n",
    "# TODO scrivere che dietro il futuro istogramma equispaziato ci sta un giorno di lavoro"
   ]
  },
  {
   "cell_type": "markdown",
   "metadata": {},
   "source": [
    "TODO (futuristico):\n",
    "vedere se esiste un modo per mettere due o più computer in rete a fare una piccola grid, per condividere la potenza di calcolo, la memoria ram e lo spazio su disco"
   ]
  },
  {
   "cell_type": "code",
   "execution_count": 415,
   "metadata": {
    "collapsed": false
   },
   "outputs": [
    {
     "data": {
      "image/png": "[encoded data removed]",
      "text/plain": [
       "<matplotlib.figure.Figure at 0x7f5596330950>"
      ]
     },
     "metadata": {},
     "output_type": "display_data"
    }
   ],
   "source": [
    "pyplot.figure(figsize=(20,8))\n",
    "distribuzioneRange = pyplot.hist(raggi.values,\\\n",
    "                                 bins=div,\\\n",
    "                                 histtype='step')\n",
    "pyplot.title('PROVA, CON CANALI NON ANCORA PESATI')\n",
    "pyplot.xscale(\"log\")\n",
    "pyplot.yscale(\"log\")\n"
   ]
  },
  {
   "cell_type": "code",
   "execution_count": 385,
   "metadata": {
    "collapsed": false
   },
   "outputs": [],
   "source": [
    "a,b,c = distribuzioneRange"
   ]
  },
  {
   "cell_type": "code",
   "execution_count": 402,
   "metadata": {
    "collapsed": false
   },
   "outputs": [],
   "source": [
    "a1 = numpy.append(a.astype(int), 0)"
   ]
  },
  {
   "cell_type": "code",
   "execution_count": 403,
   "metadata": {
    "collapsed": false
   },
   "outputs": [],
   "source": [
    "b1 = b.astype(int)"
   ]
  },
  {
   "cell_type": "code",
   "execution_count": 404,
   "metadata": {
    "collapsed": false
   },
   "outputs": [
    {
     "data": {
      "text/plain": [
       "array([  88,  138,  217,  331,  470,  562,  676,  964, 1266, 1024,  586,\n",
       "        281,  188,   59,    7,    0])"
      ]
     },
     "execution_count": 404,
     "metadata": {},
     "output_type": "execute_result"
    }
   ],
   "source": [
    "a1"
   ]
  },
  {
   "cell_type": "code",
   "execution_count": 405,
   "metadata": {
    "collapsed": false
   },
   "outputs": [
    {
     "data": {
      "text/plain": [
       "array([    1,     2,     4,     8,    16,    32,    64,   128,   256,\n",
       "         512,  1024,  2048,  4096,  8192, 16384, 32768])"
      ]
     },
     "execution_count": 405,
     "metadata": {},
     "output_type": "execute_result"
    }
   ],
   "source": [
    "b1"
   ]
  },
  {
   "cell_type": "code",
   "execution_count": 406,
   "metadata": {
    "collapsed": false
   },
   "outputs": [
    {
     "data": {
      "text/plain": [
       "array([    1,     2,     4,     8,    16,    32,    64,   128,   256,\n",
       "         512,  1024,  2048,  4096,  8192, 16384, 32768])"
      ]
     },
     "execution_count": 406,
     "metadata": {},
     "output_type": "execute_result"
    }
   ],
   "source": [
    "div = numpy.logspace(start=0, stop=15, num=16, base=2).astype(int) # max = 20341\n",
    "div"
   ]
  },
  {
   "cell_type": "code",
   "execution_count": 411,
   "metadata": {
    "collapsed": false
   },
   "outputs": [
    {
     "data": {
      "text/plain": [
       "array([88, 69, 54, 41, 29, 17, 10,  7,  4,  2,  0,  0,  0,  0,  0,  0])"
      ]
     },
     "execution_count": 411,
     "metadata": {},
     "output_type": "execute_result"
    }
   ],
   "source": [
    "a2 = a1/div\n",
    "a2"
   ]
  },
  {
   "cell_type": "code",
   "execution_count": 414,
   "metadata": {
    "collapsed": false
   },
   "outputs": [
    {
     "data": {
      "image/png": "[encoded data removed]",
      "text/plain": [
       "<matplotlib.figure.Figure at 0x7f559647bf90>"
      ]
     },
     "metadata": {},
     "output_type": "display_data"
    }
   ],
   "source": [
    "pyplot.scatter(y=a2,x=div)\n",
    "pyplot.xscale(\"log\")\n",
    "pyplot.yscale(\"log\")\n"
   ]
  },
  {
   "cell_type": "code",
   "execution_count": null,
   "metadata": {
    "collapsed": true
   },
   "outputs": [],
   "source": [
    "# TODO vedere se le due slope del grafico log-log possono essere\n",
    "# messe in relazione con le due slode della legge\n",
    "# di Heap e di Zipf (o come cavolo si scrivono)"
   ]
  }
 ],
 "metadata": {
  "kernelspec": {
   "display_name": "Python 2",
   "language": "python",
   "name": "python2"
  },
  "language_info": {
   "codemirror_mode": {
    "name": "ipython",
    "version": 2
   },
   "file_extension": ".py",
   "mimetype": "text/x-python",
   "name": "python",
   "nbconvert_exporter": "python",
   "pygments_lexer": "ipython2",
   "version": "2.7.10"
  }
 },
 "nbformat": 4,
 "nbformat_minor": 0
}
