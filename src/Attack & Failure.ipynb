{
 "cells": [
  {
   "cell_type": "code",
   "execution_count": 7,
   "metadata": {
    "collapsed": true
   },
   "outputs": [],
   "source": [
    "import math\n",
    "#import itertools\n",
    "import pandas\n",
    "import numpy\n",
    "import networkx"
   ]
  },
  {
   "cell_type": "markdown",
   "metadata": {},
   "source": [
    "## Simulazione attacco, andamento D e GC in funzione dei nodi rimossi"
   ]
  },
  {
   "cell_type": "markdown",
   "metadata": {},
   "source": [
    "### Funzioni step-by-step (un nodo per volta)"
   ]
  },
  {
   "cell_type": "code",
   "execution_count": 8,
   "metadata": {
    "collapsed": true
   },
   "outputs": [],
   "source": [
    "def attacco(compagnia):\n",
    "    adiacenzaFinal = numpy.genfromtxt((\"/home/protoss/Documenti/Siscomp_datas/data/AdiacenzaEuclidea_{0}.csv\".format(compagnia)),delimiter=',',dtype='int')\n",
    "    grafoFinal = networkx.Graph(adiacenzaFinal)\n",
    "\n",
    "    graphSize = networkx.number_of_nodes(grafoFinal)\n",
    "    steps = graphSize\n",
    "    passo = 1\n",
    "    i = 0\n",
    "    ascisse.append(i)\n",
    "    aziendaFinal.append(compagnia)\n",
    "    diametro.append(2)\n",
    "    relSizeGC.append(1)\n",
    "\n",
    "    while (networkx.number_of_nodes(grafoFinal) > passo):\n",
    "        gradiFinal = pandas.DataFrame(grafoFinal.degree().items(), columns=['index', 'grado'])\n",
    "        gradiFinal.sort([\"grado\"], ascending=[False], inplace=True)\n",
    "        sortedIDnode = gradiFinal['index'].values\n",
    "\n",
    "        grafoFinal.remove_node(sortedIDnode[0])\n",
    "\n",
    "        giantCluster = max(networkx.connected_component_subgraphs(grafoFinal), key = len)\n",
    "        \n",
    "        i += 100/float(steps)\n",
    "        ascisse.append(i)\n",
    "        aziendaFinal.append(compagnia)\n",
    "\n",
    "        newGraphSize = networkx.number_of_nodes(grafoFinal)\n",
    "        diametro.append(networkx.diameter(giantCluster, e=None))\n",
    "        relSizeGC.append((networkx.number_of_nodes(giantCluster))/(float(newGraphSize)))\n",
    "\n",
    "def failure(compagnia):\n",
    "    adiacenzaFinal = numpy.genfromtxt((\"/home/protoss/Documenti/Siscomp_datas/data/AdiacenzaEuclidea_{0}.csv\".format(compagnia)),delimiter=',',dtype='int')\n",
    "    grafoFinal = networkx.Graph(adiacenzaFinal)\n",
    "\n",
    "    graphSize = networkx.number_of_nodes(grafoFinal)\n",
    "    steps = graphSize\n",
    "    passo = 1\n",
    "    i = 0\n",
    "    ascisse.append(i)\n",
    "    aziendaFinal.append(compagnia)\n",
    "    diametro.append(2)\n",
    "    relSizeGC.append(1)\n",
    "    \n",
    "    while (networkx.number_of_nodes(grafoFinal) > passo):\n",
    "        gradiFinal = pandas.DataFrame(grafoFinal.degree().items(), columns=['index', 'grado'])\n",
    "        randomante = gradiFinal['index'].values\n",
    "        randomante = numpy.random.permutation(randomante)\n",
    "\n",
    "        grafoFinal.remove_node(randomante[0])\n",
    "    \n",
    "        giantCluster = max(networkx.connected_component_subgraphs(grafoFinal), key = len)\n",
    "                            \n",
    "        i += 100/steps\n",
    "        ascisse.append(i)\n",
    "        aziendaFinal.append(compagnia)\n",
    "\n",
    "        graphSize = networkx.number_of_nodes(grafoFinal)\n",
    "        diametro.append(networkx.diameter(giantCluster, e=None))\n",
    "        relSizeGC.append((networkx.number_of_nodes(giantCluster))/(float(graphSize)))"
   ]
  },
  {
   "cell_type": "markdown",
   "metadata": {},
   "source": [
    "### Funzioni a sequenze percentuali"
   ]
  },
  {
   "cell_type": "code",
   "execution_count": 9,
   "metadata": {
    "collapsed": true
   },
   "outputs": [],
   "source": [
    "def attaccoPercent(compagnia, steps):\n",
    "    adiacenzaFinal = numpy.genfromtxt((\"/home/protoss/Documenti/Siscomp_datas/data/AdiacenzaEuclidea_{0}.csv\".format(compagnia)),delimiter=',',dtype='int')\n",
    "    grafoFinal = networkx.Graph(adiacenzaFinal)\n",
    "\n",
    "    graphSize = networkx.number_of_nodes(grafoFinal)\n",
    "    passo = networkx.number_of_nodes(grafoFinal)/steps\n",
    "\n",
    "    i = 0\n",
    "    ascisse.append(i)\n",
    "    aziendaFinal.append(compagnia)\n",
    "    diametro.append(2)\n",
    "    relSizeGC.append(1)\n",
    "\n",
    "    while (networkx.number_of_nodes(grafoFinal) > passo):\n",
    "        gradiFinal = pandas.DataFrame(grafoFinal.degree().items(), columns=['index', 'grado'])\n",
    "        gradiFinal.sort([\"grado\"], ascending=[False], inplace=True)\n",
    "        sortedIDnode = gradiFinal['index'].values\n",
    "\n",
    "#        grafoFinal.remove_nodes_from(sortedIDnode[0:passo])\n",
    "        for identificativo in sortedIDnode:\n",
    "            if (networkx.number_of_nodes(grafoFinal) > len(sortedIDnode) - passo):\n",
    "                   grafoFinal.remove_node(identificativo)\n",
    "\n",
    "        giantCluster = max(networkx.connected_component_subgraphs(grafoFinal), key = len)\n",
    "        \n",
    "        i += 100/float(steps)\n",
    "        ascisse.append(i)\n",
    "        aziendaFinal.append(compagnia)\n",
    "\n",
    "        graphSize = networkx.number_of_nodes(grafoFinal)\n",
    "        diametro.append(networkx.diameter(giantCluster, e=None))\n",
    "        relSizeGC.append((networkx.number_of_nodes(giantCluster))/(float(graphSize)))\n",
    "\n",
    "\n",
    "def failurePercent(compagnia, steps):\n",
    "    adiacenzaFinal = numpy.genfromtxt((\"/home/protoss/Documenti/Siscomp_datas/data/AdiacenzaEuclidea_{0}.csv\".format(compagnia)),delimiter=',',dtype='int')\n",
    "    grafoFinal = networkx.Graph(adiacenzaFinal)\n",
    "\n",
    "    graphSize = networkx.number_of_nodes(grafoFinal)\n",
    "    passo = networkx.number_of_nodes(grafoFinal)/float(steps)\n",
    "    \n",
    "    i = 0\n",
    "    ascisse.append(i)\n",
    "    aziendaFinal.append(compagnia)\n",
    "    diametro.append(2)\n",
    "    relSizeGC.append(1)\n",
    "    \n",
    "    while (networkx.number_of_nodes(grafoFinal) > passo):\n",
    "        gradiFinal = pandas.DataFrame(grafoFinal.degree().items(), columns=['index', 'grado'])\n",
    "        randomante = gradiFinal['index'].values\n",
    "        randomante = numpy.random.permutation(randomante)\n",
    "\n",
    "        for identificativo in randomante:\n",
    "            if (networkx.number_of_nodes(grafoFinal) > len(randomante) - passo):\n",
    "                grafoFinal.remove_node(identificativo)\n",
    "    \n",
    "        giantCluster = max(networkx.connected_component_subgraphs(grafoFinal), key = len)\n",
    "                            \n",
    "        i += 100/steps\n",
    "        ascisse.append(i)\n",
    "        aziendaFinal.append(compagnia)\n",
    "\n",
    "        graphSize = networkx.number_of_nodes(grafoFinal)\n",
    "        diametro.append(networkx.diameter(giantCluster, e=None))\n",
    "        relSizeGC.append((networkx.number_of_nodes(giantCluster))/(float(graphSize)))"
   ]
  },
  {
   "cell_type": "code",
   "execution_count": 11,
   "metadata": {
    "collapsed": true
   },
   "outputs": [],
   "source": [
    "colori = ['#004184','#ff3300','#ff8000','#018ECC','#4d4d4d']\n",
    "#colori = ['#AA3939','#226666','#7A9F35']\n",
    "#gestore = [\"Roma\"]\n",
    "gestore = [\"Tim\", \"Vodafone\", \"Wind\", \"Tre\"]"
   ]
  },
  {
   "cell_type": "code",
   "execution_count": 12,
   "metadata": {
    "collapsed": false
   },
   "outputs": [
    {
     "name": "stdout",
     "output_type": "stream",
     "text": [
      "CPU times: user 6.31 s, sys: 96 ms, total: 6.4 s\n",
      "Wall time: 6.37 s\n",
      "CPU times: user 7.03 s, sys: 60 ms, total: 7.09 s\n",
      "Wall time: 7.01 s\n",
      "CPU times: user 16 s, sys: 96 ms, total: 16.1 s\n",
      "Wall time: 16 s\n",
      "CPU times: user 3.09 s, sys: 32 ms, total: 3.12 s\n",
      "Wall time: 3.12 s\n"
     ]
    },
    {
     "name": "stderr",
     "output_type": "stream",
     "text": [
      "/home/protoss/Programmi/VirtualEnvironment/lib/python2.7/site-packages/ipykernel/__main__.py:16: FutureWarning: sort(columns=....) is deprecated, use sort_values(by=.....)\n"
     ]
    }
   ],
   "source": [
    "#Attacco\n",
    "diametro = []\n",
    "relSizeGC = []\n",
    "aziendaFinal = []\n",
    "ascisse = []\n",
    "\n",
    "for provider in gestore:\n",
    "    #%time attacco(provider)\n",
    "    %time attaccoPercent(provider, 10)\n",
    "    \n",
    "datiFinal = pandas.DataFrame()\n",
    "\n",
    "datiFinal['percent'] = ascisse\n",
    "datiFinal['Provider'] = aziendaFinal\n",
    "datiFinal['diameter'] = diametro\n",
    "datiFinal['GCsize'] = relSizeGC\n",
    "#datiFinal.to_csv(\"/home/protoss/Documenti/SistemiComplessi/data/Iuri/AttackDataForSeaborn.csv\")\n",
    "#datiFinal.head()"
   ]
  },
  {
   "cell_type": "markdown",
   "metadata": {},
   "source": [
    "CPU times: user 1min 34s, sys: 644 ms, total: 1min 35s  \n",
    "Wall time: 1min 34s  \n",
    "CPU times: user 1min 44s, sys: 696 ms, total: 1min 44s  \n",
    "Wall time: 1min 43s  \n",
    "CPU times: user 4min 40s, sys: 2.09 s, total: 4min 42s  \n",
    "Wall time: 4min 40s  \n",
    "CPU times: user 37.4 s, sys: 188 ms, total: 37.6 s  \n",
    "Wall time: 37.4 s  \n",
    "  "
   ]
  },
  {
   "cell_type": "code",
   "execution_count": 13,
   "metadata": {
    "collapsed": false
   },
   "outputs": [
    {
     "name": "stdout",
     "output_type": "stream",
     "text": [
      "CPU times: user 39.1 s, sys: 284 ms, total: 39.4 s\n",
      "Wall time: 39 s\n",
      "CPU times: user 30.5 s, sys: 172 ms, total: 30.6 s\n",
      "Wall time: 30.4 s\n",
      "CPU times: user 1min 48s, sys: 752 ms, total: 1min 48s\n",
      "Wall time: 1min 47s\n",
      "CPU times: user 14.7 s, sys: 108 ms, total: 14.8 s\n",
      "Wall time: 14.7 s\n"
     ]
    }
   ],
   "source": [
    "#Failure\n",
    "diametro = []\n",
    "relSizeGC = []\n",
    "aziendaFinal = []\n",
    "ascisse = []\n",
    "\n",
    "for provider in gestore:\n",
    "    %time failurePercent(provider, 10)\n",
    "#    %time failure(provider)\n",
    "        \n",
    "datiFinal = pandas.DataFrame()\n",
    "\n",
    "datiFinal['percent'] = ascisse\n",
    "datiFinal['Provider'] = aziendaFinal\n",
    "#datiFinal['diameter'] = diametro\n",
    "datiFinal['GCsize'] = relSizeGC\n",
    "datiFinal.to_csv(\"/home/protoss/Documenti/SistemiComplessi/data/Iuri/ComparazioneFailureRoma.csv\")\n",
    "#datiFinal"
   ]
  },
  {
   "cell_type": "markdown",
   "metadata": {},
   "source": [
    "CPU times: user 7min 42s, sys: 3.14 s, total: 7min 45s  \n",
    "Wall time: 7min 41s  \n",
    "CPU times: user 6min 53s, sys: 3.04 s, total: 6min 56s  \n",
    "Wall time: 6min 52s  \n",
    "CPU times: user 22min 48s, sys: 9.6 s, total: 22min 57s  \n",
    "Wall time: 22min 44s  \n",
    "CPU times: user 3min 7s, sys: 1.29 s, total: 3min 8s  \n",
    "Wall time: 3min 7s  \n"
   ]
  },
  {
   "cell_type": "markdown",
   "metadata": {},
   "source": [
    "## Confronto metodi di attacco (parallelo, sequenziale, sequenziale step-by-step)"
   ]
  },
  {
   "cell_type": "code",
   "execution_count": 8,
   "metadata": {
    "collapsed": false
   },
   "outputs": [
    {
     "data": {
      "image/png": "[encoded data removed]",
      "text/plain": [
       "<matplotlib.figure.Figure at 0x7f9646931050>"
      ]
     },
     "metadata": {},
     "output_type": "display_data"
    }
   ],
   "source": [
    "#giant cluster\n",
    "import seaborn\n",
    "import pandas\n",
    "\n",
    "datiFinal = pandas.read_csv('../../data/Iuri/comparazioneAttacchi.csv')\n",
    "\n",
    "seaborn.set_context(\"notebook\", font_scale=1.1)\n",
    "seaborn.set_style(\"ticks\")\n",
    "seaborn.lmplot('percent', 'GC', data=datiFinal, fit_reg=False,\n",
    "           size = 9, aspect = 1.3333,\n",
    "           legend = False,\n",
    "           hue='Strategia', palette = colori,\n",
    "           scatter_kws={\"marker\": \"D\", \"s\": 100})\n",
    "pyplot.title('Attacco: comparazione metodi')\n",
    "pyplot.xlabel(\"%\")\n",
    "pyplot.ylabel(\"Valore\")\n",
    "pyplot.xlim(0, 100)\n",
    "pyplot.ylim(0,1.1)\n",
    "pyplot.legend()\n",
    "pyplot.savefig('/home/protoss/Documenti/SistemiComplessi/img/AttackGC_Compare.svg', format='svg', dpi=1000)\n",
    "pyplot.savefig('/home/protoss/Documenti/SistemiComplessi/img/AttackGC_Compare.eps', format='eps', dpi=1000)"
   ]
  },
  {
   "cell_type": "markdown",
   "metadata": {},
   "source": [
    "## Calcolo del diametro della rete complessiva impossibile, andamento quadratico con aumentare dei nodi\n",
    "\n",
    "#### 10 steps\n",
    "\n",
    "CPU times: user 30.2 s, sys: 156 ms, total: 30.4 s  \n",
    "Wall time: 30.1 s  \n",
    "CPU times: user 14.1 s, sys: 56 ms, total: 14.2 s  \n",
    "Wall time: 14.1 s  \n",
    "CPU times: user 1min 7s, sys: 352 ms, total: 1min 7s  \n",
    "Wall time: 1min 6s  \n",
    "CPU times: user 12 s, sys: 72 ms, total: 12.1 s  \n",
    "Wall time: 11.9 s\n",
    "\n",
    "\n",
    "#### 20 steps\n",
    "\n",
    "CPU times: user 1min 6s, sys: 368 ms, total: 1min 6s  \n",
    "Wall time: 1min 5s  \n",
    "CPU times: user 29 s, sys: 176 ms, total: 29.2 s  \n",
    "Wall time: 28.9 s  \n",
    "CPU times: user 2min 28s, sys: 848 ms, total: 2min 29s  \n",
    "Wall time: 2min 27s  \n",
    "CPU times: user 25.4 s, sys: 116 ms, total: 25.6 s  \n",
    "Wall time: 25.4 s  \n",
    "\n"
   ]
  },
  {
   "cell_type": "code",
   "execution_count": null,
   "metadata": {
    "collapsed": true
   },
   "outputs": [],
   "source": []
  }
 ],
 "metadata": {
  "kernelspec": {
   "display_name": "Python 2",
   "language": "python",
   "name": "python2"
  },
  "language_info": {
   "codemirror_mode": {
    "name": "ipython",
    "version": 2
   },
   "file_extension": ".py",
   "mimetype": "text/x-python",
   "name": "python",
   "nbconvert_exporter": "python",
   "pygments_lexer": "ipython2",
   "version": "2.7.10"
  }
 },
 "nbformat": 4,
 "nbformat_minor": 0
}
