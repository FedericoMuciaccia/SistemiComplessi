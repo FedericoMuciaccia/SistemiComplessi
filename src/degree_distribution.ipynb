{
 "cells": [
  {
   "cell_type": "code",
   "execution_count": 2,
   "metadata": {
    "collapsed": false
   },
   "outputs": [],
   "source": [
    "import numpy\n",
    "import pandas\n",
    "\n",
    "import matplotlib\n",
    "from matplotlib import pyplot\n",
    "%matplotlib inline\n",
    "\n",
    "import scipy\n",
    "from scipy import stats\n",
    "\n"
   ]
  },
  {
   "cell_type": "code",
   "execution_count": null,
   "metadata": {
    "collapsed": true
   },
   "outputs": [],
   "source": [
    "# TODO vedere se il grafo finale non è scale free, \n",
    "# non è reticolo geometrico.\n",
    "# è una specie di vetro"
   ]
  },
  {
   "cell_type": "code",
   "execution_count": 2,
   "metadata": {
    "collapsed": false
   },
   "outputs": [
    {
     "data": {
      "text/html": [
       "<div style=\"max-height:1000px;max-width:1500px;overflow:auto;\">\n",
       "<table border=\"1\" class=\"dataframe\">\n",
       "  <thead>\n",
       "    <tr style=\"text-align: right;\">\n",
       "      <th></th>\n",
       "      <th>radio</th>\n",
       "      <th>mcc</th>\n",
       "      <th>net</th>\n",
       "      <th>area</th>\n",
       "      <th>cell</th>\n",
       "      <th>unit</th>\n",
       "      <th>lon</th>\n",
       "      <th>lat</th>\n",
       "      <th>range</th>\n",
       "      <th>samples</th>\n",
       "      <th>changeable</th>\n",
       "      <th>created</th>\n",
       "      <th>updated</th>\n",
       "      <th>averageSignal</th>\n",
       "    </tr>\n",
       "  </thead>\n",
       "  <tbody>\n",
       "    <tr>\n",
       "      <th>0 </th>\n",
       "      <td> GSM</td>\n",
       "      <td> 262</td>\n",
       "      <td> 7</td>\n",
       "      <td> 20208</td>\n",
       "      <td> 22311</td>\n",
       "      <td>NaN</td>\n",
       "      <td> 13.451345</td>\n",
       "      <td> 52.451001</td>\n",
       "      <td> 178964</td>\n",
       "      <td>  8174</td>\n",
       "      <td> 1</td>\n",
       "      <td> 1304784457</td>\n",
       "      <td> 1453336789</td>\n",
       "      <td>-71</td>\n",
       "    </tr>\n",
       "    <tr>\n",
       "      <th>1 </th>\n",
       "      <td> GSM</td>\n",
       "      <td> 262</td>\n",
       "      <td> 7</td>\n",
       "      <td> 20208</td>\n",
       "      <td> 42303</td>\n",
       "      <td>NaN</td>\n",
       "      <td> 13.446594</td>\n",
       "      <td> 52.453607</td>\n",
       "      <td> 154650</td>\n",
       "      <td>  7151</td>\n",
       "      <td> 1</td>\n",
       "      <td> 1304784457</td>\n",
       "      <td> 1453336395</td>\n",
       "      <td>-69</td>\n",
       "    </tr>\n",
       "    <tr>\n",
       "      <th>2 </th>\n",
       "      <td> GSM</td>\n",
       "      <td> 262</td>\n",
       "      <td> 1</td>\n",
       "      <td> 17426</td>\n",
       "      <td> 40228</td>\n",
       "      <td>NaN</td>\n",
       "      <td> 11.599694</td>\n",
       "      <td> 49.895716</td>\n",
       "      <td> 139228</td>\n",
       "      <td> 10302</td>\n",
       "      <td> 1</td>\n",
       "      <td> 1304947912</td>\n",
       "      <td> 1453335354</td>\n",
       "      <td>-51</td>\n",
       "    </tr>\n",
       "    <tr>\n",
       "      <th>3 </th>\n",
       "      <td> GSM</td>\n",
       "      <td> 262</td>\n",
       "      <td> 3</td>\n",
       "      <td>  4417</td>\n",
       "      <td> 55777</td>\n",
       "      <td>NaN</td>\n",
       "      <td> 11.584462</td>\n",
       "      <td> 49.895334</td>\n",
       "      <td> 139936</td>\n",
       "      <td>  2167</td>\n",
       "      <td> 1</td>\n",
       "      <td> 1304947912</td>\n",
       "      <td> 1453335354</td>\n",
       "      <td>-78</td>\n",
       "    </tr>\n",
       "    <tr>\n",
       "      <th>4 </th>\n",
       "      <td> GSM</td>\n",
       "      <td> 262</td>\n",
       "      <td> 7</td>\n",
       "      <td> 50836</td>\n",
       "      <td> 28074</td>\n",
       "      <td>NaN</td>\n",
       "      <td> 11.602636</td>\n",
       "      <td> 49.896744</td>\n",
       "      <td> 139009</td>\n",
       "      <td>  1385</td>\n",
       "      <td> 1</td>\n",
       "      <td> 1304947912</td>\n",
       "      <td> 1453335354</td>\n",
       "      <td>-72</td>\n",
       "    </tr>\n",
       "    <tr>\n",
       "      <th>5 </th>\n",
       "      <td> GSM</td>\n",
       "      <td> 262</td>\n",
       "      <td> 3</td>\n",
       "      <td>  4417</td>\n",
       "      <td> 52707</td>\n",
       "      <td>NaN</td>\n",
       "      <td> 11.615497</td>\n",
       "      <td> 49.944321</td>\n",
       "      <td> 134295</td>\n",
       "      <td>   439</td>\n",
       "      <td> 1</td>\n",
       "      <td> 1304947912</td>\n",
       "      <td> 1453335354</td>\n",
       "      <td>-83</td>\n",
       "    </tr>\n",
       "    <tr>\n",
       "      <th>6 </th>\n",
       "      <td> GSM</td>\n",
       "      <td> 262</td>\n",
       "      <td> 3</td>\n",
       "      <td>  4417</td>\n",
       "      <td>   557</td>\n",
       "      <td>NaN</td>\n",
       "      <td> 11.591642</td>\n",
       "      <td> 49.912699</td>\n",
       "      <td> 138104</td>\n",
       "      <td>  1045</td>\n",
       "      <td> 1</td>\n",
       "      <td> 1304947912</td>\n",
       "      <td> 1453335354</td>\n",
       "      <td>-77</td>\n",
       "    </tr>\n",
       "    <tr>\n",
       "      <th>7 </th>\n",
       "      <td> GSM</td>\n",
       "      <td> 262</td>\n",
       "      <td> 7</td>\n",
       "      <td> 50836</td>\n",
       "      <td> 28496</td>\n",
       "      <td>NaN</td>\n",
       "      <td> 11.581390</td>\n",
       "      <td> 49.882920</td>\n",
       "      <td>  59746</td>\n",
       "      <td>   797</td>\n",
       "      <td> 1</td>\n",
       "      <td> 1304947912</td>\n",
       "      <td> 1453335354</td>\n",
       "      <td>-77</td>\n",
       "    </tr>\n",
       "    <tr>\n",
       "      <th>8 </th>\n",
       "      <td> GSM</td>\n",
       "      <td> 262</td>\n",
       "      <td> 1</td>\n",
       "      <td> 17426</td>\n",
       "      <td>  2470</td>\n",
       "      <td>NaN</td>\n",
       "      <td> 11.599449</td>\n",
       "      <td> 49.884277</td>\n",
       "      <td>  21773</td>\n",
       "      <td>   507</td>\n",
       "      <td> 1</td>\n",
       "      <td> 1304947912</td>\n",
       "      <td> 1453335354</td>\n",
       "      <td>-81</td>\n",
       "    </tr>\n",
       "    <tr>\n",
       "      <th>9 </th>\n",
       "      <td> GSM</td>\n",
       "      <td> 262</td>\n",
       "      <td> 3</td>\n",
       "      <td>  4417</td>\n",
       "      <td> 17127</td>\n",
       "      <td>NaN</td>\n",
       "      <td> 11.594675</td>\n",
       "      <td> 49.937884</td>\n",
       "      <td>  57527</td>\n",
       "      <td>  1161</td>\n",
       "      <td> 1</td>\n",
       "      <td> 1304947912</td>\n",
       "      <td> 1453335354</td>\n",
       "      <td>-70</td>\n",
       "    </tr>\n",
       "    <tr>\n",
       "      <th>10</th>\n",
       "      <td> GSM</td>\n",
       "      <td> 262</td>\n",
       "      <td> 2</td>\n",
       "      <td>   890</td>\n",
       "      <td> 59532</td>\n",
       "      <td>NaN</td>\n",
       "      <td> 11.734844</td>\n",
       "      <td> 48.163751</td>\n",
       "      <td>  16604</td>\n",
       "      <td> 57157</td>\n",
       "      <td> 1</td>\n",
       "      <td> 1305010693</td>\n",
       "      <td> 1453337960</td>\n",
       "      <td>-70</td>\n",
       "    </tr>\n",
       "    <tr>\n",
       "      <th>11</th>\n",
       "      <td> GSM</td>\n",
       "      <td> 262</td>\n",
       "      <td> 3</td>\n",
       "      <td>  4417</td>\n",
       "      <td> 55807</td>\n",
       "      <td>NaN</td>\n",
       "      <td> 11.533571</td>\n",
       "      <td> 49.778768</td>\n",
       "      <td> 152458</td>\n",
       "      <td>  2580</td>\n",
       "      <td> 1</td>\n",
       "      <td> 1305223113</td>\n",
       "      <td> 1453335354</td>\n",
       "      <td>-80</td>\n",
       "    </tr>\n",
       "    <tr>\n",
       "      <th>12</th>\n",
       "      <td> GSM</td>\n",
       "      <td> 262</td>\n",
       "      <td> 3</td>\n",
       "      <td>  4417</td>\n",
       "      <td> 46537</td>\n",
       "      <td>NaN</td>\n",
       "      <td> 11.558965</td>\n",
       "      <td> 49.886733</td>\n",
       "      <td> 141821</td>\n",
       "      <td>  2279</td>\n",
       "      <td> 1</td>\n",
       "      <td> 1305223113</td>\n",
       "      <td> 1453335354</td>\n",
       "      <td>-89</td>\n",
       "    </tr>\n",
       "    <tr>\n",
       "      <th>13</th>\n",
       "      <td> GSM</td>\n",
       "      <td> 262</td>\n",
       "      <td> 7</td>\n",
       "      <td> 20205</td>\n",
       "      <td> 22227</td>\n",
       "      <td>NaN</td>\n",
       "      <td> 13.310791</td>\n",
       "      <td> 52.508281</td>\n",
       "      <td> 133241</td>\n",
       "      <td>  8202</td>\n",
       "      <td> 1</td>\n",
       "      <td> 1306583263</td>\n",
       "      <td> 1453335612</td>\n",
       "      <td>-67</td>\n",
       "    </tr>\n",
       "    <tr>\n",
       "      <th>14</th>\n",
       "      <td> GSM</td>\n",
       "      <td> 262</td>\n",
       "      <td> 1</td>\n",
       "      <td> 22273</td>\n",
       "      <td> 34839</td>\n",
       "      <td>NaN</td>\n",
       "      <td>  9.963851</td>\n",
       "      <td> 52.390667</td>\n",
       "      <td> 159880</td>\n",
       "      <td>  6908</td>\n",
       "      <td> 1</td>\n",
       "      <td> 1306590674</td>\n",
       "      <td> 1453337576</td>\n",
       "      <td>-51</td>\n",
       "    </tr>\n",
       "    <tr>\n",
       "      <th>15</th>\n",
       "      <td> GSM</td>\n",
       "      <td> 262</td>\n",
       "      <td> 2</td>\n",
       "      <td>   514</td>\n",
       "      <td> 42661</td>\n",
       "      <td>NaN</td>\n",
       "      <td>  9.956752</td>\n",
       "      <td> 52.376188</td>\n",
       "      <td> 209120</td>\n",
       "      <td> 15802</td>\n",
       "      <td> 1</td>\n",
       "      <td> 1306590704</td>\n",
       "      <td> 1453334697</td>\n",
       "      <td>-64</td>\n",
       "    </tr>\n",
       "    <tr>\n",
       "      <th>16</th>\n",
       "      <td> GSM</td>\n",
       "      <td> 262</td>\n",
       "      <td> 3</td>\n",
       "      <td>   582</td>\n",
       "      <td> 38062</td>\n",
       "      <td>NaN</td>\n",
       "      <td>  9.912072</td>\n",
       "      <td> 52.379838</td>\n",
       "      <td> 159245</td>\n",
       "      <td> 13036</td>\n",
       "      <td> 1</td>\n",
       "      <td> 1306590704</td>\n",
       "      <td> 1453337576</td>\n",
       "      <td>-83</td>\n",
       "    </tr>\n",
       "    <tr>\n",
       "      <th>17</th>\n",
       "      <td> GSM</td>\n",
       "      <td> 262</td>\n",
       "      <td> 3</td>\n",
       "      <td>   582</td>\n",
       "      <td>  2842</td>\n",
       "      <td>NaN</td>\n",
       "      <td>  9.911645</td>\n",
       "      <td> 52.379309</td>\n",
       "      <td> 162234</td>\n",
       "      <td> 22975</td>\n",
       "      <td> 1</td>\n",
       "      <td> 1306590704</td>\n",
       "      <td> 1453337576</td>\n",
       "      <td>-73</td>\n",
       "    </tr>\n",
       "    <tr>\n",
       "      <th>18</th>\n",
       "      <td> GSM</td>\n",
       "      <td> 262</td>\n",
       "      <td> 7</td>\n",
       "      <td> 30545</td>\n",
       "      <td> 35232</td>\n",
       "      <td>NaN</td>\n",
       "      <td>  8.665562</td>\n",
       "      <td> 52.072996</td>\n",
       "      <td> 120280</td>\n",
       "      <td>   728</td>\n",
       "      <td> 1</td>\n",
       "      <td> 1306624056</td>\n",
       "      <td> 1453334702</td>\n",
       "      <td>-73</td>\n",
       "    </tr>\n",
       "    <tr>\n",
       "      <th>19</th>\n",
       "      <td> GSM</td>\n",
       "      <td> 262</td>\n",
       "      <td> 2</td>\n",
       "      <td>   513</td>\n",
       "      <td>  6600</td>\n",
       "      <td>NaN</td>\n",
       "      <td> 10.840947</td>\n",
       "      <td> 52.305103</td>\n",
       "      <td> 185927</td>\n",
       "      <td> 36461</td>\n",
       "      <td> 1</td>\n",
       "      <td> 1306772794</td>\n",
       "      <td> 1453337051</td>\n",
       "      <td>-78</td>\n",
       "    </tr>\n",
       "  </tbody>\n",
       "</table>\n",
       "</div>"
      ],
      "text/plain": [
       "   radio  mcc  net   area   cell  unit        lon        lat   range  samples  \\\n",
       "0    GSM  262    7  20208  22311   NaN  13.451345  52.451001  178964     8174   \n",
       "1    GSM  262    7  20208  42303   NaN  13.446594  52.453607  154650     7151   \n",
       "2    GSM  262    1  17426  40228   NaN  11.599694  49.895716  139228    10302   \n",
       "3    GSM  262    3   4417  55777   NaN  11.584462  49.895334  139936     2167   \n",
       "4    GSM  262    7  50836  28074   NaN  11.602636  49.896744  139009     1385   \n",
       "5    GSM  262    3   4417  52707   NaN  11.615497  49.944321  134295      439   \n",
       "6    GSM  262    3   4417    557   NaN  11.591642  49.912699  138104     1045   \n",
       "7    GSM  262    7  50836  28496   NaN  11.581390  49.882920   59746      797   \n",
       "8    GSM  262    1  17426   2470   NaN  11.599449  49.884277   21773      507   \n",
       "9    GSM  262    3   4417  17127   NaN  11.594675  49.937884   57527     1161   \n",
       "10   GSM  262    2    890  59532   NaN  11.734844  48.163751   16604    57157   \n",
       "11   GSM  262    3   4417  55807   NaN  11.533571  49.778768  152458     2580   \n",
       "12   GSM  262    3   4417  46537   NaN  11.558965  49.886733  141821     2279   \n",
       "13   GSM  262    7  20205  22227   NaN  13.310791  52.508281  133241     8202   \n",
       "14   GSM  262    1  22273  34839   NaN   9.963851  52.390667  159880     6908   \n",
       "15   GSM  262    2    514  42661   NaN   9.956752  52.376188  209120    15802   \n",
       "16   GSM  262    3    582  38062   NaN   9.912072  52.379838  159245    13036   \n",
       "17   GSM  262    3    582   2842   NaN   9.911645  52.379309  162234    22975   \n",
       "18   GSM  262    7  30545  35232   NaN   8.665562  52.072996  120280      728   \n",
       "19   GSM  262    2    513   6600   NaN  10.840947  52.305103  185927    36461   \n",
       "\n",
       "    changeable     created     updated  averageSignal  \n",
       "0            1  1304784457  1453336789            -71  \n",
       "1            1  1304784457  1453336395            -69  \n",
       "2            1  1304947912  1453335354            -51  \n",
       "3            1  1304947912  1453335354            -78  \n",
       "4            1  1304947912  1453335354            -72  \n",
       "5            1  1304947912  1453335354            -83  \n",
       "6            1  1304947912  1453335354            -77  \n",
       "7            1  1304947912  1453335354            -77  \n",
       "8            1  1304947912  1453335354            -81  \n",
       "9            1  1304947912  1453335354            -70  \n",
       "10           1  1305010693  1453337960            -70  \n",
       "11           1  1305223113  1453335354            -80  \n",
       "12           1  1305223113  1453335354            -89  \n",
       "13           1  1306583263  1453335612            -67  \n",
       "14           1  1306590674  1453337576            -51  \n",
       "15           1  1306590704  1453334697            -64  \n",
       "16           1  1306590704  1453337576            -83  \n",
       "17           1  1306590704  1453337576            -73  \n",
       "18           1  1306624056  1453334702            -73  \n",
       "19           1  1306772794  1453337051            -78  "
      ]
     },
     "execution_count": 2,
     "metadata": {},
     "output_type": "execute_result"
    }
   ],
   "source": [
    "# Tre = roma.net == 99\n",
    "# treCell = roma[Tre].reset_index(drop=True)\n",
    "# treCell\n",
    "\n",
    "# TODO snellire il dataframe iniziale levando le colonne inutili\n",
    "\n",
    "dataframe = pandas.read_csv(\"../data/cell_towers_diff-2016012100.csv\")\n",
    "troncato = dataframe[50:70]\n",
    "ordinato = troncato.reset_index(drop=True)\n",
    "ordinato"
   ]
  },
  {
   "cell_type": "code",
   "execution_count": 4,
   "metadata": {
    "collapsed": false
   },
   "outputs": [],
   "source": [
    "roma = pandas.read_csv(\"../data/Roma_towers.csv\")\n"
   ]
  },
  {
   "cell_type": "code",
   "execution_count": null,
   "metadata": {
    "collapsed": true
   },
   "outputs": [],
   "source": [
    "\n",
    "# condizioni di filtro\n",
    "raggioMin = 1\n",
    "# raggioMax = 1000\n",
    "raggiPositivi = roma.range >= raggioMin\n",
    "# raggiCorti = roma.range < raggioMax\n",
    "\n",
    "# query con le condizioni\n",
    "#romaFiltrato = roma[raggiPositivi & raggiCorti]\n",
    "romaFiltrato = roma[raggiPositivi]\n",
    "raggi = romaFiltrato.range\n",
    "\n",
    "print max(raggi)\n"
   ]
  },
  {
   "cell_type": "code",
   "execution_count": 6,
   "metadata": {
    "collapsed": true
   },
   "outputs": [],
   "source": [
    "\n",
    "# criteri di filtro per le compagnie telefoniche\n",
    "isTim = roma.net == 1\n",
    "isWind = roma.net == 88\n",
    "isVodafone = roma.net == 10\n",
    "isTre = roma.net == 99\n",
    "\n",
    "# creazione dei dataframe separati per gestore\n",
    "tim = roma[isTim].reset_index(drop=True)\n",
    "wind = roma[isWind].reset_index(drop=True)\n",
    "vodafone = roma[isVodafone].reset_index(drop=True)\n",
    "tre = roma[isTre].reset_index(drop=True)\n",
    " "
   ]
  },
  {
   "cell_type": "code",
   "execution_count": 7,
   "metadata": {
    "collapsed": false
   },
   "outputs": [
    {
     "name": "stderr",
     "output_type": "stream",
     "text": [
      "/usr/lib/python2.7/dist-packages/pandas/core/frame.py:1771: UserWarning: Boolean Series key will be reindexed to match DataFrame index.\n",
      "  \"DataFrame index.\", UserWarning)\n"
     ]
    }
   ],
   "source": [
    "tim = romaFiltrato[isTim].reset_index(drop=True)\n",
    "wind = romaFiltrato[isWind].reset_index(drop=True)\n",
    "vodafone = romaFiltrato[isVodafone].reset_index(drop=True)\n",
    "tre = romaFiltrato[isTre].reset_index(drop=True)\n"
   ]
  },
  {
   "cell_type": "code",
   "execution_count": 8,
   "metadata": {
    "collapsed": false
   },
   "outputs": [
    {
     "data": {
      "text/plain": [
       "<matplotlib.legend.Legend at 0x7f820d24f410>"
      ]
     },
     "execution_count": 8,
     "metadata": {},
     "output_type": "execute_result"
    },
    {
     "data": {
      "image/png": "[encoded data removed]",
      "text/plain": [
       "<matplotlib.figure.Figure at 0x7f820cc693d0>"
      ]
     },
     "metadata": {},
     "output_type": "display_data"
    }
   ],
   "source": [
    "compagnie = ['Tim','Wind','Vodafone','Tre','aggregati']\n",
    "\n",
    "colori = ['#0066ff','#ff8000','#ff3300','#99ccff','#4d4d4d']\n",
    "\n",
    "valori = [tim.range.values, wind.range.values, vodafone.range.values, tre.range.values, raggi.values]\n",
    "\n",
    "pyplot.figure(figsize=(20,8)) # dimensioni in pollici\n",
    "distribuzioneRangeTutti = pyplot.hist(valori,\n",
    "                                 bins=max(raggi)-min(raggi),\n",
    "                                 histtype='step',\n",
    "                                 label=compagnie,\n",
    "                                 color=colori)\n",
    "pyplot.title('Distribuzione della copertura')\n",
    "pyplot.ylabel(\"Numero di antenne\")\n",
    "pyplot.xlabel(\"Copertura [m]\")\n",
    "# pyplot.gca().set_xscale(\"log\")\n",
    "# pyplot.gca().set_yscale(\"log\")\n",
    "pyplot.xscale(\"log\")\n",
    "pyplot.yscale(\"log\")\n",
    "pyplot.legend()\n",
    "\n",
    "# TODO prendere colori aggiornati dal notebook di Iuri\n",
    "# TODO mettere la legenda coi loghi delle compagnie\n",
    "# oppure mettere direttamente le scritte del colore corrispondente,\n",
    "# magari anche attaccate al relativo istogramma\n",
    "# TODO levare il bordo del riquadro della legenda\n",
    "# TODO provare istogramma stacked, in modo da dare il totale\n",
    "# TODO scrivere che dietro il futuro istogramma equispaziato ci sta un giorno di lavoro"
   ]
  },
  {
   "cell_type": "code",
   "execution_count": 58,
   "metadata": {
    "collapsed": false
   },
   "outputs": [],
   "source": [
    "\n",
    "# logaritmic (base 2) binning in log-log (base 10) plots of integer histograms\n",
    "\n",
    "def logBinnedHists():\n",
    "    \n",
    "    # int arrotonda all'intero inferiore\n",
    "    linMin = 1\n",
    "    linMax = 6570 #max(gradi[-1])\n",
    "    \n",
    "    # print linMin, linMax\n",
    "    \n",
    "    logStart = int(numpy.log2(linMin))\n",
    "    logStop = int(numpy.log2(linMax))\n",
    "    \n",
    "    # print logStart, logStop\n",
    "    \n",
    "    nLogBins = logStop - logStart + 1\n",
    "    \n",
    "    # print nLogBins\n",
    "    \n",
    "    logBins = numpy.logspace(logStart, logStop, num=nLogBins, base=2, dtype=int)\n",
    "    # print logBins\n",
    "    \n",
    "    # 1,2,4,8,16,32,64,128,256,512,1024\n",
    "    \n",
    "    ######################\n",
    "    \n",
    "#    linStart = 2**logStop + 1\n",
    "#    linStop = linMax\n",
    "    \n",
    "    # print linStart, linStop\n",
    "    \n",
    "#    nLinBins = linStop - linStart + 1\n",
    "    \n",
    "    # print nLinBins\n",
    "    \n",
    "#    linBins = numpy.linspace(linStart, linStop, num=nLinBins, dtype=int)\n",
    "    \n",
    "    # print linBins\n",
    "    \n",
    "    ######################\n",
    "    \n",
    "#    bins = numpy.append(logBins, linBins)\n",
    "    bins = logBins\n",
    "\n",
    "    # print bins\n",
    "    \n",
    "    # print len(bins)\n",
    "    \n",
    "    \n",
    "    \n",
    "    \n",
    "    # print totalValues\n",
    "    # print len(totalValues)\n",
    "    \n",
    "    # uso le proprietà dei logaritmi in base 2:\n",
    "    # 2^(n+1) - 2^n = 2^n\n",
    "    correzioniDatiCanalizzatiLog = numpy.delete(logBins, -1)\n",
    "    \n",
    "    # print correzioniDatiCanalizzatiLog\n",
    "    \n",
    "    # print len(correzioniDatiCanalizzatiLog)\n",
    "    \n",
    "#    correzioniDatiCanalizzatiLin = numpy.ones(nLinBins, dtype=int)\n",
    "    \n",
    "    # print correzioniDatiCanalizzatiLin\n",
    "    \n",
    "    # print len(correzioniDatiCanalizzatiLin)\n",
    "    \n",
    "#    correzioniDatiCanalizzati = numpy.append(correzioniDatiCanalizzatiLog, correzioniDatiCanalizzatiLin)\n",
    "    correzioniDatiCanalizzati = correzioniDatiCanalizzatiLog\n",
    "\n",
    "    # print correzioniDatiCanalizzati\n",
    "    \n",
    "    # print len(correzioniDatiCanalizzati)\n",
    "    \n",
    "    \n",
    "    \n",
    "    \n",
    "    x = numpy.concatenate(([0], bins))\n",
    "    yTot = []\n",
    "    \n",
    "    # TODO rendere questa funzione generale!!!\n",
    "    for i in range(5):\n",
    "        totalValues, binEdges, otherBinNumbers = scipy.stats.binned_statistic(gradi[i],\n",
    "                                                                         gradi[i],\n",
    "                                                                         statistic='count',\n",
    "                                                                         bins=bins)\n",
    "    \n",
    "        conteggi = totalValues/correzioniDatiCanalizzati\n",
    "    \n",
    "    # TODO caso speciale per il grafico di sotto\n",
    "    # (per non fare vedere la parte oltre l'ultima potenza di 2)\n",
    "#    l = len(correzioniDatiCanalizzatiLin)\n",
    "#    conteggi[-l:] = numpy.zeros(l, dtype='int')\n",
    "    \n",
    "        y = numpy.concatenate(([0], conteggi, [0]))\n",
    "        yTot.append(y)\n",
    "    \n",
    "    return x, yTot\n"
   ]
  },
  {
   "cell_type": "code",
   "execution_count": 56,
   "metadata": {
    "collapsed": false
   },
   "outputs": [
    {
     "data": {
      "text/plain": [
       "[array([ 69.,  57.,  44., ...,  25.,  24.,  25.]),\n",
       " array([  59.,  199.,  687., ...,   44.,   70.,   64.]),\n",
       " array([ 547.,  536.,  146., ...,   23.,   11.,  250.]),\n",
       " array([ 12.,  10.,  15., ...,  42.,  30.,  32.]),\n",
       " array([ 2139.,   558.,  1874., ...,    81.,    92.,  1536.])]"
      ]
     },
     "execution_count": 56,
     "metadata": {},
     "output_type": "execute_result"
    }
   ],
   "source": [
    "gradi"
   ]
  },
  {
   "cell_type": "markdown",
   "metadata": {},
   "source": [
    "TODO (futuristico):\n",
    "vedere se esiste un modo per mettere due o più computer in rete a fare una piccola grid, per condividere la potenza di calcolo, la memoria ram e lo spazio su disco\n",
    "\n",
    "## TODO prove da sistemare per canalizzazione logaritmic in base 2"
   ]
  },
  {
   "cell_type": "code",
   "execution_count": null,
   "metadata": {
    "collapsed": true
   },
   "outputs": [],
   "source": [
    "pyplot.figure(figsize=(20,8))\n",
    "distribuzioneRange = pyplot.hist(raggi.values,\\\n",
    "                                 bins=div,\\\n",
    "                                 histtype='step')\n",
    "pyplot.title('PROVA, CON CANALI NON ANCORA PESATI')\n",
    "pyplot.xscale(\"log\")\n",
    "pyplot.yscale(\"log\")\n"
   ]
  },
  {
   "cell_type": "code",
   "execution_count": null,
   "metadata": {
    "collapsed": true
   },
   "outputs": [],
   "source": [
    "a,b,c = distribuzioneRange\n",
    "a1 = numpy.append(a.astype(int), 0)\n",
    "b1 = b.astype(int)\n",
    "a1\n",
    "b1\n",
    "div = numpy.logspace(start=0, stop=15, num=16, base=2).astype(int) # max = 20341\n",
    "div\n",
    "a2 = a1/div\n",
    "a2"
   ]
  },
  {
   "cell_type": "code",
   "execution_count": null,
   "metadata": {
    "collapsed": true
   },
   "outputs": [],
   "source": [
    "pyplot.scatter(y=a2,x=div)\n",
    "pyplot.xscale(\"log\")\n",
    "pyplot.yscale(\"log\")\n"
   ]
  },
  {
   "cell_type": "code",
   "execution_count": null,
   "metadata": {
    "collapsed": true
   },
   "outputs": [],
   "source": [
    "# TODO vedere se le due slope del grafico log-log possono essere\n",
    "# messe in relazione con le due slode della legge\n",
    "# di Heap e di Zipf (o come cavolo si scrivono)"
   ]
  },
  {
   "cell_type": "code",
   "execution_count": null,
   "metadata": {
    "collapsed": true
   },
   "outputs": [],
   "source": [
    "# TODO esterno:\n",
    "\n",
    "# datigenerati = numpy.random.normal(0,1, 10000)\n",
    "# b = pylab.hist(datigenerati,bins=100, histtype='step')\n",
    "# plottare la gaussiana di origine, \n",
    "# fare i residui e vedere che il loro istogramma \n",
    "# è di nuovo gaussiano e farne un fit e vedere \n",
    "# se il residui dei residui sono gaussiani, \n",
    "# che al mercato mio padre comprò\n"
   ]
  },
  {
   "cell_type": "code",
   "execution_count": null,
   "metadata": {
    "collapsed": true
   },
   "outputs": [],
   "source": [
    "# TODO\n",
    "# fit e lot della distribuzione del grado con i due modelli di rete\n",
    "# Erdos Renyi\n",
    "# preferential attachement di Barabasi Albert\n"
   ]
  },
  {
   "cell_type": "markdown",
   "metadata": {},
   "source": [
    "## distribuzione del grado\n",
    "\n",
    "si fa un plot logaritmico unificato e poi i relativi fit con i vari modelli di rete"
   ]
  },
  {
   "cell_type": "code",
   "execution_count": 3,
   "metadata": {
    "collapsed": false
   },
   "outputs": [],
   "source": [
    "\n",
    "compagnie = ['Tim','Wind','Vodafone','Tre','aggregati']\n",
    "\n",
    "colori = ['#0066ff','#ff8000','#ff3300','#99ccff','#4d4d4d']\n",
    "\n",
    "\n",
    "gradi = [numpy.loadtxt(\"../data/DistrGrado_{0}\".format(compagnia)) for compagnia in compagnie]\n",
    "\n",
    "# dataframeGradi = pandas.DataFrame(numpy.transpose(gradi))\n",
    "\n",
    "# grado = grafo.degree().values\n",
    "# grado = numpy.loadtxt(\"../data/DistrGrado_{0}\",compagnia)\n"
   ]
  },
  {
   "cell_type": "code",
   "execution_count": 73,
   "metadata": {
    "collapsed": false
   },
   "outputs": [
    {
     "data": {
      "text/plain": [
       "<matplotlib.legend.Legend at 0x7fd5e04f1410>"
      ]
     },
     "execution_count": 73,
     "metadata": {},
     "output_type": "execute_result"
    },
    {
     "data": {
      "image/png": "[encoded data removed]",
      "text/plain": [
       "<matplotlib.figure.Figure at 0x7fd5e07bfa50>"
      ]
     },
     "metadata": {},
     "output_type": "display_data"
    }
   ],
   "source": [
    "pyplot.figure(figsize=(12,8)) # dimensioni in pollici\n",
    "\n",
    "distribuzioneRangeTutti = pyplot.hist(gradi,\n",
    "                                 bins=(max(gradi[-1])-1)/8, #TODO smoothing dei canali \n",
    "                                 histtype='step',\n",
    "                                 label=compagnie,\n",
    "                                 color=colori)\n",
    "#TODO oppure istogramma a scatterplot\n",
    "\n",
    "#pyplot.plot((1,10**3), (10**6,1), linestyle=\"--\", color=\"gray\")\n",
    "pyplot.plot((10**2,10**3), (10**3,10**0), linestyle=\"--\", color=\"gray\", label=\"pow=-3\")\n",
    "\n",
    "pyplot.title('Degree distribution')\n",
    "pyplot.ylabel(\"Frequency\")\n",
    "pyplot.xlabel(\"Degree\")\n",
    "pyplot.xlim(10**0,10**4)\n",
    "pyplot.ylim(10**0,10**3)\n",
    "# pyplot.gca().set_xscale(\"log\")\n",
    "# pyplot.gca().set_yscale(\"log\"\n",
    "pyplot.xscale(\"log\")\n",
    "pyplot.yscale(\"log\")\n",
    "pyplot.legend(loc='upper right', frameon=False)\n"
   ]
  },
  {
   "cell_type": "code",
   "execution_count": 68,
   "metadata": {
    "collapsed": true
   },
   "outputs": [],
   "source": [
    "# TODO fare frequency-rank"
   ]
  },
  {
   "cell_type": "code",
   "execution_count": null,
   "metadata": {
    "collapsed": true
   },
   "outputs": [],
   "source": []
  },
  {
   "cell_type": "code",
   "execution_count": 14,
   "metadata": {
    "collapsed": false
   },
   "outputs": [
    {
     "data": {
      "text/plain": [
       "array([   1,    2,    3, ..., 9997, 9998, 9999])"
      ]
     },
     "execution_count": 14,
     "metadata": {},
     "output_type": "execute_result"
    }
   ],
   "source": [
    "x"
   ]
  },
  {
   "cell_type": "code",
   "execution_count": 15,
   "metadata": {
    "collapsed": false
   },
   "outputs": [
    {
     "data": {
      "text/plain": [
       "array([  101,   102,   103, ..., 10097, 10098, 10099])"
      ]
     },
     "execution_count": 15,
     "metadata": {},
     "output_type": "execute_result"
    }
   ],
   "source": [
    "y"
   ]
  },
  {
   "cell_type": "code",
   "execution_count": 35,
   "metadata": {
    "collapsed": false
   },
   "outputs": [
    {
     "data": {
      "image/png": "[encoded data removed]",
      "text/plain": [
       "<matplotlib.figure.Figure at 0x7fd5e609cf50>"
      ]
     },
     "metadata": {},
     "output_type": "display_data"
    },
    {
     "data": {
      "image/png": "[encoded data removed]",
      "text/plain": [
       "<matplotlib.figure.Figure at 0x7fd5e609c0d0>"
      ]
     },
     "metadata": {},
     "output_type": "display_data"
    }
   ],
   "source": [
    "x = numpy.arange(1, 10000, dtype=int)\n",
    "y = x + 100\n",
    "\n",
    "pyplot.plot(x,y)\n",
    "\n",
    "f, ax = pyplot.subplots(figsize=(6, 6))\n",
    "ax.plot(x,y)\n",
    "diag_line, = ax.plot(ax.get_xlim(), ax.get_ylim(), ls=\"--\", c=\"0.3\")\n",
    "\n",
    "\n",
    "pyplot.xlim(10**0,10**4)\n",
    "pyplot.ylim(10**0,10**4)\n",
    "pyplot.xscale(\"log\")\n",
    "pyplot.yscale(\"log\")"
   ]
  },
  {
   "cell_type": "code",
   "execution_count": 36,
   "metadata": {
    "collapsed": false
   },
   "outputs": [
    {
     "data": {
      "text/plain": [
       "(1.0, 10000.0)"
      ]
     },
     "execution_count": 36,
     "metadata": {},
     "output_type": "execute_result"
    }
   ],
   "source": [
    "ax.get_xlim()"
   ]
  },
  {
   "cell_type": "code",
   "execution_count": 30,
   "metadata": {
    "collapsed": false
   },
   "outputs": [
    {
     "data": {
      "text/plain": [
       "([array([ 0.,  0.,  0., ...,  0.,  0.,  0.]),\n",
       "  array([ 0.,  0.,  0., ...,  0.,  0.,  0.]),\n",
       "  array([ 0.,  0.,  0., ...,  0.,  0.,  0.]),\n",
       "  array([  5.,  13.,  18., ...,   0.,   0.,   0.]),\n",
       "  array([ 0.,  0.,  0., ...,  0.,  0.,  4.])],\n",
       " array([  1.00000000e+00,   2.00000000e+00,   3.00000000e+00, ...,\n",
       "          6.56800000e+03,   6.56900000e+03,   6.57000000e+03]),\n",
       " <a list of 5 Lists of Patches objects>)"
      ]
     },
     "execution_count": 30,
     "metadata": {},
     "output_type": "execute_result"
    }
   ],
   "source": [
    "distribuzioneRangeTutti"
   ]
  },
  {
   "cell_type": "code",
   "execution_count": null,
   "metadata": {
    "collapsed": true
   },
   "outputs": [],
   "source": []
  },
  {
   "cell_type": "code",
   "execution_count": 59,
   "metadata": {
    "collapsed": false
   },
   "outputs": [
    {
     "data": {
      "text/plain": [
       "array([   0,    1,    2,    4,    8,   16,   32,   64,  128,  256,  512,\n",
       "       1024, 2048, 4096])"
      ]
     },
     "execution_count": 59,
     "metadata": {},
     "output_type": "execute_result"
    },
    {
     "data": {
      "image/png": "[encoded data removed]",
      "text/plain": [
       "<matplotlib.figure.Figure at 0x7f8f5fdae2d0>"
      ]
     },
     "metadata": {},
     "output_type": "display_data"
    }
   ],
   "source": [
    "\n",
    "pyplot.figure(figsize=(20,8))\n",
    "pyplot.title('Degree distribution')\n",
    "pyplot.ylabel(\"Frequency\")\n",
    "pyplot.xlabel(\"Degree\")\n",
    "# pyplot.gca().set_xscale(\"log\")\n",
    "# pyplot.gca().set_yscale(\"log\")\n",
    "matplotlib.pyplot.xlim(10**0,10**4)\n",
    "matplotlib.pyplot.ylim(10**0,10**2)\n",
    "pyplot.xscale(\"log\")\n",
    "pyplot.yscale(\"log\")\n",
    "\n",
    "\n",
    "xLog2, yLog2 = logBinnedHists()\n",
    "for i in range(5):\n",
    "#    # lin binning\n",
    "#    print i\n",
    "#    degreeDistribution = distribuzioneRangeTutti[0][i], distribuzioneRangeTutti[1], distribuzioneRangeTutti[2]\n",
    "#    # log_2 binning\n",
    "    matplotlib.pyplot.step(xLog2, yLog2[i], where='post', color=colori[i], linewidth=2, label='log_2 weighted binning') #where = mid OR post\n",
    "    # matplotlib.pyplot.plot(xLog2, yLog2)\n",
    "\n",
    "# legenda e salvataggio\n",
    "pyplot.legend(loc='upper right', frameon=False)\n",
    "\n",
    "degreeDistribution\n",
    "xLog2"
   ]
  },
  {
   "cell_type": "code",
   "execution_count": 26,
   "metadata": {
    "collapsed": true
   },
   "outputs": [],
   "source": [
    "# perché i canali non cominciano da zero?!?!?!?!"
   ]
  },
  {
   "cell_type": "code",
   "execution_count": null,
   "metadata": {
    "collapsed": false
   },
   "outputs": [],
   "source": []
  },
  {
   "cell_type": "code",
   "execution_count": null,
   "metadata": {
    "collapsed": true
   },
   "outputs": [],
   "source": []
  },
  {
   "cell_type": "markdown",
   "metadata": {},
   "source": [
    "###  altro approccio, con i dataframe"
   ]
  },
  {
   "cell_type": "code",
   "execution_count": null,
   "metadata": {
    "collapsed": true
   },
   "outputs": [],
   "source": [
    "dictGradi = dict()\n",
    "for label in compagnie:\n",
    "    dictGradi[label] = numpy.loadtxt(\"../data/DistrGrado_{0}\".format(label)).astype(int)\n",
    "\n",
    "dictGradi"
   ]
  },
  {
   "cell_type": "code",
   "execution_count": null,
   "metadata": {
    "collapsed": true
   },
   "outputs": [],
   "source": [
    "\n",
    "# TODO vedere se c'è un metodo migliore rispetto a transpose()\n",
    "dataframeGradi = pandas.DataFrame.from_dict(dictGradi, orient='index').transpose()\n",
    "# TODO attenzione ai valori NaN nei posti vuoti\n"
   ]
  },
  {
   "cell_type": "code",
   "execution_count": null,
   "metadata": {
    "collapsed": true
   },
   "outputs": [],
   "source": [
    "canali = int(max(dataframeGradi.aggregati)-min(dataframeGradi.aggregati))\n",
    "\n",
    "kwds = {\n",
    "    \"bins\": canali,\n",
    "    \"histtype\": 'step',\n",
    "    # \"color\": colori,\n",
    "    #\"fill\": True,\n",
    "    #\"alpha\": 0.25,\n",
    "    #\"linestyle\": \"solid\",\n",
    "    #\"edgecolor\": \"black\"\n",
    "}\n",
    "\n",
    "dataframeGradi.plot(kind='hist', loglog=True, figsize=(20,8), **kwds)"
   ]
  },
  {
   "cell_type": "code",
   "execution_count": null,
   "metadata": {
    "collapsed": true
   },
   "outputs": [],
   "source": [
    "# TODO funzione numpy.diff per la correlazione connessa\n",
    "numpy.diff([0,4,6,2,8,9,7,0,1])"
   ]
  },
  {
   "cell_type": "code",
   "execution_count": null,
   "metadata": {
    "collapsed": true
   },
   "outputs": [],
   "source": []
  },
  {
   "cell_type": "code",
   "execution_count": null,
   "metadata": {
    "collapsed": true
   },
   "outputs": [],
   "source": []
  },
  {
   "cell_type": "code",
   "execution_count": null,
   "metadata": {
    "collapsed": true
   },
   "outputs": [],
   "source": []
  }
 ],
 "metadata": {
  "kernelspec": {
   "display_name": "Python 2",
   "language": "python",
   "name": "python2"
  },
  "language_info": {
   "codemirror_mode": {
    "name": "ipython",
    "version": 2
   },
   "file_extension": ".py",
   "mimetype": "text/x-python",
   "name": "python",
   "nbconvert_exporter": "python",
   "pygments_lexer": "ipython2",
   "version": "2.7.10"
  }
 },
 "nbformat": 4,
 "nbformat_minor": 0
}
