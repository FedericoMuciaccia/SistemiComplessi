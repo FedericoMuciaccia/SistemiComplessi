{
 "cells": [
  {
   "cell_type": "code",
   "execution_count": 13,
   "metadata": {
    "collapsed": true
   },
   "outputs": [],
   "source": [
    "\n",
    "import numpy\n",
    "\n",
    "# pyplot is a sub-module of matplotlib\n",
    "# which doesn't get imported with a simple import matplotlib\n",
    "import matplotlib.pyplot\n",
    "\n",
    "# non bisogna fare plottare la figura nel notebook,\n",
    "# altrimenti il risultante SVG sarà vuoto\n",
    "# %matplotlib inline\n"
   ]
  },
  {
   "cell_type": "code",
   "execution_count": 14,
   "metadata": {
    "collapsed": false
   },
   "outputs": [
    {
     "data": {
      "text/plain": [
       "[<matplotlib.lines.Line2D at 0x7f94aec2ed50>]"
      ]
     },
     "execution_count": 14,
     "metadata": {},
     "output_type": "execute_result"
    }
   ],
   "source": [
    "\n",
    "x = numpy.arange(0,100,0.01)\n",
    "y = x*numpy.sin(2*numpy.pi*x)\n",
    "\n",
    "matplotlib.pyplot.plot(y)\n",
    "# non lo si fa plottare"
   ]
  },
  {
   "cell_type": "code",
   "execution_count": 15,
   "metadata": {
    "collapsed": true
   },
   "outputs": [],
   "source": [
    "\n",
    "# TODO funziona solo una volta sola\n",
    "# le volte successive che viene eseguito restituisce\n",
    "# una figura bianca. secondo me bisogna assegrare una\n",
    "# variabile alla figura, da poi richiamare in seguito\n",
    "# esempio: myFigure = matplotlib.pyplot.plot(...)\n",
    "matplotlib.pyplot.savefig(\"../img/test.svg\", format=\"svg\", transparent=True)\n"
   ]
  },
  {
   "cell_type": "code",
   "execution_count": null,
   "metadata": {
    "collapsed": true
   },
   "outputs": [],
   "source": []
  }
 ],
 "metadata": {
  "kernelspec": {
   "display_name": "Python 2",
   "language": "python",
   "name": "python2"
  },
  "language_info": {
   "codemirror_mode": {
    "name": "ipython",
    "version": 2
   },
   "file_extension": ".py",
   "mimetype": "text/x-python",
   "name": "python",
   "nbconvert_exporter": "python",
   "pygments_lexer": "ipython2",
   "version": "2.7.10"
  }
 },
 "nbformat": 4,
 "nbformat_minor": 0
}
