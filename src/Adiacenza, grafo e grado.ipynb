{
 "cells": [
  {
   "cell_type": "markdown",
   "metadata": {
    "collapsed": true
   },
   "source": [
    "### Importo tutte le librerie necessarie"
   ]
  },
  {
   "cell_type": "code",
   "execution_count": 3,
   "metadata": {
    "collapsed": false
   },
   "outputs": [],
   "source": [
    "import geopy\n",
    "from geopy import distance\n",
    "import math\n",
    "import itertools\n",
    "import pandas\n",
    "import numpy\n",
    "import networkx\n",
    "from matplotlib import pyplot\n",
    "%matplotlib inline"
   ]
  },
  {
   "cell_type": "markdown",
   "metadata": {},
   "source": [
    "# Calcolo matrice adiacenza\n",
    "\n",
    "### Calcolo il raggio medio che definisce Roma entro il raccordo anulare\n",
    "\n",
    "NB: da verificare che distanza euclidea non crei troppi problemi"
   ]
  },
  {
   "cell_type": "code",
   "execution_count": 7,
   "metadata": {
    "collapsed": false
   },
   "outputs": [
    {
     "name": "stdout",
     "output_type": "stream",
     "text": [
      "[10594.771772886095, 11195.797051005826, 10810.334056716569, 11724.513790860976, 11565.06035260429]\n",
      "[9561.666348445664, 11204.74314532015, 10802.028143952435, 11178.132568907718, 10869.268356548899]\n",
      "11178.0954048\n",
      "10723.1677126\n"
     ]
    }
   ],
   "source": [
    "colosseo = (41.890173, 12.492331)\n",
    "raccordo = [(41.914456, 12.615807),(41.990672, 12.502714),(41.793883, 12.511297),(41.812566, 12.396628),(41.956277, 12.384611)]\n",
    "raggi = []\n",
    "\n",
    "def geodesicDistance(A, B=colosseo):\n",
    "    return geopy.distance.vincenty(A, B).meters\n",
    "\n",
    "raggioTerra = 6372795\n",
    "def euclidDistance(A, B=colosseo):\n",
    "    latitudine1 = math.radians(A[0])\n",
    "    latitudine2 = math.radians(B[0])\n",
    "    longitudine1 = math.radians(A[1])\n",
    "    longitudine2 = math.radians(B[1])\n",
    "    x1 = raggioTerra*math.sin(math.pi-latitudine1)*math.cos(longitudine1)\n",
    "    y1 = raggioTerra*math.sin(math.pi-latitudine1)*math.sin(longitudine1)\n",
    "    z1 = raggioTerra*math.cos(math.pi-latitudine1)\n",
    "    x2 = raggioTerra*math.sin(math.pi-latitudine2)*math.cos(longitudine2)\n",
    "    y2 = raggioTerra*math.sin(math.pi-latitudine2)*math.sin(longitudine2)\n",
    "    z2 = raggioTerra*math.cos(math.pi-latitudine2)\n",
    "    return math.sqrt((x1-x2)**2+(y1-y2)**2+(z1-z2)**2)\n",
    "\n",
    "\n",
    "raggi = map(geodesicDistance, raccordo)\n",
    "print raggi\n",
    "\n",
    "raggi1= []\n",
    "raggi1 = map(euclidDistance, raccordo)\n",
    "print raggi1\n",
    "\n",
    "raggiomedioGeo = 0\n",
    "raggiomedioEuclid = 0\n",
    "for i in raggi:\n",
    "\traggiomedioGeo += i\n",
    "\n",
    "for i in raggi1:\n",
    "    raggiomedioEuclid += i\n",
    "    \n",
    "raggiomedioGeo /= len(raggi)\n",
    "raggiomedioEuclid /= len(raggi1)\n",
    "\n",
    "\n",
    "print raggiomedioGeo\n",
    "print raggiomedioEuclid"
   ]
  },
  {
   "cell_type": "markdown",
   "metadata": {},
   "source": [
    "### Popolo il dataframe e faccio una prima grossa scrematura"
   ]
  },
  {
   "cell_type": "code",
   "execution_count": 13,
   "metadata": {
    "collapsed": false
   },
   "outputs": [],
   "source": [
    "dataframe = pandas.read_csv(\"/home/protoss/Documenti/Siscomp_datas/data/cell_towers.csv\")\n",
    "#dataframe = pandas.read_csv(\"/home/protoss/Documenti/SistemiComplessi/data/cell_towers_diff-2016012100.csv\")\n",
    "#dataframe\n",
    "criterioMCC = dataframe.mcc == 222\n",
    "criterioMinsamples = dataframe.samples > 1\n",
    "italydoitcleaner = dataframe[criterioMCC & criterioMinsamples]\n",
    "italydoitcleaner\n",
    "\n",
    "italydoitcleaner = italydoitcleaner.reset_index(drop=True)\n",
    "italydoitcleaner.drop(italydoitcleaner.columns[[1, 3, 5, 10, 11, 12, 13]], axis = 1, inplace=True)\n",
    "#italydoitcleaner"
   ]
  },
  {
   "cell_type": "markdown",
   "metadata": {},
   "source": [
    "### Seleziono le antenne in Roma e faccio dei .csv appositi"
   ]
  },
  {
   "cell_type": "code",
   "execution_count": 14,
   "metadata": {
    "collapsed": false
   },
   "outputs": [
    {
     "name": "stdout",
     "output_type": "stream",
     "text": [
      "CPU times: user 6.68 s, sys: 52 ms, total: 6.73 s\n",
      "Wall time: 6.68 s\n"
     ]
    }
   ],
   "source": [
    "#istruzione che fa selezione alcune righe con criteri su alcune colonne, \n",
    "#ne seleziona alcune e restituisce un array nompy di valori desiderati\n",
    "\n",
    "coordinate = dataframe[criterioMCC & criterioMinsamples][['lat', 'lon']].values\n",
    "\n",
    "%time distanza = numpy.array(map(geodesicDistance, coordinate), dtype = int)\n",
    "raggiomedioGeo = 12000\n",
    "\n",
    "italydoitcleaner['distance'] = distanza\n",
    "criterioRaccordo = italydoitcleaner.distance < raggiomedioGeo\n",
    "romaCell = italydoitcleaner[criterioRaccordo]\n",
    "romaCell = romaCell.reset_index(drop=True)\n",
    "romaCell.to_csv(\"../../data/Roma_towers.csv\", index= False)\n",
    "\n",
    "criterioTim = romaCell.net == 1\n",
    "criterioWind = romaCell.net == 88\n",
    "criterioVoda = romaCell.net == 10\n",
    "criterioTre = romaCell.net == 99\n",
    "\n",
    "timCell = romaCell[criterioTim]\n",
    "timCell = timCell.reset_index(drop=True)\n",
    "timCell.to_csv(\"../../data/Tim_towers.csv\", index= False)\n",
    "\n",
    "windCell = romaCell[criterioWind]\n",
    "windCell = windCell.reset_index(drop=True)\n",
    "windCell.to_csv(\"../../data/Wind_towers.csv\", index= False)\n",
    "\n",
    "vodaCell = romaCell[criterioVoda]\n",
    "vodaCell = vodaCell.reset_index(drop=True)\n",
    "vodaCell.to_csv(\"../../data/Vodafone_towers.csv\", index= False)\n",
    "\n",
    "treCell = romaCell[criterioTre]\n",
    "treCell = treCell.reset_index(True)\n",
    "treCell.to_csv(\"../../data/Tre_towers.csv\", index= False)\n"
   ]
  },
  {
   "cell_type": "code",
   "execution_count": 10,
   "metadata": {
    "collapsed": false
   },
   "outputs": [
    {
     "name": "stdout",
     "output_type": "stream",
     "text": [
      "CPU times: user 636 ms, sys: 20 ms, total: 656 ms\n",
      "Wall time: 639 ms\n"
     ]
    }
   ],
   "source": [
    "#istruzione che seleziona alcune righe con criteri su alcune colonne, \n",
    "#e restituisce un array numpy di valori desiderati\n",
    "coordinate = dataframe[criterioMCC & criterioMinsamples][['lat', 'lon']].values\n",
    "\n",
    "%time distanza = numpy.array(map(euclidDistance, coordinate), dtype=int)\n",
    "raggiomedioEuclid = 12000\n",
    "\n",
    "italydoitcleaner['distance'] = distanza\n",
    "criterioRaccordo = italydoitcleaner.distance < raggiomedioEuclid\n",
    "romaCell = italydoitcleaner[criterioRaccordo]\n",
    "romaCell = romaCell.reset_index(drop=True)\n",
    "romaCell.to_csv(\"../../data/Roma_towersEuc.csv\", index= False)\n",
    "\n",
    "criterioTim = romaCell.net == 1\n",
    "criterioWind = romaCell.net == 88\n",
    "criterioVoda = romaCell.net == 10\n",
    "criterioTre = romaCell.net == 99\n",
    "\n",
    "timCell = romaCell[criterioTim]\n",
    "timCell = timCell.reset_index(drop=True)\n",
    "timCell.to_csv(\"../../data/Tim_towersEuc.csv\", index= False)\n",
    "\n",
    "windCell = romaCell[criterioWind]\n",
    "windCell = windCell.reset_index(drop=True)\n",
    "windCell.to_csv(\"../../data/Wind_towersEuc.csv\", index= False)\n",
    "\n",
    "vodaCell = romaCell[criterioVoda]\n",
    "vodaCell = vodaCell.reset_index(drop=True)\n",
    "vodaCell.to_csv(\"../../data/Vodafone_towersEuc.csv\", index= False)\n",
    "\n",
    "treCell = romaCell[criterioTre]\n",
    "treCell = treCell.reset_index(True)\n",
    "treCell.to_csv(\"../../data/Tre_towersEuc.csv\", index= False)\n"
   ]
  },
  {
   "cell_type": "markdown",
   "metadata": {},
   "source": [
    "### Prendo le antenne di Roma e faccio matrice adiacenza"
   ]
  },
  {
   "cell_type": "code",
   "execution_count": 21,
   "metadata": {
    "collapsed": false
   },
   "outputs": [
    {
     "name": "stdout",
     "output_type": "stream",
     "text": [
      "CPU times: user 1min 49s, sys: 652 ms, total: 1min 50s\n",
      "Wall time: 1min 49s\n",
      "CPU times: user 6.24 s, sys: 48 ms, total: 6.29 s\n",
      "Wall time: 6.25 s\n",
      "CPU times: user 6.44 s, sys: 20 ms, total: 6.46 s\n",
      "Wall time: 6.44 s\n",
      "CPU times: user 11.4 s, sys: 64 ms, total: 11.5 s\n",
      "Wall time: 11.4 s\n",
      "CPU times: user 3.96 s, sys: 16 ms, total: 3.98 s\n",
      "Wall time: 3.96 s\n"
     ]
    }
   ],
   "source": [
    "#definisco la funzione che mi calcola la matrice di adiacenza\n",
    "def matriceSupEuclid(datiCoordinate, datiRaggi):\n",
    "    a = numpy.zeros((numdati,numdati), dtype=int)\n",
    "    for i in xrange(numdati):\n",
    "        for j in xrange(numdati-i-1):\n",
    "            sommaraggi = datiRaggi[i] + datiRaggi[j+i+1]\n",
    "            #è equivalente a un if \n",
    "            a[i,j+i+1] = a[j+i+1,i] = (euclidDistance(datiCoordinate[i], datiCoordinate[j+i+1]) <= 0.8*sommaraggi)\n",
    "    return a\n",
    "\n",
    "#attenzione: molto lenta!\n",
    "def matriceSupGeodetic(datiCoordinate, datiRaggi):\n",
    "    a = numpy.zeros((numdati,numdati))\n",
    "    for i in xrange(numdati):\n",
    "        for j in xrange(numdati-i-1):\n",
    "            if geodesicDistance(datiCoordinate[i], datiCoordinate[j+i+1]) <= datiRaggi[i] + datiRaggi[j+i+1]:\n",
    "                a[i,j+i+1] = 1\n",
    "                a[j+i+1,i] = 1\n",
    "    return a\n",
    "\n",
    "\n",
    "\n",
    "gestore = [\"Roma\", \"Tim\", \"Vodafone\", \"Wind\", \"Tre\"]\n",
    "for aziende in gestore:\n",
    "    dataframe = pandas.read_csv(\"../../data/{0}_towers.csv\".format(aziende))\n",
    "    coordinate = dataframe[['lat', 'lon']].values\n",
    "    raggio = dataframe['range'].values\n",
    "\n",
    "# for che mette a tutti i raggi sotto i 500 metri, il valore minimo di 500 metri\n",
    "#    for i in range(len(raggio)):\n",
    "#        if(raggio[i] < 500):\n",
    "#            raggio[i] = 500\n",
    "    \n",
    "    numdati = raggio.size\n",
    "    \n",
    "    #%time adiacenzaGeo = matriceSupGeodetic(coordinate, raggio)\n",
    "    %time adiacenzaEuclid = matriceSupEuclid(coordinate, raggio)\n",
    "    \n",
    "    numpy.savetxt((\"/home/protoss/Documenti/Siscomp_datas/data/AdiacenzaEuclidea_{0}.csv\".format(aziende)),adiacenzaEuclid, fmt='%d',delimiter=',',newline='\\n')"
   ]
  },
  {
   "cell_type": "markdown",
   "metadata": {},
   "source": [
    "## Faccio grafo e calcolo distr grado"
   ]
  },
  {
   "cell_type": "code",
   "execution_count": 15,
   "metadata": {
    "collapsed": false
   },
   "outputs": [
    {
     "name": "stdout",
     "output_type": "stream",
     "text": [
      "CPU times: user 6.1 s, sys: 92 ms, total: 6.2 s\n",
      "Wall time: 6.18 s\n",
      "CPU times: user 340 ms, sys: 8 ms, total: 348 ms\n",
      "Wall time: 347 ms\n",
      "CPU times: user 284 ms, sys: 0 ns, total: 284 ms\n",
      "Wall time: 286 ms\n",
      "CPU times: user 692 ms, sys: 0 ns, total: 692 ms\n",
      "Wall time: 694 ms\n",
      "CPU times: user 180 ms, sys: 0 ns, total: 180 ms\n",
      "Wall time: 185 ms\n"
     ]
    }
   ],
   "source": [
    "#for azienda in gestore:\n",
    "\n",
    "#italydoitcleaner['distanze'] = distanza\n",
    "#romaCell.to_csv(\"../data/Roma_towers.csv\")\n",
    "adiacenzaRoma = numpy.genfromtxt(\"/home/protoss/Documenti/Siscomp_datas/data/AdiacenzaEuclidea_Roma.csv\",delimiter=',',dtype='int')\n",
    "adiacenzaTim = numpy.genfromtxt(\"/home/protoss/Documenti/Siscomp_datas/data/AdiacenzaEuclidea_Tim.csv\",delimiter=',',dtype='int')\n",
    "adiacenzaVoda = numpy.genfromtxt(\"/home/protoss/Documenti/Siscomp_datas/data/AdiacenzaEuclidea_Vodafone.csv\",delimiter=',',dtype='int')\n",
    "adiacenzaWind = numpy.genfromtxt(\"/home/protoss/Documenti/Siscomp_datas/data/AdiacenzaEuclidea_Wind.csv\",delimiter=',',dtype='int')\n",
    "adiacenzaTre = numpy.genfromtxt(\"/home/protoss/Documenti/Siscomp_datas/data/AdiacenzaEuclidea_Tre.csv\",delimiter=',',dtype='int')\n",
    "\n",
    "%time grafoRoma = networkx.Graph(adiacenzaRoma)\n",
    "%time grafoTim = networkx.Graph(adiacenzaTim)\n",
    "%time grafoVoda = networkx.Graph(adiacenzaVoda)\n",
    "%time grafoWind = networkx.Graph(adiacenzaWind)\n",
    "%time grafoTre = networkx.Graph(adiacenzaTre)\n"
   ]
  },
  {
   "cell_type": "code",
   "execution_count": 16,
   "metadata": {
    "collapsed": false
   },
   "outputs": [],
   "source": [
    "gradoRoma = grafoRoma.degree().values()\n",
    "numpy.savetxt(\"../../data/DistrGrado_Roma\",gradoRoma,fmt='%d',newline='\\n')\n",
    "istoGradoRoma = networkx.degree_histogram(grafoRoma)\n",
    "#numpy.savetxt(\"../../data/IstoGrado_Roma\",istoGradoRoma,fmt='%d',newline='\\n')\n",
    "romaCell[\"degree\"] = gradoRoma\n",
    "romaCell.to_csv(\"../../data/Roma_towers.csv\", index= False)\n",
    "\n",
    "gradoTim = grafoTim.degree().values()\n",
    "numpy.savetxt(\"../../data/DistrGrado_Tim\",gradoTim,fmt='%d',newline='\\n')\n",
    "istoGradoTim = networkx.degree_histogram(grafoTim)\n",
    "#numpy.savetxt(\"../../data/IstoGrado_Tim\",istoGradoTim,fmt='%d',newline='\\n')\n",
    "timCell[\"degree\"] = gradoTim\n",
    "timCell.to_csv(\"../../data/Tim_towers.csv\", index= False)\n",
    "\n",
    "gradoVoda = grafoVoda.degree().values()\n",
    "numpy.savetxt(\"../../data/DistrGrado_Vodafone\",gradoVoda,fmt='%d',newline='\\n')\n",
    "istoGradoVoda = networkx.degree_histogram(grafoVoda)\n",
    "#numpy.savetxt(\"../../data/IstoGrado_Voda\",istoGradoVoda,fmt='%d',newline='\\n')\n",
    "vodaCell[\"degree\"] = gradoVoda\n",
    "vodaCell.to_csv(\"../../data/Vodafone_towers.csv\", index= False)\n",
    "\n",
    "gradoWind = grafoWind.degree().values()\n",
    "numpy.savetxt(\"../../data/DistrGrado_Wind\",gradoWind,fmt='%d',newline='\\n')\n",
    "istoGradoWind = networkx.degree_histogram(grafoWind)\n",
    "#numpy.savetxt(\"../../data/IstoGrado_Wind\",istoGradoWind,fmt='%d',newline='\\n')\n",
    "windCell[\"degree\"] = gradoWind\n",
    "windCell.to_csv(\"../../data/Wind_towers.csv\", index= False)\n",
    "\n",
    "gradoTre = grafoTre.degree().values()\n",
    "numpy.savetxt(\"../../data/DistrGrado_Tre\",gradoTre,fmt='%d',newline='\\n')\n",
    "istoGradoTre = networkx.degree_histogram(grafoTre)\n",
    "#numpy.savetxt(\"../../data/IstoGrado_Tre\",istoGradoTre,fmt='%d',newline='\\n')\n",
    "treCell[\"degree\"] = gradoTre\n",
    "treCell.to_csv(\"../../data/Tre_towers.csv\", index= False)"
   ]
  },
  {
   "cell_type": "markdown",
   "metadata": {},
   "source": [
    "## Topologia iniziale con networkx (molto lento)"
   ]
  },
  {
   "cell_type": "code",
   "execution_count": 5,
   "metadata": {
    "collapsed": false
   },
   "outputs": [
    {
     "name": "stdout",
     "output_type": "stream",
     "text": [
      "Tim\n",
      "CPU times: user 55.8 s, sys: 420 ms, total: 56.2 s\n",
      "Wall time: 55.5 s\n",
      "(0.8948023060778048, 2, 1.9633666257812044) \n",
      "\n",
      "Vodafone\n",
      "CPU times: user 43.7 s, sys: 312 ms, total: 44 s\n",
      "Wall time: 43.6 s\n",
      "(0.8722071355007487, 2, 1.970121894808704) \n",
      "\n",
      "Wind\n",
      "CPU times: user 2min 35s, sys: 1.26 s, total: 2min 37s\n",
      "Wall time: 2min 34s\n",
      "(0.8879130653782077, 2, 1.9588213620087072) \n",
      "\n",
      "Tre\n",
      "CPU times: user 20 s, sys: 112 ms, total: 20.1 s\n",
      "Wall time: 20 s\n",
      "(0.8802445620268542, 2, 1.970320318003939) \n",
      "\n"
     ]
    }
   ],
   "source": [
    "gestore = [\"Tim\", \"Vodafone\", \"Wind\", \"Tre\"]\n",
    "\n",
    "def topologyNetx(gestore):\n",
    "    adiacenza = numpy.genfromtxt(\"/home/protoss/Documenti/Siscomp_datas/data/AdiacenzaEuclidea_{0}.csv\".format(gestore),delimiter=',',dtype='int') \n",
    "    grafo = networkx.Graph(adiacenza)\n",
    "    c = networkx.average_clustering(grafo)\n",
    "    d = networkx.diameter(grafo)\n",
    "    l = networkx.average_shortest_path_length(grafo)\n",
    "    return c, d, l\n",
    "\n",
    "for compagnia in gestore:\n",
    "    print compagnia\n",
    "    topo = %time topologyNetx(compagnia)\n",
    "    print topo, \"\\n\""
   ]
  },
  {
   "cell_type": "markdown",
   "metadata": {},
   "source": [
    "NB. num antenne  \n",
    "   * TIM - 1756  \n",
    "   * Vodafone - 1771  \n",
    "   * Wind - 2365   \n",
    "   * 3 - 1395  \n",
    "   \n",
    "Tot antenne: 6571  "
   ]
  },
  {
   "cell_type": "markdown",
   "metadata": {},
   "source": [
    "## TODO:  \n",
    "* Prendere array coordinate   ✔\n",
    "* fare array distanze          ✔\n",
    "* mettere colonna distanze in dataframe  ✔\n",
    "* selezionare righe con variabile compresa entro raggiomedio   ✔  \n",
    "* fare un nuovo dataframe  ✔\n",
    "* escludere tutti i nodi con 1 sample solo ✔\n",
    "* fare P(k) ✔\n",
    "* log binning  ✔\n",
    "* FARE GRAFICI MEGLIO ✔\n",
    "* Fare fit su P(k)\n",
    "* variazione D con rimozione random o preferenziale ✔\n",
    "* variazione GC con rimozione random o preferenziale ✔\n",
    "* approfondire condizioni di soglia percolativa (v lez prof e articoli)\n",
    "* barabasi e albert dicono che andamento giant cluster relativo è indipendente dalla dimensione della rete, non solo per reti scale free (frattali), ma anche per reti esponenziali! (frattali anch'esse?) Verificare sta cosa facendo confronto andamento GC tra rete totale e reti delle varie compagnie\n",
    "* fare dei grafi barabasi e erdos e aggiungere quei grafi modellizzati a grafici di attacco e failure per fare confronto\n",
    "\n",
    "\n",
    "NB giant cluster è cluster che scala con N.   \n",
    "E.g., se il giant cluster è composto da N/10 della rete, se raddoppio la rete o la dimezzo deve rimanere composto da 1/10 del totale dei nodi della rete. Idem se è N/100 o N/0.9\n",
    "\n",
    "  Leggere (materiale lezione su percolazione-attacchi-epidemie):  \n",
    "  http://www.nature.com/nature/journal/v406/n6794/pdf/406378a0.pdf  \n",
    "  http://arxiv.org/pdf/cond-mat/0010317.pdf  \n",
    "  http://arxiv.org/pdf/cond-mat/0007048.pdf  \n",
    "  http://arxiv.org/pdf/cond-mat/0010251.pdf  \n",
    "  \n",
    "  Altro materiale forse utile:  \n",
    "  http://www.renyi.hu/~p_erdos/1959-11.pdf (Erdos e Renyi)  \n",
    "  http://arxiv.org/pdf/cond-mat/0106096.pdf (Stat mec scale free network)  \n",
    "  http://arxiv.org/pdf/cond-mat/9910332.pdf  \n",
    "  http://arxiv.org/pdf/cond-mat/9907068.pdf  \n",
    "  http://citeseerx.ist.psu.edu/viewdoc/download?doi=10.1.1.71.8276&rep=rep1&type=pdf    \n",
    "  \n",
    "  Federico nota andamento range segua una sorta di legge di zipf, NOTA BENE, I NOSTRI DATI NON SONO DATI UFFICIALI, MA COSTRUITI DA GENTE CHE CAMMINA, QUINDI PROB DI TROVARE NUOVA ANTENNA POTREBBE ESSERE SIMILE A PROB TROVARE NUOVA PAROLA, ma io penso che non c'entri perché noi stiamo vedendo solo le lunghezze delle parole. Che legge regola la prob delle lunghezze delle parole?"
   ]
  },
  {
   "cell_type": "markdown",
   "metadata": {},
   "source": [
    "Il primo tentativo è stato di fare la matrice di adiacenza a forza bruta. Con un campione di soli 50 nodi ci metteva pochi microsecondi, quindi abbiamo provato a fare la matrice di adiacenza delle 7000 antenne entro il raccordo anulare, notando che la compilazione durava tanto, facendo le dovute proporzioni abbiamo preventivato 2,5 ore di tempo di calcolo. La prima cosa che abbiamo sistemato è stato ovviamente fare un ciclo che calcolasse soltanto la metà superiore della matrice, dimezzando il tempo di calcolo. \n",
    "\n",
    "La prima cosa che abbiamo pensato di fare è stato di diagonalizzare a blocchi la matrice, o fare un ciclo di bassissimo livello che mettesse 0 a tutti gli elementi relativi alle antenne con $\\Delta$Latitudine e/o $\\Delta$Longitudine maggiori del range massimo del campione di dati. Il problema avuto è che il range delle antenne è tendenzialmente grande, con alcune che arrivano a 10km (con raggioRoma 11km)(e anche tanti samples), quindi non c'era modo di ridurre i calcoli. \n",
    "\n",
    "L'unica altra idea che abbiamo avuto è stata di non fare il calcolo complicato con la distanza sul geoide con il metodo vincenty. Primo passo è stato usare il metodo con great circles, l'altro è stato di considerare la porzione di Roma presa come un cerchio piano, calcolando quindi la distanza euclidea tra coordinate geografiche e convertendola in metri. E ci mette MOLTO meno tempo $\\sim$10 volte in meno. Con un \n",
    "preventivo quindi di 10 minuti di tempo di calcolo invece di 1 ora e mezza.\n",
    "\n",
    "TODO vedere parallelaizazione"
   ]
  },
  {
   "cell_type": "markdown",
   "metadata": {},
   "source": [
    "## Varie note su tempi di calcolo\n",
    "\n",
    "###Prova preliminare con 50 dati\n",
    "con vincenti \n",
    "$\\sim$45 ms\n",
    "\n",
    "con great circols\n",
    "$\\sim$25 ms\n",
    "\n",
    "con euclid\n",
    "$\\sim$5 ms\n",
    "\n",
    "###Prova 50 dati\n",
    "\n",
    "CPU times: user 32 ms, sys: 0 ns, total: 32 ms\n",
    "Wall time: 31.8 ms  \n",
    "CPU times: user 4 ms, sys: 0 ns, total: 4 ms\n",
    "Wall time: 4.3 ms\n",
    "\n",
    "CPU times: user 32 ms, sys: 0 ns, total: 32 ms\n",
    "Wall time: 33.6 ms\n",
    "CPU times: user 4 ms, sys: 0 ns, total: 4 ms\n",
    "Wall time: 4.2 ms\n",
    "\n",
    "CPU times: user 32 ms, sys: 0 ns, total: 32 ms\n",
    "Wall time: 31.2 ms\n",
    "CPU times: user 4 ms, sys: 0 ns, total: 4 ms\n",
    "Wall time: 4.24 ms\n",
    "\n",
    "CPU times: user 32 ms, sys: 0 ns, total: 32 ms\n",
    "Wall time: 31 ms\n",
    "CPU times: user 4 ms, sys: 0 ns, total: 4 ms\n",
    "Wall time: 4.29 ms\n",
    "\n",
    "###Prova 100 dati\n",
    "\n",
    "CPU times: user 132 ms, sys: 0 ns, total: 132 ms\n",
    "Wall time: 133 ms  \n",
    "CPU times: user 12 ms, sys: 16 ms, total: 28 ms\n",
    "Wall time: 21.5 ms\n",
    "\n",
    "CPU times: user 124 ms, sys: 0 ns, total: 124 ms\n",
    "Wall time: 126 ms  \n",
    "CPU times: user 20 ms, sys: 0 ns, total: 20 ms\n",
    "Wall time: 16.6 ms\n",
    "\n",
    "CPU times: user 132 ms, sys: 0 ns, total: 132 ms\n",
    "Wall time: 126 ms  \n",
    "CPU times: user 16 ms, sys: 8 ms, total: 24 ms\n",
    "Wall time: 21.9 ms\n",
    "\n",
    "CPU times: user 128 ms, sys: 0 ns, total: 128 ms\n",
    "Wall time: 127 ms  \n",
    "CPU times: user 16 ms, sys: 0 ns, total: 16 ms\n",
    "Wall time: 16.8 ms\n",
    "\n",
    "###con 500\n",
    "\n",
    "CPU times: user 3.28 s, sys: 0 ns, total: 3.28 s\n",
    "Wall time: 3.27 s  \n",
    "CPU times: user 404 ms, sys: 0 ns, total: 404 ms\n",
    "Wall time: 403 ms\n",
    "\n",
    "CPU times: user 3.26 s, sys: 20 ms, total: 3.28 s\n",
    "Wall time: 3.23 s\n",
    "CPU times: user 404 ms, sys: 0 ns, total: 404 ms\n",
    "Wall time: 401 ms\n",
    "\n",
    "###con 1000\n",
    "CPU times: user 12.6 s, sys: 32 ms, total: 12.6 s\n",
    "Wall time: 12.5 s\n",
    "CPU times: user 1.62 s, sys: 16 ms, total: 1.64 s\n",
    "Wall time: 1.62 s\n",
    "\n",
    "CPU times: user 12.5 s, sys: 48 ms, total: 12.5 s\n",
    "Wall time: 12.5 s\n",
    "CPU times: user 1.62 s, sys: 16 ms, total: 1.64 s\n",
    "Wall time: 1.62 s\n",
    "\n",
    "###con 2000\n",
    "CPU times: user 49.7 s, sys: 160 ms, total: 49.9 s\n",
    "Wall time: 49.6 s  \n",
    "CPU times: user 6.47 s, sys: 40 ms, total: 6.51 s\n",
    "Wall time: 6.44 s\n",
    "\n",
    "CPU times: user 51.2 s, sys: 232 ms, total: 51.4 s\n",
    "Wall time: 51.1 s  \n",
    "CPU times: user 6.67 s, sys: 24 ms, total: 6.7 s\n",
    "Wall time: 6.65 s\n",
    "\n",
    "\n"
   ]
  },
  {
   "cell_type": "markdown",
   "metadata": {},
   "source": [
    "###Geo dist\n",
    "Tempo previsto di calcolo con $\\sim$ 7000 dati: $\\sim$ 620 sec $\\sim$ 10 minuti\n",
    "\n",
    "###Euclid dist\n",
    "Tempo previsto di calcolo con $\\sim$ 7000 dati: $\\sim$ 80 sec $\\sim$ 1,3 minuti"
   ]
  },
  {
   "cell_type": "code",
   "execution_count": 24,
   "metadata": {
    "collapsed": false
   },
   "outputs": [
    {
     "name": "stdout",
     "output_type": "stream",
     "text": [
      "<function color_palette at 0x7f1f0c252758>\n"
     ]
    },
    {
     "data": {
      "image/png": "[encoded data removed]",
      "text/plain": [
       "<matplotlib.figure.Figure at 0x7f1f023c3610>"
      ]
     },
     "metadata": {},
     "output_type": "display_data"
    },
    {
     "data": {
      "image/png": "[encoded data removed]",
      "text/plain": [
       "<matplotlib.figure.Figure at 0x7f1f01dc4290>"
      ]
     },
     "metadata": {},
     "output_type": "display_data"
    },
    {
     "data": {
      "image/png": "[encoded data removed]",
      "text/plain": [
       "<matplotlib.figure.Figure at 0x7f1f01cd1750>"
      ]
     },
     "metadata": {},
     "output_type": "display_data"
    },
    {
     "data": {
      "image/png": "[encoded data removed]",
      "text/plain": [
       "<matplotlib.figure.Figure at 0x7f1f023bf3d0>"
      ]
     },
     "metadata": {},
     "output_type": "display_data"
    },
    {
     "data": {
      "image/png": "[encoded data removed]",
      "text/plain": [
       "<matplotlib.figure.Figure at 0x7f1f026dec50>"
      ]
     },
     "metadata": {},
     "output_type": "display_data"
    },
    {
     "data": {
      "image/png": "[encoded data removed]",
      "text/plain": [
       "<matplotlib.figure.Figure at 0x7f1f02669890>"
      ]
     },
     "metadata": {},
     "output_type": "display_data"
    }
   ],
   "source": [
    "colori = ['#4d4d4d', '#004184','#ff3300','#ff8000','#018ECC']\n",
    "paletta = seaborn.color_palette(palette = colori)\n",
    "seaborn.palplot(paletta)\n",
    "paletta = seaborn.color_palette(palette = 'muted')\n",
    "seaborn.palplot(paletta)\n",
    "paletta = seaborn.color_palette(palette = 'bright')\n",
    "seaborn.palplot(paletta)\n",
    "paletta = seaborn.color_palette(palette = 'pastel')\n",
    "seaborn.palplot(paletta)\n",
    "paletta = seaborn.color_palette(palette = 'dark')\n",
    "seaborn.palplot(paletta)\n",
    "paletta = seaborn.color_palette(palette = 'colorblind')\n",
    "seaborn.palplot(paletta)\n",
    "\n",
    "\n",
    "paletta = seaborn.color_palette\n",
    "print paletta"
   ]
  },
  {
   "cell_type": "code",
   "execution_count": null,
   "metadata": {
    "collapsed": false
   },
   "outputs": [],
   "source": []
  }
 ],
 "metadata": {
  "kernelspec": {
   "display_name": "Python 2",
   "language": "python",
   "name": "python2"
  },
  "language_info": {
   "codemirror_mode": {
    "name": "ipython",
    "version": 2
   },
   "file_extension": ".py",
   "mimetype": "text/x-python",
   "name": "python",
   "nbconvert_exporter": "python",
   "pygments_lexer": "ipython2",
   "version": "2.7.10"
  }
 },
 "nbformat": 4,
 "nbformat_minor": 0
}
