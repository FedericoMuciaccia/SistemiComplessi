{
 "metadata": {
  "name": "",
  "signature": "sha256:effbba1c3613cd0f5b457a7b6ac5f1ee91af393fb47e7ff9ed27146c2f32a680"
 },
 "nbformat": 3,
 "nbformat_minor": 0,
 "worksheets": [
  {
   "cells": [
    {
     "cell_type": "markdown",
     "metadata": {},
     "source": [
      "###Importo tutte le librerie necessarie"
     ]
    },
    {
     "cell_type": "code",
     "collapsed": false,
     "input": [
      "import geopy\n",
      "from geopy import distance #TODO BUGGONE\n",
      "import math\n",
      "import itertools\n",
      "import pandas\n",
      "import numpy\n",
      "import networkx\n",
      "from matplotlib import pyplot\n",
      "#import seaborn\n",
      "%matplotlib qt"
     ],
     "language": "python",
     "metadata": {},
     "outputs": [],
     "prompt_number": 106
    },
    {
     "cell_type": "markdown",
     "metadata": {},
     "source": [
      "#Calcolo matrice adiacenza\n",
      "\n",
      "###Calcolo il raggio medio che definisce Roma entro il raccordo anulare\n",
      "\n",
      "NB: da verificare che distanza euclidea non crei troppi problemi"
     ]
    },
    {
     "cell_type": "code",
     "collapsed": false,
     "input": [
      "colosseo = (41.890173, 12.492331)\n",
      "raccordo = [(41.914456, 12.615807),(41.990672, 12.502714),(41.793883, 12.511297),(41.812566, 12.396628),(41.956277, 12.384611)]\n",
      "raggi = []\n",
      "\n",
      "def geodesicDistance(A, B=colosseo):\n",
      "    return geopy.distance.vincenty(A, B).meters\n",
      "\n",
      "raggioTerra = 6372795\n",
      "def euclidDistance(A, B=colosseo):\n",
      "    latitudine1 = math.radians(A[0])\n",
      "    latitudine2 = math.radians(B[0])\n",
      "    longitudine1 = math.radians(A[1])\n",
      "    longitudine2 = math.radians(B[1])\n",
      "    x1 = raggioTerra*math.sin(math.pi-latitudine1)*math.cos(longitudine1)\n",
      "    y1 = raggioTerra*math.sin(math.pi-latitudine1)*math.sin(longitudine1)\n",
      "    z1 = raggioTerra*math.cos(math.pi-latitudine1)\n",
      "    x2 = raggioTerra*math.sin(math.pi-latitudine2)*math.cos(longitudine2)\n",
      "    y2 = raggioTerra*math.sin(math.pi-latitudine2)*math.sin(longitudine2)\n",
      "    z2 = raggioTerra*math.cos(math.pi-latitudine2)\n",
      "    return math.sqrt((x1-x2)**2+(y1-y2)**2+(z1-z2)**2)\n",
      "\n",
      "\n",
      "raggi = map(geodesicDistance, raccordo)\n",
      "print raggi\n",
      "\n",
      "raggi1= []\n",
      "raggi1 = map(euclidDistance, raccordo)\n",
      "print raggi1\n",
      "\n",
      "raggiomedioGeo = 0\n",
      "raggiomedioEuclid = 0\n",
      "for i in raggi:\n",
      "\traggiomedioGeo += i\n",
      "\n",
      "for i in raggi1:\n",
      "    raggiomedioEuclid += i\n",
      "    \n",
      "raggiomedioGeo /= len(raggi)\n",
      "raggiomedioEuclid /= len(raggi1)\n",
      "\n",
      "\n",
      "print raggiomedioGeo\n",
      "print raggiomedioEuclid"
     ],
     "language": "python",
     "metadata": {},
     "outputs": [
      {
       "output_type": "stream",
       "stream": "stdout",
       "text": [
        "[10594.771772886095, 11195.797051005826, 10810.334056716569, 11724.513790860976, 11565.06035260429]\n",
        "[9561.666348445664, 11204.74314532015, 10802.028143952435, 11178.132568907718, 10869.268356548899]\n",
        "11178.0954048\n",
        "10723.1677126\n"
       ]
      }
     ],
     "prompt_number": 107
    },
    {
     "cell_type": "markdown",
     "metadata": {},
     "source": [
      "###Popolo il dataframe e faccio una prima grossa scrematura"
     ]
    },
    {
     "cell_type": "code",
     "collapsed": false,
     "input": [
      "dataframe = pandas.read_csv(\"/home/protoss/Documenti/Siscomp_datas/data/cell_towers.csv\")\n",
      "#dataframe = pandas.read_csv(\"/home/protoss/Documenti/SistemiComplessi/data/cell_towers_diff-2016012100.csv\")\n",
      "#dataframe\n",
      "criterioMCC = dataframe.mcc == 222\n",
      "criterioMinsamples = dataframe.samples > 1\n",
      "italydoitcleaner = dataframe[criterioMCC & criterioMinsamples]\n",
      "italydoitcleaner\n",
      "\n",
      "italydoitcleaner = italydoitcleaner.reset_index(drop=True)\n",
      "italydoitcleaner.drop(italydoitcleaner.columns[[0, 1, 3, 5, 10, 11, 12, 13]], axis = 1, inplace=True)\n",
      "#italydoitcleaner"
     ],
     "language": "python",
     "metadata": {},
     "outputs": [],
     "prompt_number": 108
    },
    {
     "cell_type": "markdown",
     "metadata": {},
     "source": [
      "###Seleziono le antenne in Roma e faccio dei .csv appositi"
     ]
    },
    {
     "cell_type": "code",
     "collapsed": false,
     "input": [
      "#inroma = pandas.DataFrame([[41.947416, 12.371001],\n",
      "#                            [41.899392, 12.397436],\n",
      "#                            [41.870510, 12.287917],\n",
      "#                            [41.899648, 12.515196]], \n",
      "#                            columns=('lon', 'lat'))\n",
      "\n",
      "#istruzione che fa selezione alcune righe con criteri su alcune colonne, \n",
      "#ne seleziona alcune e restituisce un array nompy di valori desiderati\n",
      "\n",
      "coordinate = dataframe[criterioMCC & criterioMinsamples][['lat', 'lon']].values\n",
      "#print coordinate\n",
      "\n",
      "\n",
      "distanza = []\n",
      "distanza = map(geodesicDistance, coordinate)\n",
      "\n",
      "#print len(distanza)\n",
      "\n",
      "#da approfondire\n",
      "#italydoitcleaner['distanze'] = italydoitcleaner[['lat', 'lon']].map(lambda x: geodesicDistance())\n",
      "\n",
      "italydoitcleaner['distanze'] = distanza\n",
      "criterioRaccordo = italydoitcleaner.distanze < raggiomedioEuclid\n",
      "romaCell = italydoitcleaner[criterioRaccordo]\n",
      "romaCell = romaCell.reset_index(drop=True)\n",
      "#romacellid\n",
      "romaCell.to_csv(\"../data/Roma_towers.csv\")\n",
      "\n",
      "criterioTim = romaCell.net == 1\n",
      "criterioWind = romaCell.net == 88\n",
      "criterioVoda = romaCell.net == 10\n",
      "criterioTre = romaCell.net == 99\n",
      "\n",
      "\n",
      "timCell = romaCell[criterioTim]\n",
      "timCell = timCell.reset_index(drop=True)\n",
      "timCell.to_csv(\"../data/Tim_towers.csv\")\n",
      "\n",
      "windCell = romaCell[criterioWind]\n",
      "windCell = windCell.reset_index(drop=True)\n",
      "windCell.to_csv(\"../data/Wind_towers.csv\")\n",
      "\n",
      "vodaCell = romaCell[criterioVoda]\n",
      "vodaCell = vodaCell.reset_index(drop=True)\n",
      "vodaCell.to_csv(\"../data/Vodafone_towers.csv\")\n",
      "\n",
      "treCell = romaCell[criterioTre]\n",
      "treCell = treCell.reset_index(True)\n",
      "treCell.to_csv(\"../data/Tre_towers.csv\")\n"
     ],
     "language": "python",
     "metadata": {},
     "outputs": [],
     "prompt_number": 111
    },
    {
     "cell_type": "markdown",
     "metadata": {},
     "source": [
      "Domande su iterazione su panda dataframe e efficienza, un tizio dice che la funzione iterrows \u00e8 molto poco efficiente e sarebbe molto meglio usare un numpy array. Forse esistono funzioni pi\u00f9 efficienti. \n",
      "\n",
      "http://stackoverflow.com/questions/10729210/iterating-row-by-row-through-a-pandas-dataframe  \n",
      "\n",
      "http://stackoverflow.com/questions/7837722/what-is-the-most-efficient-way-to-loop-through-dataframes-with-pandas\n"
     ]
    },
    {
     "cell_type": "markdown",
     "metadata": {},
     "source": [
      "### Prendo le antenne di Roma e faccio matrice adiacenza"
     ]
    },
    {
     "cell_type": "code",
     "collapsed": false,
     "input": [
      "#definisco la funzione che mi calcola la matrice di adiacenza\n",
      "def matriceSupEuclid(datiCoordinate, datiRaggi):\n",
      "    a = numpy.zeros((numdati,numdati), dtype=int)\n",
      "    for i in xrange(numdati):\n",
      "        for j in xrange(numdati-i-1):\n",
      "            sommaraggi = datiRaggi[i] + datiRaggi[j+i+1]\n",
      "            #\u00e8 equivalente a un if \n",
      "            a[i,j+i+1] = a[j+i+1,i] = (euclidDistance(datiCoordinate[i], datiCoordinate[j+i+1]) <= 0.8*sommaraggi)\n",
      "    return a\n",
      "\n",
      "def matriceSupGeodetic(datiCoordinate, datiRaggi):\n",
      "    a = numpy.zeros((numdati,numdati))\n",
      "    for i in xrange(numdati):\n",
      "        for j in xrange(numdati-i-1):\n",
      "            if geodesicDistance(datiCoordinate[i], datiCoordinate[j+i+1]) <= datiRaggi[i] + datiRaggi[j+i+1]:\n",
      "                a[i,j+i+1] = 1\n",
      "                a[j+i+1,i] = 1\n",
      "    return a\n",
      "\n",
      "\n",
      "\n",
      "#dataframe = pandas.read_csv(\"../data/roma_towers.csv\")\n",
      "gestore = [\"Roma\", \"Tim\", \"Vodafone\", \"Wind\", \"Tre\"]\n",
      "for aziende in gestore:\n",
      "    dataframe = pandas.read_csv(\"../data/{0}_towers.csv\".format(aziende))\n",
      "    coordinate = dataframe[['lat', 'lon']].values\n",
      "    raggio = dataframe['range'].values\n",
      "\n",
      "    numdati = raggio.size\n",
      "    \n",
      "    #%time adiacenzaGeo = matriceSupGeodetic(coordinate, raggio)\n",
      "    %time adiacenzaEuclid = matriceSupEuclid(coordinate, raggio)\n",
      "    \n",
      "    numpy.savetxt((\"/home/protoss/Documenti/Siscomp_datas/data/AdiacenzaEuclidea_{0}.csv\".format(aziende)),adiacenzaEuclid, fmt='%d',delimiter=',',newline='\\n')"
     ],
     "language": "python",
     "metadata": {},
     "outputs": [
      {
       "output_type": "stream",
       "stream": "stdout",
       "text": [
        "CPU times: user 1min 28s, sys: 584 ms, total: 1min 29s\n",
        "Wall time: 1min 28s\n",
        "CPU times: user 5.28 s, sys: 20 ms, total: 5.3 s"
       ]
      },
      {
       "output_type": "stream",
       "stream": "stdout",
       "text": [
        "\n",
        "Wall time: 5.29 s\n",
        "CPU times: user 5.17 s, sys: 48 ms, total: 5.22 s"
       ]
      },
      {
       "output_type": "stream",
       "stream": "stdout",
       "text": [
        "\n",
        "Wall time: 5.21 s\n",
        "CPU times: user 10.3 s, sys: 140 ms, total: 10.4 s"
       ]
      },
      {
       "output_type": "stream",
       "stream": "stdout",
       "text": [
        "\n",
        "Wall time: 10.4 s\n",
        "CPU times: user 3.58 s, sys: 4 ms, total: 3.58 s"
       ]
      },
      {
       "output_type": "stream",
       "stream": "stdout",
       "text": [
        "\n",
        "Wall time: 3.58 s\n"
       ]
      }
     ],
     "prompt_number": 95
    },
    {
     "cell_type": "markdown",
     "metadata": {},
     "source": [
      "#Faccio disegno grafo e grafico distr grado"
     ]
    },
    {
     "cell_type": "code",
     "collapsed": false,
     "input": [
      "#for azienda in gestore:\n",
      "\n",
      "#italydoitcleaner['distanze'] = distanza\n",
      "#romaCell.to_csv(\"../data/Roma_towers.csv\")\n",
      "adiacenzaRoma = numpy.genfromtxt(\"/home/protoss/Documenti/Siscomp_datas/data/AdiacenzaEuclidea_Roma.csv\",delimiter=',',dtype='int')\n",
      "adiacenzaTim = numpy.genfromtxt(\"/home/protoss/Documenti/Siscomp_datas/data/AdiacenzaEuclidea_Tim.csv\",delimiter=',',dtype='int')\n",
      "adiacenzaVoda = numpy.genfromtxt(\"/home/protoss/Documenti/Siscomp_datas/data/AdiacenzaEuclidea_Vodafone.csv\",delimiter=',',dtype='int')\n",
      "adiacenzaWind = numpy.genfromtxt(\"/home/protoss/Documenti/Siscomp_datas/data/AdiacenzaEuclidea_Wind.csv\",delimiter=',',dtype='int')\n",
      "adiacenzaTre = numpy.genfromtxt(\"/home/protoss/Documenti/Siscomp_datas/data/AdiacenzaEuclidea_Tre.csv\",delimiter=',',dtype='int')\n",
      "\n",
      "%time grafoRoma = networkx.Graph(adiacenzaRoma,)\n",
      "%time grafoTim = networkx.Graph(adiacenzaTim)\n",
      "%time grafoVoda = networkx.Graph(adiacenzaVoda)\n",
      "%time grafoWind = networkx.Graph(adiacenzaWind)\n",
      "%time grafoTre = networkx.Graph(adiacenzaTre)\n"
     ],
     "language": "python",
     "metadata": {},
     "outputs": [
      {
       "output_type": "stream",
       "stream": "stdout",
       "text": [
        "CPU times: user 6.34 s, sys: 116 ms, total: 6.45 s\n",
        "Wall time: 6.42 s\n",
        "CPU times: user 380 ms, sys: 0 ns, total: 380 ms"
       ]
      },
      {
       "output_type": "stream",
       "stream": "stdout",
       "text": [
        "\n",
        "Wall time: 381 ms\n",
        "CPU times: user 272 ms, sys: 0 ns, total: 272 ms"
       ]
      },
      {
       "output_type": "stream",
       "stream": "stdout",
       "text": [
        "\n",
        "Wall time: 271 ms\n",
        "CPU times: user 792 ms, sys: 20 ms, total: 812 ms"
       ]
      },
      {
       "output_type": "stream",
       "stream": "stdout",
       "text": [
        "\n",
        "Wall time: 807 ms\n",
        "CPU times: user 216 ms, sys: 4 ms, total: 220 ms"
       ]
      },
      {
       "output_type": "stream",
       "stream": "stdout",
       "text": [
        "\n",
        "Wall time: 223 ms\n"
       ]
      }
     ],
     "prompt_number": 96
    },
    {
     "cell_type": "code",
     "collapsed": false,
     "input": [
      "print(\"num gradi Roma\", networkx.number_of_nodes(grafoRoma))\n",
      "print(\"num gradi Tim\", networkx.number_of_nodes(grafoTim))\n",
      "print(\"num gradi Vodafone\", networkx.number_of_nodes(grafoVoda))\n",
      "print(\"num gradi Wind\", networkx.number_of_nodes(grafoWind))\n",
      "print(\"num gradi Tre\", networkx.number_of_nodes(grafoTre))\n",
      "\n",
      "gradoRoma = grafoRoma.degree().values()\n",
      "#gadoRoma = networkx.degree_histogram(grafoRoma)\n",
      "numpy.savetxt(\"../data/DistrGrado_Roma\",gradoRoma,fmt='%d',newline='\\n')\n",
      "romaCell[\"grado\"] = gradoRoma\n",
      "romaCell.to_csv(\"../data/Roma_towers.csv\")\n",
      "\n",
      "gradoTim = grafoTim.degree().values()\n",
      "numpy.savetxt(\"../data/DistrGrado_Tim\",gradoTim,fmt='%d',newline='\\n')\n",
      "timCell[\"grado\"] = gradoTim\n",
      "timCell.to_csv(\"../data/Tim_towers.csv\")\n",
      "\n",
      "gradoVoda = grafoVoda.degree().values()\n",
      "numpy.savetxt(\"../data/DistrGrado_Vodafone\",gradoVoda,fmt='%d',newline='\\n')\n",
      "vodaCell[\"grado\"] = gradoVoda\n",
      "vodaCell.to_csv(\"../data/Vodafone_towers.csv\")\n",
      "\n",
      "gradoWind = grafoWind.degree().values()\n",
      "numpy.savetxt(\"../data/DistrGrado_Wind\",gradoWind,fmt='%d',newline='\\n')\n",
      "windCell[\"grado\"] = gradoWind\n",
      "windCell.to_csv(\"../data/Wind_towers.csv\")\n",
      "\n",
      "gradoTre = grafoTre.degree().values()\n",
      "numpy.savetxt(\"../data/DistrGrado_Tre\",gradoTre,fmt='%d',newline='\\n')\n",
      "treCell[\"grado\"] = gradoTre\n",
      "treCell.to_csv(\"../data/Tre_towers.csv\")\n"
     ],
     "language": "python",
     "metadata": {},
     "outputs": [
      {
       "output_type": "stream",
       "stream": "stdout",
       "text": [
        "('num gradi Roma', 6571)\n",
        "('num gradi Tim', 1550)\n",
        "('num gradi Vodafone', 1531)\n",
        "('num gradi Wind', 2175)\n",
        "('num gradi Tre', 1315)\n"
       ]
      }
     ],
     "prompt_number": 113
    },
    {
     "cell_type": "code",
     "collapsed": false,
     "input": [
      "#%matplotlib qt\n",
      "pyplot.figure(figsize=(16,9))\n",
      "pyplot.subplot(222)\n",
      "networkx.draw_random(grafoTim)\n",
      "\n",
      "pyplot.subplot(221)\n",
      "networkx.draw_random(grafoVoda)\n",
      "\n",
      "pyplot.subplot(223)\n",
      "networkx.draw_random(grafoWind)\n",
      "\n",
      "pyplot.subplot(224)\n",
      "networkx.draw_random(grafoTre)\n",
      "\n",
      "pyplot.show()"
     ],
     "language": "python",
     "metadata": {},
     "outputs": [],
     "prompt_number": 9
    },
    {
     "cell_type": "code",
     "collapsed": false,
     "input": [
      "%matplotlib inline\n",
      "gestore = [\"Roma\", \"Tim\", \"Vodafone\", \"Wind\", \"Tre\"]\n",
      "colori = ['#4d4d4d', '#004184','#ff3300','#ff8000','#018ECC']\n",
      "def degreeDistribution(gradi, azienda, colore):\n",
      "    pyplot.hist(gradi, bins=max(gradi)-min(gradi), histtype='step', label=azienda, color=colore)\n",
      "    pyplot.title('Degree distribution')\n",
      "    pyplot.xlabel(\"Degree\")\n",
      "    pyplot.ylabel(\"Frequency\")\n",
      "\n",
      "def degreeDistributionLog(gradi, azienda, colore):\n",
      "    distribuzioneRange = pyplot.hist(gradi, bins=max(gradi)-min(gradi), histtype='step', label=azienda, color=colore)\n",
      "    pyplot.title('Degree distribution')\n",
      "    pyplot.xlabel(\"Degree\")\n",
      "    pyplot.ylabel(\"Frequency\")\n",
      "\n",
      "    pyplot.gca().set_xscale(\"log\")\n",
      "    pyplot.gca().set_yscale(\"log\")\n",
      "#    pyplot.ylim(1,100)\n",
      "    \n",
      "pyplot.figure(figsize=(16,9))\n",
      "distribuzione = degreeDistributionLog(gradoRoma, gestore[0], colori[0])\n",
      "distribuzione = degreeDistributionLog(gradoTim, gestore[1], colori[1])\n",
      "distribuzione = degreeDistributionLog(gradoVoda, gestore[2], colori[2])\n",
      "distribuzione = degreeDistributionLog(gradoWind, gestore[3], colori[3])\n",
      "distribuzione = degreeDistributionLog(gradoTre, gestore[4], colori[4])\n",
      "#pyplot.xlim(1,1000)\n",
      "pyplot.legend()\n",
      "pyplot.show()\n",
      "\n",
      "pyplot.figure(figsize=(16,9))\n",
      "distribuzione = degreeDistribution(gradoRoma, gestore[0], colori[0])\n",
      "distribuzione = degreeDistribution(gradoTim, gestore[1], colori[1])\n",
      "distribuzione = degreeDistribution(gradoVoda, gestore[2], colori[2])\n",
      "distribuzione = degreeDistribution(gradoWind, gestore[3], colori[3])\n",
      "distribuzione = degreeDistribution(gradoTre, gestore[4], colori[4])\n",
      "pyplot.xlim(1,200)\n",
      "pyplot.legend()\n",
      "pyplot.show()"
     ],
     "language": "python",
     "metadata": {},
     "outputs": [
      {
       "metadata": {},
       "output_type": "display_data",
       "png": "[encoded data removed]",
       "text": [
        "<matplotlib.figure.Figure at 0x7f7c8ca76ed0>"
       ]
      },
      {
       "metadata": {},
       "output_type": "display_data",
       "png": "[encoded data removed]",
       "text": [
        "<matplotlib.figure.Figure at 0x7f7ca31def90>"
       ]
      }
     ],
     "prompt_number": 98
    },
    {
     "cell_type": "markdown",
     "metadata": {},
     "source": [
      "### Faccio istogramma del raggio delle antenne"
     ]
    },
    {
     "cell_type": "code",
     "collapsed": false,
     "input": [
      "pyplot.figure(figsize=(16,9))\n",
      "for azienda, colore in zip(gestore,colori):\n",
      "    dataframe = pandas.read_csv(\"../data/{0}_towers.csv\".format(azienda))\n",
      "    raggio = dataframe['range'].values\n",
      "    distribuzione = degreeDistribution(raggio, azienda, colore)\n",
      "#    print dataframe[dataframe.range == 0]\n",
      "#    pyplot.xlim(0,100)\n",
      "    pyplot.legend()\n",
      "pyplot.show()\n",
      "    \n",
      "pyplot.figure(figsize=(16,9))\n",
      "for azienda, colore in zip(gestore,colori):\n",
      "    dataframe = pandas.read_csv(\"../data/{0}_towers.csv\".format(azienda))\n",
      "    raggio = dataframe['range'].values\n",
      "    distribuzione = degreeDistributionLog(raggio, azienda, colore)\n",
      "#    print dataframe[dataframe.range == 0]\n",
      "#    pyplot.xlim(500,1000)\n",
      "    pyplot.legend()\n",
      "pyplot.show()"
     ],
     "language": "python",
     "metadata": {},
     "outputs": [
      {
       "metadata": {},
       "output_type": "display_data",
       "png": "[encoded data removed]",
       "text": [
        "<matplotlib.figure.Figure at 0x7f8f29869950>"
       ]
      },
      {
       "metadata": {},
       "output_type": "display_data",
       "png": "[encoded data removed]",
       "text": [
        "<matplotlib.figure.Figure at 0x7f8f29869ed0>"
       ]
      }
     ],
     "prompt_number": 13
    },
    {
     "cell_type": "markdown",
     "metadata": {},
     "source": [
      "# Faccio simulazione attacco, andamento diametro e GC in funzione dei nodi rimossi"
     ]
    },
    {
     "cell_type": "markdown",
     "metadata": {},
     "source": [
      "#DOMANDA IMPORTANTE\n",
      "Io nei cicli ho levato n nodi, poi ho preso il cluster pi\u00f9 grande, ho levato nodi solo da quel cluster, e cos\u00ec via reiterando.\n",
      "Per caso dovevo rimuovere nodi sempre dal totale? Nel caso dell'attacco cambia poco: molto probabilmente i nodi con grado maggiore sono sempre nel GC, ma nell'attacco random cambia tantissimo! Potrei prendere randomicamente i cluster minori dando sopravvivenza molto maggiore al GC. Come si fa in questi casi?"
     ]
    },
    {
     "cell_type": "code",
     "collapsed": false,
     "input": [
      "\n",
      "\n",
      "##ISTRUZIONI PER RIMANEGGIARE IL GRAFO\n",
      "\n",
      "#lofaccio\n",
      "#adiacenzatre = numpy.genfromtxt(\"/home/protoss/Documenti/Siscomp_datas/data/AdiacenzaEuclidea_Tre.csv\",delimiter=',',dtype='int')\n",
      "#grafoTre = networkx.Graph(adiacenzatre)\n",
      "\n",
      "#logrado\n",
      "#gradoTre = grafoTre.degree().values()\n",
      "#print gradoTre\n",
      "#numpy.savetxt(\"../data/DistrGrado_Tre\",gradoTre,fmt='%d',newline='\\n')\n",
      "\n",
      "#lo rilabello\n",
      "#celle = pandas.read_csv(\"../data/Tre_towers.csv\")\n",
      "#idcell = celle['cell'].values\n",
      "#mapping=dict(zip(grafoTre.nodes(),idcell))\n",
      "#grafoTre=networkx.relabel_nodes(grafoTre,mapping)\n",
      "#print(sorted(grafoTre.nodes()))\n",
      "#networkx.draw_random(grafoTre)\n",
      "\n",
      "#losmonto e loanalizzo\n",
      "#randomante = numpy.arange(len(grafoTre))\n",
      "#numpy.random.shuffle(randomante)\n",
      "#randomante = numpy.random.random_integers(0, len(grafoTre)-1,len(grafoTre))\n",
      "#print randomante\n",
      "\n",
      "\n",
      "#diametro = []\n",
      "#%time diametro.append(networkx.diameter(grafoTre, e=None))\n",
      "#print diametro\n",
      "#print grafoTre.nodes(data=False)    \n",
      "#for i in range(len(randomante)-100):\n",
      "#    grafoTre.remove_node(randomante[i])\n",
      "\n",
      "#networkx.draw_random(grafoTre)\n",
      "#%time diametro.append(networkx.diameter(grafoTre, e=None))\n",
      "#print grafoTre.nodes(data=False)    \n",
      "\n",
      "#print diametro\n",
      "\n"
     ],
     "language": "python",
     "metadata": {},
     "outputs": [],
     "prompt_number": 156
    },
    {
     "cell_type": "code",
     "collapsed": false,
     "input": [
      "#Attacco\n",
      "\n",
      "#lofaccio\n",
      "adiacenzatre = numpy.genfromtxt(\"/home/protoss/Documenti/Siscomp_datas/data/AdiacenzaEuclidea_Tre.csv\",delimiter=',',dtype='int')\n",
      "grafoTre = networkx.Graph(adiacenzatre)\n",
      "diametro = [2]\n",
      "sizeGC = [networkx.number_of_nodes(grafoTre)]\n",
      "#logrado\n",
      "\n",
      "\n",
      "#DA METTERE TUTTI I \"NOMEGRAFO\" AL POSTO DI GRAFOTRE, NON SO CHE FARE CON I METODI TIPO GRAFOTRE.DEGREE().ITEMS()!!!\n",
      "#def attacco(nomegrafo):\n",
      "grandezzaIniziale = networkx.number_of_nodes(grafoTre)\n",
      "passo = grandezzaIniziale/100\n",
      "while (networkx.number_of_nodes(grafoTre) > passo):\n",
      "    gradiFinal = pandas.DataFrame(grafoTre.degree().items(), columns=['index', 'grado'])\n",
      "    gradiFinal.sort([\"grado\"], ascending=[False], inplace=True)\n",
      "    gradiFinal = gradiFinal.reset_index()\n",
      "    gradiFinal.drop(gradiFinal.columns[[0]], axis = 1, inplace=True)\n",
      "    sortedIDnode = gradiFinal['index'].values\n",
      "\n",
      "    for identificativo in sortedIDnode:\n",
      "        if (networkx.number_of_nodes(grafoTre) > len(sortedIDnode) - passo):\n",
      "            grafoTre.remove_node(identificativo)\n",
      "\n",
      "    if (networkx.is_connected(grafoTre) == False):\n",
      "        sottografi = networkx.connected_component_subgraphs(grafoTre)\n",
      "        grafoTre = sottografi[0]\n",
      "\n",
      "    %time diametro.append(networkx.diameter(grafoTre, e=None))\n",
      "    sizeGC.append(networkx.number_of_nodes(grafoTre))\n",
      "    %matplotlib inline\n",
      "\n",
      "print diametro, sizeGC\n",
      "pyplot.figure(figsize=(16,9))\n",
      "ascisse = range(len(diametro))\n",
      "diam = pyplot.scatter(x=ascisse, y=diametro, label=\"Diametro\", c='red')\n",
      "pyplot.title('Attacco')\n",
      "pyplot.xlabel(\"%\")\n",
      "pyplot.ylabel(\"Valore\")\n",
      "pyplot.legend(loc = 2)\n",
      "#pyplot.legend(loc = 2)\n",
      "#pyplot.xlim(0, 22)\n",
      "pyplot.show()\n",
      "\n",
      "pyplot.figure(figsize=(16,9))\n",
      "ascisse = range(len(diametro))\n",
      "dimGC = pyplot.scatter(x=ascisse, y=sizeGC, label=\"Dimensione GC\", c='green')\n",
      "pyplot.title('Attacco')\n",
      "pyplot.xlabel(\"%\")\n",
      "pyplot.ylabel(\"Valore\")\n",
      "pyplot.legend(loc = 2)\n",
      "#pyplot.legend(loc = 2)\n",
      "#pyplot.xlim(0, 22)\n",
      "pyplot.show()\n",
      "    \n",
      "\n",
      "#networkx.draw_random(grafoTre)"
     ],
     "language": "python",
     "metadata": {},
     "outputs": [
      {
       "output_type": "stream",
       "stream": "stdout",
       "text": [
        "CPU times: user 3.91 s, sys: 24 ms, total: 3.94 s\n",
        "Wall time: 3.9 s\n",
        "CPU times: user 3.22 s, sys: 12 ms, total: 3.23 s"
       ]
      },
      {
       "output_type": "stream",
       "stream": "stdout",
       "text": [
        "\n",
        "Wall time: 3.21 s\n",
        "CPU times: user 2.36 s, sys: 24 ms, total: 2.39 s"
       ]
      },
      {
       "output_type": "stream",
       "stream": "stdout",
       "text": [
        "\n",
        "Wall time: 2.36 s\n",
        "CPU times: user 1.98 s, sys: 4 ms, total: 1.98 s"
       ]
      },
      {
       "output_type": "stream",
       "stream": "stdout",
       "text": [
        "\n",
        "Wall time: 1.97 s\n",
        "CPU times: user 1.71 s, sys: 4 ms, total: 1.71 s"
       ]
      },
      {
       "output_type": "stream",
       "stream": "stdout",
       "text": [
        "\n",
        "Wall time: 1.71 s\n",
        "CPU times: user 1.64 s, sys: 4 ms, total: 1.64 s"
       ]
      },
      {
       "output_type": "stream",
       "stream": "stdout",
       "text": [
        "\n",
        "Wall time: 1.64 s\n",
        "CPU times: user 1.37 s, sys: 4 ms, total: 1.38 s"
       ]
      },
      {
       "output_type": "stream",
       "stream": "stdout",
       "text": [
        "\n",
        "Wall time: 1.37 s\n",
        "CPU times: user 1.23 s, sys: 12 ms, total: 1.24 s"
       ]
      },
      {
       "output_type": "stream",
       "stream": "stdout",
       "text": [
        "\n",
        "Wall time: 1.24 s\n",
        "CPU times: user 1.02 s, sys: 4 ms, total: 1.02 s"
       ]
      },
      {
       "output_type": "stream",
       "stream": "stdout",
       "text": [
        "\n",
        "Wall time: 1.02 s\n",
        "CPU times: user 836 ms, sys: 0 ns, total: 836 ms"
       ]
      },
      {
       "output_type": "stream",
       "stream": "stdout",
       "text": [
        "\n",
        "Wall time: 837 ms\n",
        "CPU times: user 728 ms, sys: 0 ns, total: 728 ms"
       ]
      },
      {
       "output_type": "stream",
       "stream": "stdout",
       "text": [
        "\n",
        "Wall time: 728 ms\n",
        "CPU times: user 656 ms, sys: 8 ms, total: 664 ms"
       ]
      },
      {
       "output_type": "stream",
       "stream": "stdout",
       "text": [
        "\n",
        "Wall time: 662 ms\n",
        "CPU times: user 608 ms, sys: 0 ns, total: 608 ms"
       ]
      },
      {
       "output_type": "stream",
       "stream": "stdout",
       "text": [
        "\n",
        "Wall time: 598 ms\n",
        "CPU times: user 524 ms, sys: 0 ns, total: 524 ms"
       ]
      },
      {
       "output_type": "stream",
       "stream": "stdout",
       "text": [
        "\n",
        "Wall time: 522 ms\n",
        "CPU times: user 472 ms, sys: 8 ms, total: 480 ms"
       ]
      },
      {
       "output_type": "stream",
       "stream": "stdout",
       "text": [
        "\n",
        "Wall time: 472 ms\n",
        "CPU times: user 432 ms, sys: 0 ns, total: 432 ms"
       ]
      },
      {
       "output_type": "stream",
       "stream": "stdout",
       "text": [
        "\n",
        "Wall time: 431 ms\n",
        "CPU times: user 356 ms, sys: 0 ns, total: 356 ms"
       ]
      },
      {
       "output_type": "stream",
       "stream": "stdout",
       "text": [
        "\n",
        "Wall time: 358 ms\n",
        "CPU times: user 328 ms, sys: 4 ms, total: 332 ms"
       ]
      },
      {
       "output_type": "stream",
       "stream": "stdout",
       "text": [
        "\n",
        "Wall time: 329 ms\n",
        "CPU times: user 152 ms, sys: 0 ns, total: 152 ms"
       ]
      },
      {
       "output_type": "stream",
       "stream": "stdout",
       "text": [
        "\n",
        "Wall time: 149 ms\n",
        "CPU times: user 28 ms, sys: 0 ns, total: 28 ms\n",
        "Wall time: 26.9 ms\n",
        "CPU times: user 0 ns, sys: 0 ns, total: 0 ns\n",
        "Wall time: 1.91 ms\n",
        "CPU times: user 0 ns, sys: 0 ns, total: 0 ns\n",
        "Wall time: 32.9 \u00b5s\n",
        "[2, 7, 8, 10, 12, 17, 20, 27, 28, 27, 25, 31, 31, 34, 35, 40, 42, 45, 43, 32, 17, 8, 2] [1315, 1291, 1271, 1234, 1197, 1172, 1151, 1098, 1074, 988, 905, 859, 800, 764, 744, 720, 681, 644, 617, 423, 180, 50, 5]\n"
       ]
      },
      {
       "metadata": {},
       "output_type": "display_data",
       "png": "[encoded data removed]",
       "text": [
        "<matplotlib.figure.Figure at 0x7f7c9fe050d0>"
       ]
      },
      {
       "metadata": {},
       "output_type": "display_data",
       "png": "[encoded data removed]",
       "text": [
        "<matplotlib.figure.Figure at 0x7f7c9e40ef10>"
       ]
      }
     ],
     "prompt_number": 301
    },
    {
     "cell_type": "code",
     "collapsed": false,
     "input": [
      "#Failure\n",
      "\n",
      "#lofaccio\n",
      "adiacenzatre = numpy.genfromtxt(\"/home/protoss/Documenti/Siscomp_datas/data/AdiacenzaEuclidea_Tre.csv\",delimiter=',',dtype='int')\n",
      "grafoTre = networkx.Graph(adiacenzatre)\n",
      "diametro = [2]\n",
      "sizeGC = [networkx.number_of_nodes(grafoTre)]\n",
      "#logrado\n",
      "\n",
      "#losmonto e loanalizzo\n",
      "\n",
      "grandezzaIniziale = networkx.number_of_nodes(grafoTre)\n",
      "passo = networkx.number_of_nodes(grafoTre)/100\n",
      "\n",
      "while (networkx.number_of_nodes(grafoTre) > passo):\n",
      "    gradiFinal = pandas.DataFrame(grafoTre.degree().items(), columns=['index', 'grado'])\n",
      "    gradiFinal.reindex(numpy.random.permutation(gradiFinal.index))\n",
      "    randomante = gradiFinal['index'].values\n",
      "#    print len(randomante)\n",
      "#    print networkx.number_of_nodes(grafoTre)\n",
      "    \n",
      "    for identificativo in randomante:\n",
      "        if (networkx.number_of_nodes(grafoTre) > len(randomante) - passo):\n",
      "            grafoTre.remove_node(identificativo)\n",
      "    \n",
      "#    print len(randomante)\n",
      "#    print networkx.number_of_nodes(grafoTre)\n",
      "    \n",
      "    if (networkx.is_connected(grafoTre) == False):\n",
      "        sottografi = networkx.connected_component_subgraphs(grafoTre)\n",
      "        grafoTre = sottografi[0]\n",
      "\n",
      "    %time diametro.append(networkx.diameter(grafoTre, e=None))\n",
      "    sizeGC.append(networkx.number_of_nodes(grafoTre))\n",
      "    %matplotlib inline\n",
      "    \n",
      "print diametro, sizeGC\n",
      "\n",
      "pyplot.figure(figsize=(16,9))\n",
      "ascisse = range(len(diametro))\n",
      "diam = pyplot.scatter(x=ascisse, y=diametro, label=\"Diametro\", c='red')\n",
      "pyplot.title('Attacco')\n",
      "pyplot.xlabel(\"%\")\n",
      "pyplot.ylabel(\"Valore\")\n",
      "pyplot.legend(loc = 2)\n",
      "#pyplot.legend(loc = 2)\n",
      "#pyplot.xlim(0, 22)\n",
      "pyplot.show()\n",
      "\n",
      "pyplot.figure(figsize=(16,9))\n",
      "ascisse = range(len(diametro))\n",
      "dimGC = pyplot.scatter(x=ascisse, y=sizeGC, label=\"Dimensione GC\", c='green')\n",
      "pyplot.title('Attacco')\n",
      "pyplot.xlabel(\"%\")\n",
      "pyplot.ylabel(\"Valore\")\n",
      "pyplot.legend(loc = 2)\n",
      "#pyplot.legend(loc = 2)\n",
      "#pyplot.xlim(0, 22)\n",
      "pyplot.show()\n",
      "\n",
      "\n",
      "#networkx.draw_random(grafoTre)"
     ],
     "language": "python",
     "metadata": {},
     "outputs": [
      {
       "output_type": "stream",
       "stream": "stdout",
       "text": [
        "CPU times: user 8.8 s, sys: 32 ms, total: 8.84 s\n",
        "Wall time: 8.76 s\n",
        "CPU times: user 8.52 s, sys: 44 ms, total: 8.56 s"
       ]
      },
      {
       "output_type": "stream",
       "stream": "stdout",
       "text": [
        "\n",
        "Wall time: 8.5 s\n",
        "CPU times: user 8.32 s, sys: 40 ms, total: 8.36 s"
       ]
      },
      {
       "output_type": "stream",
       "stream": "stdout",
       "text": [
        "\n",
        "Wall time: 8.3 s\n",
        "CPU times: user 8.19 s, sys: 32 ms, total: 8.22 s"
       ]
      },
      {
       "output_type": "stream",
       "stream": "stdout",
       "text": [
        "\n",
        "Wall time: 8.16 s\n",
        "CPU times: user 8.41 s, sys: 72 ms, total: 8.48 s"
       ]
      },
      {
       "output_type": "stream",
       "stream": "stdout",
       "text": [
        "\n",
        "Wall time: 8.37 s\n",
        "CPU times: user 8.84 s, sys: 72 ms, total: 8.92 s"
       ]
      },
      {
       "output_type": "stream",
       "stream": "stdout",
       "text": [
        "\n",
        "Wall time: 8.84 s\n",
        "CPU times: user 8.39 s, sys: 56 ms, total: 8.45 s"
       ]
      },
      {
       "output_type": "stream",
       "stream": "stdout",
       "text": [
        "\n",
        "Wall time: 8.37 s\n",
        "CPU times: user 7.84 s, sys: 52 ms, total: 7.9 s"
       ]
      },
      {
       "output_type": "stream",
       "stream": "stdout",
       "text": [
        "\n",
        "Wall time: 7.83 s\n",
        "CPU times: user 4.78 s, sys: 20 ms, total: 4.8 s"
       ]
      },
      {
       "output_type": "stream",
       "stream": "stdout",
       "text": [
        "\n",
        "Wall time: 4.76 s\n",
        "CPU times: user 4.73 s, sys: 32 ms, total: 4.76 s"
       ]
      },
      {
       "output_type": "stream",
       "stream": "stdout",
       "text": [
        "\n",
        "Wall time: 4.72 s\n",
        "CPU times: user 4.52 s, sys: 16 ms, total: 4.53 s"
       ]
      },
      {
       "output_type": "stream",
       "stream": "stdout",
       "text": [
        "\n",
        "Wall time: 4.5 s\n",
        "CPU times: user 5.22 s, sys: 24 ms, total: 5.25 s"
       ]
      },
      {
       "output_type": "stream",
       "stream": "stdout",
       "text": [
        "\n",
        "Wall time: 5.2 s\n",
        "CPU times: user 4.1 s, sys: 12 ms, total: 4.11 s"
       ]
      },
      {
       "output_type": "stream",
       "stream": "stdout",
       "text": [
        "\n",
        "Wall time: 4.05 s\n",
        "CPU times: user 3.8 s, sys: 32 ms, total: 3.83 s"
       ]
      },
      {
       "output_type": "stream",
       "stream": "stdout",
       "text": [
        "\n",
        "Wall time: 3.8 s\n",
        "CPU times: user 3.54 s, sys: 24 ms, total: 3.57 s"
       ]
      },
      {
       "output_type": "stream",
       "stream": "stdout",
       "text": [
        "\n",
        "Wall time: 3.52 s\n",
        "CPU times: user 3.44 s, sys: 24 ms, total: 3.46 s"
       ]
      },
      {
       "output_type": "stream",
       "stream": "stdout",
       "text": [
        "\n",
        "Wall time: 3.44 s\n",
        "CPU times: user 3.16 s, sys: 12 ms, total: 3.17 s"
       ]
      },
      {
       "output_type": "stream",
       "stream": "stdout",
       "text": [
        "\n",
        "Wall time: 3.16 s\n",
        "CPU times: user 2.91 s, sys: 8 ms, total: 2.92 s"
       ]
      },
      {
       "output_type": "stream",
       "stream": "stdout",
       "text": [
        "\n",
        "Wall time: 2.9 s\n",
        "CPU times: user 2.91 s, sys: 4 ms, total: 2.91 s"
       ]
      },
      {
       "output_type": "stream",
       "stream": "stdout",
       "text": [
        "\n",
        "Wall time: 2.89 s\n",
        "CPU times: user 2.78 s, sys: 24 ms, total: 2.8 s"
       ]
      },
      {
       "output_type": "stream",
       "stream": "stdout",
       "text": [
        "\n",
        "Wall time: 2.77 s\n",
        "CPU times: user 2.61 s, sys: 16 ms, total: 2.62 s"
       ]
      },
      {
       "output_type": "stream",
       "stream": "stdout",
       "text": [
        "\n",
        "Wall time: 2.6 s\n",
        "CPU times: user 2.13 s, sys: 8 ms, total: 2.14 s"
       ]
      },
      {
       "output_type": "stream",
       "stream": "stdout",
       "text": [
        "\n",
        "Wall time: 2.13 s\n",
        "CPU times: user 2.32 s, sys: 12 ms, total: 2.33 s"
       ]
      },
      {
       "output_type": "stream",
       "stream": "stdout",
       "text": [
        "\n",
        "Wall time: 2.33 s\n",
        "CPU times: user 2.33 s, sys: 16 ms, total: 2.34 s"
       ]
      },
      {
       "output_type": "stream",
       "stream": "stdout",
       "text": [
        "\n",
        "Wall time: 2.33 s\n",
        "CPU times: user 2.06 s, sys: 4 ms, total: 2.06 s"
       ]
      },
      {
       "output_type": "stream",
       "stream": "stdout",
       "text": [
        "\n",
        "Wall time: 2.04 s\n",
        "CPU times: user 1.9 s, sys: 8 ms, total: 1.91 s"
       ]
      },
      {
       "output_type": "stream",
       "stream": "stdout",
       "text": [
        "\n",
        "Wall time: 1.89 s\n",
        "CPU times: user 1.89 s, sys: 4 ms, total: 1.9 s"
       ]
      },
      {
       "output_type": "stream",
       "stream": "stdout",
       "text": [
        "\n",
        "Wall time: 1.89 s\n",
        "CPU times: user 1.82 s, sys: 16 ms, total: 1.83 s"
       ]
      },
      {
       "output_type": "stream",
       "stream": "stdout",
       "text": [
        "\n",
        "Wall time: 1.81 s\n",
        "CPU times: user 1.78 s, sys: 16 ms, total: 1.8 s"
       ]
      },
      {
       "output_type": "stream",
       "stream": "stdout",
       "text": [
        "\n",
        "Wall time: 1.78 s\n",
        "CPU times: user 1.89 s, sys: 8 ms, total: 1.9 s"
       ]
      },
      {
       "output_type": "stream",
       "stream": "stdout",
       "text": [
        "\n",
        "Wall time: 1.89 s\n",
        "CPU times: user 1.59 s, sys: 12 ms, total: 1.6 s"
       ]
      },
      {
       "output_type": "stream",
       "stream": "stdout",
       "text": [
        "\n",
        "Wall time: 1.6 s\n",
        "CPU times: user 1.64 s, sys: 4 ms, total: 1.65 s"
       ]
      },
      {
       "output_type": "stream",
       "stream": "stdout",
       "text": [
        "\n",
        "Wall time: 1.64 s\n",
        "CPU times: user 1.56 s, sys: 12 ms, total: 1.57 s"
       ]
      },
      {
       "output_type": "stream",
       "stream": "stdout",
       "text": [
        "\n",
        "Wall time: 1.56 s\n",
        "CPU times: user 1.66 s, sys: 8 ms, total: 1.66 s"
       ]
      },
      {
       "output_type": "stream",
       "stream": "stdout",
       "text": [
        "\n",
        "Wall time: 1.66 s\n",
        "CPU times: user 1.51 s, sys: 12 ms, total: 1.52 s"
       ]
      },
      {
       "output_type": "stream",
       "stream": "stdout",
       "text": [
        "\n",
        "Wall time: 1.5 s\n",
        "CPU times: user 1.36 s, sys: 8 ms, total: 1.36 s"
       ]
      },
      {
       "output_type": "stream",
       "stream": "stdout",
       "text": [
        "\n",
        "Wall time: 1.36 s\n",
        "CPU times: user 1.21 s, sys: 12 ms, total: 1.22 s"
       ]
      },
      {
       "output_type": "stream",
       "stream": "stdout",
       "text": [
        "\n",
        "Wall time: 1.2 s\n",
        "CPU times: user 1.08 s, sys: 8 ms, total: 1.09 s"
       ]
      },
      {
       "output_type": "stream",
       "stream": "stdout",
       "text": [
        "\n",
        "Wall time: 1.08 s\n",
        "CPU times: user 1.12 s, sys: 8 ms, total: 1.13 s"
       ]
      },
      {
       "output_type": "stream",
       "stream": "stdout",
       "text": [
        "\n",
        "Wall time: 1.12 s\n",
        "CPU times: user 924 ms, sys: 8 ms, total: 932 ms"
       ]
      },
      {
       "output_type": "stream",
       "stream": "stdout",
       "text": [
        "\n",
        "Wall time: 929 ms\n",
        "CPU times: user 1 s, sys: 16 ms, total: 1.02 s"
       ]
      },
      {
       "output_type": "stream",
       "stream": "stdout",
       "text": [
        "\n",
        "Wall time: 1.01 s\n",
        "CPU times: user 952 ms, sys: 0 ns, total: 952 ms"
       ]
      },
      {
       "output_type": "stream",
       "stream": "stdout",
       "text": [
        "\n",
        "Wall time: 951 ms\n",
        "CPU times: user 912 ms, sys: 0 ns, total: 912 ms"
       ]
      },
      {
       "output_type": "stream",
       "stream": "stdout",
       "text": [
        "\n",
        "Wall time: 905 ms\n",
        "CPU times: user 888 ms, sys: 4 ms, total: 892 ms"
       ]
      },
      {
       "output_type": "stream",
       "stream": "stdout",
       "text": [
        "\n",
        "Wall time: 885 ms\n",
        "CPU times: user 860 ms, sys: 0 ns, total: 860 ms"
       ]
      },
      {
       "output_type": "stream",
       "stream": "stdout",
       "text": [
        "\n",
        "Wall time: 859 ms\n",
        "CPU times: user 888 ms, sys: 20 ms, total: 908 ms"
       ]
      },
      {
       "output_type": "stream",
       "stream": "stdout",
       "text": [
        "\n",
        "Wall time: 879 ms\n",
        "CPU times: user 624 ms, sys: 4 ms, total: 628 ms"
       ]
      },
      {
       "output_type": "stream",
       "stream": "stdout",
       "text": [
        "\n",
        "Wall time: 619 ms\n",
        "CPU times: user 584 ms, sys: 0 ns, total: 584 ms"
       ]
      },
      {
       "output_type": "stream",
       "stream": "stdout",
       "text": [
        "\n",
        "Wall time: 582 ms\n",
        "CPU times: user 540 ms, sys: 4 ms, total: 544 ms"
       ]
      },
      {
       "output_type": "stream",
       "stream": "stdout",
       "text": [
        "\n",
        "Wall time: 542 ms\n",
        "CPU times: user 520 ms, sys: 0 ns, total: 520 ms"
       ]
      },
      {
       "output_type": "stream",
       "stream": "stdout",
       "text": [
        "\n",
        "Wall time: 518 ms\n",
        "CPU times: user 500 ms, sys: 4 ms, total: 504 ms"
       ]
      },
      {
       "output_type": "stream",
       "stream": "stdout",
       "text": [
        "\n",
        "Wall time: 494 ms\n",
        "CPU times: user 476 ms, sys: 0 ns, total: 476 ms"
       ]
      },
      {
       "output_type": "stream",
       "stream": "stdout",
       "text": [
        "\n",
        "Wall time: 478 ms\n",
        "CPU times: user 460 ms, sys: 12 ms, total: 472 ms"
       ]
      },
      {
       "output_type": "stream",
       "stream": "stdout",
       "text": [
        "\n",
        "Wall time: 463 ms\n",
        "CPU times: user 420 ms, sys: 0 ns, total: 420 ms"
       ]
      },
      {
       "output_type": "stream",
       "stream": "stdout",
       "text": [
        "\n",
        "Wall time: 422 ms\n",
        "CPU times: user 376 ms, sys: 0 ns, total: 376 ms"
       ]
      },
      {
       "output_type": "stream",
       "stream": "stdout",
       "text": [
        "\n",
        "Wall time: 378 ms\n",
        "CPU times: user 416 ms, sys: 12 ms, total: 428 ms"
       ]
      },
      {
       "output_type": "stream",
       "stream": "stdout",
       "text": [
        "\n",
        "Wall time: 391 ms\n",
        "CPU times: user 336 ms, sys: 0 ns, total: 336 ms"
       ]
      },
      {
       "output_type": "stream",
       "stream": "stdout",
       "text": [
        "\n",
        "Wall time: 337 ms\n",
        "CPU times: user 324 ms, sys: 0 ns, total: 324 ms"
       ]
      },
      {
       "output_type": "stream",
       "stream": "stdout",
       "text": [
        "\n",
        "Wall time: 322 ms\n",
        "CPU times: user 312 ms, sys: 0 ns, total: 312 ms"
       ]
      },
      {
       "output_type": "stream",
       "stream": "stdout",
       "text": [
        "\n",
        "Wall time: 311 ms\n",
        "CPU times: user 292 ms, sys: 0 ns, total: 292 ms"
       ]
      },
      {
       "output_type": "stream",
       "stream": "stdout",
       "text": [
        "\n",
        "Wall time: 292 ms\n",
        "CPU times: user 292 ms, sys: 0 ns, total: 292 ms"
       ]
      },
      {
       "output_type": "stream",
       "stream": "stdout",
       "text": [
        "\n",
        "Wall time: 294 ms\n",
        "CPU times: user 260 ms, sys: 0 ns, total: 260 ms"
       ]
      },
      {
       "output_type": "stream",
       "stream": "stdout",
       "text": [
        "\n",
        "Wall time: 257 ms\n",
        "CPU times: user 244 ms, sys: 4 ms, total: 248 ms"
       ]
      },
      {
       "output_type": "stream",
       "stream": "stdout",
       "text": [
        "\n",
        "Wall time: 249 ms\n",
        "CPU times: user 224 ms, sys: 0 ns, total: 224 ms"
       ]
      },
      {
       "output_type": "stream",
       "stream": "stdout",
       "text": [
        "\n",
        "Wall time: 223 ms\n",
        "CPU times: user 216 ms, sys: 0 ns, total: 216 ms"
       ]
      },
      {
       "output_type": "stream",
       "stream": "stdout",
       "text": [
        "\n",
        "Wall time: 215 ms\n",
        "CPU times: user 200 ms, sys: 0 ns, total: 200 ms"
       ]
      },
      {
       "output_type": "stream",
       "stream": "stdout",
       "text": [
        "\n",
        "Wall time: 201 ms\n",
        "CPU times: user 164 ms, sys: 0 ns, total: 164 ms"
       ]
      },
      {
       "output_type": "stream",
       "stream": "stdout",
       "text": [
        "\n",
        "Wall time: 164 ms\n",
        "CPU times: user 156 ms, sys: 4 ms, total: 160 ms"
       ]
      },
      {
       "output_type": "stream",
       "stream": "stdout",
       "text": [
        "\n",
        "Wall time: 154 ms\n",
        "CPU times: user 136 ms, sys: 0 ns, total: 136 ms"
       ]
      },
      {
       "output_type": "stream",
       "stream": "stdout",
       "text": [
        "\n",
        "Wall time: 137 ms\n",
        "CPU times: user 124 ms, sys: 0 ns, total: 124 ms"
       ]
      },
      {
       "output_type": "stream",
       "stream": "stdout",
       "text": [
        "\n",
        "Wall time: 122 ms\n",
        "CPU times: user 116 ms, sys: 0 ns, total: 116 ms"
       ]
      },
      {
       "output_type": "stream",
       "stream": "stdout",
       "text": [
        "\n",
        "Wall time: 114 ms\n",
        "CPU times: user 64 ms, sys: 0 ns, total: 64 ms"
       ]
      },
      {
       "output_type": "stream",
       "stream": "stdout",
       "text": [
        "\n",
        "Wall time: 61.5 ms\n",
        "CPU times: user 56 ms, sys: 0 ns, total: 56 ms"
       ]
      },
      {
       "output_type": "stream",
       "stream": "stdout",
       "text": [
        "\n",
        "Wall time: 54.4 ms\n",
        "CPU times: user 52 ms, sys: 0 ns, total: 52 ms"
       ]
      },
      {
       "output_type": "stream",
       "stream": "stdout",
       "text": [
        "\n",
        "Wall time: 48.4 ms\n",
        "CPU times: user 32 ms, sys: 0 ns, total: 32 ms\n",
        "Wall time: 33.5 ms\n",
        "CPU times: user 28 ms, sys: 0 ns, total: 28 ms"
       ]
      },
      {
       "output_type": "stream",
       "stream": "stdout",
       "text": [
        "\n",
        "Wall time: 27.1 ms\n",
        "CPU times: user 20 ms, sys: 0 ns, total: 20 ms\n",
        "Wall time: 21 ms\n",
        "CPU times: user 16 ms, sys: 0 ns, total: 16 ms\n",
        "Wall time: 16.4 ms\n",
        "CPU times: user 12 ms, sys: 0 ns, total: 12 ms"
       ]
      },
      {
       "output_type": "stream",
       "stream": "stdout",
       "text": [
        "\n",
        "Wall time: 13 ms\n",
        "CPU times: user 4 ms, sys: 0 ns, total: 4 ms\n",
        "Wall time: 4.25 ms\n",
        "CPU times: user 4 ms, sys: 0 ns, total: 4 ms\n",
        "Wall time: 2.77 ms\n",
        "CPU times: user 0 ns, sys: 0 ns, total: 0 ns\n",
        "Wall time: 1.29 ms\n",
        "CPU times: user 0 ns, sys: 0 ns, total: 0 ns\n",
        "Wall time: 818 \u00b5s\n",
        "CPU times: user 0 ns, sys: 0 ns, total: 0 ns\n",
        "Wall time: 154 \u00b5s\n",
        "[2, 2, 2, 2, 2, 2, 2, 2, 2, 4, 4, 6, 5, 5, 5, 5, 5, 5, 5, 5, 5, 5, 5, 5, 5, 5, 5, 5, 5, 5, 5, 5, 5, 5, 6, 6, 6, 6, 6, 6, 6, 6, 6, 6, 6, 6, 6, 6, 6, 6, 6, 7, 7, 7, 7, 7, 7, 7, 7, 7, 7, 7, 7, 7, 7, 7, 7, 7, 7, 7, 7, 7, 12, 12, 11, 8, 7, 8, 8, 7, 5, 5, 4, 4, 3] [1315, 1302, 1289, 1276, 1263, 1250, 1237, 1224, 1211, 1196, 1183, 1166, 1151, 1138, 1125, 1112, 1099, 1086, 1073, 1060, 1047, 1034, 1020, 1007, 994, 981, 968, 954, 941, 928, 915, 902, 889, 876, 862, 849, 836, 823, 810, 797, 767, 754, 741, 728, 715, 702, 689, 669, 656, 643, 630, 617, 604, 591, 578, 565, 552, 539, 526, 513, 500, 487, 474, 461, 448, 435, 422, 401, 388, 375, 362, 349, 259, 246, 232, 190, 174, 150, 137, 124, 69, 56, 43, 30, 8]\n"
       ]
      },
      {
       "metadata": {},
       "output_type": "display_data",
       "png": "[encoded data removed]",
       "text": [
        "<matplotlib.figure.Figure at 0x7f7c9e48dd10>"
       ]
      },
      {
       "metadata": {},
       "output_type": "display_data",
       "png": "[encoded data removed]",
       "text": [
        "<matplotlib.figure.Figure at 0x7f7c9da66250>"
       ]
      }
     ],
     "prompt_number": 299
    },
    {
     "cell_type": "code",
     "collapsed": false,
     "input": [
      "adiacenzatre = numpy.genfromtxt(\"/home/protoss/Documenti/Siscomp_datas/data/AdiacenzaEuclidea_Tre.csv\",delimiter=',',dtype='int')\n",
      "grafoTre = networkx.Graph(adiacenzatre)\n",
      "diametro = []\n",
      "sizeGC = []\n",
      "\n",
      "    \n",
      "gradiFinal = pandas.DataFrame(grafoTre.degree().items(), columns=['index', 'grado'])\n",
      "#gradiFinal.sort([\"grado\"], ascending=[False], inplace=True)\n",
      "#gradiFinal = gradiFinal.reset_index()\n",
      "#gradiFinal.drop(gradiFinal.columns[[0]], axis = 1, inplace=True)\n",
      "gradiFinal.reindex(numpy.random.permutation(gradiFinal.index))\n"
     ],
     "language": "python",
     "metadata": {},
     "outputs": [
      {
       "html": [
        "<div style=\"max-height:1000px;max-width:1500px;overflow:auto;\">\n",
        "<table border=\"1\" class=\"dataframe\">\n",
        "  <thead>\n",
        "    <tr style=\"text-align: right;\">\n",
        "      <th></th>\n",
        "      <th>index</th>\n",
        "      <th>grado</th>\n",
        "    </tr>\n",
        "  </thead>\n",
        "  <tbody>\n",
        "    <tr>\n",
        "      <th>1268</th>\n",
        "      <td> 1268</td>\n",
        "      <td>  14</td>\n",
        "    </tr>\n",
        "    <tr>\n",
        "      <th>1218</th>\n",
        "      <td> 1218</td>\n",
        "      <td>  28</td>\n",
        "    </tr>\n",
        "    <tr>\n",
        "      <th>707 </th>\n",
        "      <td>  707</td>\n",
        "      <td>  14</td>\n",
        "    </tr>\n",
        "    <tr>\n",
        "      <th>486 </th>\n",
        "      <td>  486</td>\n",
        "      <td>  74</td>\n",
        "    </tr>\n",
        "    <tr>\n",
        "      <th>596 </th>\n",
        "      <td>  596</td>\n",
        "      <td>  38</td>\n",
        "    </tr>\n",
        "    <tr>\n",
        "      <th>583 </th>\n",
        "      <td>  583</td>\n",
        "      <td>  50</td>\n",
        "    </tr>\n",
        "    <tr>\n",
        "      <th>464 </th>\n",
        "      <td>  464</td>\n",
        "      <td>   7</td>\n",
        "    </tr>\n",
        "    <tr>\n",
        "      <th>107 </th>\n",
        "      <td>  107</td>\n",
        "      <td> 140</td>\n",
        "    </tr>\n",
        "    <tr>\n",
        "      <th>240 </th>\n",
        "      <td>  240</td>\n",
        "      <td>  46</td>\n",
        "    </tr>\n",
        "    <tr>\n",
        "      <th>743 </th>\n",
        "      <td>  743</td>\n",
        "      <td>   5</td>\n",
        "    </tr>\n",
        "    <tr>\n",
        "      <th>309 </th>\n",
        "      <td>  309</td>\n",
        "      <td>  27</td>\n",
        "    </tr>\n",
        "    <tr>\n",
        "      <th>777 </th>\n",
        "      <td>  777</td>\n",
        "      <td>  12</td>\n",
        "    </tr>\n",
        "    <tr>\n",
        "      <th>491 </th>\n",
        "      <td>  491</td>\n",
        "      <td>  11</td>\n",
        "    </tr>\n",
        "    <tr>\n",
        "      <th>567 </th>\n",
        "      <td>  567</td>\n",
        "      <td>  23</td>\n",
        "    </tr>\n",
        "    <tr>\n",
        "      <th>1111</th>\n",
        "      <td> 1111</td>\n",
        "      <td>  31</td>\n",
        "    </tr>\n",
        "    <tr>\n",
        "      <th>1312</th>\n",
        "      <td> 1312</td>\n",
        "      <td>  42</td>\n",
        "    </tr>\n",
        "    <tr>\n",
        "      <th>392 </th>\n",
        "      <td>  392</td>\n",
        "      <td>  30</td>\n",
        "    </tr>\n",
        "    <tr>\n",
        "      <th>387 </th>\n",
        "      <td>  387</td>\n",
        "      <td>  15</td>\n",
        "    </tr>\n",
        "    <tr>\n",
        "      <th>1054</th>\n",
        "      <td> 1054</td>\n",
        "      <td>  28</td>\n",
        "    </tr>\n",
        "    <tr>\n",
        "      <th>958 </th>\n",
        "      <td>  958</td>\n",
        "      <td>  17</td>\n",
        "    </tr>\n",
        "    <tr>\n",
        "      <th>655 </th>\n",
        "      <td>  655</td>\n",
        "      <td>  15</td>\n",
        "    </tr>\n",
        "    <tr>\n",
        "      <th>146 </th>\n",
        "      <td>  146</td>\n",
        "      <td>  41</td>\n",
        "    </tr>\n",
        "    <tr>\n",
        "      <th>832 </th>\n",
        "      <td>  832</td>\n",
        "      <td>  11</td>\n",
        "    </tr>\n",
        "    <tr>\n",
        "      <th>267 </th>\n",
        "      <td>  267</td>\n",
        "      <td>  17</td>\n",
        "    </tr>\n",
        "    <tr>\n",
        "      <th>400 </th>\n",
        "      <td>  400</td>\n",
        "      <td>  37</td>\n",
        "    </tr>\n",
        "    <tr>\n",
        "      <th>1086</th>\n",
        "      <td> 1086</td>\n",
        "      <td>  31</td>\n",
        "    </tr>\n",
        "    <tr>\n",
        "      <th>968 </th>\n",
        "      <td>  968</td>\n",
        "      <td> 976</td>\n",
        "    </tr>\n",
        "    <tr>\n",
        "      <th>371 </th>\n",
        "      <td>  371</td>\n",
        "      <td>  53</td>\n",
        "    </tr>\n",
        "    <tr>\n",
        "      <th>298 </th>\n",
        "      <td>  298</td>\n",
        "      <td>  70</td>\n",
        "    </tr>\n",
        "    <tr>\n",
        "      <th>1107</th>\n",
        "      <td> 1107</td>\n",
        "      <td>  47</td>\n",
        "    </tr>\n",
        "    <tr>\n",
        "      <th>...</th>\n",
        "      <td>...</td>\n",
        "      <td>...</td>\n",
        "    </tr>\n",
        "    <tr>\n",
        "      <th>884 </th>\n",
        "      <td>  884</td>\n",
        "      <td> 118</td>\n",
        "    </tr>\n",
        "    <tr>\n",
        "      <th>812 </th>\n",
        "      <td>  812</td>\n",
        "      <td>  79</td>\n",
        "    </tr>\n",
        "    <tr>\n",
        "      <th>497 </th>\n",
        "      <td>  497</td>\n",
        "      <td>  24</td>\n",
        "    </tr>\n",
        "    <tr>\n",
        "      <th>386 </th>\n",
        "      <td>  386</td>\n",
        "      <td>  15</td>\n",
        "    </tr>\n",
        "    <tr>\n",
        "      <th>654 </th>\n",
        "      <td>  654</td>\n",
        "      <td>  14</td>\n",
        "    </tr>\n",
        "    <tr>\n",
        "      <th>68  </th>\n",
        "      <td>   68</td>\n",
        "      <td>   8</td>\n",
        "    </tr>\n",
        "    <tr>\n",
        "      <th>499 </th>\n",
        "      <td>  499</td>\n",
        "      <td>  32</td>\n",
        "    </tr>\n",
        "    <tr>\n",
        "      <th>749 </th>\n",
        "      <td>  749</td>\n",
        "      <td>  16</td>\n",
        "    </tr>\n",
        "    <tr>\n",
        "      <th>693 </th>\n",
        "      <td>  693</td>\n",
        "      <td>  38</td>\n",
        "    </tr>\n",
        "    <tr>\n",
        "      <th>155 </th>\n",
        "      <td>  155</td>\n",
        "      <td>   4</td>\n",
        "    </tr>\n",
        "    <tr>\n",
        "      <th>236 </th>\n",
        "      <td>  236</td>\n",
        "      <td>  62</td>\n",
        "    </tr>\n",
        "    <tr>\n",
        "      <th>1128</th>\n",
        "      <td> 1128</td>\n",
        "      <td>   9</td>\n",
        "    </tr>\n",
        "    <tr>\n",
        "      <th>95  </th>\n",
        "      <td>   95</td>\n",
        "      <td>  36</td>\n",
        "    </tr>\n",
        "    <tr>\n",
        "      <th>489 </th>\n",
        "      <td>  489</td>\n",
        "      <td> 283</td>\n",
        "    </tr>\n",
        "    <tr>\n",
        "      <th>413 </th>\n",
        "      <td>  413</td>\n",
        "      <td>  47</td>\n",
        "    </tr>\n",
        "    <tr>\n",
        "      <th>116 </th>\n",
        "      <td>  116</td>\n",
        "      <td>  46</td>\n",
        "    </tr>\n",
        "    <tr>\n",
        "      <th>449 </th>\n",
        "      <td>  449</td>\n",
        "      <td>  12</td>\n",
        "    </tr>\n",
        "    <tr>\n",
        "      <th>376 </th>\n",
        "      <td>  376</td>\n",
        "      <td>   5</td>\n",
        "    </tr>\n",
        "    <tr>\n",
        "      <th>38  </th>\n",
        "      <td>   38</td>\n",
        "      <td>  19</td>\n",
        "    </tr>\n",
        "    <tr>\n",
        "      <th>656 </th>\n",
        "      <td>  656</td>\n",
        "      <td>  10</td>\n",
        "    </tr>\n",
        "    <tr>\n",
        "      <th>517 </th>\n",
        "      <td>  517</td>\n",
        "      <td>  12</td>\n",
        "    </tr>\n",
        "    <tr>\n",
        "      <th>81  </th>\n",
        "      <td>   81</td>\n",
        "      <td>   6</td>\n",
        "    </tr>\n",
        "    <tr>\n",
        "      <th>1055</th>\n",
        "      <td> 1055</td>\n",
        "      <td>  29</td>\n",
        "    </tr>\n",
        "    <tr>\n",
        "      <th>151 </th>\n",
        "      <td>  151</td>\n",
        "      <td>  14</td>\n",
        "    </tr>\n",
        "    <tr>\n",
        "      <th>1050</th>\n",
        "      <td> 1050</td>\n",
        "      <td>  35</td>\n",
        "    </tr>\n",
        "    <tr>\n",
        "      <th>983 </th>\n",
        "      <td>  983</td>\n",
        "      <td>  86</td>\n",
        "    </tr>\n",
        "    <tr>\n",
        "      <th>1077</th>\n",
        "      <td> 1077</td>\n",
        "      <td>  33</td>\n",
        "    </tr>\n",
        "    <tr>\n",
        "      <th>531 </th>\n",
        "      <td>  531</td>\n",
        "      <td>  10</td>\n",
        "    </tr>\n",
        "    <tr>\n",
        "      <th>599 </th>\n",
        "      <td>  599</td>\n",
        "      <td>  25</td>\n",
        "    </tr>\n",
        "    <tr>\n",
        "      <th>1208</th>\n",
        "      <td> 1208</td>\n",
        "      <td>  39</td>\n",
        "    </tr>\n",
        "  </tbody>\n",
        "</table>\n",
        "<p>1315 rows \u00d7 2 columns</p>\n",
        "</div>"
       ],
       "metadata": {},
       "output_type": "pyout",
       "prompt_number": 278,
       "text": [
        "      index  grado\n",
        "1268   1268     14\n",
        "1218   1218     28\n",
        "707     707     14\n",
        "486     486     74\n",
        "596     596     38\n",
        "583     583     50\n",
        "464     464      7\n",
        "107     107    140\n",
        "240     240     46\n",
        "743     743      5\n",
        "309     309     27\n",
        "777     777     12\n",
        "491     491     11\n",
        "567     567     23\n",
        "1111   1111     31\n",
        "1312   1312     42\n",
        "392     392     30\n",
        "387     387     15\n",
        "1054   1054     28\n",
        "958     958     17\n",
        "655     655     15\n",
        "146     146     41\n",
        "832     832     11\n",
        "267     267     17\n",
        "400     400     37\n",
        "1086   1086     31\n",
        "968     968    976\n",
        "371     371     53\n",
        "298     298     70\n",
        "1107   1107     47\n",
        "...     ...    ...\n",
        "884     884    118\n",
        "812     812     79\n",
        "497     497     24\n",
        "386     386     15\n",
        "654     654     14\n",
        "68       68      8\n",
        "499     499     32\n",
        "749     749     16\n",
        "693     693     38\n",
        "155     155      4\n",
        "236     236     62\n",
        "1128   1128      9\n",
        "95       95     36\n",
        "489     489    283\n",
        "413     413     47\n",
        "116     116     46\n",
        "449     449     12\n",
        "376     376      5\n",
        "38       38     19\n",
        "656     656     10\n",
        "517     517     12\n",
        "81       81      6\n",
        "1055   1055     29\n",
        "151     151     14\n",
        "1050   1050     35\n",
        "983     983     86\n",
        "1077   1077     33\n",
        "531     531     10\n",
        "599     599     25\n",
        "1208   1208     39\n",
        "\n",
        "[1315 rows x 2 columns]"
       ]
      }
     ],
     "prompt_number": 278
    },
    {
     "cell_type": "markdown",
     "metadata": {},
     "source": [
      "#CON SUBGRAPH SI DOVREBBE POTER FARE!\n",
      "http://stackoverflow.com/questions/17450521/networkx-finding-the-natural-clusters-of-points-on-a-graph\n"
     ]
    },
    {
     "cell_type": "markdown",
     "metadata": {},
     "source": [
      "NB. num antenne  \n",
      "   * TIM - 1550  \n",
      "   * Vodafone - 1531  \n",
      "   * Wind - 2175   \n",
      "   * 3 - 1315  \n",
      "   \n",
      "Tot antenne: 6571  "
     ]
    },
    {
     "cell_type": "markdown",
     "metadata": {},
     "source": [
      "##TODO:  \n",
      "* Prendere array coordinate                                                           \u2714\n",
      "* fare array distanze                                                                  \u2714\n",
      "* mettere colonna distanze in dataframe  \u2714\n",
      "* selezionare righe con variabile compresa entro raggiomedio                           \u2714  \n",
      "* fare un nuovo dataframe  \u2714\n",
      "* escludere tutti i nodi con 1 sample solo \u2714\n",
      "* fare P(k) \u2714\n",
      "\n",
      "##TODO:\n",
      "* log binning  \u2714 (lo sono gi\u00e0)\n",
      "* FARE GRAFICI MEGLIO \u2714\n",
      "* Fare grafici un po' meglio\n",
      "* Fare fit con curva che picca a v medio e poi esponenziale, tipo andamento legge di Planck\n",
      "* variazione del diametro con rimozione random o con rimozione preferenziale\n",
      "* Soglia percolativa: fare grafico dimensioni giant cluster (in realt\u00e0 dimensione relativa, cio\u00e8 dimensione/ndati totali in quel momento nel cluster) in funzione di rimozione di nodi\n",
      "* in modo casuale\n",
      "* cominciando da i nodi pi\u00f9 connessi \n",
      "* barabasi e albert dicono che andamento giant cluster relativo \u00e8 indipendente dalla dimensione della rete, non solo per reti scale free (frattali), ma anche per reti esponenziali! (frattali anch'esse?) Verificare sta cosa facendo confronto andamento GC tra rete totale e reti delle varie compagnie  \n",
      "NB con gli attacchi random fare tanti attacchi e vedere diametro e GCsize medi, non un solo attacco!   \n",
      "NB giant cluster \u00e8 cluster che scala con N.   \n",
      "E.g., se il giant cluster \u00e8 composto da N/10 della rete, se raddoppio la rete o la dimezzo deve rimanere composto da 1/10 del totale dei nodi della rete. Idem se \u00e8 N/100 o N/0.9\n",
      "\n",
      "  Leggere (materiale lezione su percolazione-attacchi-epidemie):  \n",
      "  http://www.nature.com/nature/journal/v406/n6794/pdf/406378a0.pdf  \n",
      "  http://arxiv.org/pdf/cond-mat/0010317.pdf  \n",
      "  http://arxiv.org/pdf/cond-mat/0007048.pdf  \n",
      "  http://arxiv.org/pdf/cond-mat/0010251.pdf  \n",
      "  \n",
      "  Altro materiale forse utile:  \n",
      "  http://www.renyi.hu/~p_erdos/1959-11.pdf (Erdos e Renyi)  \n",
      "  http://arxiv.org/pdf/cond-mat/9910332.pdf  \n",
      "  http://arxiv.org/pdf/cond-mat/9907068.pdf  \n",
      "  http://citeseerx.ist.psu.edu/viewdoc/download?doi=10.1.1.71.8276&rep=rep1&type=pdf  \n",
      "  \n",
      "  \n",
      "  Tesina: parte iniziale su problema robustezza reti, poi test su reti di antenne in roma (rete non scale free ma che deve avere una certa robustezza)\n",
      "  veder compagnie separae\n",
      "  \n",
      "  \n",
      "  Federico nota andamento range segua una sorta di legge di zipf, NOTA BENE, I NOSTRI DATI NON SONO DATI UFFICIALI, MA COSTRUITI DA GENTE CHE CAMMINA, QUINDI PROB DI TROVARE NUOVA ANTENNA POTREBBE ESSERE SIMILE A PROB TROVARE NUOVA PAROLA, ma io penso che non c'entri perch\u00e9 noi stiamo vedendo solo le lunghezze delle parole. Che legge regola la prob delle lunghezze delle parole?"
     ]
    },
    {
     "cell_type": "markdown",
     "metadata": {},
     "source": [
      "Il primo tentativo \u00e8 stato di fare la matrice di adiacenza a forza bruta. Con un campione di soli 50 nodi ci metteva pochi microsecondi, quindi abbiamo provato a fare la matrice di adiacenza delle 7000 antenne entro il raccordo anulare, notando che la compilazione durava tanto, facendo le dovute proporzioni abbiamo preventivato 2,5 ore di tempo di calcolo. La prima cosa che abbiamo sistemato \u00e8 stato ovviamente fare un ciclo che calcolasse soltanto la met\u00e0 superiore della matrice, dimezzando il tempo di calcolo. \n",
      "\n",
      "La prima cosa che abbiamo pensato di fare \u00e8 stato di diagonalizzare a blocchi la matrice, o fare un ciclo di bassissimo livello che mettesse 0 a tutti gli elementi relativi alle antenne con $\\Delta$Latitudine e/o $\\Delta$Longitudine maggiori del range massimo del campione di dati. Il problema avuto \u00e8 che il range delle antenne \u00e8 tendenzialmente grande, con alcune che arrivano a 10km (con raggioRoma 11km)(e anche tanti samples), quindi non c'era modo di ridurre i calcoli. \n",
      "\n",
      "L'unica altra idea che abbiamo avuto \u00e8 stata di non fare il calcolo complicato con la distanza sul geoide con il metodo vincenty. Primo passo \u00e8 stato usare il metodo con great circles, l'altro \u00e8 stato di considerare la porzione di Roma presa come un cerchio piano, calcolando quindi la distanza euclidea tra coordinate geografiche e convertendola in metri. E ci mette MOLTO meno tempo $\\sim$10 volte in meno. Con un \n",
      "preventivo quindi di 10 minuti di tempo di calcolo invece di 1 ora e mezza.\n",
      "\n",
      "TODO vedere parallelaizazione"
     ]
    },
    {
     "cell_type": "markdown",
     "metadata": {},
     "source": [
      "## Varie note su tempi di calcolo\n",
      "\n",
      "###Prova preliminare con 50 dati\n",
      "con vincenti \n",
      "$\\sim$45 ms\n",
      "\n",
      "con great circols\n",
      "$\\sim$25 ms\n",
      "\n",
      "con euclid\n",
      "$\\sim$5 ms\n",
      "\n",
      "###Prova 50 dati\n",
      "\n",
      "CPU times: user 32 ms, sys: 0 ns, total: 32 ms\n",
      "Wall time: 31.8 ms  \n",
      "CPU times: user 4 ms, sys: 0 ns, total: 4 ms\n",
      "Wall time: 4.3 ms\n",
      "\n",
      "CPU times: user 32 ms, sys: 0 ns, total: 32 ms\n",
      "Wall time: 33.6 ms\n",
      "CPU times: user 4 ms, sys: 0 ns, total: 4 ms\n",
      "Wall time: 4.2 ms\n",
      "\n",
      "CPU times: user 32 ms, sys: 0 ns, total: 32 ms\n",
      "Wall time: 31.2 ms\n",
      "CPU times: user 4 ms, sys: 0 ns, total: 4 ms\n",
      "Wall time: 4.24 ms\n",
      "\n",
      "CPU times: user 32 ms, sys: 0 ns, total: 32 ms\n",
      "Wall time: 31 ms\n",
      "CPU times: user 4 ms, sys: 0 ns, total: 4 ms\n",
      "Wall time: 4.29 ms\n",
      "\n",
      "###Prova 100 dati\n",
      "\n",
      "CPU times: user 132 ms, sys: 0 ns, total: 132 ms\n",
      "Wall time: 133 ms  \n",
      "CPU times: user 12 ms, sys: 16 ms, total: 28 ms\n",
      "Wall time: 21.5 ms\n",
      "\n",
      "CPU times: user 124 ms, sys: 0 ns, total: 124 ms\n",
      "Wall time: 126 ms  \n",
      "CPU times: user 20 ms, sys: 0 ns, total: 20 ms\n",
      "Wall time: 16.6 ms\n",
      "\n",
      "CPU times: user 132 ms, sys: 0 ns, total: 132 ms\n",
      "Wall time: 126 ms  \n",
      "CPU times: user 16 ms, sys: 8 ms, total: 24 ms\n",
      "Wall time: 21.9 ms\n",
      "\n",
      "CPU times: user 128 ms, sys: 0 ns, total: 128 ms\n",
      "Wall time: 127 ms  \n",
      "CPU times: user 16 ms, sys: 0 ns, total: 16 ms\n",
      "Wall time: 16.8 ms\n",
      "\n",
      "###con 500\n",
      "\n",
      "CPU times: user 3.28 s, sys: 0 ns, total: 3.28 s\n",
      "Wall time: 3.27 s  \n",
      "CPU times: user 404 ms, sys: 0 ns, total: 404 ms\n",
      "Wall time: 403 ms\n",
      "\n",
      "CPU times: user 3.26 s, sys: 20 ms, total: 3.28 s\n",
      "Wall time: 3.23 s\n",
      "CPU times: user 404 ms, sys: 0 ns, total: 404 ms\n",
      "Wall time: 401 ms\n",
      "\n",
      "###con 1000\n",
      "CPU times: user 12.6 s, sys: 32 ms, total: 12.6 s\n",
      "Wall time: 12.5 s\n",
      "CPU times: user 1.62 s, sys: 16 ms, total: 1.64 s\n",
      "Wall time: 1.62 s\n",
      "\n",
      "CPU times: user 12.5 s, sys: 48 ms, total: 12.5 s\n",
      "Wall time: 12.5 s\n",
      "CPU times: user 1.62 s, sys: 16 ms, total: 1.64 s\n",
      "Wall time: 1.62 s\n",
      "\n",
      "###con 2000\n",
      "CPU times: user 49.7 s, sys: 160 ms, total: 49.9 s\n",
      "Wall time: 49.6 s  \n",
      "CPU times: user 6.47 s, sys: 40 ms, total: 6.51 s\n",
      "Wall time: 6.44 s\n",
      "\n",
      "CPU times: user 51.2 s, sys: 232 ms, total: 51.4 s\n",
      "Wall time: 51.1 s  \n",
      "CPU times: user 6.67 s, sys: 24 ms, total: 6.7 s\n",
      "Wall time: 6.65 s\n",
      "\n",
      "\n"
     ]
    },
    {
     "cell_type": "code",
     "collapsed": false,
     "input": [
      "numdati = [50, 100, 500, 1000, 2000]\n",
      "tempieuclid = [0.0042575, 0.0192, 0.402, 1.62, 6.545]\n",
      "tempigeo = [0.032, 0.128, 3.25, 12.5, 50.35]\n",
      "\n",
      "\n",
      "geo = pyplot.scatter(x=numdati, y=tempigeo, label=\"Geodesic Dist\", c='red')\n",
      "euclid = pyplot.scatter(x=numdati, y=tempieuclid, label=\"Euclid Dist\", c='green')\n",
      "pyplot.title('Benchmark')\n",
      "pyplot.xlabel(\"Numero dati\")\n",
      "pyplot.ylabel(\"Tempo di calcolo\")\n",
      "pyplot.legend(loc = 2)\n",
      "#roma.plot(kind=\"scatter\", x=\"lon\", y=\"lat\", label=\"Roma PRELIMINARE\")"
     ],
     "language": "python",
     "metadata": {},
     "outputs": [
      {
       "metadata": {},
       "output_type": "pyout",
       "prompt_number": 23,
       "text": [
        "<matplotlib.legend.Legend at 0x7f3d1ee3f7d0>"
       ]
      },
      {
       "metadata": {},
       "output_type": "display_data",
       "png": "[encoded data removed]",
       "text": [
        "<matplotlib.figure.Figure at 0x7f3d1efc9750>"
       ]
      }
     ],
     "prompt_number": 23
    },
    {
     "cell_type": "markdown",
     "metadata": {},
     "source": [
      "###Geo dist\n",
      "Tempo previsto di calcolo con $\\sim$ 7000 dati: $\\sim$ 620 sec $\\sim$ 10 minuti\n",
      "\n",
      "###Euclid dist\n",
      "Tempo previsto di calcolo con $\\sim$ 7000 dati: $\\sim$ 80 sec $\\sim$ 1,3 minuti"
     ]
    },
    {
     "cell_type": "code",
     "collapsed": false,
     "input": [],
     "language": "python",
     "metadata": {},
     "outputs": []
    }
   ],
   "metadata": {}
  }
 ]
}