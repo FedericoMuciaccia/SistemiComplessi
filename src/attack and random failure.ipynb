{
 "cells": [
  {
   "cell_type": "markdown",
   "metadata": {},
   "source": [
    "## Random Failure (parallelization)"
   ]
  },
  {
   "cell_type": "code",
   "execution_count": 41,
   "metadata": {
    "collapsed": true
   },
   "outputs": [],
   "source": [
    "\n",
    "import numpy, networkx, pandas, matplotlib, seaborn\n",
    "\n",
    "from matplotlib import pyplot\n",
    "\n",
    "%matplotlib inline\n"
   ]
  },
  {
   "cell_type": "code",
   "execution_count": 139,
   "metadata": {
    "collapsed": true
   },
   "outputs": [],
   "source": [
    "\n",
    "import multiprocessing\n",
    "\n",
    "cpus = multiprocessing.cpu_count()\n",
    "\n",
    "pool = multiprocessing.Pool(processes=cpus)\n",
    "\n",
    "# pool.map(...)\n",
    "\n",
    "import functools\n"
   ]
  },
  {
   "cell_type": "code",
   "execution_count": 140,
   "metadata": {
    "collapsed": false
   },
   "outputs": [
    {
     "ename": "NameError",
     "evalue": "global name 'functool' is not defined",
     "output_type": "error",
     "traceback": [
      "\u001b[1;31m---------------------------------------------------------------------------\u001b[0m",
      "\u001b[1;31mNameError\u001b[0m                                 Traceback (most recent call last)",
      "\u001b[1;32m<ipython-input-140-b46f4d5a9023>\u001b[0m in \u001b[0;36m<module>\u001b[1;34m()\u001b[0m\n\u001b[0;32m     85\u001b[0m \u001b[1;33m\u001b[0m\u001b[0m\n\u001b[0;32m     86\u001b[0m \u001b[1;32mfor\u001b[0m \u001b[0mprovider\u001b[0m \u001b[1;32min\u001b[0m \u001b[0mgestore\u001b[0m\u001b[1;33m:\u001b[0m\u001b[1;33m\u001b[0m\u001b[0m\n\u001b[1;32m---> 87\u001b[1;33m     \u001b[0mget_ipython\u001b[0m\u001b[1;33m(\u001b[0m\u001b[1;33m)\u001b[0m\u001b[1;33m.\u001b[0m\u001b[0mmagic\u001b[0m\u001b[1;33m(\u001b[0m\u001b[1;34mu'time relativeGiantClusterSize, diameter = randomFailure(provider)'\u001b[0m\u001b[1;33m)\u001b[0m\u001b[1;33m\u001b[0m\u001b[0m\n\u001b[0m\u001b[0;32m     88\u001b[0m     \u001b[1;32mprint\u001b[0m \u001b[1;34m\"attacco\"\u001b[0m\u001b[1;33m\u001b[0m\u001b[0m\n\u001b[0;32m     89\u001b[0m \u001b[1;33m\u001b[0m\u001b[0m\n",
      "\u001b[1;32m/home/federico/.local/lib/python2.7/site-packages/IPython/core/interactiveshell.pyc\u001b[0m in \u001b[0;36mmagic\u001b[1;34m(self, arg_s)\u001b[0m\n\u001b[0;32m   2161\u001b[0m         \u001b[0mmagic_name\u001b[0m\u001b[1;33m,\u001b[0m \u001b[0m_\u001b[0m\u001b[1;33m,\u001b[0m \u001b[0mmagic_arg_s\u001b[0m \u001b[1;33m=\u001b[0m \u001b[0marg_s\u001b[0m\u001b[1;33m.\u001b[0m\u001b[0mpartition\u001b[0m\u001b[1;33m(\u001b[0m\u001b[1;34m' '\u001b[0m\u001b[1;33m)\u001b[0m\u001b[1;33m\u001b[0m\u001b[0m\n\u001b[0;32m   2162\u001b[0m         \u001b[0mmagic_name\u001b[0m \u001b[1;33m=\u001b[0m \u001b[0mmagic_name\u001b[0m\u001b[1;33m.\u001b[0m\u001b[0mlstrip\u001b[0m\u001b[1;33m(\u001b[0m\u001b[0mprefilter\u001b[0m\u001b[1;33m.\u001b[0m\u001b[0mESC_MAGIC\u001b[0m\u001b[1;33m)\u001b[0m\u001b[1;33m\u001b[0m\u001b[0m\n\u001b[1;32m-> 2163\u001b[1;33m         \u001b[1;32mreturn\u001b[0m \u001b[0mself\u001b[0m\u001b[1;33m.\u001b[0m\u001b[0mrun_line_magic\u001b[0m\u001b[1;33m(\u001b[0m\u001b[0mmagic_name\u001b[0m\u001b[1;33m,\u001b[0m \u001b[0mmagic_arg_s\u001b[0m\u001b[1;33m)\u001b[0m\u001b[1;33m\u001b[0m\u001b[0m\n\u001b[0m\u001b[0;32m   2164\u001b[0m \u001b[1;33m\u001b[0m\u001b[0m\n\u001b[0;32m   2165\u001b[0m     \u001b[1;31m#-------------------------------------------------------------------------\u001b[0m\u001b[1;33m\u001b[0m\u001b[1;33m\u001b[0m\u001b[0m\n",
      "\u001b[1;32m/home/federico/.local/lib/python2.7/site-packages/IPython/core/interactiveshell.pyc\u001b[0m in \u001b[0;36mrun_line_magic\u001b[1;34m(self, magic_name, line)\u001b[0m\n\u001b[0;32m   2082\u001b[0m                 \u001b[0mkwargs\u001b[0m\u001b[1;33m[\u001b[0m\u001b[1;34m'local_ns'\u001b[0m\u001b[1;33m]\u001b[0m \u001b[1;33m=\u001b[0m \u001b[0msys\u001b[0m\u001b[1;33m.\u001b[0m\u001b[0m_getframe\u001b[0m\u001b[1;33m(\u001b[0m\u001b[0mstack_depth\u001b[0m\u001b[1;33m)\u001b[0m\u001b[1;33m.\u001b[0m\u001b[0mf_locals\u001b[0m\u001b[1;33m\u001b[0m\u001b[0m\n\u001b[0;32m   2083\u001b[0m             \u001b[1;32mwith\u001b[0m \u001b[0mself\u001b[0m\u001b[1;33m.\u001b[0m\u001b[0mbuiltin_trap\u001b[0m\u001b[1;33m:\u001b[0m\u001b[1;33m\u001b[0m\u001b[0m\n\u001b[1;32m-> 2084\u001b[1;33m                 \u001b[0mresult\u001b[0m \u001b[1;33m=\u001b[0m \u001b[0mfn\u001b[0m\u001b[1;33m(\u001b[0m\u001b[1;33m*\u001b[0m\u001b[0margs\u001b[0m\u001b[1;33m,\u001b[0m\u001b[1;33m**\u001b[0m\u001b[0mkwargs\u001b[0m\u001b[1;33m)\u001b[0m\u001b[1;33m\u001b[0m\u001b[0m\n\u001b[0m\u001b[0;32m   2085\u001b[0m             \u001b[1;32mreturn\u001b[0m \u001b[0mresult\u001b[0m\u001b[1;33m\u001b[0m\u001b[0m\n\u001b[0;32m   2086\u001b[0m \u001b[1;33m\u001b[0m\u001b[0m\n",
      "\u001b[1;32m<decorator-gen-60>\u001b[0m in \u001b[0;36mtime\u001b[1;34m(self, line, cell, local_ns)\u001b[0m\n",
      "\u001b[1;32m/home/federico/.local/lib/python2.7/site-packages/IPython/core/magic.pyc\u001b[0m in \u001b[0;36m<lambda>\u001b[1;34m(f, *a, **k)\u001b[0m\n\u001b[0;32m    191\u001b[0m     \u001b[1;31m# but it's overkill for just that one bit of state.\u001b[0m\u001b[1;33m\u001b[0m\u001b[1;33m\u001b[0m\u001b[0m\n\u001b[0;32m    192\u001b[0m     \u001b[1;32mdef\u001b[0m \u001b[0mmagic_deco\u001b[0m\u001b[1;33m(\u001b[0m\u001b[0marg\u001b[0m\u001b[1;33m)\u001b[0m\u001b[1;33m:\u001b[0m\u001b[1;33m\u001b[0m\u001b[0m\n\u001b[1;32m--> 193\u001b[1;33m         \u001b[0mcall\u001b[0m \u001b[1;33m=\u001b[0m \u001b[1;32mlambda\u001b[0m \u001b[0mf\u001b[0m\u001b[1;33m,\u001b[0m \u001b[1;33m*\u001b[0m\u001b[0ma\u001b[0m\u001b[1;33m,\u001b[0m \u001b[1;33m**\u001b[0m\u001b[0mk\u001b[0m\u001b[1;33m:\u001b[0m \u001b[0mf\u001b[0m\u001b[1;33m(\u001b[0m\u001b[1;33m*\u001b[0m\u001b[0ma\u001b[0m\u001b[1;33m,\u001b[0m \u001b[1;33m**\u001b[0m\u001b[0mk\u001b[0m\u001b[1;33m)\u001b[0m\u001b[1;33m\u001b[0m\u001b[0m\n\u001b[0m\u001b[0;32m    194\u001b[0m \u001b[1;33m\u001b[0m\u001b[0m\n\u001b[0;32m    195\u001b[0m         \u001b[1;32mif\u001b[0m \u001b[0mcallable\u001b[0m\u001b[1;33m(\u001b[0m\u001b[0marg\u001b[0m\u001b[1;33m)\u001b[0m\u001b[1;33m:\u001b[0m\u001b[1;33m\u001b[0m\u001b[0m\n",
      "\u001b[1;32m/home/federico/.local/lib/python2.7/site-packages/IPython/core/magics/execution.pyc\u001b[0m in \u001b[0;36mtime\u001b[1;34m(self, line, cell, local_ns)\u001b[0m\n\u001b[0;32m   1175\u001b[0m         \u001b[1;32melse\u001b[0m\u001b[1;33m:\u001b[0m\u001b[1;33m\u001b[0m\u001b[0m\n\u001b[0;32m   1176\u001b[0m             \u001b[0mst\u001b[0m \u001b[1;33m=\u001b[0m \u001b[0mclock2\u001b[0m\u001b[1;33m(\u001b[0m\u001b[1;33m)\u001b[0m\u001b[1;33m\u001b[0m\u001b[0m\n\u001b[1;32m-> 1177\u001b[1;33m             \u001b[1;32mexec\u001b[0m\u001b[1;33m(\u001b[0m\u001b[0mcode\u001b[0m\u001b[1;33m,\u001b[0m \u001b[0mglob\u001b[0m\u001b[1;33m,\u001b[0m \u001b[0mlocal_ns\u001b[0m\u001b[1;33m)\u001b[0m\u001b[1;33m\u001b[0m\u001b[0m\n\u001b[0m\u001b[0;32m   1178\u001b[0m             \u001b[0mend\u001b[0m \u001b[1;33m=\u001b[0m \u001b[0mclock2\u001b[0m\u001b[1;33m(\u001b[0m\u001b[1;33m)\u001b[0m\u001b[1;33m\u001b[0m\u001b[0m\n\u001b[0;32m   1179\u001b[0m             \u001b[0mout\u001b[0m \u001b[1;33m=\u001b[0m \u001b[0mNone\u001b[0m\u001b[1;33m\u001b[0m\u001b[0m\n",
      "\u001b[1;32m<timed exec>\u001b[0m in \u001b[0;36m<module>\u001b[1;34m()\u001b[0m\n",
      "\u001b[1;32m<ipython-input-140-b46f4d5a9023>\u001b[0m in \u001b[0;36mrandomFailure\u001b[1;34m(compagnia, steps)\u001b[0m\n\u001b[0;32m     67\u001b[0m \u001b[1;31m#    def computeDiameter(graph):\u001b[0m\u001b[1;33m\u001b[0m\u001b[1;33m\u001b[0m\u001b[0m\n\u001b[0;32m     68\u001b[0m \u001b[1;31m#        return networkx.diameter(graph, e=None)\u001b[0m\u001b[1;33m\u001b[0m\u001b[1;33m\u001b[0m\u001b[0m\n\u001b[1;32m---> 69\u001b[1;33m     \u001b[0mcomputeDiameter\u001b[0m \u001b[1;33m=\u001b[0m \u001b[0mfunctool\u001b[0m\u001b[1;33m.\u001b[0m\u001b[0mpartial\u001b[0m\u001b[1;33m(\u001b[0m\u001b[0mnetworkx\u001b[0m\u001b[1;33m.\u001b[0m\u001b[0mdiameter\u001b[0m\u001b[1;33m,\u001b[0m \u001b[0me\u001b[0m\u001b[1;33m=\u001b[0m\u001b[0mNone\u001b[0m\u001b[1;33m)\u001b[0m\u001b[1;33m\u001b[0m\u001b[0m\n\u001b[0m\u001b[0;32m     70\u001b[0m \u001b[1;33m\u001b[0m\u001b[0m\n\u001b[0;32m     71\u001b[0m     \u001b[1;31m#diameters = map(computeDiameter, giantClusters)\u001b[0m\u001b[1;33m\u001b[0m\u001b[1;33m\u001b[0m\u001b[0m\n",
      "\u001b[1;31mNameError\u001b[0m: global name 'functool' is not defined"
     ]
    }
   ],
   "source": [
    "\n",
    "#Failure\n",
    "\n",
    "gestore = [\"Tim\", \"Vodafone\", \"Wind\", \"Tre\"]\n",
    "#\n",
    "gestore = [\"Tre\"]\n",
    "\n",
    "\n",
    "def randomFailure(compagnia, steps=20):\n",
    "    \n",
    "    \n",
    "    ascisse = numpy.linspace(0,100, num=steps, dtype='int')\n",
    "    \n",
    "    adiacenza = numpy.genfromtxt((\"/home/federico/dati Iuri/AdiacenzaEuclidea_{0}.csv\".format(compagnia)),\\\n",
    "                                 delimiter=',',\\\n",
    "                                 dtype='int')\n",
    "    initialGraph = networkx.Graph(adiacenza)\n",
    "    \n",
    "    initialGraphSize = networkx.number_of_nodes(initialGraph)\n",
    "    \n",
    "    #passo = initialGraphSize/steps\n",
    "    passi = numpy.linspace(0,initialGraphSize, num=steps, dtype='int')\n",
    "    \n",
    "    initialNodes = initialGraph.nodes()\n",
    "    \n",
    "    randomizedNodes = numpy.random.permutation(initialNodes)\n",
    "    \n",
    "    #initialDegrees = initialGraph.degree() #.items()\n",
    "    \n",
    "    #randomDegrees = numpy.random.permutation(initialDegrees)\n",
    "    \n",
    "    def createSmallerGraph(index):\n",
    "        graph = initialGraph.copy()\n",
    "        graph.remove_nodes_from(randomizedNodes[0:index])\n",
    "        return graph\n",
    "    \n",
    "    # vedere se si possono agevolmente parallelizzare le list comprehension, che sono molto più scorrevoli da usare\n",
    "    grafi = map(createSmallerGraph, passi)\n",
    "    \n",
    "    \n",
    "    def computeDegree(graph):\n",
    "        return graph.degree().items()\n",
    "    \n",
    "    gradi = map(computeDegree, grafi)\n",
    "    \n",
    "    \n",
    "    # TODO controllare che il primo grafo abbia relativeSize = 1\n",
    "    \n",
    "    \n",
    "    # TODO fare tutta l'analisi di un singolo sottografo in un'unica funzione\n",
    "    # e poi fare una mappa parallela sulle varie sngole analisi\n",
    "    \n",
    "    \n",
    "    \n",
    "    def takeGiantCluster(graph):\n",
    "        subgraphs = networkx.connected_component_subgraphs(graph)\n",
    "        try:\n",
    "            return subgraphs[0]\n",
    "        except:\n",
    "            return networkx.Graph()\n",
    "    \n",
    "    giantClusters = map(takeGiantCluster, grafi)\n",
    "    \n",
    "    giantClusterSizes = map(networkx.number_of_nodes, giantClusters)\n",
    "    \n",
    "    graphSizes = map(networkx.number_of_nodes, grafi)\n",
    "    \n",
    "    relativeGiantClusterSizes = numpy.true_divide(giantClusterSizes, graphSizes)\n",
    "    \n",
    "#    def computeDiameter(graph):\n",
    "#        return networkx.diameter(graph, e=None)\n",
    "    computeDiameter = functool.partial(networkx.diameter, e=None)\n",
    "    \n",
    "    #diameters = map(computeDiameter, giantClusters)\n",
    "    \n",
    "    diameters = []\n",
    "    \n",
    "    return relativeGiantClusterSizes, diameters\n",
    "\n",
    "\n",
    "\n",
    "\n",
    "\n",
    "\n",
    "\n",
    "\n",
    "\n",
    "\n",
    "for provider in gestore:\n",
    "    %time relativeGiantClusterSize, diameter = randomFailure(provider)\n",
    "    print \"attacco\"\n",
    "    \n",
    "    \n",
    "pass\n",
    "\n",
    "\n",
    "\n",
    "\n",
    "\n",
    "\n",
    "\n",
    "\n",
    "\n",
    "datiFinal = pandas.DataFrame()\n",
    "\n",
    "datiFinal['percent'] = ascisse\n",
    "# datiFinal['Compagnia'] = gestore # TODO\n",
    "# datiFinal['diam'] = diameter\n",
    "datiFinal['GC'] = relativeGiantClusterSize\n",
    "\n",
    "datiFinal.head()\n",
    "\n",
    "seaborn.set_context(\"notebook\", font_scale=1.1)\n",
    "seaborn.set_style(\"ticks\")\n",
    "\n",
    "\n",
    "#seaborn.lmplot('percent', 'diam',\n",
    "#           data=datiFinal,\n",
    "#           fit_reg=False,\n",
    "#           size = 7,\n",
    "#           aspect = 1.7778,\n",
    "#           # hue='Compagnia', # TODO\n",
    "#           scatter_kws={\"marker\": \"D\", \"s\": 100})\n",
    "#pyplot.title('Random failure: diametro')\n",
    "#pyplot.xlabel(\"%\")\n",
    "#pyplot.ylabel(\"Valore\")\n",
    "#pyplot.xlim(0, 100)\n",
    "#pyplot.ylim(0,max(diametro)+2)\n",
    "\n",
    "seaborn.lmplot('percent', 'GC',\n",
    "           data=datiFinal,\n",
    "           fit_reg=False,\n",
    "           size = 7,\n",
    "           aspect = 1.7778,\n",
    "           # hue='Compagnia', # TODO\n",
    "           scatter_kws={\"marker\": \"D\", \"s\": 100})\n",
    "pyplot.title('Random failure: dimensioni relative del GC')\n",
    "pyplot.xlabel(\"%\")\n",
    "pyplot.ylabel(\"Valore\")\n",
    "pyplot.xlim(0, 100)\n",
    "pyplot.ylim(0,1.1)\n",
    "\n"
   ]
  },
  {
   "cell_type": "code",
   "execution_count": null,
   "metadata": {
    "collapsed": true
   },
   "outputs": [],
   "source": []
  },
  {
   "cell_type": "code",
   "execution_count": 122,
   "metadata": {
    "collapsed": false
   },
   "outputs": [],
   "source": [
    "adiacenza = numpy.genfromtxt(\"/home/federico/dati Iuri/AdiacenzaEuclidea_Tre.csv\",\\\n",
    "                                 delimiter=',',\\\n",
    "                                 dtype='int')\n",
    "initialGraph = networkx.Graph(adiacenza)"
   ]
  },
  {
   "cell_type": "code",
   "execution_count": 123,
   "metadata": {
    "collapsed": false
   },
   "outputs": [
    {
     "name": "stdout",
     "output_type": "stream",
     "text": [
      "1315\n",
      "1314\n"
     ]
    }
   ],
   "source": [
    "c = initialGraph.nodes()\n",
    "print len(c)\n",
    "c.pop()\n",
    "print len(c)"
   ]
  },
  {
   "cell_type": "code",
   "execution_count": 124,
   "metadata": {
    "collapsed": false
   },
   "outputs": [],
   "source": [
    "initialGraph.remove_nodes_from(c)"
   ]
  },
  {
   "cell_type": "code",
   "execution_count": 129,
   "metadata": {
    "collapsed": false
   },
   "outputs": [
    {
     "data": {
      "text/plain": [
       "[1314]"
      ]
     },
     "execution_count": 129,
     "metadata": {},
     "output_type": "execute_result"
    }
   ],
   "source": [
    "networkx.connected_component_subgraphs(initialGraph)[0].nodes()"
   ]
  },
  {
   "cell_type": "code",
   "execution_count": 130,
   "metadata": {
    "collapsed": true
   },
   "outputs": [],
   "source": [
    "initialGraph.remove_node(1314)"
   ]
  },
  {
   "cell_type": "code",
   "execution_count": 131,
   "metadata": {
    "collapsed": false
   },
   "outputs": [
    {
     "data": {
      "text/plain": [
       "<networkx.classes.graph.Graph at 0x7fa1af19cf90>"
      ]
     },
     "execution_count": 131,
     "metadata": {},
     "output_type": "execute_result"
    }
   ],
   "source": [
    "initialGraph"
   ]
  },
  {
   "cell_type": "code",
   "execution_count": 132,
   "metadata": {
    "collapsed": false
   },
   "outputs": [
    {
     "data": {
      "text/plain": [
       "[]"
      ]
     },
     "execution_count": 132,
     "metadata": {},
     "output_type": "execute_result"
    }
   ],
   "source": [
    "initialGraph.nodes()"
   ]
  },
  {
   "cell_type": "code",
   "execution_count": 135,
   "metadata": {
    "collapsed": false
   },
   "outputs": [
    {
     "ename": "SyntaxError",
     "evalue": "unexpected EOF while parsing (<ipython-input-135-5ba8074bfa9b>, line 1)",
     "output_type": "error",
     "traceback": [
      "\u001b[1;36m  File \u001b[1;32m\"<ipython-input-135-5ba8074bfa9b>\"\u001b[1;36m, line \u001b[1;32m1\u001b[0m\n\u001b[1;33m    try: networkx.connected_component_subgraphs(initialGraph)[0].nodes()\u001b[0m\n\u001b[1;37m                                                                        ^\u001b[0m\n\u001b[1;31mSyntaxError\u001b[0m\u001b[1;31m:\u001b[0m unexpected EOF while parsing\n"
     ]
    }
   ],
   "source": [
    "try: networkx.connected_component_subgraphs(initialGraph)[0].nodes()"
   ]
  },
  {
   "cell_type": "code",
   "execution_count": 137,
   "metadata": {
    "collapsed": false
   },
   "outputs": [
    {
     "data": {
      "text/plain": [
       "0"
      ]
     },
     "execution_count": 137,
     "metadata": {},
     "output_type": "execute_result"
    }
   ],
   "source": [
    "networkx.number_of_nodes(initialGraph)"
   ]
  },
  {
   "cell_type": "code",
   "execution_count": null,
   "metadata": {
    "collapsed": true
   },
   "outputs": [],
   "source": []
  }
 ],
 "metadata": {
  "kernelspec": {
   "display_name": "Python 2",
   "language": "python",
   "name": "python2"
  },
  "language_info": {
   "codemirror_mode": {
    "name": "ipython",
    "version": 2
   },
   "file_extension": ".py",
   "mimetype": "text/x-python",
   "name": "python",
   "nbconvert_exporter": "python",
   "pygments_lexer": "ipython2",
   "version": "2.7.10"
  }
 },
 "nbformat": 4,
 "nbformat_minor": 0
}
