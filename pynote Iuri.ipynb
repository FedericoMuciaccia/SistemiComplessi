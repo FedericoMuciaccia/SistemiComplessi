{
 "metadata": {
  "name": "",
  "signature": "sha256:3fb2fd6da86d36f76f43024da25ce139cbb046791990dd7440f058b08d25afb3"
 },
 "nbformat": 3,
 "nbformat_minor": 0,
 "worksheets": [
  {
   "cells": [
    {
     "cell_type": "code",
     "collapsed": false,
     "input": [
      "%matplotlib inline\n",
      "print(\"ciao mondo\")\n",
      "\n",
      "import matplotlib.pyplot as plt\n",
      "import pylab\n",
      "import numpy as np\n",
      "\n",
      "x = np.linspace(0,20, 1000)  # 100 evenly-spaced values from 0 to 50\n",
      "y = np.sin(x)\n",
      "\n",
      "plt.plot(y)\n",
      "plt.ylabel('some numbers')\n",
      "plt.show()"
     ],
     "language": "python",
     "metadata": {},
     "outputs": [
      {
       "output_type": "stream",
       "stream": "stdout",
       "text": [
        "ciao mondo\n"
       ]
      },
      {
       "metadata": {},
       "output_type": "display_data",
       "png": "[encoded data removed]",
       "text": [
        "<matplotlib.figure.Figure at 0x7f62c2c11250>"
       ]
      }
     ],
     "prompt_number": 21
    },
    {
     "cell_type": "markdown",
     "metadata": {},
     "source": [
      "# analisi network antenne\n",
      "bla bla bla\n",
      "\n",
      "punti da fare:\n",
      "* uno\n",
      "* due\n",
      "**bold**\n",
      "*italic*\n",
      "\n",
      "<img src=\"https://www.google.it/images/branding/googlelogo/2x/googlelogo_color_272x92dp.png\">"
     ]
    },
    {
     "cell_type": "code",
     "collapsed": false,
     "input": [
      "\n",
      "import math\n",
      "import pandas\n",
      "\n",
      "xcentro = 41.891969\n",
      "ycentro = 12.495644\n",
      "longitudini = [41.914456, 41.990672, 41.793883, 41.812566, 41.956277]\n",
      "latitudini = [12.615807, 12.502714, 12.511297, 12.396628, 12.384611]\n",
      "distanza = []\n",
      "\n",
      "dataframe = pandas.DataFrame({\"lat\":latitudini,\"lon\":longitudini})\n",
      "\n",
      "dataframe"
     ],
     "language": "python",
     "metadata": {},
     "outputs": [
      {
       "html": [
        "<div style=\"max-height:1000px;max-width:1500px;overflow:auto;\">\n",
        "<table border=\"1\" class=\"dataframe\">\n",
        "  <thead>\n",
        "    <tr style=\"text-align: right;\">\n",
        "      <th></th>\n",
        "      <th>lat</th>\n",
        "      <th>lon</th>\n",
        "    </tr>\n",
        "  </thead>\n",
        "  <tbody>\n",
        "    <tr>\n",
        "      <th>0</th>\n",
        "      <td> 12.615807</td>\n",
        "      <td> 41.914456</td>\n",
        "    </tr>\n",
        "    <tr>\n",
        "      <th>1</th>\n",
        "      <td> 12.502714</td>\n",
        "      <td> 41.990672</td>\n",
        "    </tr>\n",
        "    <tr>\n",
        "      <th>2</th>\n",
        "      <td> 12.511297</td>\n",
        "      <td> 41.793883</td>\n",
        "    </tr>\n",
        "    <tr>\n",
        "      <th>3</th>\n",
        "      <td> 12.396628</td>\n",
        "      <td> 41.812566</td>\n",
        "    </tr>\n",
        "    <tr>\n",
        "      <th>4</th>\n",
        "      <td> 12.384611</td>\n",
        "      <td> 41.956277</td>\n",
        "    </tr>\n",
        "  </tbody>\n",
        "</table>\n",
        "</div>"
       ],
       "metadata": {},
       "output_type": "pyout",
       "prompt_number": 56,
       "text": [
        "         lat        lon\n",
        "0  12.615807  41.914456\n",
        "1  12.502714  41.990672\n",
        "2  12.511297  41.793883\n",
        "3  12.396628  41.812566\n",
        "4  12.384611  41.956277"
       ]
      }
     ],
     "prompt_number": 56
    },
    {
     "cell_type": "code",
     "collapsed": false,
     "input": [
      "dataframe[\"lat\"]"
     ],
     "language": "python",
     "metadata": {},
     "outputs": [
      {
       "metadata": {},
       "output_type": "pyout",
       "prompt_number": 57,
       "text": [
        "0    12.615807\n",
        "1    12.502714\n",
        "2    12.511297\n",
        "3    12.396628\n",
        "4    12.384611\n",
        "Name: lat, dtype: float64"
       ]
      }
     ],
     "prompt_number": 57
    },
    {
     "cell_type": "code",
     "collapsed": false,
     "input": [
      "import math\n",
      "import itertools\n",
      "\n",
      "xcentro = 41.891969\n",
      "ycentro = 12.495644\n",
      "longitudini = [41.914456, 41.990672, 41.793883, 41.812566, 41.956277]\n",
      "latitudini = [12.615807, 12.502714, 12.511297, 12.396628, 12.384611]\n",
      "distanza = []\n",
      "\n",
      "for (x,y) in zip(longitudini,latitudini):\n",
      "    raggio = math.sqrt((xcentro-x)**2+(ycentro-y)**2)\n",
      "    distanza.append(raggio)\n",
      "\n",
      "media = 0\n",
      "for i in distanza:\n",
      "\tmedia += i\n",
      "media /= len(distanza)\n",
      "\n",
      "print media"
     ],
     "language": "python",
     "metadata": {},
     "outputs": [
      {
       "output_type": "stream",
       "stream": "stdout",
       "text": [
        "0.115152953461\n"
       ]
      }
     ],
     "prompt_number": 65
    },
    {
     "cell_type": "markdown",
     "metadata": {},
     "source": [
      "if distanza_coordcellid < raggiomedio OK  \n",
      "else BUTTALO"
     ]
    },
    {
     "cell_type": "code",
     "collapsed": false,
     "input": [],
     "language": "python",
     "metadata": {},
     "outputs": []
    }
   ],
   "metadata": {}
  }
 ]
}