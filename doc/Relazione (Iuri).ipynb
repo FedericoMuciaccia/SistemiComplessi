{
 "metadata": {
  "name": "",
  "signature": "sha256:d7c761b279a2258fbbbfd9959f2146c2313f35c1ba0c2934abf511ecd09ec0a3"
 },
 "nbformat": 3,
 "nbformat_minor": 0,
 "worksheets": [
  {
   "cells": [
    {
     "cell_type": "markdown",
     "metadata": {},
     "source": [
      "#Relazione\n",
      "\n",
      "###Sommario\n",
      "\n",
      "##Barabasi-Albert\n",
      "###Teoria\n",
      "###Percolazione\n",
      "####Soglia percolativa\n",
      "\n",
      "##Dati\n",
      "###Perch\u00e9?\n",
      "###Come?\n",
      "###Database->Distanza (criterio linking) -> Adiacenza\n",
      "####Problemi memoria: filtraggio dati\n",
      "####Problemi potenza di calcolo\n",
      "###Networkx -> Grafo -> Distr grado\n",
      "\n",
      "##Analisi percolativa\n",
      "###Random Breakdown\n",
      "####Rete completa, compagnie\n",
      "####Modelli\n",
      "###Intentional attack\n",
      "####Rete completa, compagnie\n",
      "####Modelli"
     ]
    },
    {
     "cell_type": "code",
     "collapsed": false,
     "input": [],
     "language": "python",
     "metadata": {},
     "outputs": []
    }
   ],
   "metadata": {}
  }
 ]
}