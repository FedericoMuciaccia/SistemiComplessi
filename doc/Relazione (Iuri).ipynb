{
 "metadata": {
  "name": "",
  "signature": "sha256:633e87ddef72bd8085763112bb2a2aa187fe0798ecdc3799672d18cba3896321"
 },
 "nbformat": 3,
 "nbformat_minor": 0,
 "worksheets": [
  {
   "cells": [
    {
     "cell_type": "markdown",
     "metadata": {},
     "source": [
      "#Relazione Sistemi Complessi"
     ]
    },
    {
     "cell_type": "markdown",
     "metadata": {},
     "source": [
      "<center>**Sommario**</center>\n",
      "Lo scopo di questo lavoro \u00e8 fare un'analisi di rete usando un campione di antenne telefoniche cellulari, ipotizzando di voler costruire una ipotetica *mesh network* con esse. Abbiamo scelto di analizzare il sistema delle antenne comprese entro il Raccordo Anulare di Roma. Non sapendo a priori di quale tipo di rete si tratta, e che tipo di grafo si costruisce da essa, sono state studiate alcune propriet\u00e0 topologiche e comportamentali dell'insieme di antenne studiate.\n",
      "Dopo aver definito il criterio con cui dare un link a due nodi, sono state calcolate le matrici di adiacenza della rete complessiva e di quelle composte solo dalle antenne dei singoli gestori presenti in Italia. La prima parte dell'analisi consiste nell'estrapolare dai grafi ottenuti le distribuzioni dei gradi e nell'affidare all'istogramma dei gradi la forma funzionale che meglio gli si adatti. Avendo cos\u00ec ottenuto indicazioni significative sui tipi di rete in analisi, le abbiamo verficate studiando il comportamento percolativo della rete, mediante rimozione di nodi in due diversi scenari: un attacco intenzionale, che rimuovesse le antenne a partire da quelle con maggior grado, e una caduta random del sistema. I risultati ottenuti sono stati confrontati con modelli di rete esponenziali e scale-free.\n",
      "L'esposizione \u00e8 articolata nel seguente modo:  \n",
      "\n",
      "**Nel paragrafo 1** verranno esposte le basi teoriche dello studio effettuato, con particolare accento ai modelli di rete utilizzati come riferimento e ai concetti di percolazione e soglia percolativa.  \n",
      "\n",
      "**Nel paragrafo 2** si spiega come sono stati raccolti e organizzati i dati, come \u00e8 stata definita la rete e quindi con quali criteri \u00e8 stata definita la matrice di adiacenza. Successivamente, accennando ai problemi computazionali avuti nel gestire la rete complessiva da circa 7000 nodi, verranno calcolate le matrici di adiacenza e le distribuzioni del grado.  \n",
      "\n",
      "**Nel paragrafo 3** viene effettuato lo studio percolativo mediante i due scenari di rimozione di nodi,  analizzando l'andamento del diametro e delle dimensioni del cluster pi\u00f9 grande con la progressiva caduta delle antenne. I risultati sono stati confrontati con quelli ottenuti dai modelli, i quali hanno rivelato delle ambiguit\u00e0. Nel caso di attacco random \u00e8 stato testato infine un ipotetico effetto cascata causato dall'overload delle antenne rimaste (previa rimozione dei grossi hub che servono proprio a scongiurare tale evenienza).\n"
     ]
    },
    {
     "cell_type": "markdown",
     "metadata": {},
     "source": [
      "##1   Reti *scale-free*\n",
      "Le reti sono insiemi di oggetti per i quali \u00e8 possibile una connessione. Gli ultimi 60 anni hanno visto un crescente interesse per esse, perch\u00e9 con le reti \u00e8 possibile descrivere sistemi dei pi\u00f9 disparati tipi nei campi pi\u00f9 vari, dalla biologia all'economia, passando per reti elettriche, informatiche, ecosistemi,  e altro ancora. Ancora pi\u00f9 importante, negli ultimi vent'anni \u00e8 stato scoperto che una classe di reti ha propriet\u00e0 del tutto comuni nonostante l'intrinseca diversit\u00e0 tra sistemi; la modellizzazione di queste reti, come crescita con caratteristiche preferenziali, \u00e8 dovuta a Barabasi e Albert (1999), e vengono dette *scale free*.\n",
      "\n",
      "###1.1  Teoria\n",
      "Propriet\u00e0 reti, distanze, diametro, clustering, betweenness (correlazione tra between e grado in reti non dirette) scale-freeness di alcune, etc boh?\n",
      "\n",
      "####1.1.1 Modelli di rete esponenziale\n",
      "Reticolo -> randomizzazione\n",
      "\n",
      "#####Random network\n",
      "Descrizione modello\n",
      "Mettere un grafo e un grafico del grado esemplificativo\n",
      "\n",
      "#####Small World\n",
      "Effetto small world\n",
      "Descrizione modello\n",
      "Mettere un grafo e un grafico esemplificativo\n",
      "\n",
      "####1.1.2 Reti scale-free\n",
      "\n",
      "#####Preferential attachment\n",
      "Descrizione modello\n",
      "Mettere un grafo e un grafico esemplificativo\n",
      "\n",
      "##### Random scale-free?\n",
      "\n",
      "###1.2  Percolazione\n",
      "\n",
      "####1.2.1  Soglia percolativa\n"
     ]
    },
    {
     "cell_type": "markdown",
     "metadata": {},
     "source": [
      "##2   Raccolta dei dati e costruzione delle reti\n",
      "Intro al capitolo in cui si dice da dove \u00e8 nata l'idea di prendere le antenne da mozilla, l'ipotesi di mesh network, per che cosa sono stati utilizzati quei dati \n",
      "\n",
      "###2.1 raccolta e gestione dati\n",
      "Approfondire e spiegare il pi\u00f9 possibile come abbiamo preso i dati, cosa avevamo di ogni antenna, come abbiamo trattato e gestito il database (pandas), dimensione totale del database, scelta di dati aggregati delle rivelazioni per antenna, come lo abbiamo sfoltito (levando colonne inutili e scartando tutti i dati con countrycode diverso da quello ITA), etc etc in sintesi, far venire al prof questa faccia \\$_\\$  \n",
      "nb. Qui o nel sottoparagrafo successivo  mostrare possibile problema con i dati dei range (far vedere istogramma dei range), provare a spiegare perch\u00e9  (non sono dati ufficiali ma raccolti dalla gente, gps staccato, etc)\n",
      "####2.1.1  Problemi memoria: filtraggio dati\n",
      "Eventuale sottoparagrafo in cui si parla solo dei problemi di memoria e di come abbiamo selezionato la roba dal db totale, se necessario.\n",
      "\n",
      "###2.2 Adiacenza e grado\n",
      "Dire criterio di linking, definizione distanza, problemi computazionali con funzione distanza geodesica per rete grossa, ripiegare su distanza euclidea, calcolo matrici di adiacenza\n",
      "\n",
      "####2.2.1  Problemi potenza di calcolo\n",
      "Eventuale sottoparagrafo in cui si parla solo dei problemi di potenza di calcolo e di come abbiamo abbandonato funzioni pi\u00f9 complesse, se necessario\n",
      "\n",
      "####2.3 Gradi e fitgradi\n",
      "Networkx -> Grafo -> Distr grado. Cio\u00e8 spiegare che strumenti abbiamo usato per avere il grafo (networkx), far vedere gli istogrammi pi\u00f9 belli possibile delle distr grado, poi far vedere i fit su ogni rete, valutare se separatamente o no\n",
      "Conclusioni su quale possa essere il tipo di rete in analisi (esponenziale, powerlaw nella coda destra ma esponente troppo alto, no scalefreeness, tuttavia grado medio alto quindi robusto)\n",
      "Valutare se dare un primo valore del diametro, e di qualche altra grandezza topologica importante."
     ]
    },
    {
     "cell_type": "markdown",
     "metadata": {},
     "source": [
      "# 3 Network breakdown\n",
      "######(formerly \"Analisi percolativa\" ma questo \u00e8 un titolo noioso, meglio una roba pi\u00f9 deep impact ogliea) \n",
      "Una volta osservate le distribuzioni del grado nelle reti delle quattro compagnie e nella rete complessiva formata da tutte le antenne comprese nell'area metropolitana di Roma, procediamo con lo studio percolativo. In riferimento al lavoro fatto da Albert, Jeong e Barabasi nel 1999, la scelta \u00e8 stata di simulare due differenti scenari in cui i nodi della rete vengono disabilitati. Nel primo scenario si \u00e8 ipotizzato un attacco intenzionale che cominciasse dai nodi con maggior grado, nel secondo una rimozione random. \n",
      "Lo scopo \u00e8 studiare l'andamento, in funzione della percentuale di nodi rimossi, del diametro $D$ della rete e della dimensione del cluster pi\u00f9 grande (*Giant Cluster*) rapportata al numero totale di nodi sopravvissuti. A seconda di come la rete si comporter\u00e0, sar\u00e0 possibile dedurne la robustezza nei due scenari, in modo tale da poter confrontare meglio tale comportamento con quello di una rete scale-free, o di una di tipo random.\n",
      "Per poter fare questo confronto sono state generate, usando le funzioni di *networkx*, delle reti con i modelli di rete scale free (*preferential attachment*, Barabasi, Albert 1999) e di rete esponenziale (*random network*, Erd\u0151s, Renyi 1959 e *small world*, Watts, Strogatz, 1998) e su tutti e tre i modelli abbiamo simulato i due scenari di caduta progressiva della rete. In tutti e cinque i campioni di rete che abbiamo analizzato \u00e8 stato conteggiata la variazione di $D$ e $GC$ e i grafici ottenuti sono stati messi a confronto a quelli ottenuti con le reti generate secondo i modelli.  \n",
      "**DA DECIDERE SE TAGLIARE O SINTETIZZARE** La rete reale ha ovviamente delle contromisure per evitare la caduta delle comunicazioni. Le antenne trasmettono segnali tra loro su due bande di frequenza: una *user-side*, dedicata alle normali trasmissioni tra utenti del servizio, e una dedicata a un complesso sistema di feedback gestito da degli hub (grosse antenne con raggio sui 20 km). Questa struttura gerarchica permette, nel caso di caduta di una antenna o di un improvviso eccessivo carico in una zona circoscritta, che gli hub gestiscano potenza e capacit\u00e0 delle antenne circostanti mentre vengono inviati tecnici per un intervento sul luogo. \n",
      "Questo sistema ha ovviamente un certo tempo di reazione. L'analisi da noi svolta pertanto suppone che la caduta della rete avvenga in un tempo inferiore, in una sorta di approssimazione adiabatica. Inoltre, la sola caduta degli hub sarebbe gi\u00e0 sufficiente a compromettere seriamente l'integrit\u00e0 della rete (le antenne avrebbero difficolt\u00e0 a coordinare le comunicazioni tra loro), ma nella nostra ipotesi di mesh-network distribuita ci interessano soltanto le comunicazioni nelle frequenze user-side. Usando questo modello semplificato siamo riusciti a ottenere alcune informazioni su una ipotetica rete wireless di questa natura.\n",
      "\n",
      "\n",
      "## 3.1 Attacco intenzionale\n",
      "Nello scenario di attacco intenzionale ci si aspetta una veloce frammentazione della rete. I cluster diverranno rapidamente pi\u00f9 piccoli fino a frammentarsi del tutto entro pochi punti percentuali di nodi rimossi. Nel caso di una rete fortemente connessa come quella in esame ci si aspetta una resistenza maggiore, ma comunque una soglia percolativa bassa (entro il 50%). Se la rete \u00e8 di tipo scale-free dovrebbe essere pi\u00f9 fragile ad attacchi di questo tipo: mentre in una rete random i nodi pi\u00f9 connessi sono solo una coda della distribuzione del grado, una rete a power-law ha in proporzione molti pi\u00f9 nodi molto connessi.\n",
      "Dal punto di vista del diametro della rete, levando i nodi pi\u00f9 connessi ci si aspetta che esso aumenti, fino a quando la rete diventa tanto frammentata da essere costituita da clusters con pochissimi nodi. Oltrepassata la soglia di frammentazione quindi il diametro dei clusters pi\u00f9 grandi decrescer\u00e0 rapidamente a zero.\n",
      "\n",
      "### 3.1.1 Risultati\n",
      "**inserisci grafici con caption**\n",
      "\n",
      "### 3.1.2 Confronto con i modelli\n",
      "**inserisci grafici con caption**  \n",
      "NB fare calcolo con rete scale free e random con gradi medi attorno a valori delle nostre reti\n",
      "Vedede eventuali discrepanze con quanto atteso\n",
      "\n",
      "\n",
      "## 3.2 Caduta random\n",
      "\n",
      "### 3.2.1 Risultati\n",
      "**inserisci grafici con caption**  \n",
      "\n",
      "### 3.2.2 Confronto con i modelli\n",
      "**inserisci grafici con caption**  \n",
      "**mettere anche grafico della distr del grado dei modelli quando si fa il discorso del modello che non va**  \n",
      "Qui va fatto un lungo discorso dato che non appatta nulla. Far vedere che con modello scale free di bar e alb con pendenza 3 in realt\u00e0 non hai alcuna scalefreeness dato che cade tutto in praticamente una sola decade. Far vedere che comportamento \u00e8 UGUALE ai modelli esponenziali, e che dipende SOLO dal grado medio, e che quindi l'articolo del 2000 \u00e8 truffaldino. Testare reti modello pi\u00f9 grandi, fino a 10000 per non far fondere il pc e solo andamento gc\n",
      "Vedere che succede con preferential attachment generalizzato con esponenti 1,5/2/2,5 a vari valori di gradomedio.\n",
      "\n",
      "## 3.2.3 Effetto cascata\n"
     ]
    },
    {
     "cell_type": "markdown",
     "metadata": {},
     "source": [
      "##Bibliografia\n",
      "\n",
      "1. [A. L. Barabasi and R. Albert, *Emergence of scaling in random networks*, (1999).](http://arxiv.org/pdf/cond-mat/9910332)  \n",
      "2. [R. Albert and A. L. Barabasi, *Statistical mechanic of complex networks*, (2001).](http://arxiv.org/pdf/cond-mat/0106096) \n",
      "3. [R. Cohen, K. Erez, D. ben-Avraham and S. Havlin, *Resilience of the internet to random breakdown*, (2000).](http://arxiv.org/pdf/cond-mat/0007048)\n",
      "4. [R. Cohen, K. Erez, D. ben-Avraham and S. Havlin, *Breakdown of the internet under intentional attack*, (2001).](http://arxiv.org/pdf/cond-mat/0010251)\n",
      "5. [R. Albert, H. Jeong and A. L. Barabasi, *Error and attack tolerance of complex networks*, (2000).](http://www.nature.com/nature/journal/v406/n6794/pdf/406378a0.pdf)\n",
      "6. [P. Erd\u0151s and A. R\u00e9nyi, *On random graph I.*, (1959).](http://www.renyi.hu/~p_erdos/1959-11.pdf)\n",
      "7. [J. Watts and H. Strogatz, *Collective dynamics of 'small-world' networks*, (1998).](http://www.nature.com/nature/journal/v393/n6684/pdf/393440a0.pdf)\n",
      "8. [A. E. Motter and Y. C. Lai, Cascade-based attacks on complex networks, (2003).](http://arxiv.org/pdf/cond-mat/0301086)\n"
     ]
    },
    {
     "cell_type": "markdown",
     "metadata": {},
     "source": [
      "##Bibliografia   \n",
      "\n",
      "1. [A. L. Barabasi and R. Albert, *Emergence of scaling in random networks*, (1999).](http://arxiv.org/pdf/cond-mat/9910332) (varie cose teoriche su percolazione, **par1**)  \n",
      "2. [R. Albert and A. L. Barabasi, *Statistical mechanic of complex networks*, (2001).](http://arxiv.org/pdf/cond-mat/0106096) (?? **par1**)  \n",
      "3. [R. Cohen, K. Erez, D. ben-Avraham and S. Havlin, *Resilience of the internet to random breakdown*, (2000).](http://arxiv.org/pdf/cond-mat/0007048) (Dimostrazione teorica su condizione percolativa **par1**, comportamento atteso con random failure **par3**)\n",
      "4. [R. Cohen, K. Erez, D. ben-Avraham and S. Havlin, *Breakdown of the internet under intentional attack*, (2001).](http://arxiv.org/pdf/cond-mat/0010251) (Dimostrazione teorica su condizione percolativa **par1**, comportamento atteso con intentional attack **par3**)\n",
      "5. [R. Albert, H. Jeong and A. L. Barabasi, *Error and attack tolerance of complex networks*](http://www.nature.com/nature/journal/v406/n6794/pdf/406378a0.pdf) (varie definizioni, nomenclatura da prendere con le pinze perch\u00e9 un po' outdated, andamento distribuzione del grado **par2**, andamento di D e GC attesi **par3**)\n",
      "6. [P. Erd\u0151s and A. R\u00e9nyi, *On random graph I.*, (1959)](http://www.renyi.hu/~p_erdos/1959-11.pdf) (fonte primo modello rete esponenziale **par3**)\n",
      "7. [J. Watts and H. Strogatz, *Collective dynamics of 'small-world' networks*, (1998)](http://www.nature.com/nature/journal/v393/n6684/pdf/393440a0.pdf) (fonte modello small world di rete esponenziale)\n",
      "8. [A. E. Motter and Y. C. Lai, Cascade-based attacks on complex networks, (2003)](http://arxiv.org/pdf/cond-mat/0301086) (effetto cascata per overload dei nodi sopravvissuti, da leggere **concl**)\n"
     ]
    },
    {
     "cell_type": "code",
     "collapsed": false,
     "input": [],
     "language": "python",
     "metadata": {},
     "outputs": []
    }
   ],
   "metadata": {}
  }
 ]
}