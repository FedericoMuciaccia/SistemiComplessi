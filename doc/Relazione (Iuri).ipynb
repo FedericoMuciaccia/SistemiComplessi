{
 "metadata": {
  "name": "",
  "signature": "sha256:ade2343bbd6a58f97b186a5fbe9744c89d606cf5220cd4a97329cbcb216798fc"
 },
 "nbformat": 3,
 "nbformat_minor": 0,
 "worksheets": [
  {
   "cells": [
    {
     "cell_type": "markdown",
     "metadata": {},
     "source": [
      "#Relazione Sistemi Complessi"
     ]
    },
    {
     "cell_type": "markdown",
     "metadata": {},
     "source": [
      "###Sommario"
     ]
    },
    {
     "cell_type": "markdown",
     "metadata": {},
     "source": [
      "##1   Reti *scale-free*\n",
      "###1.1  Teoria\n",
      "###1.2  Percolazione\n",
      "####1.2.1  Soglia percolativa"
     ]
    },
    {
     "cell_type": "markdown",
     "metadata": {},
     "source": [
      "##2   Dati\n",
      "###2.1  Perch\u00e9?\n",
      "###2.2  Come?\n",
      "###2.3  Database->Distanza (criterio linking) -> Adiacenza\n",
      "####2.3.1  Problemi memoria: filtraggio dati\n",
      "####2.3.2  Problemi potenza di calcolo\n",
      "###2.4  Networkx -> Grafo -> Distr grado\n"
     ]
    },
    {
     "cell_type": "markdown",
     "metadata": {},
     "source": [
      "##3  Analisi percolativa\n",
      "Una volta osservate le distribuzioni del grado nelle reti delle quattro compagnie e nella rete complessiva formata da tutte le antenne comprese nell'area metropolitana di Roma, procediamo con uno studio percolativo. In riferimento allo studio fatto da Barabasi, Albert e Jeong nel 1999, la scelta \u00e8 stata di simulare due differenti scenari in cui i nodi della rete vengono disabilitati. Nel primo scenario si \u00e8 ipotizzato un attacco intenzionale che cominciasse dai nodi con maggior grado, nel secondo una rimozione random.   \n",
      "Lo scopo \u00e8 studiare l'andamento, in funzione della percentuale di nodi rimossi, del diametro $D$ della rete e della dimensione del cluster pi\u00f9 grande (*Giant Cluster*) rapportara al numero totale di nodi sopravvissuti. A seconda di come la rete si comporter\u00e0, sar\u00e0 possibile dedurne la robustezza nei due scenari, in modo tale da poter confrontare meglio tale comportamento con quello di una rete scale-free, o di una di tipo random.  \n",
      "Per poter fare questo confronto sono state generate, usando le funzioni di *networkx*, delle reti con i modelli di rete scale free (*preferential attachment*, Barabasi, Albert 1999) e di rete esponenziale (*random network*, Erd\u0151s, Renyi 1959 e *small world*, Watts, Strogatz, 1998) e su tutti e tre i modelli abbiamo simulato i due scenari di caduta progressiva della rete. In tutti e cinque i campioni di rete che abbiamo analizzato \u00e8 stato conteggiata la variazione di $D$ e $GC$ e i grafici ottenuti sono stati messi a confronto a quelli ottenuti con le reti generate secondo i modelli.\n",
      "\n",
      "###3.1  Attacco intenzionale\n",
      "Nello scenario di attacco intenzionale si ipotizza che la rete perda nodi a cominciare da quello con il grado maggiore.\n",
      "####3.1.2  Modelli\n",
      "\n",
      "####3.1.1  Rete completa, compagnie\n",
      "\n",
      "###3.2  Rottura random\n",
      "####3.2.1  Rete completa, compagnie\n",
      "####3.2.2  Modelli"
     ]
    },
    {
     "cell_type": "markdown",
     "metadata": {},
     "source": [
      "##Bibliografia\n",
      "\n",
      "1. [A. L. Barabasi and R. Albert, *Emergence of scaling in random networks*, (1999).](http://arxiv.org/pdf/cond-mat/9910332)  \n",
      "2. [R. Albert and A. L. Barabasi, *Statistical mechanic of complex networks*, (2001).](http://arxiv.org/pdf/cond-mat/0106096) \n",
      "3. [R. Cohen, K. Erez, D. ben-Avraham and S. Havlin, *Resilience of the internet to random breakdown*, (2000).](http://arxiv.org/pdf/cond-mat/0007048)\n",
      "4. [R. Cohen, K. Erez, D. ben-Avraham and S. Havlin, *Breakdown of the internet under intentional attack*, (2001).](http://arxiv.org/pdf/cond-mat/0010251)\n",
      "5. [R. Albert, H. Jeong and A. L. Barabasi, *Error and attack tolerance of complex networks*, (2000).](http://www.nature.com/nature/journal/v406/n6794/pdf/406378a0.pdf)\n",
      "6. [P. Erd\u0151s and A. R\u00e9nyi, *On random graph I.*, (1959).](http://www.renyi.hu/~p_erdos/1959-11.pdf)\n",
      "7. [J. Watts and H. Strogatz, *Collective dynamics of 'small-world' networks*, (1998).](http://www.nature.com/nature/journal/v393/n6684/pdf/393440a0.pdf)\n",
      "8. [A. E. Motter and Y. C. Lai, Cascade-based attacks on complex networks, (2003).](http://arxiv.org/pdf/cond-mat/0301086)\n"
     ]
    },
    {
     "cell_type": "markdown",
     "metadata": {},
     "source": []
    },
    {
     "cell_type": "markdown",
     "metadata": {},
     "source": [
      "##Bibliografia   \n",
      "\n",
      "1. [A. L. Barabasi and R. Albert, *Emergence of scaling in random networks*, (1999).](http://arxiv.org/pdf/cond-mat/9910332) (varie cose teoriche su percolazione, **par1**)  \n",
      "2. [R. Albert and A. L. Barabasi, *Statistical mechanic of complex networks*, (2001).](http://arxiv.org/pdf/cond-mat/0106096) (?? **par1**)  \n",
      "3. [R. Cohen, K. Erez, D. ben-Avraham and S. Havlin, *Resilience of the internet to random breakdown*, (2000).](http://arxiv.org/pdf/cond-mat/0007048) (Dimostrazione teorica su condizione percolativa **par1**, comportamento atteso con random failure **par3**)\n",
      "4. [R. Cohen, K. Erez, D. ben-Avraham and S. Havlin, *Breakdown of the internet under intentional attack*, (2001).](http://arxiv.org/pdf/cond-mat/0010251) (Dimostrazione teorica su condizione percolativa **par1**, comportamento atteso con intentional attack **par3**)\n",
      "5. [R. Albert, H. Jeong and A. L. Barabasi, *Error and attack tolerance of complex networks*](http://www.nature.com/nature/journal/v406/n6794/pdf/406378a0.pdf) (varie definizioni, nomenclatura da prendere con le pinze perch\u00e9 un po' outdated, andamento distribuzione del grado **par2**, andamento di D e GC attesi **par3**)\n",
      "6. [P. Erd\u0151s and A. R\u00e9nyi, *On random graph I.*, (1959)](http://www.renyi.hu/~p_erdos/1959-11.pdf) (fonte primo modello rete esponenziale **par3**)\n",
      "7. [J. Watts and H. Strogatz, *Collective dynamics of 'small-world' networks*, (1998)](http://www.nature.com/nature/journal/v393/n6684/pdf/393440a0.pdf) (fonte modello small world di rete esponenziale)\n",
      "8. [A. E. Motter and Y. C. Lai, Cascade-based attacks on complex networks, (2003)](http://arxiv.org/pdf/cond-mat/0301086) (effetto cascata per overload dei nodi sopravvissuti, da leggere **concl**)\n"
     ]
    },
    {
     "cell_type": "code",
     "collapsed": false,
     "input": [],
     "language": "python",
     "metadata": {},
     "outputs": []
    }
   ],
   "metadata": {}
  }
 ]
}