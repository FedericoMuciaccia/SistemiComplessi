{
 "metadata": {
  "name": "",
  "signature": "sha256:1f3121ce9b0347a53b539749c39fba357c291959e47d1d1a9e6d5c4e6db0ea23"
 },
 "nbformat": 3,
 "nbformat_minor": 0,
 "worksheets": [
  {
   "cells": [
    {
     "cell_type": "code",
     "collapsed": false,
     "input": [
      "\n",
      "# dato che ci serve matplotlib useremo python 2\n",
      "\n",
      "# import numpy\n",
      "# %pylab\n",
      "\n",
      "import pandas\n",
      "\n",
      "dataframe = pandas.read_csv(\"cell_towers_diff-2016012100.csv\")\n",
      "\n",
      "# coordinate = dataframe[['lon', 'lat']]"
     ],
     "language": "python",
     "metadata": {},
     "outputs": [],
     "prompt_number": 113
    },
    {
     "cell_type": "code",
     "collapsed": false,
     "input": [
      "from matplotlib import pyplot\n",
      "\n",
      "%matplotlib inline\n",
      "\n",
      "dataframe.plot(kind=\"scatter\", x=\"lon\", y=\"lat\")\n",
      "\n",
      "# pyplot.show()"
     ],
     "language": "python",
     "metadata": {},
     "outputs": [
      {
       "metadata": {},
       "output_type": "pyout",
       "prompt_number": 114,
       "text": [
        "<matplotlib.axes._subplots.AxesSubplot at 0x7fa79a91b690>"
       ]
      },
      {
       "metadata": {},
       "output_type": "display_data",
       "png": "[encoded data removed]",
       "text": [
        "<matplotlib.figure.Figure at 0x7fa79a923b90>"
       ]
      }
     ],
     "prompt_number": 114
    },
    {
     "cell_type": "code",
     "collapsed": false,
     "input": [
      "import math\n",
      "\n",
      "def euclideanDistace(x,y):\n",
      "    return sqrt(x**2 + y**2)"
     ],
     "language": "python",
     "metadata": {},
     "outputs": [],
     "prompt_number": 111
    },
    {
     "cell_type": "code",
     "collapsed": false,
     "input": [
      "import geopy\n",
      "\n",
      "# distanze in km\n",
      "# geopy.distance.vincenty(A, B) # su sferoide oblato\n",
      "# geopy.distance.great_circle(A, B) # sulla sfera\n",
      "\n",
      "# punti di prova\n",
      "# A = (41.49008, -71.312796)\n",
      "# B = (41.499498, -81.695391)\n",
      "\n",
      "def geolocate(place): # string\n",
      "    \"\"\"\n",
      "    return coordinates for addresses and toponyms\n",
      "    \"\"\"\n",
      "    geolocator = geopy.geocoders.Nominatim()\n",
      "    location = geolocator.geocode(place)\n",
      "    return (location.latitude, location.longitude) # coordinate\n",
      "    \n",
      "def geodesicDistance(A, B = geolocate(\"Colosseo\")):\n",
      "    \"\"\"\n",
      "    return the Vincenty's geodesic distance in meters\n",
      "    default place = Colosseum\n",
      "    \"\"\"\n",
      "    # colosseo = (41.890183, 12.492369)\n",
      "    return geopy.distance.vincenty(A, B).meters\n",
      "\n",
      "def isInRome(place):\n",
      "    \"\"\"\n",
      "    return True if the place is less than 10 km away from Colosseum\n",
      "    \"\"\"\n",
      "    raggioRaccordoAnulare = 10000 # in metri\n",
      "    return geodesicDistance(place) <= raggioRaccordoAnulare"
     ],
     "language": "python",
     "metadata": {},
     "outputs": [],
     "prompt_number": 104
    },
    {
     "cell_type": "code",
     "collapsed": false,
     "input": [
      "name = \"Sapienza, Roma\"\n",
      "\n",
      "print(geodesicDistance(geolocate(name)))\n",
      "print(isInRome(geolocate(name)))"
     ],
     "language": "python",
     "metadata": {},
     "outputs": [
      {
       "output_type": "stream",
       "stream": "stdout",
       "text": [
        "2099.29518992\n",
        "True"
       ]
      },
      {
       "output_type": "stream",
       "stream": "stdout",
       "text": [
        "\n"
       ]
      }
     ],
     "prompt_number": 99
    },
    {
     "cell_type": "code",
     "collapsed": false,
     "input": [
      "copertura = dataframe[[\"range\"]]\n",
      "\n",
      "dataframe.plot(kind=\"scatter\", x=\"lon\", y=\"lat\", s=copertura/1000) # TODO"
     ],
     "language": "python",
     "metadata": {},
     "outputs": [
      {
       "metadata": {},
       "output_type": "pyout",
       "prompt_number": 115,
       "text": [
        "<matplotlib.axes._subplots.AxesSubplot at 0x7fa79a8564d0>"
       ]
      },
      {
       "metadata": {},
       "output_type": "display_data",
       "png": "[encoded data removed]",
       "text": [
        "<matplotlib.figure.Figure at 0x7fa79a860a50>"
       ]
      }
     ],
     "prompt_number": 115
    },
    {
     "cell_type": "code",
     "collapsed": false,
     "input": [],
     "language": "python",
     "metadata": {},
     "outputs": []
    }
   ],
   "metadata": {}
  }
 ]
}